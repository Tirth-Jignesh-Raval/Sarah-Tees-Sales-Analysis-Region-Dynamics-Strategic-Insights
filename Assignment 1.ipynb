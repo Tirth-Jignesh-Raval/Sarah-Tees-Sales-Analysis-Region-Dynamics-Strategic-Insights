{
 "cells": [
  {
   "cell_type": "markdown",
   "id": "31105f6b",
   "metadata": {},
   "source": [
    "# Assignment 1\n",
    "## Author : Tirth Jignesh Raval \n",
    "## Student ID : 400487318\n",
    "## Email : ravalt1@mcmaster.ca\n",
    "\n",
    "## Sarah Trainer's Data Preprocessing and Reporting"
   ]
  },
  {
   "cell_type": "markdown",
   "id": "57537a47",
   "metadata": {},
   "source": [
    "## Section 1 : Loading the Essential Libraries"
   ]
  },
  {
   "cell_type": "markdown",
   "id": "ad3bcc0d",
   "metadata": {},
   "source": [
    "Loading all Libraries in the Beginning"
   ]
  },
  {
   "cell_type": "code",
   "execution_count": 1,
   "id": "2138409d",
   "metadata": {},
   "outputs": [
    {
     "name": "stdout",
     "output_type": "stream",
     "text": [
      "All Libraries Loaded Successfully\n"
     ]
    }
   ],
   "source": [
    "import pandas as pd\n",
    "import numpy as np\n",
    "import matplotlib.pyplot as plt\n",
    "import plotly.express as px\n",
    "import plotly.io as pio\n",
    "pio.renderers.default = \"notebook_connected\"\n",
    "print(\"All Libraries Loaded Successfully\")"
   ]
  },
  {
   "cell_type": "markdown",
   "id": "7a6e387e",
   "metadata": {},
   "source": [
    "## Section 2 : Importing the Data"
   ]
  },
  {
   "cell_type": "markdown",
   "id": "67267694",
   "metadata": {},
   "source": [
    "Importing the Raw Data into the Python Environment using pandas"
   ]
  },
  {
   "cell_type": "code",
   "execution_count": 2,
   "id": "773fc27d",
   "metadata": {},
   "outputs": [
    {
     "data": {
      "text/html": [
       "<div>\n",
       "<style scoped>\n",
       "    .dataframe tbody tr th:only-of-type {\n",
       "        vertical-align: middle;\n",
       "    }\n",
       "\n",
       "    .dataframe tbody tr th {\n",
       "        vertical-align: top;\n",
       "    }\n",
       "\n",
       "    .dataframe thead th {\n",
       "        text-align: right;\n",
       "    }\n",
       "</style>\n",
       "<table border=\"1\" class=\"dataframe\">\n",
       "  <thead>\n",
       "    <tr style=\"text-align: right;\">\n",
       "      <th></th>\n",
       "      <th>FirstName</th>\n",
       "      <th>LastName</th>\n",
       "      <th>Email</th>\n",
       "      <th>ACCOUNT_ID</th>\n",
       "      <th>LATEST_TRANSACTION_ID</th>\n",
       "      <th>COUNTRY</th>\n",
       "      <th>REGION</th>\n",
       "      <th>SALES_LEADER</th>\n",
       "      <th>SALES_VICE_PRESIDENT</th>\n",
       "      <th>ACCOUNT_AGE_YEARS</th>\n",
       "      <th>YTD_SALES</th>\n",
       "      <th>PRE_YTD_SALES</th>\n",
       "      <th>CUSTOMER_CATEGORY</th>\n",
       "    </tr>\n",
       "  </thead>\n",
       "  <tbody>\n",
       "    <tr>\n",
       "      <th>0</th>\n",
       "      <td>Dominykas</td>\n",
       "      <td>Kline</td>\n",
       "      <td>Dominykas.Kline@fakeemailaddress.com</td>\n",
       "      <td>CID360007AAQ</td>\n",
       "      <td>ID627830CDG</td>\n",
       "      <td>US</td>\n",
       "      <td>US EAST</td>\n",
       "      <td>Nicole Stamp</td>\n",
       "      <td>Hattie Beattie</td>\n",
       "      <td>6</td>\n",
       "      <td>1.85868</td>\n",
       "      <td>1.87726</td>\n",
       "      <td>End Customer</td>\n",
       "    </tr>\n",
       "    <tr>\n",
       "      <th>1</th>\n",
       "      <td>Myra</td>\n",
       "      <td>Mcintosh</td>\n",
       "      <td>Myra.Mcintosh@fakeemailaddress.com</td>\n",
       "      <td>CID766149AAQ</td>\n",
       "      <td>ID744031CDG</td>\n",
       "      <td>CA</td>\n",
       "      <td>CA EAST</td>\n",
       "      <td>Iram Luna</td>\n",
       "      <td>Adem Osborne</td>\n",
       "      <td>3</td>\n",
       "      <td>1.91772</td>\n",
       "      <td>1.85133</td>\n",
       "      <td>End Customer</td>\n",
       "    </tr>\n",
       "    <tr>\n",
       "      <th>2</th>\n",
       "      <td>Talhah</td>\n",
       "      <td>Molina</td>\n",
       "      <td>Talhah.Molina@fakeemailaddress.com</td>\n",
       "      <td>CID123310AAQ</td>\n",
       "      <td>ID423991CDG</td>\n",
       "      <td>US</td>\n",
       "      <td>US WEST</td>\n",
       "      <td>Taliah Pope</td>\n",
       "      <td>Matas Walmsley</td>\n",
       "      <td>8</td>\n",
       "      <td>41.98922</td>\n",
       "      <td>52.43973</td>\n",
       "      <td>Corporate</td>\n",
       "    </tr>\n",
       "    <tr>\n",
       "      <th>3</th>\n",
       "      <td>Cecily</td>\n",
       "      <td>Irvine</td>\n",
       "      <td>Cecily.Irvine@fakeemailaddress.com</td>\n",
       "      <td>CID401337AAQ</td>\n",
       "      <td>ID133818CDG</td>\n",
       "      <td>CA</td>\n",
       "      <td>CA EAST</td>\n",
       "      <td>Iram Luna</td>\n",
       "      <td>Adem Osborne</td>\n",
       "      <td>9</td>\n",
       "      <td>1.66511</td>\n",
       "      <td>2.08948</td>\n",
       "      <td>End Customer</td>\n",
       "    </tr>\n",
       "    <tr>\n",
       "      <th>4</th>\n",
       "      <td>Donte</td>\n",
       "      <td>Monroe</td>\n",
       "      <td>Donte.Monroe@fakeemailaddress.com</td>\n",
       "      <td>CID849996AAQ</td>\n",
       "      <td>ID293826CDG</td>\n",
       "      <td>US</td>\n",
       "      <td>US EAST</td>\n",
       "      <td>Nicole Stamp</td>\n",
       "      <td>Hattie Beattie</td>\n",
       "      <td>5</td>\n",
       "      <td>2.20341</td>\n",
       "      <td>1.33336</td>\n",
       "      <td>End Customer</td>\n",
       "    </tr>\n",
       "    <tr>\n",
       "      <th>5</th>\n",
       "      <td>Tiernan</td>\n",
       "      <td>Salt</td>\n",
       "      <td>Tiernan.Salt@fakeemailaddress.com</td>\n",
       "      <td>CID335035AAQ</td>\n",
       "      <td>ID967560CDG</td>\n",
       "      <td>US</td>\n",
       "      <td>US WEST</td>\n",
       "      <td>Taliah Pope</td>\n",
       "      <td>Matas Walmsley</td>\n",
       "      <td>5</td>\n",
       "      <td>40.95618</td>\n",
       "      <td>83.85628</td>\n",
       "      <td>Reseller</td>\n",
       "    </tr>\n",
       "    <tr>\n",
       "      <th>6</th>\n",
       "      <td>Lance</td>\n",
       "      <td>Jacobs</td>\n",
       "      <td>Lance.Jacobs@fakeemailaddress.com</td>\n",
       "      <td>CID749634AAQ</td>\n",
       "      <td>ID144206CDG</td>\n",
       "      <td>CA</td>\n",
       "      <td>CA WEST</td>\n",
       "      <td>Zaid Nunez</td>\n",
       "      <td>Esa Walton</td>\n",
       "      <td>7</td>\n",
       "      <td>2.04947</td>\n",
       "      <td>0.84330</td>\n",
       "      <td>End Customer</td>\n",
       "    </tr>\n",
       "  </tbody>\n",
       "</table>\n",
       "</div>"
      ],
      "text/plain": [
       "   FirstName  LastName                                 Email    ACCOUNT_ID  \\\n",
       "0  Dominykas     Kline  Dominykas.Kline@fakeemailaddress.com  CID360007AAQ   \n",
       "1       Myra  Mcintosh    Myra.Mcintosh@fakeemailaddress.com  CID766149AAQ   \n",
       "2     Talhah    Molina    Talhah.Molina@fakeemailaddress.com  CID123310AAQ   \n",
       "3     Cecily    Irvine    Cecily.Irvine@fakeemailaddress.com  CID401337AAQ   \n",
       "4      Donte    Monroe     Donte.Monroe@fakeemailaddress.com  CID849996AAQ   \n",
       "5    Tiernan      Salt     Tiernan.Salt@fakeemailaddress.com  CID335035AAQ   \n",
       "6      Lance    Jacobs     Lance.Jacobs@fakeemailaddress.com  CID749634AAQ   \n",
       "\n",
       "  LATEST_TRANSACTION_ID COUNTRY   REGION  SALES_LEADER SALES_VICE_PRESIDENT  \\\n",
       "0           ID627830CDG      US  US EAST  Nicole Stamp       Hattie Beattie   \n",
       "1           ID744031CDG      CA  CA EAST     Iram Luna         Adem Osborne   \n",
       "2           ID423991CDG      US  US WEST   Taliah Pope       Matas Walmsley   \n",
       "3           ID133818CDG      CA  CA EAST     Iram Luna         Adem Osborne   \n",
       "4           ID293826CDG      US  US EAST  Nicole Stamp       Hattie Beattie   \n",
       "5           ID967560CDG      US  US WEST   Taliah Pope       Matas Walmsley   \n",
       "6           ID144206CDG      CA  CA WEST    Zaid Nunez           Esa Walton   \n",
       "\n",
       "   ACCOUNT_AGE_YEARS  YTD_SALES  PRE_YTD_SALES CUSTOMER_CATEGORY  \n",
       "0                  6    1.85868        1.87726      End Customer  \n",
       "1                  3    1.91772        1.85133      End Customer  \n",
       "2                  8   41.98922       52.43973        Corporate   \n",
       "3                  9    1.66511        2.08948      End Customer  \n",
       "4                  5    2.20341        1.33336      End Customer  \n",
       "5                  5   40.95618       83.85628          Reseller  \n",
       "6                  7    2.04947        0.84330      End Customer  "
      ]
     },
     "execution_count": 2,
     "metadata": {},
     "output_type": "execute_result"
    }
   ],
   "source": [
    "data = pd.read_csv(\"Assignment1.csv\")\n",
    "# Visualizing the top few rows for confirming successful load of the raw data\n",
    "data.head(7)"
   ]
  },
  {
   "cell_type": "code",
   "execution_count": 3,
   "id": "040d85d5",
   "metadata": {},
   "outputs": [
    {
     "data": {
      "text/html": [
       "<div>\n",
       "<style scoped>\n",
       "    .dataframe tbody tr th:only-of-type {\n",
       "        vertical-align: middle;\n",
       "    }\n",
       "\n",
       "    .dataframe tbody tr th {\n",
       "        vertical-align: top;\n",
       "    }\n",
       "\n",
       "    .dataframe thead th {\n",
       "        text-align: right;\n",
       "    }\n",
       "</style>\n",
       "<table border=\"1\" class=\"dataframe\">\n",
       "  <thead>\n",
       "    <tr style=\"text-align: right;\">\n",
       "      <th></th>\n",
       "      <th>FirstName</th>\n",
       "      <th>LastName</th>\n",
       "      <th>Email</th>\n",
       "      <th>ACCOUNT_ID</th>\n",
       "      <th>LATEST_TRANSACTION_ID</th>\n",
       "      <th>COUNTRY</th>\n",
       "      <th>REGION</th>\n",
       "      <th>SALES_LEADER</th>\n",
       "      <th>SALES_VICE_PRESIDENT</th>\n",
       "      <th>ACCOUNT_AGE_YEARS</th>\n",
       "      <th>YTD_SALES</th>\n",
       "      <th>PRE_YTD_SALES</th>\n",
       "      <th>CUSTOMER_CATEGORY</th>\n",
       "    </tr>\n",
       "  </thead>\n",
       "  <tbody>\n",
       "    <tr>\n",
       "      <th>98</th>\n",
       "      <td>Fleur</td>\n",
       "      <td>Ellis</td>\n",
       "      <td>Fleur.Ellis@fakeemailaddress.com</td>\n",
       "      <td>CID816592AAQ</td>\n",
       "      <td>ID910142CDG</td>\n",
       "      <td>US</td>\n",
       "      <td>US EAST</td>\n",
       "      <td>Nicole Stamp</td>\n",
       "      <td>Hattie Beattie</td>\n",
       "      <td>5</td>\n",
       "      <td>0.92872</td>\n",
       "      <td>1.32992</td>\n",
       "      <td>End Customer</td>\n",
       "    </tr>\n",
       "    <tr>\n",
       "      <th>99</th>\n",
       "      <td>Tracey</td>\n",
       "      <td>Keller</td>\n",
       "      <td>Tracey.Keller@fakeemailaddress.com</td>\n",
       "      <td>CID897317AAQ</td>\n",
       "      <td>ID546762CDG</td>\n",
       "      <td>US</td>\n",
       "      <td>US WEST</td>\n",
       "      <td>Taliah Pope</td>\n",
       "      <td>Matas Walmsley</td>\n",
       "      <td>8</td>\n",
       "      <td>158.56185</td>\n",
       "      <td>102.39043</td>\n",
       "      <td>Reseller</td>\n",
       "    </tr>\n",
       "    <tr>\n",
       "      <th>100</th>\n",
       "      <td>Sammy-Jo</td>\n",
       "      <td>Reese</td>\n",
       "      <td>Sammy-Jo.Reese@fakeemailaddress.com</td>\n",
       "      <td>CID993911AAQ</td>\n",
       "      <td>ID828692CDG</td>\n",
       "      <td>CA</td>\n",
       "      <td>NaN</td>\n",
       "      <td>Shahzaib Mahoney</td>\n",
       "      <td>Adem Osborne</td>\n",
       "      <td>5</td>\n",
       "      <td>2.18845</td>\n",
       "      <td>1.07357</td>\n",
       "      <td>End Customer</td>\n",
       "    </tr>\n",
       "    <tr>\n",
       "      <th>101</th>\n",
       "      <td>Kiaan</td>\n",
       "      <td>Wilde</td>\n",
       "      <td>Kiaan.Wilde@fakeemailaddress.com</td>\n",
       "      <td>CID859909AAQ</td>\n",
       "      <td>ID850690CDG</td>\n",
       "      <td>CA</td>\n",
       "      <td>CA EAST</td>\n",
       "      <td>Iram Luna</td>\n",
       "      <td>Adem Osborne</td>\n",
       "      <td>9</td>\n",
       "      <td>NaN</td>\n",
       "      <td>1.02099</td>\n",
       "      <td>End Customer</td>\n",
       "    </tr>\n",
       "    <tr>\n",
       "      <th>102</th>\n",
       "      <td>Tahlia</td>\n",
       "      <td>Hyde</td>\n",
       "      <td>Tahlia.Hyde@fakeemailaddress.com</td>\n",
       "      <td>CID438320AAQ</td>\n",
       "      <td>ID912821CDG</td>\n",
       "      <td>CA</td>\n",
       "      <td>CA EAST</td>\n",
       "      <td>Shahzaib Mahoney</td>\n",
       "      <td>Adem Osborne</td>\n",
       "      <td>5</td>\n",
       "      <td>148.28950</td>\n",
       "      <td>104.20998</td>\n",
       "      <td>Reseller</td>\n",
       "    </tr>\n",
       "    <tr>\n",
       "      <th>103</th>\n",
       "      <td>Dewey</td>\n",
       "      <td>Vargas</td>\n",
       "      <td>Dewey.Vargas@fakeemailaddress.com</td>\n",
       "      <td>CID137942AAQ</td>\n",
       "      <td>ID667230CDG</td>\n",
       "      <td>CA</td>\n",
       "      <td>CA EAST</td>\n",
       "      <td>Shahzaib Mahoney</td>\n",
       "      <td>Adem Osborne</td>\n",
       "      <td>6</td>\n",
       "      <td>1.94849</td>\n",
       "      <td>1.00363</td>\n",
       "      <td>End Customer</td>\n",
       "    </tr>\n",
       "  </tbody>\n",
       "</table>\n",
       "</div>"
      ],
      "text/plain": [
       "    FirstName LastName                                Email    ACCOUNT_ID  \\\n",
       "98      Fleur    Ellis     Fleur.Ellis@fakeemailaddress.com  CID816592AAQ   \n",
       "99     Tracey   Keller   Tracey.Keller@fakeemailaddress.com  CID897317AAQ   \n",
       "100  Sammy-Jo    Reese  Sammy-Jo.Reese@fakeemailaddress.com  CID993911AAQ   \n",
       "101     Kiaan    Wilde     Kiaan.Wilde@fakeemailaddress.com  CID859909AAQ   \n",
       "102    Tahlia     Hyde     Tahlia.Hyde@fakeemailaddress.com  CID438320AAQ   \n",
       "103     Dewey   Vargas    Dewey.Vargas@fakeemailaddress.com  CID137942AAQ   \n",
       "\n",
       "    LATEST_TRANSACTION_ID COUNTRY   REGION      SALES_LEADER  \\\n",
       "98            ID910142CDG      US  US EAST      Nicole Stamp   \n",
       "99            ID546762CDG      US  US WEST       Taliah Pope   \n",
       "100           ID828692CDG      CA      NaN  Shahzaib Mahoney   \n",
       "101           ID850690CDG      CA  CA EAST         Iram Luna   \n",
       "102           ID912821CDG      CA  CA EAST  Shahzaib Mahoney   \n",
       "103           ID667230CDG      CA  CA EAST  Shahzaib Mahoney   \n",
       "\n",
       "    SALES_VICE_PRESIDENT  ACCOUNT_AGE_YEARS  YTD_SALES  PRE_YTD_SALES  \\\n",
       "98        Hattie Beattie                  5    0.92872        1.32992   \n",
       "99        Matas Walmsley                  8  158.56185      102.39043   \n",
       "100         Adem Osborne                  5    2.18845        1.07357   \n",
       "101         Adem Osborne                  9        NaN        1.02099   \n",
       "102         Adem Osborne                  5  148.28950      104.20998   \n",
       "103         Adem Osborne                  6    1.94849        1.00363   \n",
       "\n",
       "    CUSTOMER_CATEGORY  \n",
       "98       End Customer  \n",
       "99           Reseller  \n",
       "100      End Customer  \n",
       "101      End Customer  \n",
       "102          Reseller  \n",
       "103      End Customer  "
      ]
     },
     "execution_count": 3,
     "metadata": {},
     "output_type": "execute_result"
    }
   ],
   "source": [
    "data.tail(6)"
   ]
  },
  {
   "cell_type": "markdown",
   "id": "1074b0bb",
   "metadata": {},
   "source": [
    "We can confirm visually that Data has been loaded successfully in the python notebook/environment"
   ]
  },
  {
   "cell_type": "markdown",
   "id": "71e5c8ef",
   "metadata": {},
   "source": [
    "## Section 3 : Understanding the Basic Layout of the dataset"
   ]
  },
  {
   "cell_type": "markdown",
   "id": "bb974afe",
   "metadata": {},
   "source": [
    "General Shape of the dataset"
   ]
  },
  {
   "cell_type": "code",
   "execution_count": 4,
   "id": "2c3f1912",
   "metadata": {},
   "outputs": [
    {
     "data": {
      "text/plain": [
       "(104, 13)"
      ]
     },
     "execution_count": 4,
     "metadata": {},
     "output_type": "execute_result"
    }
   ],
   "source": [
    "data.shape"
   ]
  },
  {
   "cell_type": "markdown",
   "id": "fe451c28",
   "metadata": {},
   "source": [
    "There are 104 records in the data set and there 13 columns associated with the data"
   ]
  },
  {
   "cell_type": "code",
   "execution_count": 5,
   "id": "88986657",
   "metadata": {},
   "outputs": [
    {
     "name": "stdout",
     "output_type": "stream",
     "text": [
      "<class 'pandas.core.frame.DataFrame'>\n",
      "RangeIndex: 104 entries, 0 to 103\n",
      "Data columns (total 13 columns):\n",
      " #   Column                 Non-Null Count  Dtype  \n",
      "---  ------                 --------------  -----  \n",
      " 0   FirstName              103 non-null    object \n",
      " 1   LastName               104 non-null    object \n",
      " 2   Email                  104 non-null    object \n",
      " 3   ACCOUNT_ID             104 non-null    object \n",
      " 4   LATEST_TRANSACTION_ID  104 non-null    object \n",
      " 5   COUNTRY                104 non-null    object \n",
      " 6   REGION                 102 non-null    object \n",
      " 7   SALES_LEADER           104 non-null    object \n",
      " 8   SALES_VICE_PRESIDENT   104 non-null    object \n",
      " 9   ACCOUNT_AGE_YEARS      104 non-null    int64  \n",
      " 10  YTD_SALES              102 non-null    float64\n",
      " 11  PRE_YTD_SALES          103 non-null    float64\n",
      " 12  CUSTOMER_CATEGORY      104 non-null    object \n",
      "dtypes: float64(2), int64(1), object(10)\n",
      "memory usage: 10.7+ KB\n"
     ]
    }
   ],
   "source": [
    "data.info()"
   ]
  },
  {
   "cell_type": "markdown",
   "id": "e12db19a",
   "metadata": {},
   "source": [
    "Some columns in the dataset seems to have <b> Null Values </b> Those columns are <br>\n",
    "<ol>\n",
    "    <li> FirstName </li>\n",
    "    <li> REGION </li>\n",
    "    <li> YTD_SALES  </li>\n",
    "    <li> PRE_YTD_SALES </li>\n",
    "</ol>"
   ]
  },
  {
   "cell_type": "markdown",
   "id": "6d070bd2",
   "metadata": {},
   "source": [
    "Lets count how many null values does these columns have"
   ]
  },
  {
   "cell_type": "code",
   "execution_count": null,
   "id": "53810d9d",
   "metadata": {},
   "outputs": [],
   "source": []
  },
  {
   "cell_type": "code",
   "execution_count": 6,
   "id": "e9ef3deb",
   "metadata": {},
   "outputs": [
    {
     "data": {
      "text/plain": [
       "FirstName                1\n",
       "LastName                 0\n",
       "Email                    0\n",
       "ACCOUNT_ID               0\n",
       "LATEST_TRANSACTION_ID    0\n",
       "COUNTRY                  0\n",
       "REGION                   2\n",
       "SALES_LEADER             0\n",
       "SALES_VICE_PRESIDENT     0\n",
       "ACCOUNT_AGE_YEARS        0\n",
       "YTD_SALES                2\n",
       "PRE_YTD_SALES            1\n",
       "CUSTOMER_CATEGORY        0\n",
       "dtype: int64"
      ]
     },
     "execution_count": 6,
     "metadata": {},
     "output_type": "execute_result"
    }
   ],
   "source": [
    "data.isnull().sum()"
   ]
  },
  {
   "cell_type": "code",
   "execution_count": 7,
   "id": "9871ce5e",
   "metadata": {},
   "outputs": [
    {
     "data": {
      "text/plain": [
       "FirstName        1\n",
       "REGION           2\n",
       "YTD_SALES        2\n",
       "PRE_YTD_SALES    1\n",
       "dtype: int64"
      ]
     },
     "execution_count": 7,
     "metadata": {},
     "output_type": "execute_result"
    }
   ],
   "source": [
    "data[[\"FirstName\",\"REGION\",\"YTD_SALES\",\"PRE_YTD_SALES\"]].isnull().sum()"
   ]
  },
  {
   "cell_type": "markdown",
   "id": "f94eb7d0",
   "metadata": {},
   "source": [
    "These 4 columns are <br>\n",
    "<ol>\n",
    "    <li> FirstName - 1 Missing Value</li>\n",
    "    <li> REGION -  2 Missing Values</li>\n",
    "    <li> YTD_SALES  - 2 Missing Values</li>\n",
    "    <li> PRE_YTD_SALES - 1 Missing Value </li>\n",
    "</ol>\n",
    "\n",
    "**We shall keep into consideration to treat the missing values when we enter to preprocess them**"
   ]
  },
  {
   "cell_type": "markdown",
   "id": "ed8ce7ed",
   "metadata": {},
   "source": [
    "Basic Summary of the data set"
   ]
  },
  {
   "cell_type": "code",
   "execution_count": 8,
   "id": "e5c43e19",
   "metadata": {},
   "outputs": [
    {
     "data": {
      "text/html": [
       "<div>\n",
       "<style scoped>\n",
       "    .dataframe tbody tr th:only-of-type {\n",
       "        vertical-align: middle;\n",
       "    }\n",
       "\n",
       "    .dataframe tbody tr th {\n",
       "        vertical-align: top;\n",
       "    }\n",
       "\n",
       "    .dataframe thead th {\n",
       "        text-align: right;\n",
       "    }\n",
       "</style>\n",
       "<table border=\"1\" class=\"dataframe\">\n",
       "  <thead>\n",
       "    <tr style=\"text-align: right;\">\n",
       "      <th></th>\n",
       "      <th>ACCOUNT_AGE_YEARS</th>\n",
       "      <th>YTD_SALES</th>\n",
       "      <th>PRE_YTD_SALES</th>\n",
       "    </tr>\n",
       "  </thead>\n",
       "  <tbody>\n",
       "    <tr>\n",
       "      <th>count</th>\n",
       "      <td>104.000000</td>\n",
       "      <td>102.000000</td>\n",
       "      <td>103.000000</td>\n",
       "    </tr>\n",
       "    <tr>\n",
       "      <th>mean</th>\n",
       "      <td>5.201923</td>\n",
       "      <td>29.880579</td>\n",
       "      <td>22.932338</td>\n",
       "    </tr>\n",
       "    <tr>\n",
       "      <th>std</th>\n",
       "      <td>2.187253</td>\n",
       "      <td>51.518375</td>\n",
       "      <td>46.831163</td>\n",
       "    </tr>\n",
       "    <tr>\n",
       "      <th>min</th>\n",
       "      <td>1.000000</td>\n",
       "      <td>0.928720</td>\n",
       "      <td>-10.463100</td>\n",
       "    </tr>\n",
       "    <tr>\n",
       "      <th>25%</th>\n",
       "      <td>4.000000</td>\n",
       "      <td>1.911277</td>\n",
       "      <td>1.168625</td>\n",
       "    </tr>\n",
       "    <tr>\n",
       "      <th>50%</th>\n",
       "      <td>5.000000</td>\n",
       "      <td>2.344200</td>\n",
       "      <td>1.686880</td>\n",
       "    </tr>\n",
       "    <tr>\n",
       "      <th>75%</th>\n",
       "      <td>6.250000</td>\n",
       "      <td>43.359327</td>\n",
       "      <td>24.320515</td>\n",
       "    </tr>\n",
       "    <tr>\n",
       "      <th>max</th>\n",
       "      <td>11.000000</td>\n",
       "      <td>223.592490</td>\n",
       "      <td>227.743870</td>\n",
       "    </tr>\n",
       "  </tbody>\n",
       "</table>\n",
       "</div>"
      ],
      "text/plain": [
       "       ACCOUNT_AGE_YEARS   YTD_SALES  PRE_YTD_SALES\n",
       "count         104.000000  102.000000     103.000000\n",
       "mean            5.201923   29.880579      22.932338\n",
       "std             2.187253   51.518375      46.831163\n",
       "min             1.000000    0.928720     -10.463100\n",
       "25%             4.000000    1.911277       1.168625\n",
       "50%             5.000000    2.344200       1.686880\n",
       "75%             6.250000   43.359327      24.320515\n",
       "max            11.000000  223.592490     227.743870"
      ]
     },
     "execution_count": 8,
     "metadata": {},
     "output_type": "execute_result"
    }
   ],
   "source": [
    "data.describe()"
   ]
  },
  {
   "cell_type": "markdown",
   "id": "61722be6",
   "metadata": {},
   "source": [
    "It is important to note that the **min value in PRE_YTD_SALES is less than zero or -ve** which is beyond expectation. As sales cant be negative. We need to investigate that as well"
   ]
  },
  {
   "cell_type": "markdown",
   "id": "e5d25c1a",
   "metadata": {},
   "source": [
    "## Section 4 : Data Pre-Processing "
   ]
  },
  {
   "cell_type": "markdown",
   "id": "0025dd20",
   "metadata": {},
   "source": [
    "There are two ways to pre-process the data in this case. <br>\n",
    "1. Process by Type of Checks - Such as Null, Unique, Leading Spaces etc..<br>\n",
    "2. Process Column - by - Column i.e. Checking whether each column follows the properites associated with it.  \n",
    "\n",
    "As there are limited 13 columns in the dataset, we can proceed with the 2nd Option to be on the safer side.\n",
    "\n",
    "Below is the image of list of columns with the set of properties associated with each of them\n",
    "<img src = \"MetaData.PNG\">\n",
    "\n",
    "<b>Note - Each Color indicates a type of check need to be performed on that column.</b><br>\n",
    "<ol>\n",
    "    <li> Red - Blank Check</li>\n",
    "    <li> Blue - Spaces or Leading Spaces</li>\n",
    "    <li> Green  - Naming Convention / Protocol or Checking Values against a desired set of values</li>\n",
    "    <li> Grey - Checking whether the value is +ve </li>\n",
    "    <li> Pink - LengthCheck of value in that \n",
    "        cell </li>\n",
    "</ol>"
   ]
  },
  {
   "cell_type": "markdown",
   "id": "f739fa21",
   "metadata": {},
   "source": [
    "#### Columns First Name, Last Name and Email - They share same properties\n",
    "Also the \"First Name\" also have **Null Values**"
   ]
  },
  {
   "cell_type": "markdown",
   "id": "b8ad630e",
   "metadata": {},
   "source": [
    "Dropping Null Values could be the only solution for this column **However** we could use Email Address first Part to replace the values"
   ]
  },
  {
   "cell_type": "code",
   "execution_count": 9,
   "id": "1e9f57e9",
   "metadata": {},
   "outputs": [
    {
     "data": {
      "text/plain": [
       "1"
      ]
     },
     "execution_count": 9,
     "metadata": {},
     "output_type": "execute_result"
    }
   ],
   "source": [
    "data[\"FirstName\"].isna().sum()\n",
    "# There is one missing value in this column"
   ]
  },
  {
   "cell_type": "code",
   "execution_count": 10,
   "id": "4f929824",
   "metadata": {},
   "outputs": [
    {
     "name": "stdout",
     "output_type": "stream",
     "text": [
      "<class 'float'>\n"
     ]
    }
   ],
   "source": [
    "for i in data.index:\n",
    "    if type(data.loc[i,\"FirstName\"]) != str:\n",
    "        print(type(data.loc[i,\"FirstName\"]))"
   ]
  },
  {
   "cell_type": "markdown",
   "id": "5bb3c09e",
   "metadata": {},
   "source": [
    "Here we can find that the null value is classified as float instead of a string. So we shall replace this value with the First Part of the Email Address of the same index"
   ]
  },
  {
   "cell_type": "code",
   "execution_count": 11,
   "id": "a77a1fa1",
   "metadata": {},
   "outputs": [],
   "source": [
    "for i in data.index:\n",
    "    if type(data.loc[i,\"FirstName\"]) == float:\n",
    "        data.loc[i,\"FirstName\"] = data.loc[i,\"Email\"].split(\".\")[0]"
   ]
  },
  {
   "cell_type": "code",
   "execution_count": 12,
   "id": "591b68fb",
   "metadata": {},
   "outputs": [
    {
     "data": {
      "text/plain": [
       "0"
      ]
     },
     "execution_count": 12,
     "metadata": {},
     "output_type": "execute_result"
    }
   ],
   "source": [
    "data[\"FirstName\"].isna().sum()"
   ]
  },
  {
   "cell_type": "markdown",
   "id": "5b473da3",
   "metadata": {},
   "source": [
    "We have successfully replaced the missing value in this column. Now we need to investigate if First Name, Last Name and Email have spaces. In case of spaces we need to trim that"
   ]
  },
  {
   "cell_type": "code",
   "execution_count": 13,
   "id": "48977314",
   "metadata": {},
   "outputs": [
    {
     "name": "stdout",
     "output_type": "stream",
     "text": [
      "FirstName 0\n",
      "LastName 0\n",
      "Email 2\n"
     ]
    }
   ],
   "source": [
    "for i in [\"FirstName\",\"LastName\",\"Email\"]:\n",
    "    print(i,data[i].str.contains(\" \").sum())        "
   ]
  },
  {
   "cell_type": "markdown",
   "id": "4b981eae",
   "metadata": {},
   "source": [
    "We can see here that **Email have Whitespaces in their records**. Thus we need to trim those null values"
   ]
  },
  {
   "cell_type": "code",
   "execution_count": 14,
   "id": "608e686f",
   "metadata": {},
   "outputs": [
    {
     "name": "stdout",
     "output_type": "stream",
     "text": [
      "FirstName 0\n",
      "LastName 0\n",
      "Email 0\n"
     ]
    }
   ],
   "source": [
    "data[\"Email\"] =  data[\"Email\"].str.replace(\" \",\"\")\n",
    "for i in [\"FirstName\",\"LastName\",\"Email\"]:\n",
    "    print(i,data[i].str.contains(\" \").sum())     "
   ]
  },
  {
   "cell_type": "markdown",
   "id": "6d62bc28",
   "metadata": {},
   "source": [
    "Now all these columns Does not contains Space. Thus columns FirstName, LastName, Email have no missing values and no spaces in them"
   ]
  },
  {
   "cell_type": "markdown",
   "id": "2ec35a0f",
   "metadata": {},
   "source": [
    "#### Columns ACCOUNT_ID, LATEST_TRANSACTION_ID - They share same properties\n",
    "Only there is difference in length"
   ]
  },
  {
   "cell_type": "markdown",
   "id": "e6d469b0",
   "metadata": {},
   "source": [
    "We need to check whether these columns are unique or not. "
   ]
  },
  {
   "cell_type": "code",
   "execution_count": 15,
   "id": "b5f69b0f",
   "metadata": {},
   "outputs": [
    {
     "data": {
      "text/plain": [
       "4"
      ]
     },
     "execution_count": 15,
     "metadata": {},
     "output_type": "execute_result"
    }
   ],
   "source": [
    "data.duplicated(subset=[\"ACCOUNT_ID\",\"LATEST_TRANSACTION_ID\"]).sum()"
   ]
  },
  {
   "cell_type": "code",
   "execution_count": 16,
   "id": "52ac647c",
   "metadata": {},
   "outputs": [
    {
     "data": {
      "text/plain": [
       "ACCOUNT_ID    LATEST_TRANSACTION_ID\n",
       "CID331788AAQ  ID126292CDG              2\n",
       "CID144086AAQ  ID795668CDG              2\n",
       "CID897317AAQ  ID546762CDG              2\n",
       "CID262320AAQ  ID117469CDG              2\n",
       "CID102798AAQ  ID769296CDG              1\n",
       "                                      ..\n",
       "CID390599AAQ  ID348560CDG              1\n",
       "CID388479AAQ  ID726056CDG              1\n",
       "CID383325AAQ  ID500684CDG              1\n",
       "CID382003AAQ  ID564180CDG              1\n",
       "ID645881CDG   CID384026AAQ             1\n",
       "Length: 100, dtype: int64"
      ]
     },
     "execution_count": 16,
     "metadata": {},
     "output_type": "execute_result"
    }
   ],
   "source": [
    "data[[\"ACCOUNT_ID\",\"LATEST_TRANSACTION_ID\"]].value_counts(ascending=False)"
   ]
  },
  {
   "cell_type": "raw",
   "id": "fe9f3911",
   "metadata": {},
   "source": [
    "We could see that these 4 Account and Transaction have 2 rows. \n",
    "ACCOUNT_ID    LATEST_TRANSACTION_ID \n",
    "CID331788AAQ  ID126292CDG              2\n",
    "CID144086AAQ  ID795668CDG              2\n",
    "CID897317AAQ  ID546762CDG              2\n",
    "CID262320AAQ  ID117469CDG              2"
   ]
  },
  {
   "cell_type": "markdown",
   "id": "06a63c19",
   "metadata": {},
   "source": [
    "**Note it could be the case that one account have multiple transaction ID but both cannot be same**"
   ]
  },
  {
   "cell_type": "markdown",
   "id": "6bd5c900",
   "metadata": {},
   "source": [
    "So there are 4 instances where these are duplicated. Lets look into those instances"
   ]
  },
  {
   "cell_type": "code",
   "execution_count": 17,
   "id": "d1976954",
   "metadata": {},
   "outputs": [
    {
     "data": {
      "text/html": [
       "<div>\n",
       "<style scoped>\n",
       "    .dataframe tbody tr th:only-of-type {\n",
       "        vertical-align: middle;\n",
       "    }\n",
       "\n",
       "    .dataframe tbody tr th {\n",
       "        vertical-align: top;\n",
       "    }\n",
       "\n",
       "    .dataframe thead th {\n",
       "        text-align: right;\n",
       "    }\n",
       "</style>\n",
       "<table border=\"1\" class=\"dataframe\">\n",
       "  <thead>\n",
       "    <tr style=\"text-align: right;\">\n",
       "      <th></th>\n",
       "      <th>FirstName</th>\n",
       "      <th>LastName</th>\n",
       "      <th>Email</th>\n",
       "      <th>ACCOUNT_ID</th>\n",
       "      <th>LATEST_TRANSACTION_ID</th>\n",
       "      <th>COUNTRY</th>\n",
       "      <th>REGION</th>\n",
       "      <th>SALES_LEADER</th>\n",
       "      <th>SALES_VICE_PRESIDENT</th>\n",
       "      <th>ACCOUNT_AGE_YEARS</th>\n",
       "      <th>YTD_SALES</th>\n",
       "      <th>PRE_YTD_SALES</th>\n",
       "      <th>CUSTOMER_CATEGORY</th>\n",
       "    </tr>\n",
       "  </thead>\n",
       "  <tbody>\n",
       "    <tr>\n",
       "      <th>76</th>\n",
       "      <td>Amelia-Rose</td>\n",
       "      <td>Shelton</td>\n",
       "      <td>Amelia-Rose.Shelton@fakeemailaddress.com</td>\n",
       "      <td>CID144086AAQ</td>\n",
       "      <td>ID795668CDG</td>\n",
       "      <td>CA</td>\n",
       "      <td>CA EAST</td>\n",
       "      <td>Iram Luna</td>\n",
       "      <td>Adem Osborne</td>\n",
       "      <td>7</td>\n",
       "      <td>47.84119</td>\n",
       "      <td>27.38527</td>\n",
       "      <td>Corporate</td>\n",
       "    </tr>\n",
       "    <tr>\n",
       "      <th>83</th>\n",
       "      <td>Francesco</td>\n",
       "      <td>Malone</td>\n",
       "      <td>Francesco.Malone@fakeemailaddress.com</td>\n",
       "      <td>CID262320AAQ</td>\n",
       "      <td>ID117469CDG</td>\n",
       "      <td>CA</td>\n",
       "      <td>CA EAST</td>\n",
       "      <td>Iram Luna</td>\n",
       "      <td>Adem Osborne</td>\n",
       "      <td>5</td>\n",
       "      <td>1.27467</td>\n",
       "      <td>0.97165</td>\n",
       "      <td>End Customer</td>\n",
       "    </tr>\n",
       "    <tr>\n",
       "      <th>91</th>\n",
       "      <td>Devante</td>\n",
       "      <td>Carney</td>\n",
       "      <td>Devante.Carney@fakeemailaddress.com</td>\n",
       "      <td>CID331788AAQ</td>\n",
       "      <td>ID126292CDG</td>\n",
       "      <td>US</td>\n",
       "      <td>US WEST</td>\n",
       "      <td>Taliah Pope</td>\n",
       "      <td>Matas Walmsley</td>\n",
       "      <td>9</td>\n",
       "      <td>2.12987</td>\n",
       "      <td>0.40810</td>\n",
       "      <td>End Customer</td>\n",
       "    </tr>\n",
       "    <tr>\n",
       "      <th>99</th>\n",
       "      <td>Tracey</td>\n",
       "      <td>Keller</td>\n",
       "      <td>Tracey.Keller@fakeemailaddress.com</td>\n",
       "      <td>CID897317AAQ</td>\n",
       "      <td>ID546762CDG</td>\n",
       "      <td>US</td>\n",
       "      <td>US WEST</td>\n",
       "      <td>Taliah Pope</td>\n",
       "      <td>Matas Walmsley</td>\n",
       "      <td>8</td>\n",
       "      <td>158.56185</td>\n",
       "      <td>102.39043</td>\n",
       "      <td>Reseller</td>\n",
       "    </tr>\n",
       "  </tbody>\n",
       "</table>\n",
       "</div>"
      ],
      "text/plain": [
       "      FirstName LastName                                     Email  \\\n",
       "76  Amelia-Rose  Shelton  Amelia-Rose.Shelton@fakeemailaddress.com   \n",
       "83    Francesco   Malone     Francesco.Malone@fakeemailaddress.com   \n",
       "91      Devante   Carney       Devante.Carney@fakeemailaddress.com   \n",
       "99       Tracey   Keller        Tracey.Keller@fakeemailaddress.com   \n",
       "\n",
       "      ACCOUNT_ID LATEST_TRANSACTION_ID COUNTRY   REGION SALES_LEADER  \\\n",
       "76  CID144086AAQ           ID795668CDG      CA  CA EAST    Iram Luna   \n",
       "83  CID262320AAQ           ID117469CDG      CA  CA EAST    Iram Luna   \n",
       "91  CID331788AAQ           ID126292CDG      US  US WEST  Taliah Pope   \n",
       "99  CID897317AAQ           ID546762CDG      US  US WEST  Taliah Pope   \n",
       "\n",
       "   SALES_VICE_PRESIDENT  ACCOUNT_AGE_YEARS  YTD_SALES  PRE_YTD_SALES  \\\n",
       "76         Adem Osborne                  7   47.84119       27.38527   \n",
       "83         Adem Osborne                  5    1.27467        0.97165   \n",
       "91       Matas Walmsley                  9    2.12987        0.40810   \n",
       "99       Matas Walmsley                  8  158.56185      102.39043   \n",
       "\n",
       "   CUSTOMER_CATEGORY  \n",
       "76        Corporate   \n",
       "83      End Customer  \n",
       "91      End Customer  \n",
       "99          Reseller  "
      ]
     },
     "execution_count": 17,
     "metadata": {},
     "output_type": "execute_result"
    }
   ],
   "source": [
    "# These 4 rows are duplicated\n",
    "data[data.duplicated(subset=[\"ACCOUNT_ID\",\"LATEST_TRANSACTION_ID\"])]\n"
   ]
  },
  {
   "cell_type": "markdown",
   "id": "0a6da05d",
   "metadata": {},
   "source": [
    "We should drop these 4 duplicated rows. "
   ]
  },
  {
   "cell_type": "code",
   "execution_count": 18,
   "id": "0ed56972",
   "metadata": {},
   "outputs": [
    {
     "data": {
      "text/plain": [
       "ACCOUNT_ID    LATEST_TRANSACTION_ID\n",
       "CID102798AAQ  ID769296CDG              1\n",
       "CID696948AAQ  ID391296CDG              1\n",
       "CID769746AAQ  ID889085CDG              1\n",
       "CID766149AAQ  ID744031CDG              1\n",
       "CID764908AAQ  ID326192CDG              1\n",
       "                                      ..\n",
       "CID382003AAQ  ID564180CDG              1\n",
       "CID373243AAQ  ID649540CDG              1\n",
       "CID362395AAQ  ID631788CDG              1\n",
       "CID360007AAQ  ID627830CDG              1\n",
       "ID645881CDG   CID384026AAQ             1\n",
       "Length: 100, dtype: int64"
      ]
     },
     "execution_count": 18,
     "metadata": {},
     "output_type": "execute_result"
    }
   ],
   "source": [
    "data.drop_duplicates(subset=[\"ACCOUNT_ID\",\"LATEST_TRANSACTION_ID\"],keep=\"first\",inplace=True)\n",
    "data[[\"ACCOUNT_ID\",\"LATEST_TRANSACTION_ID\"]].value_counts(ascending=False)"
   ]
  },
  {
   "cell_type": "markdown",
   "id": "279a084d",
   "metadata": {},
   "source": [
    "Now the Duplicate Rows have been dropped. Thus the unique property has been satisified. As we have dropped the row we shall also reset the indexes."
   ]
  },
  {
   "cell_type": "code",
   "execution_count": 19,
   "id": "70dc5f17",
   "metadata": {},
   "outputs": [
    {
     "data": {
      "text/plain": [
       "(100, 13)"
      ]
     },
     "execution_count": 19,
     "metadata": {},
     "output_type": "execute_result"
    }
   ],
   "source": [
    "data.reset_index(drop=True,inplace=True)\n",
    "data.shape"
   ]
  },
  {
   "cell_type": "markdown",
   "id": "1c51c0ff",
   "metadata": {},
   "source": [
    "#### Checking Regex Match for Account ID "
   ]
  },
  {
   "cell_type": "code",
   "execution_count": 20,
   "id": "fceea0a5",
   "metadata": {},
   "outputs": [
    {
     "data": {
      "text/plain": [
       "99"
      ]
     },
     "execution_count": 20,
     "metadata": {},
     "output_type": "execute_result"
    }
   ],
   "source": [
    "data[\"ACCOUNT_ID\"].str.contains('CID[0-9]{6}AAQ').sum()"
   ]
  },
  {
   "cell_type": "markdown",
   "id": "520ae4ff",
   "metadata": {},
   "source": [
    "That means 99 records follow the protocol however one record has some challenges. We need to investigate what is wrong with that record."
   ]
  },
  {
   "cell_type": "code",
   "execution_count": 21,
   "id": "989cac53",
   "metadata": {},
   "outputs": [
    {
     "data": {
      "text/html": [
       "<div>\n",
       "<style scoped>\n",
       "    .dataframe tbody tr th:only-of-type {\n",
       "        vertical-align: middle;\n",
       "    }\n",
       "\n",
       "    .dataframe tbody tr th {\n",
       "        vertical-align: top;\n",
       "    }\n",
       "\n",
       "    .dataframe thead th {\n",
       "        text-align: right;\n",
       "    }\n",
       "</style>\n",
       "<table border=\"1\" class=\"dataframe\">\n",
       "  <thead>\n",
       "    <tr style=\"text-align: right;\">\n",
       "      <th></th>\n",
       "      <th>FirstName</th>\n",
       "      <th>LastName</th>\n",
       "      <th>Email</th>\n",
       "      <th>ACCOUNT_ID</th>\n",
       "      <th>LATEST_TRANSACTION_ID</th>\n",
       "      <th>COUNTRY</th>\n",
       "      <th>REGION</th>\n",
       "      <th>SALES_LEADER</th>\n",
       "      <th>SALES_VICE_PRESIDENT</th>\n",
       "      <th>ACCOUNT_AGE_YEARS</th>\n",
       "      <th>YTD_SALES</th>\n",
       "      <th>PRE_YTD_SALES</th>\n",
       "      <th>CUSTOMER_CATEGORY</th>\n",
       "    </tr>\n",
       "  </thead>\n",
       "  <tbody>\n",
       "    <tr>\n",
       "      <th>18</th>\n",
       "      <td>Ella-Grace</td>\n",
       "      <td>House</td>\n",
       "      <td>Ella-Grace.House@fakeemailaddress.com</td>\n",
       "      <td>ID645881CDG</td>\n",
       "      <td>CID384026AAQ</td>\n",
       "      <td>US</td>\n",
       "      <td>US EAST</td>\n",
       "      <td>Nicole Stamp</td>\n",
       "      <td>Hattie Beattie</td>\n",
       "      <td>6</td>\n",
       "      <td>20.72854</td>\n",
       "      <td>-10.4631</td>\n",
       "      <td>Corporate</td>\n",
       "    </tr>\n",
       "  </tbody>\n",
       "</table>\n",
       "</div>"
      ],
      "text/plain": [
       "     FirstName LastName                                  Email   ACCOUNT_ID  \\\n",
       "18  Ella-Grace    House  Ella-Grace.House@fakeemailaddress.com  ID645881CDG   \n",
       "\n",
       "   LATEST_TRANSACTION_ID COUNTRY   REGION  SALES_LEADER SALES_VICE_PRESIDENT  \\\n",
       "18          CID384026AAQ      US  US EAST  Nicole Stamp       Hattie Beattie   \n",
       "\n",
       "    ACCOUNT_AGE_YEARS  YTD_SALES  PRE_YTD_SALES CUSTOMER_CATEGORY  \n",
       "18                  6   20.72854       -10.4631        Corporate   "
      ]
     },
     "execution_count": 21,
     "metadata": {},
     "output_type": "execute_result"
    }
   ],
   "source": [
    "data[~data[\"ACCOUNT_ID\"].str.contains('CID[0-9]{6}AAQ')]"
   ]
  },
  {
   "cell_type": "markdown",
   "id": "5e19c352",
   "metadata": {},
   "source": [
    "#### Checking Regex Match for Last Transaction ID"
   ]
  },
  {
   "cell_type": "code",
   "execution_count": 22,
   "id": "78d48c7c",
   "metadata": {},
   "outputs": [
    {
     "data": {
      "text/plain": [
       "99"
      ]
     },
     "execution_count": 22,
     "metadata": {},
     "output_type": "execute_result"
    }
   ],
   "source": [
    "data[\"LATEST_TRANSACTION_ID\"].str.contains('ID[0-9]{6}CDG').sum()"
   ]
  },
  {
   "cell_type": "markdown",
   "id": "b5254e33",
   "metadata": {},
   "source": [
    "That means 99 records follow the protocol however one record has some challenges. We need to investigate what is wrong with that record."
   ]
  },
  {
   "cell_type": "code",
   "execution_count": 23,
   "id": "5df7a562",
   "metadata": {},
   "outputs": [
    {
     "data": {
      "text/html": [
       "<div>\n",
       "<style scoped>\n",
       "    .dataframe tbody tr th:only-of-type {\n",
       "        vertical-align: middle;\n",
       "    }\n",
       "\n",
       "    .dataframe tbody tr th {\n",
       "        vertical-align: top;\n",
       "    }\n",
       "\n",
       "    .dataframe thead th {\n",
       "        text-align: right;\n",
       "    }\n",
       "</style>\n",
       "<table border=\"1\" class=\"dataframe\">\n",
       "  <thead>\n",
       "    <tr style=\"text-align: right;\">\n",
       "      <th></th>\n",
       "      <th>FirstName</th>\n",
       "      <th>LastName</th>\n",
       "      <th>Email</th>\n",
       "      <th>ACCOUNT_ID</th>\n",
       "      <th>LATEST_TRANSACTION_ID</th>\n",
       "      <th>COUNTRY</th>\n",
       "      <th>REGION</th>\n",
       "      <th>SALES_LEADER</th>\n",
       "      <th>SALES_VICE_PRESIDENT</th>\n",
       "      <th>ACCOUNT_AGE_YEARS</th>\n",
       "      <th>YTD_SALES</th>\n",
       "      <th>PRE_YTD_SALES</th>\n",
       "      <th>CUSTOMER_CATEGORY</th>\n",
       "    </tr>\n",
       "  </thead>\n",
       "  <tbody>\n",
       "    <tr>\n",
       "      <th>18</th>\n",
       "      <td>Ella-Grace</td>\n",
       "      <td>House</td>\n",
       "      <td>Ella-Grace.House@fakeemailaddress.com</td>\n",
       "      <td>ID645881CDG</td>\n",
       "      <td>CID384026AAQ</td>\n",
       "      <td>US</td>\n",
       "      <td>US EAST</td>\n",
       "      <td>Nicole Stamp</td>\n",
       "      <td>Hattie Beattie</td>\n",
       "      <td>6</td>\n",
       "      <td>20.72854</td>\n",
       "      <td>-10.4631</td>\n",
       "      <td>Corporate</td>\n",
       "    </tr>\n",
       "  </tbody>\n",
       "</table>\n",
       "</div>"
      ],
      "text/plain": [
       "     FirstName LastName                                  Email   ACCOUNT_ID  \\\n",
       "18  Ella-Grace    House  Ella-Grace.House@fakeemailaddress.com  ID645881CDG   \n",
       "\n",
       "   LATEST_TRANSACTION_ID COUNTRY   REGION  SALES_LEADER SALES_VICE_PRESIDENT  \\\n",
       "18          CID384026AAQ      US  US EAST  Nicole Stamp       Hattie Beattie   \n",
       "\n",
       "    ACCOUNT_AGE_YEARS  YTD_SALES  PRE_YTD_SALES CUSTOMER_CATEGORY  \n",
       "18                  6   20.72854       -10.4631        Corporate   "
      ]
     },
     "execution_count": 23,
     "metadata": {},
     "output_type": "execute_result"
    }
   ],
   "source": [
    "data[~data[\"LATEST_TRANSACTION_ID\"].str.contains('ID[0-9]{6}CDG')]"
   ]
  },
  {
   "cell_type": "markdown",
   "id": "7c16b6cc",
   "metadata": {},
   "source": [
    "The same record is causing this mistake. **The values seems to be interchanged while typing**. Thus we shall correct them by exchanging the values"
   ]
  },
  {
   "cell_type": "code",
   "execution_count": 24,
   "id": "aa5f93d0",
   "metadata": {},
   "outputs": [],
   "source": [
    "for i in data[~data[\"LATEST_TRANSACTION_ID\"].str.contains('ID[0-9]{6}CDG')].index:\n",
    "    data.loc[i,\"LATEST_TRANSACTION_ID\"],data.loc[i,\"ACCOUNT_ID\"] = data.loc[i,\"ACCOUNT_ID\"],data.loc[i,\"LATEST_TRANSACTION_ID\"]"
   ]
  },
  {
   "cell_type": "code",
   "execution_count": 25,
   "id": "09caff84",
   "metadata": {},
   "outputs": [
    {
     "data": {
      "text/plain": [
       "100"
      ]
     },
     "execution_count": 25,
     "metadata": {},
     "output_type": "execute_result"
    }
   ],
   "source": [
    "data[\"LATEST_TRANSACTION_ID\"].str.contains('ID[0-9]{6}CDG').sum()"
   ]
  },
  {
   "cell_type": "code",
   "execution_count": 26,
   "id": "336546de",
   "metadata": {},
   "outputs": [
    {
     "data": {
      "text/plain": [
       "100"
      ]
     },
     "execution_count": 26,
     "metadata": {},
     "output_type": "execute_result"
    }
   ],
   "source": [
    "data[\"ACCOUNT_ID\"].str.contains('CID[0-9]{6}AAQ').sum()"
   ]
  },
  {
   "cell_type": "markdown",
   "id": "12e57ec9",
   "metadata": {},
   "source": [
    "Thus the values have been swapped and both follow their own protocol and length"
   ]
  },
  {
   "cell_type": "markdown",
   "id": "bd5c7a27",
   "metadata": {},
   "source": [
    "#### Lets now inspect the \"COUNTRY\" variable\n",
    "the variable could be either CA or US"
   ]
  },
  {
   "cell_type": "code",
   "execution_count": 27,
   "id": "c68e29d8",
   "metadata": {},
   "outputs": [
    {
     "data": {
      "text/plain": [
       "US     50\n",
       "CA     49\n",
       "CAN     1\n",
       "Name: COUNTRY, dtype: int64"
      ]
     },
     "execution_count": 27,
     "metadata": {},
     "output_type": "execute_result"
    }
   ],
   "source": [
    "data[\"COUNTRY\"].value_counts()"
   ]
  },
  {
   "cell_type": "markdown",
   "id": "b133ba0e",
   "metadata": {},
   "source": [
    "CAN shall be replaced to CA"
   ]
  },
  {
   "cell_type": "code",
   "execution_count": 28,
   "id": "6ac4b5b6",
   "metadata": {},
   "outputs": [
    {
     "data": {
      "text/plain": [
       "US    50\n",
       "CA    50\n",
       "Name: COUNTRY, dtype: int64"
      ]
     },
     "execution_count": 28,
     "metadata": {},
     "output_type": "execute_result"
    }
   ],
   "source": [
    "data[\"COUNTRY\"].replace(\"CAN\",\"CA\",inplace=True)\n",
    "data[\"COUNTRY\"].value_counts()"
   ]
  },
  {
   "cell_type": "markdown",
   "id": "24506599",
   "metadata": {},
   "source": [
    "The COUNTRY Variable is now in perfect shape"
   ]
  },
  {
   "cell_type": "markdown",
   "id": "f8157558",
   "metadata": {},
   "source": [
    "#### Lets now inspect the \"REGION\",\"SALES_LEADER\" and \"SALES_VICE_PRESIDENT\" columns \n",
    "they are linked with one another using the ORG Structure Thus we need the org Structure\n",
    "<img src = \"OrgStruct.png\">"
   ]
  },
  {
   "cell_type": "markdown",
   "id": "5b7a5eac",
   "metadata": {},
   "source": [
    "We know that \"Region\" have Null Values in them which shall be filled using their associated Sales VP."
   ]
  },
  {
   "cell_type": "markdown",
   "id": "4d5116dd",
   "metadata": {},
   "source": [
    "**For Filling Region we need to First Inspect \"SALES_VICE_PRESIDENT\" & \"SALES_LEADER\"**"
   ]
  },
  {
   "cell_type": "code",
   "execution_count": 29,
   "id": "a79cc499",
   "metadata": {},
   "outputs": [
    {
     "name": "stdout",
     "output_type": "stream",
     "text": [
      "<class 'pandas.core.frame.DataFrame'>\n",
      "RangeIndex: 100 entries, 0 to 99\n",
      "Data columns (total 13 columns):\n",
      " #   Column                 Non-Null Count  Dtype  \n",
      "---  ------                 --------------  -----  \n",
      " 0   FirstName              100 non-null    object \n",
      " 1   LastName               100 non-null    object \n",
      " 2   Email                  100 non-null    object \n",
      " 3   ACCOUNT_ID             100 non-null    object \n",
      " 4   LATEST_TRANSACTION_ID  100 non-null    object \n",
      " 5   COUNTRY                100 non-null    object \n",
      " 6   REGION                 98 non-null     object \n",
      " 7   SALES_LEADER           100 non-null    object \n",
      " 8   SALES_VICE_PRESIDENT   100 non-null    object \n",
      " 9   ACCOUNT_AGE_YEARS      100 non-null    int64  \n",
      " 10  YTD_SALES              98 non-null     float64\n",
      " 11  PRE_YTD_SALES          99 non-null     float64\n",
      " 12  CUSTOMER_CATEGORY      100 non-null    object \n",
      "dtypes: float64(2), int64(1), object(10)\n",
      "memory usage: 10.3+ KB\n"
     ]
    }
   ],
   "source": [
    "data.info()"
   ]
  },
  {
   "cell_type": "markdown",
   "id": "0b709903",
   "metadata": {},
   "source": [
    "We know that SALES_LEADER and SALES_VICE_PRESIDENT are not blank. We need to check for leading spaces and check if they follow the structure"
   ]
  },
  {
   "cell_type": "code",
   "execution_count": 30,
   "id": "580891ff",
   "metadata": {},
   "outputs": [
    {
     "data": {
      "text/plain": [
       "0"
      ]
     },
     "execution_count": 30,
     "metadata": {},
     "output_type": "execute_result"
    }
   ],
   "source": [
    "data[\"SALES_LEADER\"].str.contains('/s[a-z,A-Z]*/s').sum()"
   ]
  },
  {
   "cell_type": "code",
   "execution_count": 31,
   "id": "64b8edab",
   "metadata": {},
   "outputs": [
    {
     "data": {
      "text/plain": [
       "0"
      ]
     },
     "execution_count": 31,
     "metadata": {},
     "output_type": "execute_result"
    }
   ],
   "source": [
    "data[\"SALES_VICE_PRESIDENT\"].str.contains('/s[a-z,A-Z]*/s').sum()"
   ]
  },
  {
   "cell_type": "markdown",
   "id": "c829be7d",
   "metadata": {},
   "source": [
    "We can surely say that none of the Columns SALES_VICE_PRESIDENT and SALES_LEADER have leading spaces."
   ]
  },
  {
   "cell_type": "code",
   "execution_count": 32,
   "id": "8f4d161c",
   "metadata": {},
   "outputs": [
    {
     "data": {
      "text/plain": [
       "Adem Osborne      38\n",
       "Hattie Beattie    34\n",
       "Matas Walmsley    15\n",
       "Esa Walton        12\n",
       "Zaid Nunez         1\n",
       "Name: SALES_VICE_PRESIDENT, dtype: int64"
      ]
     },
     "execution_count": 32,
     "metadata": {},
     "output_type": "execute_result"
    }
   ],
   "source": [
    "data[\"SALES_VICE_PRESIDENT\"].value_counts()"
   ]
  },
  {
   "cell_type": "code",
   "execution_count": 33,
   "id": "6e123757",
   "metadata": {},
   "outputs": [
    {
     "data": {
      "text/plain": [
       "Nicole Stamp        34\n",
       "Iram Luna           25\n",
       "Shahzaib Mahoney    13\n",
       "Taliah Pope         12\n",
       "Zaid Nunez          12\n",
       "Atlanta Avila        3\n",
       "Esa Walton           1\n",
       "Name: SALES_LEADER, dtype: int64"
      ]
     },
     "execution_count": 33,
     "metadata": {},
     "output_type": "execute_result"
    }
   ],
   "source": [
    "data[\"SALES_LEADER\"].value_counts()"
   ]
  },
  {
   "cell_type": "code",
   "execution_count": 34,
   "id": "b33252f2",
   "metadata": {},
   "outputs": [
    {
     "data": {
      "text/plain": [
       "True     99\n",
       "False     1\n",
       "Name: Leader-VP-Match, dtype: int64"
      ]
     },
     "execution_count": 34,
     "metadata": {},
     "output_type": "execute_result"
    }
   ],
   "source": [
    "data[\"Leader-VP-Match\"] = ''\n",
    "leadvp_dict={\n",
    "    \"Adem Osborne\" : [\"Shahzaib Mahoney\",\"Iram Luna\"],\n",
    "    \"Esa Walton\" : [\"Zaid Nunez\"],\n",
    "    \"Matas Walmsley\":[\"Taliah Pope\",\"Atlanta Avila\"],\n",
    "    \"Hattie Beattie\":[\"Nicole Stamp\"]\n",
    "}\n",
    "for i in data.index:\n",
    "    try:\n",
    "        if data.loc[i,\"SALES_LEADER\"] in leadvp_dict[data.loc[i,\"SALES_VICE_PRESIDENT\"]]:\n",
    "            data.loc[i,\"Leader-VP-Match\"] = True\n",
    "    except KeyError:\n",
    "        data.loc[i,\"Leader-VP-Match\"] = False\n",
    "data[\"Leader-VP-Match\"].value_counts()"
   ]
  },
  {
   "cell_type": "markdown",
   "id": "c2a7b4a7",
   "metadata": {},
   "source": [
    "##### We could see here that one leader VP Match is incorrect. Let us investigate this in detail."
   ]
  },
  {
   "cell_type": "code",
   "execution_count": 35,
   "id": "665f4587",
   "metadata": {},
   "outputs": [
    {
     "data": {
      "text/html": [
       "<div>\n",
       "<style scoped>\n",
       "    .dataframe tbody tr th:only-of-type {\n",
       "        vertical-align: middle;\n",
       "    }\n",
       "\n",
       "    .dataframe tbody tr th {\n",
       "        vertical-align: top;\n",
       "    }\n",
       "\n",
       "    .dataframe thead th {\n",
       "        text-align: right;\n",
       "    }\n",
       "</style>\n",
       "<table border=\"1\" class=\"dataframe\">\n",
       "  <thead>\n",
       "    <tr style=\"text-align: right;\">\n",
       "      <th></th>\n",
       "      <th>FirstName</th>\n",
       "      <th>LastName</th>\n",
       "      <th>Email</th>\n",
       "      <th>ACCOUNT_ID</th>\n",
       "      <th>LATEST_TRANSACTION_ID</th>\n",
       "      <th>COUNTRY</th>\n",
       "      <th>REGION</th>\n",
       "      <th>SALES_LEADER</th>\n",
       "      <th>SALES_VICE_PRESIDENT</th>\n",
       "      <th>ACCOUNT_AGE_YEARS</th>\n",
       "      <th>YTD_SALES</th>\n",
       "      <th>PRE_YTD_SALES</th>\n",
       "      <th>CUSTOMER_CATEGORY</th>\n",
       "      <th>Leader-VP-Match</th>\n",
       "    </tr>\n",
       "  </thead>\n",
       "  <tbody>\n",
       "    <tr>\n",
       "      <th>61</th>\n",
       "      <td>Jillian</td>\n",
       "      <td>Madden</td>\n",
       "      <td>Jillian.Madden@fakeemailaddress.com</td>\n",
       "      <td>CID125265AAQ</td>\n",
       "      <td>ID833798CDG</td>\n",
       "      <td>CA</td>\n",
       "      <td>CA WEST</td>\n",
       "      <td>Esa Walton</td>\n",
       "      <td>Zaid Nunez</td>\n",
       "      <td>5</td>\n",
       "      <td>1.78356</td>\n",
       "      <td>0.88224</td>\n",
       "      <td>End Customer</td>\n",
       "      <td>False</td>\n",
       "    </tr>\n",
       "  </tbody>\n",
       "</table>\n",
       "</div>"
      ],
      "text/plain": [
       "   FirstName LastName                                Email    ACCOUNT_ID  \\\n",
       "61   Jillian   Madden  Jillian.Madden@fakeemailaddress.com  CID125265AAQ   \n",
       "\n",
       "   LATEST_TRANSACTION_ID COUNTRY   REGION SALES_LEADER SALES_VICE_PRESIDENT  \\\n",
       "61           ID833798CDG      CA  CA WEST   Esa Walton           Zaid Nunez   \n",
       "\n",
       "    ACCOUNT_AGE_YEARS  YTD_SALES  PRE_YTD_SALES CUSTOMER_CATEGORY  \\\n",
       "61                  5    1.78356        0.88224      End Customer   \n",
       "\n",
       "   Leader-VP-Match  \n",
       "61           False  "
      ]
     },
     "execution_count": 35,
     "metadata": {},
     "output_type": "execute_result"
    }
   ],
   "source": [
    "data[data[\"Leader-VP-Match\"]==False]"
   ]
  },
  {
   "cell_type": "markdown",
   "id": "76b143b4",
   "metadata": {},
   "source": [
    "It is evident that Sales Leader and Sales VP names have been exchanged. We need to **Interchange them**"
   ]
  },
  {
   "cell_type": "code",
   "execution_count": 36,
   "id": "6fdeb110",
   "metadata": {},
   "outputs": [
    {
     "data": {
      "text/plain": [
       "True    100\n",
       "Name: Leader-VP-Match, dtype: int64"
      ]
     },
     "execution_count": 36,
     "metadata": {},
     "output_type": "execute_result"
    }
   ],
   "source": [
    "for i in data[data[\"Leader-VP-Match\"]==False].index:\n",
    "    data.loc[i,\"SALES_VICE_PRESIDENT\"], data.loc[i,\"SALES_LEADER\"] = data.loc[i,\"SALES_LEADER\"],data.loc[i,\"SALES_VICE_PRESIDENT\"]\n",
    "for i in data.index:\n",
    "    try:\n",
    "        if data.loc[i,\"SALES_LEADER\"] in leadvp_dict[data.loc[i,\"SALES_VICE_PRESIDENT\"]]:\n",
    "            data.loc[i,\"Leader-VP-Match\"] = True\n",
    "    except KeyError:\n",
    "        data.loc[i,\"Leader-VP-Match\"] = False\n",
    "data[\"Leader-VP-Match\"].value_counts()"
   ]
  },
  {
   "cell_type": "markdown",
   "id": "357de850",
   "metadata": {},
   "source": [
    "##### Now All the VP and Leaders match so we can now drop the Leader-VP-Match Work on Filling up the Missing Values of the Region"
   ]
  },
  {
   "cell_type": "code",
   "execution_count": 37,
   "id": "ab4f84d3",
   "metadata": {},
   "outputs": [
    {
     "data": {
      "text/plain": [
       "2"
      ]
     },
     "execution_count": 37,
     "metadata": {},
     "output_type": "execute_result"
    }
   ],
   "source": [
    "data.drop(columns=[\"Leader-VP-Match\"], axis=1,inplace=True)\n",
    "data[\"REGION\"].isnull().sum()"
   ]
  },
  {
   "cell_type": "markdown",
   "id": "65fc1b90",
   "metadata": {},
   "source": [
    "Thus there are 2 null values We need to see those two rows"
   ]
  },
  {
   "cell_type": "code",
   "execution_count": 38,
   "id": "22be5b5b",
   "metadata": {},
   "outputs": [
    {
     "data": {
      "text/html": [
       "<div>\n",
       "<style scoped>\n",
       "    .dataframe tbody tr th:only-of-type {\n",
       "        vertical-align: middle;\n",
       "    }\n",
       "\n",
       "    .dataframe tbody tr th {\n",
       "        vertical-align: top;\n",
       "    }\n",
       "\n",
       "    .dataframe thead th {\n",
       "        text-align: right;\n",
       "    }\n",
       "</style>\n",
       "<table border=\"1\" class=\"dataframe\">\n",
       "  <thead>\n",
       "    <tr style=\"text-align: right;\">\n",
       "      <th></th>\n",
       "      <th>FirstName</th>\n",
       "      <th>LastName</th>\n",
       "      <th>Email</th>\n",
       "      <th>ACCOUNT_ID</th>\n",
       "      <th>LATEST_TRANSACTION_ID</th>\n",
       "      <th>COUNTRY</th>\n",
       "      <th>REGION</th>\n",
       "      <th>SALES_LEADER</th>\n",
       "      <th>SALES_VICE_PRESIDENT</th>\n",
       "      <th>ACCOUNT_AGE_YEARS</th>\n",
       "      <th>YTD_SALES</th>\n",
       "      <th>PRE_YTD_SALES</th>\n",
       "      <th>CUSTOMER_CATEGORY</th>\n",
       "    </tr>\n",
       "  </thead>\n",
       "  <tbody>\n",
       "    <tr>\n",
       "      <th>89</th>\n",
       "      <td>Franco</td>\n",
       "      <td>Sandoval</td>\n",
       "      <td>Franco.Sandoval@fakeemailaddress.com</td>\n",
       "      <td>CID847477AAQ</td>\n",
       "      <td>ID818730CDG</td>\n",
       "      <td>US</td>\n",
       "      <td>NaN</td>\n",
       "      <td>Nicole Stamp</td>\n",
       "      <td>Hattie Beattie</td>\n",
       "      <td>4</td>\n",
       "      <td>219.33388</td>\n",
       "      <td>106.69252</td>\n",
       "      <td>Reseller</td>\n",
       "    </tr>\n",
       "    <tr>\n",
       "      <th>96</th>\n",
       "      <td>Sammy-Jo</td>\n",
       "      <td>Reese</td>\n",
       "      <td>Sammy-Jo.Reese@fakeemailaddress.com</td>\n",
       "      <td>CID993911AAQ</td>\n",
       "      <td>ID828692CDG</td>\n",
       "      <td>CA</td>\n",
       "      <td>NaN</td>\n",
       "      <td>Shahzaib Mahoney</td>\n",
       "      <td>Adem Osborne</td>\n",
       "      <td>5</td>\n",
       "      <td>2.18845</td>\n",
       "      <td>1.07357</td>\n",
       "      <td>End Customer</td>\n",
       "    </tr>\n",
       "  </tbody>\n",
       "</table>\n",
       "</div>"
      ],
      "text/plain": [
       "   FirstName  LastName                                 Email    ACCOUNT_ID  \\\n",
       "89    Franco  Sandoval  Franco.Sandoval@fakeemailaddress.com  CID847477AAQ   \n",
       "96  Sammy-Jo     Reese   Sammy-Jo.Reese@fakeemailaddress.com  CID993911AAQ   \n",
       "\n",
       "   LATEST_TRANSACTION_ID COUNTRY REGION      SALES_LEADER  \\\n",
       "89           ID818730CDG      US    NaN      Nicole Stamp   \n",
       "96           ID828692CDG      CA    NaN  Shahzaib Mahoney   \n",
       "\n",
       "   SALES_VICE_PRESIDENT  ACCOUNT_AGE_YEARS  YTD_SALES  PRE_YTD_SALES  \\\n",
       "89       Hattie Beattie                  4  219.33388      106.69252   \n",
       "96         Adem Osborne                  5    2.18845        1.07357   \n",
       "\n",
       "   CUSTOMER_CATEGORY  \n",
       "89          Reseller  \n",
       "96      End Customer  "
      ]
     },
     "execution_count": 38,
     "metadata": {},
     "output_type": "execute_result"
    }
   ],
   "source": [
    "data[data[\"REGION\"].isnull()]"
   ]
  },
  {
   "cell_type": "markdown",
   "id": "ecd05da6",
   "metadata": {},
   "source": [
    "Let us see if we have any other issues with REGION. "
   ]
  },
  {
   "cell_type": "code",
   "execution_count": 39,
   "id": "23990ed7",
   "metadata": {},
   "outputs": [
    {
     "data": {
      "text/plain": [
       "CA EAST    36\n",
       "US EAST    33\n",
       "US WEST    15\n",
       "CA WEST    13\n",
       "CA EST      1\n",
       "Name: REGION, dtype: int64"
      ]
     },
     "execution_count": 39,
     "metadata": {},
     "output_type": "execute_result"
    }
   ],
   "source": [
    "data[\"REGION\"].value_counts()"
   ]
  },
  {
   "cell_type": "markdown",
   "id": "d97792eb",
   "metadata": {},
   "source": [
    "Here we can see that the CA EAST and CA EST is misspelled. So the following code shall rename those for us"
   ]
  },
  {
   "cell_type": "code",
   "execution_count": 40,
   "id": "1d4ff7dc",
   "metadata": {},
   "outputs": [
    {
     "data": {
      "text/plain": [
       "CA EAST    38\n",
       "US EAST    34\n",
       "US WEST    15\n",
       "CA WEST    13\n",
       "Name: REGION, dtype: int64"
      ]
     },
     "execution_count": 40,
     "metadata": {},
     "output_type": "execute_result"
    }
   ],
   "source": [
    "vpregion_dict = {\n",
    "    \"Adem Osborne\" : \"CA EAST\",\n",
    "    \"Esa Walton\" : \"CA WEST\",\n",
    "    \"Matas Walmsley\":\"US WEST\",\n",
    "    \"Hattie Beattie\":\"US EAST\"\n",
    "}\n",
    "for i in data.index:\n",
    "    if data.loc[i,\"REGION\"] != vpregion_dict[data.loc[i,\"SALES_VICE_PRESIDENT\"]]:\n",
    "        data.loc[i,\"REGION\"] = vpregion_dict[data.loc[i,\"SALES_VICE_PRESIDENT\"]]\n",
    "data[\"REGION\"].value_counts()\n"
   ]
  },
  {
   "cell_type": "code",
   "execution_count": 41,
   "id": "941ad4bf",
   "metadata": {},
   "outputs": [
    {
     "data": {
      "text/plain": [
       "0"
      ]
     },
     "execution_count": 41,
     "metadata": {},
     "output_type": "execute_result"
    }
   ],
   "source": [
    "data[\"REGION\"].isnull().sum()"
   ]
  },
  {
   "cell_type": "markdown",
   "id": "adc7489e",
   "metadata": {},
   "source": [
    "Checking whether the Region matches the country or not"
   ]
  },
  {
   "cell_type": "code",
   "execution_count": 42,
   "id": "65005ed7",
   "metadata": {},
   "outputs": [
    {
     "name": "stdout",
     "output_type": "stream",
     "text": [
      "REGION                       CA EAST\n",
      "COUNTRY                           US\n",
      "SALES_VICE_PRESIDENT    Adem Osborne\n",
      "Name: 92, dtype: object\n",
      "92\n"
     ]
    }
   ],
   "source": [
    "country_region_dict = {\n",
    "    \"US\" : [\"US WEST\",\"US EAST\"],\n",
    "    \"CA\" : [\"CA EAST\",\"CA WEST\"]\n",
    "}\n",
    "for i in data.index:\n",
    "    if data.loc[i,\"REGION\"] not in country_region_dict[data.loc[i,\"COUNTRY\"]]:\n",
    "        print(data.loc[i,[\"REGION\",\"COUNTRY\",\"SALES_VICE_PRESIDENT\"]])\n",
    "        print(i)\n",
    "\n"
   ]
  },
  {
   "cell_type": "markdown",
   "id": "fb9f264b",
   "metadata": {},
   "source": [
    "We can see here that the Sales VP Adem Osborne is associated with it who operates in CA EAST so the Country is CA instead of US."
   ]
  },
  {
   "cell_type": "code",
   "execution_count": 43,
   "id": "a77477c9",
   "metadata": {},
   "outputs": [],
   "source": [
    "# Could also be done using a dict but I am changing manually here...\n",
    "data.loc[92,\"COUNTRY\"] = \"CA\""
   ]
  },
  {
   "cell_type": "markdown",
   "id": "70409cab",
   "metadata": {},
   "source": [
    "Now we have successfully cleaned the  \"REGION\",\"SALES_LEADER\" and \"SALES_VICE_PRESIDENT\" columns "
   ]
  },
  {
   "cell_type": "markdown",
   "id": "409ad1e7",
   "metadata": {},
   "source": [
    "The **CUSTOMER_CATEGORY share the similiar property as Region**. i.e. Must not be Blank and Should either be End Customer, Corporate , or Reseller"
   ]
  },
  {
   "cell_type": "code",
   "execution_count": 44,
   "id": "e1c2a86f",
   "metadata": {},
   "outputs": [
    {
     "data": {
      "text/plain": [
       "0"
      ]
     },
     "execution_count": 44,
     "metadata": {},
     "output_type": "execute_result"
    }
   ],
   "source": [
    "data[\"CUSTOMER_CATEGORY\"].isnull().sum()"
   ]
  },
  {
   "cell_type": "markdown",
   "id": "8097171b",
   "metadata": {},
   "source": [
    "##### There are no Null Values in the CUSTOMER_CATEGORY Columns"
   ]
  },
  {
   "cell_type": "code",
   "execution_count": 45,
   "id": "8c2fd6c3",
   "metadata": {},
   "outputs": [
    {
     "data": {
      "text/plain": [
       "End Customer    67\n",
       "Corporate       21\n",
       "Reseller        12\n",
       "Name: CUSTOMER_CATEGORY, dtype: int64"
      ]
     },
     "execution_count": 45,
     "metadata": {},
     "output_type": "execute_result"
    }
   ],
   "source": [
    "data[\"CUSTOMER_CATEGORY\"].value_counts()"
   ]
  },
  {
   "cell_type": "markdown",
   "id": "ee665e9e",
   "metadata": {},
   "source": [
    "These values are same as expected. Hence the Column \"CUSTOMER_CATEGORY\" is in **Perfect Condition**"
   ]
  },
  {
   "cell_type": "markdown",
   "id": "78f13b26",
   "metadata": {},
   "source": [
    "#### Inspecting Numerical Columns \"ACCOUNT_AGE_YEARS\", \"YTD_SALES\" , \"PRE_YTD_SALES\""
   ]
  },
  {
   "cell_type": "code",
   "execution_count": 46,
   "id": "2ed71009",
   "metadata": {},
   "outputs": [
    {
     "data": {
      "text/plain": [
       "0"
      ]
     },
     "execution_count": 46,
     "metadata": {},
     "output_type": "execute_result"
    }
   ],
   "source": [
    "data[\"ACCOUNT_AGE_YEARS\"].isnull().sum()"
   ]
  },
  {
   "cell_type": "code",
   "execution_count": 47,
   "id": "8125beea",
   "metadata": {},
   "outputs": [
    {
     "name": "stdout",
     "output_type": "stream",
     "text": [
      "<class 'pandas.core.frame.DataFrame'>\n",
      "RangeIndex: 100 entries, 0 to 99\n",
      "Data columns (total 1 columns):\n",
      " #   Column             Non-Null Count  Dtype\n",
      "---  ------             --------------  -----\n",
      " 0   ACCOUNT_AGE_YEARS  100 non-null    int64\n",
      "dtypes: int64(1)\n",
      "memory usage: 928.0 bytes\n"
     ]
    }
   ],
   "source": [
    "data[[\"ACCOUNT_AGE_YEARS\"]].info()"
   ]
  },
  {
   "cell_type": "markdown",
   "id": "05336d07",
   "metadata": {},
   "source": [
    "##### The ACCOUNT_AGE_YEARS column is not blank is an integer as expected in perfect condition"
   ]
  },
  {
   "cell_type": "markdown",
   "id": "9f17c6d2",
   "metadata": {},
   "source": [
    "**We noticed that PRE_YTD_SALES had -ve values** which is not expected. So we shall investigate the same before moving forward"
   ]
  },
  {
   "cell_type": "code",
   "execution_count": 48,
   "id": "3dc0be74",
   "metadata": {},
   "outputs": [
    {
     "data": {
      "text/html": [
       "<div>\n",
       "<style scoped>\n",
       "    .dataframe tbody tr th:only-of-type {\n",
       "        vertical-align: middle;\n",
       "    }\n",
       "\n",
       "    .dataframe tbody tr th {\n",
       "        vertical-align: top;\n",
       "    }\n",
       "\n",
       "    .dataframe thead th {\n",
       "        text-align: right;\n",
       "    }\n",
       "</style>\n",
       "<table border=\"1\" class=\"dataframe\">\n",
       "  <thead>\n",
       "    <tr style=\"text-align: right;\">\n",
       "      <th></th>\n",
       "      <th>ACCOUNT_AGE_YEARS</th>\n",
       "      <th>YTD_SALES</th>\n",
       "      <th>PRE_YTD_SALES</th>\n",
       "    </tr>\n",
       "  </thead>\n",
       "  <tbody>\n",
       "    <tr>\n",
       "      <th>count</th>\n",
       "      <td>100.000000</td>\n",
       "      <td>98.000000</td>\n",
       "      <td>99.000000</td>\n",
       "    </tr>\n",
       "    <tr>\n",
       "      <th>mean</th>\n",
       "      <td>5.120000</td>\n",
       "      <td>28.959301</td>\n",
       "      <td>22.534094</td>\n",
       "    </tr>\n",
       "    <tr>\n",
       "      <th>std</th>\n",
       "      <td>2.170882</td>\n",
       "      <td>50.718082</td>\n",
       "      <td>46.987120</td>\n",
       "    </tr>\n",
       "    <tr>\n",
       "      <th>min</th>\n",
       "      <td>1.000000</td>\n",
       "      <td>0.928720</td>\n",
       "      <td>-10.463100</td>\n",
       "    </tr>\n",
       "    <tr>\n",
       "      <th>25%</th>\n",
       "      <td>4.000000</td>\n",
       "      <td>1.911277</td>\n",
       "      <td>1.190760</td>\n",
       "    </tr>\n",
       "    <tr>\n",
       "      <th>50%</th>\n",
       "      <td>5.000000</td>\n",
       "      <td>2.344200</td>\n",
       "      <td>1.686880</td>\n",
       "    </tr>\n",
       "    <tr>\n",
       "      <th>75%</th>\n",
       "      <td>6.000000</td>\n",
       "      <td>42.882605</td>\n",
       "      <td>19.408095</td>\n",
       "    </tr>\n",
       "    <tr>\n",
       "      <th>max</th>\n",
       "      <td>11.000000</td>\n",
       "      <td>223.592490</td>\n",
       "      <td>227.743870</td>\n",
       "    </tr>\n",
       "  </tbody>\n",
       "</table>\n",
       "</div>"
      ],
      "text/plain": [
       "       ACCOUNT_AGE_YEARS   YTD_SALES  PRE_YTD_SALES\n",
       "count         100.000000   98.000000      99.000000\n",
       "mean            5.120000   28.959301      22.534094\n",
       "std             2.170882   50.718082      46.987120\n",
       "min             1.000000    0.928720     -10.463100\n",
       "25%             4.000000    1.911277       1.190760\n",
       "50%             5.000000    2.344200       1.686880\n",
       "75%             6.000000   42.882605      19.408095\n",
       "max            11.000000  223.592490     227.743870"
      ]
     },
     "execution_count": 48,
     "metadata": {},
     "output_type": "execute_result"
    }
   ],
   "source": [
    "data.describe()"
   ]
  },
  {
   "cell_type": "code",
   "execution_count": 49,
   "id": "26e7a03f",
   "metadata": {},
   "outputs": [
    {
     "data": {
      "text/html": [
       "<div>\n",
       "<style scoped>\n",
       "    .dataframe tbody tr th:only-of-type {\n",
       "        vertical-align: middle;\n",
       "    }\n",
       "\n",
       "    .dataframe tbody tr th {\n",
       "        vertical-align: top;\n",
       "    }\n",
       "\n",
       "    .dataframe thead th {\n",
       "        text-align: right;\n",
       "    }\n",
       "</style>\n",
       "<table border=\"1\" class=\"dataframe\">\n",
       "  <thead>\n",
       "    <tr style=\"text-align: right;\">\n",
       "      <th></th>\n",
       "      <th>FirstName</th>\n",
       "      <th>LastName</th>\n",
       "      <th>Email</th>\n",
       "      <th>ACCOUNT_ID</th>\n",
       "      <th>LATEST_TRANSACTION_ID</th>\n",
       "      <th>COUNTRY</th>\n",
       "      <th>REGION</th>\n",
       "      <th>SALES_LEADER</th>\n",
       "      <th>SALES_VICE_PRESIDENT</th>\n",
       "      <th>ACCOUNT_AGE_YEARS</th>\n",
       "      <th>YTD_SALES</th>\n",
       "      <th>PRE_YTD_SALES</th>\n",
       "      <th>CUSTOMER_CATEGORY</th>\n",
       "    </tr>\n",
       "  </thead>\n",
       "  <tbody>\n",
       "    <tr>\n",
       "      <th>11</th>\n",
       "      <td>Hisham</td>\n",
       "      <td>Ferguson</td>\n",
       "      <td>Hisham.Ferguson@fakeemailaddress.com</td>\n",
       "      <td>CID710001AAQ</td>\n",
       "      <td>ID639088CDG</td>\n",
       "      <td>US</td>\n",
       "      <td>US EAST</td>\n",
       "      <td>Nicole Stamp</td>\n",
       "      <td>Hattie Beattie</td>\n",
       "      <td>5</td>\n",
       "      <td>32.59451</td>\n",
       "      <td>-8.61102</td>\n",
       "      <td>Corporate</td>\n",
       "    </tr>\n",
       "    <tr>\n",
       "      <th>18</th>\n",
       "      <td>Ella-Grace</td>\n",
       "      <td>House</td>\n",
       "      <td>Ella-Grace.House@fakeemailaddress.com</td>\n",
       "      <td>CID384026AAQ</td>\n",
       "      <td>ID645881CDG</td>\n",
       "      <td>US</td>\n",
       "      <td>US EAST</td>\n",
       "      <td>Nicole Stamp</td>\n",
       "      <td>Hattie Beattie</td>\n",
       "      <td>6</td>\n",
       "      <td>20.72854</td>\n",
       "      <td>-10.46310</td>\n",
       "      <td>Corporate</td>\n",
       "    </tr>\n",
       "    <tr>\n",
       "      <th>22</th>\n",
       "      <td>Bogdan</td>\n",
       "      <td>Driscoll</td>\n",
       "      <td>Bogdan.Driscoll@fakeemailaddress.com</td>\n",
       "      <td>CID479531AAQ</td>\n",
       "      <td>ID978864CDG</td>\n",
       "      <td>CA</td>\n",
       "      <td>CA EAST</td>\n",
       "      <td>Iram Luna</td>\n",
       "      <td>Adem Osborne</td>\n",
       "      <td>8</td>\n",
       "      <td>43.18040</td>\n",
       "      <td>-0.87961</td>\n",
       "      <td>Corporate</td>\n",
       "    </tr>\n",
       "  </tbody>\n",
       "</table>\n",
       "</div>"
      ],
      "text/plain": [
       "     FirstName  LastName                                  Email    ACCOUNT_ID  \\\n",
       "11      Hisham  Ferguson   Hisham.Ferguson@fakeemailaddress.com  CID710001AAQ   \n",
       "18  Ella-Grace     House  Ella-Grace.House@fakeemailaddress.com  CID384026AAQ   \n",
       "22      Bogdan  Driscoll   Bogdan.Driscoll@fakeemailaddress.com  CID479531AAQ   \n",
       "\n",
       "   LATEST_TRANSACTION_ID COUNTRY   REGION  SALES_LEADER SALES_VICE_PRESIDENT  \\\n",
       "11           ID639088CDG      US  US EAST  Nicole Stamp       Hattie Beattie   \n",
       "18           ID645881CDG      US  US EAST  Nicole Stamp       Hattie Beattie   \n",
       "22           ID978864CDG      CA  CA EAST     Iram Luna         Adem Osborne   \n",
       "\n",
       "    ACCOUNT_AGE_YEARS  YTD_SALES  PRE_YTD_SALES CUSTOMER_CATEGORY  \n",
       "11                  5   32.59451       -8.61102        Corporate   \n",
       "18                  6   20.72854      -10.46310        Corporate   \n",
       "22                  8   43.18040       -0.87961        Corporate   "
      ]
     },
     "execution_count": 49,
     "metadata": {},
     "output_type": "execute_result"
    }
   ],
   "source": [
    "data[data[\"PRE_YTD_SALES\"]<0]"
   ]
  },
  {
   "cell_type": "markdown",
   "id": "b6c3ba27",
   "metadata": {},
   "source": [
    "##### It expected that the values should not be negative. So in this case we could either drop the records or turn them into +ve values assuming it as a mistake."
   ]
  },
  {
   "cell_type": "markdown",
   "id": "ad9425cc",
   "metadata": {},
   "source": [
    "**Due to limited number of records we assume that due to mistake -ve values were entered but actually they were positive hence we are turning them into +ve values.**"
   ]
  },
  {
   "cell_type": "code",
   "execution_count": 50,
   "id": "980b7d3f",
   "metadata": {},
   "outputs": [],
   "source": [
    "for i in data[data[\"PRE_YTD_SALES\"]<0].index:\n",
    "    if data.loc[i,\"PRE_YTD_SALES\"] < 0:\n",
    "        data.loc[i,\"PRE_YTD_SALES\"] = data.loc[i,\"PRE_YTD_SALES\"] * -1"
   ]
  },
  {
   "cell_type": "code",
   "execution_count": 51,
   "id": "a5da91b6",
   "metadata": {},
   "outputs": [
    {
     "data": {
      "text/html": [
       "<div>\n",
       "<style scoped>\n",
       "    .dataframe tbody tr th:only-of-type {\n",
       "        vertical-align: middle;\n",
       "    }\n",
       "\n",
       "    .dataframe tbody tr th {\n",
       "        vertical-align: top;\n",
       "    }\n",
       "\n",
       "    .dataframe thead th {\n",
       "        text-align: right;\n",
       "    }\n",
       "</style>\n",
       "<table border=\"1\" class=\"dataframe\">\n",
       "  <thead>\n",
       "    <tr style=\"text-align: right;\">\n",
       "      <th></th>\n",
       "      <th>ACCOUNT_AGE_YEARS</th>\n",
       "      <th>YTD_SALES</th>\n",
       "      <th>PRE_YTD_SALES</th>\n",
       "    </tr>\n",
       "  </thead>\n",
       "  <tbody>\n",
       "    <tr>\n",
       "      <th>count</th>\n",
       "      <td>100.000000</td>\n",
       "      <td>98.000000</td>\n",
       "      <td>99.000000</td>\n",
       "    </tr>\n",
       "    <tr>\n",
       "      <th>mean</th>\n",
       "      <td>5.120000</td>\n",
       "      <td>28.959301</td>\n",
       "      <td>22.937200</td>\n",
       "    </tr>\n",
       "    <tr>\n",
       "      <th>std</th>\n",
       "      <td>2.170882</td>\n",
       "      <td>50.718082</td>\n",
       "      <td>46.789664</td>\n",
       "    </tr>\n",
       "    <tr>\n",
       "      <th>min</th>\n",
       "      <td>1.000000</td>\n",
       "      <td>0.928720</td>\n",
       "      <td>0.393300</td>\n",
       "    </tr>\n",
       "    <tr>\n",
       "      <th>25%</th>\n",
       "      <td>4.000000</td>\n",
       "      <td>1.911277</td>\n",
       "      <td>1.240150</td>\n",
       "    </tr>\n",
       "    <tr>\n",
       "      <th>50%</th>\n",
       "      <td>5.000000</td>\n",
       "      <td>2.344200</td>\n",
       "      <td>1.753330</td>\n",
       "    </tr>\n",
       "    <tr>\n",
       "      <th>75%</th>\n",
       "      <td>6.000000</td>\n",
       "      <td>42.882605</td>\n",
       "      <td>19.408095</td>\n",
       "    </tr>\n",
       "    <tr>\n",
       "      <th>max</th>\n",
       "      <td>11.000000</td>\n",
       "      <td>223.592490</td>\n",
       "      <td>227.743870</td>\n",
       "    </tr>\n",
       "  </tbody>\n",
       "</table>\n",
       "</div>"
      ],
      "text/plain": [
       "       ACCOUNT_AGE_YEARS   YTD_SALES  PRE_YTD_SALES\n",
       "count         100.000000   98.000000      99.000000\n",
       "mean            5.120000   28.959301      22.937200\n",
       "std             2.170882   50.718082      46.789664\n",
       "min             1.000000    0.928720       0.393300\n",
       "25%             4.000000    1.911277       1.240150\n",
       "50%             5.000000    2.344200       1.753330\n",
       "75%             6.000000   42.882605      19.408095\n",
       "max            11.000000  223.592490     227.743870"
      ]
     },
     "execution_count": 51,
     "metadata": {},
     "output_type": "execute_result"
    }
   ],
   "source": [
    "data.describe()"
   ]
  },
  {
   "cell_type": "code",
   "execution_count": 52,
   "id": "b8019334",
   "metadata": {},
   "outputs": [
    {
     "name": "stdout",
     "output_type": "stream",
     "text": [
      "<class 'pandas.core.frame.DataFrame'>\n",
      "RangeIndex: 100 entries, 0 to 99\n",
      "Data columns (total 13 columns):\n",
      " #   Column                 Non-Null Count  Dtype  \n",
      "---  ------                 --------------  -----  \n",
      " 0   FirstName              100 non-null    object \n",
      " 1   LastName               100 non-null    object \n",
      " 2   Email                  100 non-null    object \n",
      " 3   ACCOUNT_ID             100 non-null    object \n",
      " 4   LATEST_TRANSACTION_ID  100 non-null    object \n",
      " 5   COUNTRY                100 non-null    object \n",
      " 6   REGION                 100 non-null    object \n",
      " 7   SALES_LEADER           100 non-null    object \n",
      " 8   SALES_VICE_PRESIDENT   100 non-null    object \n",
      " 9   ACCOUNT_AGE_YEARS      100 non-null    int64  \n",
      " 10  YTD_SALES              98 non-null     float64\n",
      " 11  PRE_YTD_SALES          99 non-null     float64\n",
      " 12  CUSTOMER_CATEGORY      100 non-null    object \n",
      "dtypes: float64(2), int64(1), object(10)\n",
      "memory usage: 10.3+ KB\n"
     ]
    }
   ],
   "source": [
    "data.info()"
   ]
  },
  {
   "cell_type": "markdown",
   "id": "78092bd2",
   "metadata": {},
   "source": [
    "We earlier noticed that both \"YTD_SALES\" , \"PRE_YTD_SALES\" had null values. The best way to fill null values for numerical columns is their mean."
   ]
  },
  {
   "cell_type": "code",
   "execution_count": 53,
   "id": "ef89180f",
   "metadata": {},
   "outputs": [],
   "source": [
    "data[\"YTD_SALES\"].fillna(value=data.YTD_SALES.mean(),inplace=True)\n",
    "data[\"PRE_YTD_SALES\"].fillna(value=data.PRE_YTD_SALES.mean(),inplace=True)"
   ]
  },
  {
   "cell_type": "code",
   "execution_count": 54,
   "id": "425d0adf",
   "metadata": {},
   "outputs": [
    {
     "data": {
      "text/plain": [
       "0"
      ]
     },
     "execution_count": 54,
     "metadata": {},
     "output_type": "execute_result"
    }
   ],
   "source": [
    "data[\"PRE_YTD_SALES\"].isnull().sum()\n"
   ]
  },
  {
   "cell_type": "code",
   "execution_count": 55,
   "id": "c65349be",
   "metadata": {},
   "outputs": [
    {
     "data": {
      "text/plain": [
       "0"
      ]
     },
     "execution_count": 55,
     "metadata": {},
     "output_type": "execute_result"
    }
   ],
   "source": [
    "data[\"YTD_SALES\"].isnull().sum()"
   ]
  },
  {
   "cell_type": "code",
   "execution_count": 56,
   "id": "b444e945",
   "metadata": {},
   "outputs": [
    {
     "name": "stdout",
     "output_type": "stream",
     "text": [
      "<class 'pandas.core.frame.DataFrame'>\n",
      "RangeIndex: 100 entries, 0 to 99\n",
      "Data columns (total 13 columns):\n",
      " #   Column                 Non-Null Count  Dtype  \n",
      "---  ------                 --------------  -----  \n",
      " 0   FirstName              100 non-null    object \n",
      " 1   LastName               100 non-null    object \n",
      " 2   Email                  100 non-null    object \n",
      " 3   ACCOUNT_ID             100 non-null    object \n",
      " 4   LATEST_TRANSACTION_ID  100 non-null    object \n",
      " 5   COUNTRY                100 non-null    object \n",
      " 6   REGION                 100 non-null    object \n",
      " 7   SALES_LEADER           100 non-null    object \n",
      " 8   SALES_VICE_PRESIDENT   100 non-null    object \n",
      " 9   ACCOUNT_AGE_YEARS      100 non-null    int64  \n",
      " 10  YTD_SALES              100 non-null    float64\n",
      " 11  PRE_YTD_SALES          100 non-null    float64\n",
      " 12  CUSTOMER_CATEGORY      100 non-null    object \n",
      "dtypes: float64(2), int64(1), object(10)\n",
      "memory usage: 10.3+ KB\n"
     ]
    }
   ],
   "source": [
    "data.info()"
   ]
  },
  {
   "cell_type": "markdown",
   "id": "3aec11db",
   "metadata": {},
   "source": [
    "All Columns are in perfect condition and could be used for further analysis."
   ]
  },
  {
   "cell_type": "markdown",
   "id": "0a430a8e",
   "metadata": {},
   "source": [
    "### Thus the data set is now clean"
   ]
  },
  {
   "cell_type": "markdown",
   "id": "85c2eba0",
   "metadata": {},
   "source": [
    "Let us save this data for future reference. Naming as Assignment1Clean.csv"
   ]
  },
  {
   "cell_type": "code",
   "execution_count": 57,
   "id": "386c32a9",
   "metadata": {},
   "outputs": [],
   "source": [
    "data.to_csv(\"Assignment1Clean.csv\",index=False)"
   ]
  },
  {
   "cell_type": "markdown",
   "id": "a9f15718",
   "metadata": {},
   "source": [
    "## Section 5 : Insights through Data Visualization"
   ]
  },
  {
   "cell_type": "code",
   "execution_count": 58,
   "id": "9cbc9abc",
   "metadata": {},
   "outputs": [
    {
     "data": {
      "text/html": [
       "<div>\n",
       "<style scoped>\n",
       "    .dataframe tbody tr th:only-of-type {\n",
       "        vertical-align: middle;\n",
       "    }\n",
       "\n",
       "    .dataframe tbody tr th {\n",
       "        vertical-align: top;\n",
       "    }\n",
       "\n",
       "    .dataframe thead th {\n",
       "        text-align: right;\n",
       "    }\n",
       "</style>\n",
       "<table border=\"1\" class=\"dataframe\">\n",
       "  <thead>\n",
       "    <tr style=\"text-align: right;\">\n",
       "      <th></th>\n",
       "      <th>FirstName</th>\n",
       "      <th>LastName</th>\n",
       "      <th>Email</th>\n",
       "      <th>ACCOUNT_ID</th>\n",
       "      <th>LATEST_TRANSACTION_ID</th>\n",
       "      <th>COUNTRY</th>\n",
       "      <th>REGION</th>\n",
       "      <th>SALES_LEADER</th>\n",
       "      <th>SALES_VICE_PRESIDENT</th>\n",
       "      <th>ACCOUNT_AGE_YEARS</th>\n",
       "      <th>YTD_SALES</th>\n",
       "      <th>PRE_YTD_SALES</th>\n",
       "      <th>CUSTOMER_CATEGORY</th>\n",
       "    </tr>\n",
       "  </thead>\n",
       "  <tbody>\n",
       "    <tr>\n",
       "      <th>0</th>\n",
       "      <td>Dominykas</td>\n",
       "      <td>Kline</td>\n",
       "      <td>Dominykas.Kline@fakeemailaddress.com</td>\n",
       "      <td>CID360007AAQ</td>\n",
       "      <td>ID627830CDG</td>\n",
       "      <td>US</td>\n",
       "      <td>US EAST</td>\n",
       "      <td>Nicole Stamp</td>\n",
       "      <td>Hattie Beattie</td>\n",
       "      <td>6</td>\n",
       "      <td>1.85868</td>\n",
       "      <td>1.87726</td>\n",
       "      <td>End Customer</td>\n",
       "    </tr>\n",
       "    <tr>\n",
       "      <th>1</th>\n",
       "      <td>Myra</td>\n",
       "      <td>Mcintosh</td>\n",
       "      <td>Myra.Mcintosh@fakeemailaddress.com</td>\n",
       "      <td>CID766149AAQ</td>\n",
       "      <td>ID744031CDG</td>\n",
       "      <td>CA</td>\n",
       "      <td>CA EAST</td>\n",
       "      <td>Iram Luna</td>\n",
       "      <td>Adem Osborne</td>\n",
       "      <td>3</td>\n",
       "      <td>1.91772</td>\n",
       "      <td>1.85133</td>\n",
       "      <td>End Customer</td>\n",
       "    </tr>\n",
       "    <tr>\n",
       "      <th>2</th>\n",
       "      <td>Talhah</td>\n",
       "      <td>Molina</td>\n",
       "      <td>Talhah.Molina@fakeemailaddress.com</td>\n",
       "      <td>CID123310AAQ</td>\n",
       "      <td>ID423991CDG</td>\n",
       "      <td>US</td>\n",
       "      <td>US WEST</td>\n",
       "      <td>Taliah Pope</td>\n",
       "      <td>Matas Walmsley</td>\n",
       "      <td>8</td>\n",
       "      <td>41.98922</td>\n",
       "      <td>52.43973</td>\n",
       "      <td>Corporate</td>\n",
       "    </tr>\n",
       "    <tr>\n",
       "      <th>3</th>\n",
       "      <td>Cecily</td>\n",
       "      <td>Irvine</td>\n",
       "      <td>Cecily.Irvine@fakeemailaddress.com</td>\n",
       "      <td>CID401337AAQ</td>\n",
       "      <td>ID133818CDG</td>\n",
       "      <td>CA</td>\n",
       "      <td>CA EAST</td>\n",
       "      <td>Iram Luna</td>\n",
       "      <td>Adem Osborne</td>\n",
       "      <td>9</td>\n",
       "      <td>1.66511</td>\n",
       "      <td>2.08948</td>\n",
       "      <td>End Customer</td>\n",
       "    </tr>\n",
       "    <tr>\n",
       "      <th>4</th>\n",
       "      <td>Donte</td>\n",
       "      <td>Monroe</td>\n",
       "      <td>Donte.Monroe@fakeemailaddress.com</td>\n",
       "      <td>CID849996AAQ</td>\n",
       "      <td>ID293826CDG</td>\n",
       "      <td>US</td>\n",
       "      <td>US EAST</td>\n",
       "      <td>Nicole Stamp</td>\n",
       "      <td>Hattie Beattie</td>\n",
       "      <td>5</td>\n",
       "      <td>2.20341</td>\n",
       "      <td>1.33336</td>\n",
       "      <td>End Customer</td>\n",
       "    </tr>\n",
       "  </tbody>\n",
       "</table>\n",
       "</div>"
      ],
      "text/plain": [
       "   FirstName  LastName                                 Email    ACCOUNT_ID  \\\n",
       "0  Dominykas     Kline  Dominykas.Kline@fakeemailaddress.com  CID360007AAQ   \n",
       "1       Myra  Mcintosh    Myra.Mcintosh@fakeemailaddress.com  CID766149AAQ   \n",
       "2     Talhah    Molina    Talhah.Molina@fakeemailaddress.com  CID123310AAQ   \n",
       "3     Cecily    Irvine    Cecily.Irvine@fakeemailaddress.com  CID401337AAQ   \n",
       "4      Donte    Monroe     Donte.Monroe@fakeemailaddress.com  CID849996AAQ   \n",
       "\n",
       "  LATEST_TRANSACTION_ID COUNTRY   REGION  SALES_LEADER SALES_VICE_PRESIDENT  \\\n",
       "0           ID627830CDG      US  US EAST  Nicole Stamp       Hattie Beattie   \n",
       "1           ID744031CDG      CA  CA EAST     Iram Luna         Adem Osborne   \n",
       "2           ID423991CDG      US  US WEST   Taliah Pope       Matas Walmsley   \n",
       "3           ID133818CDG      CA  CA EAST     Iram Luna         Adem Osborne   \n",
       "4           ID293826CDG      US  US EAST  Nicole Stamp       Hattie Beattie   \n",
       "\n",
       "   ACCOUNT_AGE_YEARS  YTD_SALES  PRE_YTD_SALES CUSTOMER_CATEGORY  \n",
       "0                  6    1.85868        1.87726      End Customer  \n",
       "1                  3    1.91772        1.85133      End Customer  \n",
       "2                  8   41.98922       52.43973        Corporate   \n",
       "3                  9    1.66511        2.08948      End Customer  \n",
       "4                  5    2.20341        1.33336      End Customer  "
      ]
     },
     "execution_count": 58,
     "metadata": {},
     "output_type": "execute_result"
    }
   ],
   "source": [
    "df = pd.read_csv(\"Assignment1Clean.csv\")\n",
    "df.head()"
   ]
  },
  {
   "cell_type": "code",
   "execution_count": 59,
   "id": "7e2fccee",
   "metadata": {},
   "outputs": [
    {
     "data": {
      "text/plain": [
       "(100, 13)"
      ]
     },
     "execution_count": 59,
     "metadata": {},
     "output_type": "execute_result"
    }
   ],
   "source": [
    "df.shape"
   ]
  },
  {
   "cell_type": "code",
   "execution_count": 60,
   "id": "183c2c64",
   "metadata": {},
   "outputs": [
    {
     "name": "stdout",
     "output_type": "stream",
     "text": [
      "<class 'pandas.core.frame.DataFrame'>\n",
      "RangeIndex: 100 entries, 0 to 99\n",
      "Data columns (total 13 columns):\n",
      " #   Column                 Non-Null Count  Dtype  \n",
      "---  ------                 --------------  -----  \n",
      " 0   FirstName              100 non-null    object \n",
      " 1   LastName               100 non-null    object \n",
      " 2   Email                  100 non-null    object \n",
      " 3   ACCOUNT_ID             100 non-null    object \n",
      " 4   LATEST_TRANSACTION_ID  100 non-null    object \n",
      " 5   COUNTRY                100 non-null    object \n",
      " 6   REGION                 100 non-null    object \n",
      " 7   SALES_LEADER           100 non-null    object \n",
      " 8   SALES_VICE_PRESIDENT   100 non-null    object \n",
      " 9   ACCOUNT_AGE_YEARS      100 non-null    int64  \n",
      " 10  YTD_SALES              100 non-null    float64\n",
      " 11  PRE_YTD_SALES          100 non-null    float64\n",
      " 12  CUSTOMER_CATEGORY      100 non-null    object \n",
      "dtypes: float64(2), int64(1), object(10)\n",
      "memory usage: 10.3+ KB\n"
     ]
    }
   ],
   "source": [
    "df.info()"
   ]
  },
  {
   "cell_type": "code",
   "execution_count": 61,
   "id": "967b28d7",
   "metadata": {},
   "outputs": [
    {
     "data": {
      "text/html": [
       "<div>\n",
       "<style scoped>\n",
       "    .dataframe tbody tr th:only-of-type {\n",
       "        vertical-align: middle;\n",
       "    }\n",
       "\n",
       "    .dataframe tbody tr th {\n",
       "        vertical-align: top;\n",
       "    }\n",
       "\n",
       "    .dataframe thead th {\n",
       "        text-align: right;\n",
       "    }\n",
       "</style>\n",
       "<table border=\"1\" class=\"dataframe\">\n",
       "  <thead>\n",
       "    <tr style=\"text-align: right;\">\n",
       "      <th></th>\n",
       "      <th>ACCOUNT_AGE_YEARS</th>\n",
       "      <th>YTD_SALES</th>\n",
       "      <th>PRE_YTD_SALES</th>\n",
       "    </tr>\n",
       "  </thead>\n",
       "  <tbody>\n",
       "    <tr>\n",
       "      <th>count</th>\n",
       "      <td>100.000000</td>\n",
       "      <td>100.000000</td>\n",
       "      <td>100.000000</td>\n",
       "    </tr>\n",
       "    <tr>\n",
       "      <th>mean</th>\n",
       "      <td>5.120000</td>\n",
       "      <td>28.959301</td>\n",
       "      <td>22.937200</td>\n",
       "    </tr>\n",
       "    <tr>\n",
       "      <th>std</th>\n",
       "      <td>2.170882</td>\n",
       "      <td>50.203164</td>\n",
       "      <td>46.552753</td>\n",
       "    </tr>\n",
       "    <tr>\n",
       "      <th>min</th>\n",
       "      <td>1.000000</td>\n",
       "      <td>0.928720</td>\n",
       "      <td>0.393300</td>\n",
       "    </tr>\n",
       "    <tr>\n",
       "      <th>25%</th>\n",
       "      <td>4.000000</td>\n",
       "      <td>1.915573</td>\n",
       "      <td>1.245025</td>\n",
       "    </tr>\n",
       "    <tr>\n",
       "      <th>50%</th>\n",
       "      <td>5.000000</td>\n",
       "      <td>2.385340</td>\n",
       "      <td>1.759670</td>\n",
       "    </tr>\n",
       "    <tr>\n",
       "      <th>75%</th>\n",
       "      <td>6.000000</td>\n",
       "      <td>42.287015</td>\n",
       "      <td>21.676120</td>\n",
       "    </tr>\n",
       "    <tr>\n",
       "      <th>max</th>\n",
       "      <td>11.000000</td>\n",
       "      <td>223.592490</td>\n",
       "      <td>227.743870</td>\n",
       "    </tr>\n",
       "  </tbody>\n",
       "</table>\n",
       "</div>"
      ],
      "text/plain": [
       "       ACCOUNT_AGE_YEARS   YTD_SALES  PRE_YTD_SALES\n",
       "count         100.000000  100.000000     100.000000\n",
       "mean            5.120000   28.959301      22.937200\n",
       "std             2.170882   50.203164      46.552753\n",
       "min             1.000000    0.928720       0.393300\n",
       "25%             4.000000    1.915573       1.245025\n",
       "50%             5.000000    2.385340       1.759670\n",
       "75%             6.000000   42.287015      21.676120\n",
       "max            11.000000  223.592490     227.743870"
      ]
     },
     "execution_count": 61,
     "metadata": {},
     "output_type": "execute_result"
    }
   ],
   "source": [
    "df.describe()"
   ]
  },
  {
   "cell_type": "markdown",
   "id": "fb7a4ca7",
   "metadata": {},
   "source": [
    "Data looks in a good shape and ready for analysis"
   ]
  },
  {
   "cell_type": "markdown",
   "id": "17873a17",
   "metadata": {},
   "source": [
    "#### Distibution of Customer Base by Country and Region"
   ]
  },
  {
   "cell_type": "code",
   "execution_count": 62,
   "id": "6bde214f",
   "metadata": {},
   "outputs": [
    {
     "data": {
      "text/html": [
       "<div>\n",
       "<style scoped>\n",
       "    .dataframe tbody tr th:only-of-type {\n",
       "        vertical-align: middle;\n",
       "    }\n",
       "\n",
       "    .dataframe tbody tr th {\n",
       "        vertical-align: top;\n",
       "    }\n",
       "\n",
       "    .dataframe thead th {\n",
       "        text-align: right;\n",
       "    }\n",
       "</style>\n",
       "<table border=\"1\" class=\"dataframe\">\n",
       "  <thead>\n",
       "    <tr style=\"text-align: right;\">\n",
       "      <th>REGION</th>\n",
       "      <th>COUNTRY</th>\n",
       "      <th>CA EAST</th>\n",
       "      <th>CA WEST</th>\n",
       "      <th>US EAST</th>\n",
       "      <th>US WEST</th>\n",
       "    </tr>\n",
       "  </thead>\n",
       "  <tbody>\n",
       "    <tr>\n",
       "      <th>0</th>\n",
       "      <td>CA</td>\n",
       "      <td>38.0</td>\n",
       "      <td>13.0</td>\n",
       "      <td>NaN</td>\n",
       "      <td>NaN</td>\n",
       "    </tr>\n",
       "    <tr>\n",
       "      <th>1</th>\n",
       "      <td>US</td>\n",
       "      <td>NaN</td>\n",
       "      <td>NaN</td>\n",
       "      <td>34.0</td>\n",
       "      <td>15.0</td>\n",
       "    </tr>\n",
       "  </tbody>\n",
       "</table>\n",
       "</div>"
      ],
      "text/plain": [
       "REGION COUNTRY  CA EAST  CA WEST  US EAST  US WEST\n",
       "0           CA     38.0     13.0      NaN      NaN\n",
       "1           US      NaN      NaN     34.0     15.0"
      ]
     },
     "execution_count": 62,
     "metadata": {},
     "output_type": "execute_result"
    }
   ],
   "source": [
    "table = pd.pivot_table(data,index=[\"COUNTRY\"],columns=\"REGION\",values=\"ACCOUNT_ID\",aggfunc=\"count\")\n",
    "table.reset_index(inplace=True)\n",
    "table"
   ]
  },
  {
   "cell_type": "code",
   "execution_count": 63,
   "id": "2f9b7018",
   "metadata": {},
   "outputs": [
    {
     "data": {
      "image/png": "[encoded data removed]",
      "text/plain": [
       "<Figure size 640x480 with 1 Axes>"
      ]
     },
     "metadata": {},
     "output_type": "display_data"
    }
   ],
   "source": [
    "plt.bar(x=range(0,2),height=table[\"CA EAST\"],width = 0.5,label=\"CA East\")\n",
    "plt.bar(x=[0.5,1.5],height=table[\"CA WEST\"],width = 0.5,label=\"CA West\")\n",
    "plt.bar(x=[0.6,1.6],height=table[\"US EAST\"],width = 0.5,label=\"US East\")\n",
    "plt.bar(x=[1.1,2.1],height=table[\"US WEST\"],width = 0.5,label=\"US West\")\n",
    "plt.xticks([0.25, 1.85], ['Canada', 'United States'])\n",
    "plt.ylim([0,48]) # Lim of the y-axis\n",
    "# plt.yticks([0,1])\n",
    "plt.title(\"Distribution of Customer Base in Canada and United States\",size=14)\n",
    "plt.xlabel(\"Countries\",size=12,color=\"#4c4c4c\")\n",
    "plt.ylabel(\"Number of Customers\",size=12,color=\"#4c4c4c\")\n",
    "plt.legend()\n",
    "plt.show()"
   ]
  },
  {
   "cell_type": "markdown",
   "id": "957b1f23",
   "metadata": {},
   "source": [
    "From the above chart we can visualize 3 Key Information <br>\n",
    "1. **CA EAST** holds the majority of Customer Base in Canada\n",
    "2. Whereas in the US, **US East** holds the majority share of customers for Sarah Tees.\n",
    "3. Conclusively, **Canada East** and **US East** constitutes their majority of Customer base in North America"
   ]
  },
  {
   "cell_type": "markdown",
   "id": "0e04d8ee",
   "metadata": {},
   "source": [
    "#### Distibution of Current Year Sales by Country and Region"
   ]
  },
  {
   "cell_type": "code",
   "execution_count": 64,
   "id": "b29f5d2c",
   "metadata": {},
   "outputs": [
    {
     "data": {
      "text/html": [
       "<div>\n",
       "<style scoped>\n",
       "    .dataframe tbody tr th:only-of-type {\n",
       "        vertical-align: middle;\n",
       "    }\n",
       "\n",
       "    .dataframe tbody tr th {\n",
       "        vertical-align: top;\n",
       "    }\n",
       "\n",
       "    .dataframe thead th {\n",
       "        text-align: right;\n",
       "    }\n",
       "</style>\n",
       "<table border=\"1\" class=\"dataframe\">\n",
       "  <thead>\n",
       "    <tr style=\"text-align: right;\">\n",
       "      <th></th>\n",
       "      <th>COUNTRY</th>\n",
       "      <th>REGION</th>\n",
       "      <th>YTD_SALES</th>\n",
       "    </tr>\n",
       "  </thead>\n",
       "  <tbody>\n",
       "    <tr>\n",
       "      <th>0</th>\n",
       "      <td>CA</td>\n",
       "      <td>CA EAST</td>\n",
       "      <td>648.107092</td>\n",
       "    </tr>\n",
       "    <tr>\n",
       "      <th>1</th>\n",
       "      <td>CA</td>\n",
       "      <td>CA WEST</td>\n",
       "      <td>335.999420</td>\n",
       "    </tr>\n",
       "    <tr>\n",
       "      <th>2</th>\n",
       "      <td>US</td>\n",
       "      <td>US EAST</td>\n",
       "      <td>1019.058150</td>\n",
       "    </tr>\n",
       "    <tr>\n",
       "      <th>3</th>\n",
       "      <td>US</td>\n",
       "      <td>US WEST</td>\n",
       "      <td>892.765430</td>\n",
       "    </tr>\n",
       "  </tbody>\n",
       "</table>\n",
       "</div>"
      ],
      "text/plain": [
       "  COUNTRY   REGION    YTD_SALES\n",
       "0      CA  CA EAST   648.107092\n",
       "1      CA  CA WEST   335.999420\n",
       "2      US  US EAST  1019.058150\n",
       "3      US  US WEST   892.765430"
      ]
     },
     "execution_count": 64,
     "metadata": {},
     "output_type": "execute_result"
    }
   ],
   "source": [
    "table1 = pd.pivot_table(data,index=[\"COUNTRY\",\"REGION\"],values=\"YTD_SALES\",aggfunc=\"sum\")\n",
    "table1.reset_index(inplace=True)\n",
    "table1"
   ]
  },
  {
   "cell_type": "code",
   "execution_count": 65,
   "id": "a7224925",
   "metadata": {},
   "outputs": [
    {
     "data": {
      "text/html": [
       "        <script type=\"text/javascript\">\n",
       "        window.PlotlyConfig = {MathJaxConfig: 'local'};\n",
       "        if (window.MathJax && window.MathJax.Hub && window.MathJax.Hub.Config) {window.MathJax.Hub.Config({SVG: {font: \"STIX-Web\"}});}\n",
       "        if (typeof require !== 'undefined') {\n",
       "        require.undef(\"plotly\");\n",
       "        requirejs.config({\n",
       "            paths: {\n",
       "                'plotly': ['https://cdn.plot.ly/plotly-2.12.1.min']\n",
       "            }\n",
       "        });\n",
       "        require(['plotly'], function(Plotly) {\n",
       "            window._Plotly = Plotly;\n",
       "        });\n",
       "        }\n",
       "        </script>\n",
       "        "
      ]
     },
     "metadata": {},
     "output_type": "display_data"
    },
    {
     "data": {
      "text/html": [
       "<div>                            <div id=\"7972abd4-92b4-4217-9f86-8ef6b78e0e3a\" class=\"plotly-graph-div\" style=\"height:525px; width:800px;\"></div>            <script type=\"text/javascript\">                require([\"plotly\"], function(Plotly) {                    window.PLOTLYENV=window.PLOTLYENV || {};                                    if (document.getElementById(\"7972abd4-92b4-4217-9f86-8ef6b78e0e3a\")) {                    Plotly.newPlot(                        \"7972abd4-92b4-4217-9f86-8ef6b78e0e3a\",                        [{\"alignmentgroup\":\"True\",\"hovertemplate\":\"COUNTRY=CA<br>REGION=%{x}<br>YTD_SALES=%{y}<extra></extra>\",\"legendgroup\":\"CA\",\"marker\":{\"color\":\"#EF3340\",\"pattern\":{\"shape\":\"\"}},\"name\":\"CA\",\"offsetgroup\":\"CA\",\"orientation\":\"v\",\"showlegend\":true,\"textposition\":\"auto\",\"x\":[\"CA EAST\",\"CA WEST\"],\"xaxis\":\"x\",\"y\":[648.1070918367348,335.99942],\"yaxis\":\"y\",\"type\":\"bar\"},{\"alignmentgroup\":\"True\",\"hovertemplate\":\"COUNTRY=US<br>REGION=%{x}<br>YTD_SALES=%{y}<extra></extra>\",\"legendgroup\":\"US\",\"marker\":{\"color\":\"#002868\",\"pattern\":{\"shape\":\"\"}},\"name\":\"US\",\"offsetgroup\":\"US\",\"orientation\":\"v\",\"showlegend\":true,\"textposition\":\"auto\",\"x\":[\"US EAST\",\"US WEST\"],\"xaxis\":\"x\",\"y\":[1019.05815,892.76543],\"yaxis\":\"y\",\"type\":\"bar\"}],                        {\"template\":{\"data\":{\"barpolar\":[{\"marker\":{\"line\":{\"color\":\"white\",\"width\":0.5},\"pattern\":{\"fillmode\":\"overlay\",\"size\":10,\"solidity\":0.2}},\"type\":\"barpolar\"}],\"bar\":[{\"error_x\":{\"color\":\"rgb(36,36,36)\"},\"error_y\":{\"color\":\"rgb(36,36,36)\"},\"marker\":{\"line\":{\"color\":\"white\",\"width\":0.5},\"pattern\":{\"fillmode\":\"overlay\",\"size\":10,\"solidity\":0.2}},\"type\":\"bar\"}],\"carpet\":[{\"aaxis\":{\"endlinecolor\":\"rgb(36,36,36)\",\"gridcolor\":\"white\",\"linecolor\":\"white\",\"minorgridcolor\":\"white\",\"startlinecolor\":\"rgb(36,36,36)\"},\"baxis\":{\"endlinecolor\":\"rgb(36,36,36)\",\"gridcolor\":\"white\",\"linecolor\":\"white\",\"minorgridcolor\":\"white\",\"startlinecolor\":\"rgb(36,36,36)\"},\"type\":\"carpet\"}],\"choropleth\":[{\"colorbar\":{\"outlinewidth\":1,\"tickcolor\":\"rgb(36,36,36)\",\"ticks\":\"outside\"},\"type\":\"choropleth\"}],\"contourcarpet\":[{\"colorbar\":{\"outlinewidth\":1,\"tickcolor\":\"rgb(36,36,36)\",\"ticks\":\"outside\"},\"type\":\"contourcarpet\"}],\"contour\":[{\"colorbar\":{\"outlinewidth\":1,\"tickcolor\":\"rgb(36,36,36)\",\"ticks\":\"outside\"},\"colorscale\":[[0.0,\"#440154\"],[0.1111111111111111,\"#482878\"],[0.2222222222222222,\"#3e4989\"],[0.3333333333333333,\"#31688e\"],[0.4444444444444444,\"#26828e\"],[0.5555555555555556,\"#1f9e89\"],[0.6666666666666666,\"#35b779\"],[0.7777777777777778,\"#6ece58\"],[0.8888888888888888,\"#b5de2b\"],[1.0,\"#fde725\"]],\"type\":\"contour\"}],\"heatmapgl\":[{\"colorbar\":{\"outlinewidth\":1,\"tickcolor\":\"rgb(36,36,36)\",\"ticks\":\"outside\"},\"colorscale\":[[0.0,\"#440154\"],[0.1111111111111111,\"#482878\"],[0.2222222222222222,\"#3e4989\"],[0.3333333333333333,\"#31688e\"],[0.4444444444444444,\"#26828e\"],[0.5555555555555556,\"#1f9e89\"],[0.6666666666666666,\"#35b779\"],[0.7777777777777778,\"#6ece58\"],[0.8888888888888888,\"#b5de2b\"],[1.0,\"#fde725\"]],\"type\":\"heatmapgl\"}],\"heatmap\":[{\"colorbar\":{\"outlinewidth\":1,\"tickcolor\":\"rgb(36,36,36)\",\"ticks\":\"outside\"},\"colorscale\":[[0.0,\"#440154\"],[0.1111111111111111,\"#482878\"],[0.2222222222222222,\"#3e4989\"],[0.3333333333333333,\"#31688e\"],[0.4444444444444444,\"#26828e\"],[0.5555555555555556,\"#1f9e89\"],[0.6666666666666666,\"#35b779\"],[0.7777777777777778,\"#6ece58\"],[0.8888888888888888,\"#b5de2b\"],[1.0,\"#fde725\"]],\"type\":\"heatmap\"}],\"histogram2dcontour\":[{\"colorbar\":{\"outlinewidth\":1,\"tickcolor\":\"rgb(36,36,36)\",\"ticks\":\"outside\"},\"colorscale\":[[0.0,\"#440154\"],[0.1111111111111111,\"#482878\"],[0.2222222222222222,\"#3e4989\"],[0.3333333333333333,\"#31688e\"],[0.4444444444444444,\"#26828e\"],[0.5555555555555556,\"#1f9e89\"],[0.6666666666666666,\"#35b779\"],[0.7777777777777778,\"#6ece58\"],[0.8888888888888888,\"#b5de2b\"],[1.0,\"#fde725\"]],\"type\":\"histogram2dcontour\"}],\"histogram2d\":[{\"colorbar\":{\"outlinewidth\":1,\"tickcolor\":\"rgb(36,36,36)\",\"ticks\":\"outside\"},\"colorscale\":[[0.0,\"#440154\"],[0.1111111111111111,\"#482878\"],[0.2222222222222222,\"#3e4989\"],[0.3333333333333333,\"#31688e\"],[0.4444444444444444,\"#26828e\"],[0.5555555555555556,\"#1f9e89\"],[0.6666666666666666,\"#35b779\"],[0.7777777777777778,\"#6ece58\"],[0.8888888888888888,\"#b5de2b\"],[1.0,\"#fde725\"]],\"type\":\"histogram2d\"}],\"histogram\":[{\"marker\":{\"line\":{\"color\":\"white\",\"width\":0.6}},\"type\":\"histogram\"}],\"mesh3d\":[{\"colorbar\":{\"outlinewidth\":1,\"tickcolor\":\"rgb(36,36,36)\",\"ticks\":\"outside\"},\"type\":\"mesh3d\"}],\"parcoords\":[{\"line\":{\"colorbar\":{\"outlinewidth\":1,\"tickcolor\":\"rgb(36,36,36)\",\"ticks\":\"outside\"}},\"type\":\"parcoords\"}],\"pie\":[{\"automargin\":true,\"type\":\"pie\"}],\"scatter3d\":[{\"line\":{\"colorbar\":{\"outlinewidth\":1,\"tickcolor\":\"rgb(36,36,36)\",\"ticks\":\"outside\"}},\"marker\":{\"colorbar\":{\"outlinewidth\":1,\"tickcolor\":\"rgb(36,36,36)\",\"ticks\":\"outside\"}},\"type\":\"scatter3d\"}],\"scattercarpet\":[{\"marker\":{\"colorbar\":{\"outlinewidth\":1,\"tickcolor\":\"rgb(36,36,36)\",\"ticks\":\"outside\"}},\"type\":\"scattercarpet\"}],\"scattergeo\":[{\"marker\":{\"colorbar\":{\"outlinewidth\":1,\"tickcolor\":\"rgb(36,36,36)\",\"ticks\":\"outside\"}},\"type\":\"scattergeo\"}],\"scattergl\":[{\"marker\":{\"colorbar\":{\"outlinewidth\":1,\"tickcolor\":\"rgb(36,36,36)\",\"ticks\":\"outside\"}},\"type\":\"scattergl\"}],\"scattermapbox\":[{\"marker\":{\"colorbar\":{\"outlinewidth\":1,\"tickcolor\":\"rgb(36,36,36)\",\"ticks\":\"outside\"}},\"type\":\"scattermapbox\"}],\"scatterpolargl\":[{\"marker\":{\"colorbar\":{\"outlinewidth\":1,\"tickcolor\":\"rgb(36,36,36)\",\"ticks\":\"outside\"}},\"type\":\"scatterpolargl\"}],\"scatterpolar\":[{\"marker\":{\"colorbar\":{\"outlinewidth\":1,\"tickcolor\":\"rgb(36,36,36)\",\"ticks\":\"outside\"}},\"type\":\"scatterpolar\"}],\"scatter\":[{\"fillpattern\":{\"fillmode\":\"overlay\",\"size\":10,\"solidity\":0.2},\"type\":\"scatter\"}],\"scatterternary\":[{\"marker\":{\"colorbar\":{\"outlinewidth\":1,\"tickcolor\":\"rgb(36,36,36)\",\"ticks\":\"outside\"}},\"type\":\"scatterternary\"}],\"surface\":[{\"colorbar\":{\"outlinewidth\":1,\"tickcolor\":\"rgb(36,36,36)\",\"ticks\":\"outside\"},\"colorscale\":[[0.0,\"#440154\"],[0.1111111111111111,\"#482878\"],[0.2222222222222222,\"#3e4989\"],[0.3333333333333333,\"#31688e\"],[0.4444444444444444,\"#26828e\"],[0.5555555555555556,\"#1f9e89\"],[0.6666666666666666,\"#35b779\"],[0.7777777777777778,\"#6ece58\"],[0.8888888888888888,\"#b5de2b\"],[1.0,\"#fde725\"]],\"type\":\"surface\"}],\"table\":[{\"cells\":{\"fill\":{\"color\":\"rgb(237,237,237)\"},\"line\":{\"color\":\"white\"}},\"header\":{\"fill\":{\"color\":\"rgb(217,217,217)\"},\"line\":{\"color\":\"white\"}},\"type\":\"table\"}]},\"layout\":{\"annotationdefaults\":{\"arrowhead\":0,\"arrowwidth\":1},\"autotypenumbers\":\"strict\",\"coloraxis\":{\"colorbar\":{\"outlinewidth\":1,\"tickcolor\":\"rgb(36,36,36)\",\"ticks\":\"outside\"}},\"colorscale\":{\"diverging\":[[0.0,\"rgb(103,0,31)\"],[0.1,\"rgb(178,24,43)\"],[0.2,\"rgb(214,96,77)\"],[0.3,\"rgb(244,165,130)\"],[0.4,\"rgb(253,219,199)\"],[0.5,\"rgb(247,247,247)\"],[0.6,\"rgb(209,229,240)\"],[0.7,\"rgb(146,197,222)\"],[0.8,\"rgb(67,147,195)\"],[0.9,\"rgb(33,102,172)\"],[1.0,\"rgb(5,48,97)\"]],\"sequential\":[[0.0,\"#440154\"],[0.1111111111111111,\"#482878\"],[0.2222222222222222,\"#3e4989\"],[0.3333333333333333,\"#31688e\"],[0.4444444444444444,\"#26828e\"],[0.5555555555555556,\"#1f9e89\"],[0.6666666666666666,\"#35b779\"],[0.7777777777777778,\"#6ece58\"],[0.8888888888888888,\"#b5de2b\"],[1.0,\"#fde725\"]],\"sequentialminus\":[[0.0,\"#440154\"],[0.1111111111111111,\"#482878\"],[0.2222222222222222,\"#3e4989\"],[0.3333333333333333,\"#31688e\"],[0.4444444444444444,\"#26828e\"],[0.5555555555555556,\"#1f9e89\"],[0.6666666666666666,\"#35b779\"],[0.7777777777777778,\"#6ece58\"],[0.8888888888888888,\"#b5de2b\"],[1.0,\"#fde725\"]]},\"colorway\":[\"#1F77B4\",\"#FF7F0E\",\"#2CA02C\",\"#D62728\",\"#9467BD\",\"#8C564B\",\"#E377C2\",\"#7F7F7F\",\"#BCBD22\",\"#17BECF\"],\"font\":{\"color\":\"rgb(36,36,36)\"},\"geo\":{\"bgcolor\":\"white\",\"lakecolor\":\"white\",\"landcolor\":\"white\",\"showlakes\":true,\"showland\":true,\"subunitcolor\":\"white\"},\"hoverlabel\":{\"align\":\"left\"},\"hovermode\":\"closest\",\"mapbox\":{\"style\":\"light\"},\"paper_bgcolor\":\"white\",\"plot_bgcolor\":\"white\",\"polar\":{\"angularaxis\":{\"gridcolor\":\"rgb(232,232,232)\",\"linecolor\":\"rgb(36,36,36)\",\"showgrid\":false,\"showline\":true,\"ticks\":\"outside\"},\"bgcolor\":\"white\",\"radialaxis\":{\"gridcolor\":\"rgb(232,232,232)\",\"linecolor\":\"rgb(36,36,36)\",\"showgrid\":false,\"showline\":true,\"ticks\":\"outside\"}},\"scene\":{\"xaxis\":{\"backgroundcolor\":\"white\",\"gridcolor\":\"rgb(232,232,232)\",\"gridwidth\":2,\"linecolor\":\"rgb(36,36,36)\",\"showbackground\":true,\"showgrid\":false,\"showline\":true,\"ticks\":\"outside\",\"zeroline\":false,\"zerolinecolor\":\"rgb(36,36,36)\"},\"yaxis\":{\"backgroundcolor\":\"white\",\"gridcolor\":\"rgb(232,232,232)\",\"gridwidth\":2,\"linecolor\":\"rgb(36,36,36)\",\"showbackground\":true,\"showgrid\":false,\"showline\":true,\"ticks\":\"outside\",\"zeroline\":false,\"zerolinecolor\":\"rgb(36,36,36)\"},\"zaxis\":{\"backgroundcolor\":\"white\",\"gridcolor\":\"rgb(232,232,232)\",\"gridwidth\":2,\"linecolor\":\"rgb(36,36,36)\",\"showbackground\":true,\"showgrid\":false,\"showline\":true,\"ticks\":\"outside\",\"zeroline\":false,\"zerolinecolor\":\"rgb(36,36,36)\"}},\"shapedefaults\":{\"fillcolor\":\"black\",\"line\":{\"width\":0},\"opacity\":0.3},\"ternary\":{\"aaxis\":{\"gridcolor\":\"rgb(232,232,232)\",\"linecolor\":\"rgb(36,36,36)\",\"showgrid\":false,\"showline\":true,\"ticks\":\"outside\"},\"baxis\":{\"gridcolor\":\"rgb(232,232,232)\",\"linecolor\":\"rgb(36,36,36)\",\"showgrid\":false,\"showline\":true,\"ticks\":\"outside\"},\"bgcolor\":\"white\",\"caxis\":{\"gridcolor\":\"rgb(232,232,232)\",\"linecolor\":\"rgb(36,36,36)\",\"showgrid\":false,\"showline\":true,\"ticks\":\"outside\"}},\"title\":{\"x\":0.05},\"xaxis\":{\"automargin\":true,\"gridcolor\":\"rgb(232,232,232)\",\"linecolor\":\"rgb(36,36,36)\",\"showgrid\":false,\"showline\":true,\"ticks\":\"outside\",\"title\":{\"standoff\":15},\"zeroline\":false,\"zerolinecolor\":\"rgb(36,36,36)\"},\"yaxis\":{\"automargin\":true,\"gridcolor\":\"rgb(232,232,232)\",\"linecolor\":\"rgb(36,36,36)\",\"showgrid\":false,\"showline\":true,\"ticks\":\"outside\",\"title\":{\"standoff\":15},\"zeroline\":false,\"zerolinecolor\":\"rgb(36,36,36)\"}}},\"xaxis\":{\"anchor\":\"y\",\"domain\":[0.0,1.0],\"title\":{\"text\":\"REGION\"}},\"yaxis\":{\"anchor\":\"x\",\"domain\":[0.0,1.0],\"title\":{\"text\":\"YTD_SALES\"}},\"legend\":{\"title\":{\"text\":\"COUNTRY\"},\"tracegroupgap\":0},\"title\":{\"text\":\"2023 Sales in Canada and United States\"},\"barmode\":\"relative\",\"width\":800},                        {\"responsive\": true}                    ).then(function(){\n",
       "                            \n",
       "var gd = document.getElementById('7972abd4-92b4-4217-9f86-8ef6b78e0e3a');\n",
       "var x = new MutationObserver(function (mutations, observer) {{\n",
       "        var display = window.getComputedStyle(gd).display;\n",
       "        if (!display || display === 'none') {{\n",
       "            console.log([gd, 'removed!']);\n",
       "            Plotly.purge(gd);\n",
       "            observer.disconnect();\n",
       "        }}\n",
       "}});\n",
       "\n",
       "// Listen for the removal of the full notebook cells\n",
       "var notebookContainer = gd.closest('#notebook-container');\n",
       "if (notebookContainer) {{\n",
       "    x.observe(notebookContainer, {childList: true});\n",
       "}}\n",
       "\n",
       "// Listen for the clearing of the current output cell\n",
       "var outputEl = gd.closest('.output');\n",
       "if (outputEl) {{\n",
       "    x.observe(outputEl, {childList: true});\n",
       "}}\n",
       "\n",
       "                        })                };                });            </script>        </div>"
      ]
     },
     "metadata": {},
     "output_type": "display_data"
    }
   ],
   "source": [
    "x = px.bar(data_frame=table1,x=\"REGION\",y=\"YTD_SALES\",color=\"COUNTRY\",template=\"simple_white\",title=\"2023 Sales in Canada and United States\",width= 800)\n",
    "x[\"data\"][0][\"marker\"][\"color\"] = \"#EF3340\"\n",
    "x[\"data\"][1][\"marker\"][\"color\"] = \"#002868\"\n",
    "x"
   ]
  },
  {
   "cell_type": "markdown",
   "id": "8aa426ec",
   "metadata": {},
   "source": [
    "For Current Year 2023, It is evident that **US Sales** is **significantly higher** than the **Sales in Canada**<br>\n",
    "Inspite of having a **large customer base in Canada** and especially in **Canada East**, Sarah Tees were **not able** to generate substanial revenue/sales from the base as compared to United States. <br> On the other hand, **US East** despite of having a **relative small customer base**, contributed a **hefty chunk** in the sales for 2023\n",
    "\n",
    "### This might be an area of special attention \n",
    "Why Canada East has fewer sales units inspite of having more customer base?? <br>\n",
    "Also How come US West having less customer base has higher sales??"
   ]
  },
  {
   "cell_type": "code",
   "execution_count": 66,
   "id": "c3f9dbb3",
   "metadata": {},
   "outputs": [
    {
     "data": {
      "text/html": [
       "<div>\n",
       "<style scoped>\n",
       "    .dataframe tbody tr th:only-of-type {\n",
       "        vertical-align: middle;\n",
       "    }\n",
       "\n",
       "    .dataframe tbody tr th {\n",
       "        vertical-align: top;\n",
       "    }\n",
       "\n",
       "    .dataframe thead th {\n",
       "        text-align: right;\n",
       "    }\n",
       "</style>\n",
       "<table border=\"1\" class=\"dataframe\">\n",
       "  <thead>\n",
       "    <tr style=\"text-align: right;\">\n",
       "      <th></th>\n",
       "      <th>COUNTRY</th>\n",
       "      <th>REGION</th>\n",
       "      <th>PRE_YTD_SALES</th>\n",
       "    </tr>\n",
       "  </thead>\n",
       "  <tbody>\n",
       "    <tr>\n",
       "      <th>0</th>\n",
       "      <td>CA</td>\n",
       "      <td>CA EAST</td>\n",
       "      <td>454.42657</td>\n",
       "    </tr>\n",
       "    <tr>\n",
       "      <th>1</th>\n",
       "      <td>CA</td>\n",
       "      <td>CA WEST</td>\n",
       "      <td>289.21116</td>\n",
       "    </tr>\n",
       "    <tr>\n",
       "      <th>2</th>\n",
       "      <td>US</td>\n",
       "      <td>US EAST</td>\n",
       "      <td>809.42146</td>\n",
       "    </tr>\n",
       "    <tr>\n",
       "      <th>3</th>\n",
       "      <td>US</td>\n",
       "      <td>US WEST</td>\n",
       "      <td>740.66082</td>\n",
       "    </tr>\n",
       "  </tbody>\n",
       "</table>\n",
       "</div>"
      ],
      "text/plain": [
       "  COUNTRY   REGION  PRE_YTD_SALES\n",
       "0      CA  CA EAST      454.42657\n",
       "1      CA  CA WEST      289.21116\n",
       "2      US  US EAST      809.42146\n",
       "3      US  US WEST      740.66082"
      ]
     },
     "execution_count": 66,
     "metadata": {},
     "output_type": "execute_result"
    }
   ],
   "source": [
    "table2 = pd.pivot_table(data,index=[\"COUNTRY\",\"REGION\"],values=\"PRE_YTD_SALES\",aggfunc=\"sum\")\n",
    "table2.reset_index(inplace=True)\n",
    "table2"
   ]
  },
  {
   "cell_type": "code",
   "execution_count": 67,
   "id": "9a356cc8",
   "metadata": {},
   "outputs": [
    {
     "data": {
      "text/html": [
       "<div>                            <div id=\"a8e9b7c6-7e2a-4f40-b8a8-2d0d4177ee85\" class=\"plotly-graph-div\" style=\"height:525px; width:800px;\"></div>            <script type=\"text/javascript\">                require([\"plotly\"], function(Plotly) {                    window.PLOTLYENV=window.PLOTLYENV || {};                                    if (document.getElementById(\"a8e9b7c6-7e2a-4f40-b8a8-2d0d4177ee85\")) {                    Plotly.newPlot(                        \"a8e9b7c6-7e2a-4f40-b8a8-2d0d4177ee85\",                        [{\"alignmentgroup\":\"True\",\"hovertemplate\":\"COUNTRY=CA<br>REGION=%{x}<br>PRE_YTD_SALES=%{y}<extra></extra>\",\"legendgroup\":\"CA\",\"marker\":{\"color\":\"#EF3340\",\"pattern\":{\"shape\":\"\"}},\"name\":\"CA\",\"offsetgroup\":\"CA\",\"orientation\":\"v\",\"showlegend\":true,\"textposition\":\"auto\",\"x\":[\"CA EAST\",\"CA WEST\"],\"xaxis\":\"x\",\"y\":[454.42657,289.21115999999995],\"yaxis\":\"y\",\"type\":\"bar\"},{\"alignmentgroup\":\"True\",\"hovertemplate\":\"COUNTRY=US<br>REGION=%{x}<br>PRE_YTD_SALES=%{y}<extra></extra>\",\"legendgroup\":\"US\",\"marker\":{\"color\":\"#002868\",\"pattern\":{\"shape\":\"\"}},\"name\":\"US\",\"offsetgroup\":\"US\",\"orientation\":\"v\",\"showlegend\":true,\"textposition\":\"auto\",\"x\":[\"US EAST\",\"US WEST\"],\"xaxis\":\"x\",\"y\":[809.4214601010101,740.66082],\"yaxis\":\"y\",\"type\":\"bar\"}],                        {\"template\":{\"data\":{\"barpolar\":[{\"marker\":{\"line\":{\"color\":\"white\",\"width\":0.5},\"pattern\":{\"fillmode\":\"overlay\",\"size\":10,\"solidity\":0.2}},\"type\":\"barpolar\"}],\"bar\":[{\"error_x\":{\"color\":\"rgb(36,36,36)\"},\"error_y\":{\"color\":\"rgb(36,36,36)\"},\"marker\":{\"line\":{\"color\":\"white\",\"width\":0.5},\"pattern\":{\"fillmode\":\"overlay\",\"size\":10,\"solidity\":0.2}},\"type\":\"bar\"}],\"carpet\":[{\"aaxis\":{\"endlinecolor\":\"rgb(36,36,36)\",\"gridcolor\":\"white\",\"linecolor\":\"white\",\"minorgridcolor\":\"white\",\"startlinecolor\":\"rgb(36,36,36)\"},\"baxis\":{\"endlinecolor\":\"rgb(36,36,36)\",\"gridcolor\":\"white\",\"linecolor\":\"white\",\"minorgridcolor\":\"white\",\"startlinecolor\":\"rgb(36,36,36)\"},\"type\":\"carpet\"}],\"choropleth\":[{\"colorbar\":{\"outlinewidth\":1,\"tickcolor\":\"rgb(36,36,36)\",\"ticks\":\"outside\"},\"type\":\"choropleth\"}],\"contourcarpet\":[{\"colorbar\":{\"outlinewidth\":1,\"tickcolor\":\"rgb(36,36,36)\",\"ticks\":\"outside\"},\"type\":\"contourcarpet\"}],\"contour\":[{\"colorbar\":{\"outlinewidth\":1,\"tickcolor\":\"rgb(36,36,36)\",\"ticks\":\"outside\"},\"colorscale\":[[0.0,\"#440154\"],[0.1111111111111111,\"#482878\"],[0.2222222222222222,\"#3e4989\"],[0.3333333333333333,\"#31688e\"],[0.4444444444444444,\"#26828e\"],[0.5555555555555556,\"#1f9e89\"],[0.6666666666666666,\"#35b779\"],[0.7777777777777778,\"#6ece58\"],[0.8888888888888888,\"#b5de2b\"],[1.0,\"#fde725\"]],\"type\":\"contour\"}],\"heatmapgl\":[{\"colorbar\":{\"outlinewidth\":1,\"tickcolor\":\"rgb(36,36,36)\",\"ticks\":\"outside\"},\"colorscale\":[[0.0,\"#440154\"],[0.1111111111111111,\"#482878\"],[0.2222222222222222,\"#3e4989\"],[0.3333333333333333,\"#31688e\"],[0.4444444444444444,\"#26828e\"],[0.5555555555555556,\"#1f9e89\"],[0.6666666666666666,\"#35b779\"],[0.7777777777777778,\"#6ece58\"],[0.8888888888888888,\"#b5de2b\"],[1.0,\"#fde725\"]],\"type\":\"heatmapgl\"}],\"heatmap\":[{\"colorbar\":{\"outlinewidth\":1,\"tickcolor\":\"rgb(36,36,36)\",\"ticks\":\"outside\"},\"colorscale\":[[0.0,\"#440154\"],[0.1111111111111111,\"#482878\"],[0.2222222222222222,\"#3e4989\"],[0.3333333333333333,\"#31688e\"],[0.4444444444444444,\"#26828e\"],[0.5555555555555556,\"#1f9e89\"],[0.6666666666666666,\"#35b779\"],[0.7777777777777778,\"#6ece58\"],[0.8888888888888888,\"#b5de2b\"],[1.0,\"#fde725\"]],\"type\":\"heatmap\"}],\"histogram2dcontour\":[{\"colorbar\":{\"outlinewidth\":1,\"tickcolor\":\"rgb(36,36,36)\",\"ticks\":\"outside\"},\"colorscale\":[[0.0,\"#440154\"],[0.1111111111111111,\"#482878\"],[0.2222222222222222,\"#3e4989\"],[0.3333333333333333,\"#31688e\"],[0.4444444444444444,\"#26828e\"],[0.5555555555555556,\"#1f9e89\"],[0.6666666666666666,\"#35b779\"],[0.7777777777777778,\"#6ece58\"],[0.8888888888888888,\"#b5de2b\"],[1.0,\"#fde725\"]],\"type\":\"histogram2dcontour\"}],\"histogram2d\":[{\"colorbar\":{\"outlinewidth\":1,\"tickcolor\":\"rgb(36,36,36)\",\"ticks\":\"outside\"},\"colorscale\":[[0.0,\"#440154\"],[0.1111111111111111,\"#482878\"],[0.2222222222222222,\"#3e4989\"],[0.3333333333333333,\"#31688e\"],[0.4444444444444444,\"#26828e\"],[0.5555555555555556,\"#1f9e89\"],[0.6666666666666666,\"#35b779\"],[0.7777777777777778,\"#6ece58\"],[0.8888888888888888,\"#b5de2b\"],[1.0,\"#fde725\"]],\"type\":\"histogram2d\"}],\"histogram\":[{\"marker\":{\"line\":{\"color\":\"white\",\"width\":0.6}},\"type\":\"histogram\"}],\"mesh3d\":[{\"colorbar\":{\"outlinewidth\":1,\"tickcolor\":\"rgb(36,36,36)\",\"ticks\":\"outside\"},\"type\":\"mesh3d\"}],\"parcoords\":[{\"line\":{\"colorbar\":{\"outlinewidth\":1,\"tickcolor\":\"rgb(36,36,36)\",\"ticks\":\"outside\"}},\"type\":\"parcoords\"}],\"pie\":[{\"automargin\":true,\"type\":\"pie\"}],\"scatter3d\":[{\"line\":{\"colorbar\":{\"outlinewidth\":1,\"tickcolor\":\"rgb(36,36,36)\",\"ticks\":\"outside\"}},\"marker\":{\"colorbar\":{\"outlinewidth\":1,\"tickcolor\":\"rgb(36,36,36)\",\"ticks\":\"outside\"}},\"type\":\"scatter3d\"}],\"scattercarpet\":[{\"marker\":{\"colorbar\":{\"outlinewidth\":1,\"tickcolor\":\"rgb(36,36,36)\",\"ticks\":\"outside\"}},\"type\":\"scattercarpet\"}],\"scattergeo\":[{\"marker\":{\"colorbar\":{\"outlinewidth\":1,\"tickcolor\":\"rgb(36,36,36)\",\"ticks\":\"outside\"}},\"type\":\"scattergeo\"}],\"scattergl\":[{\"marker\":{\"colorbar\":{\"outlinewidth\":1,\"tickcolor\":\"rgb(36,36,36)\",\"ticks\":\"outside\"}},\"type\":\"scattergl\"}],\"scattermapbox\":[{\"marker\":{\"colorbar\":{\"outlinewidth\":1,\"tickcolor\":\"rgb(36,36,36)\",\"ticks\":\"outside\"}},\"type\":\"scattermapbox\"}],\"scatterpolargl\":[{\"marker\":{\"colorbar\":{\"outlinewidth\":1,\"tickcolor\":\"rgb(36,36,36)\",\"ticks\":\"outside\"}},\"type\":\"scatterpolargl\"}],\"scatterpolar\":[{\"marker\":{\"colorbar\":{\"outlinewidth\":1,\"tickcolor\":\"rgb(36,36,36)\",\"ticks\":\"outside\"}},\"type\":\"scatterpolar\"}],\"scatter\":[{\"fillpattern\":{\"fillmode\":\"overlay\",\"size\":10,\"solidity\":0.2},\"type\":\"scatter\"}],\"scatterternary\":[{\"marker\":{\"colorbar\":{\"outlinewidth\":1,\"tickcolor\":\"rgb(36,36,36)\",\"ticks\":\"outside\"}},\"type\":\"scatterternary\"}],\"surface\":[{\"colorbar\":{\"outlinewidth\":1,\"tickcolor\":\"rgb(36,36,36)\",\"ticks\":\"outside\"},\"colorscale\":[[0.0,\"#440154\"],[0.1111111111111111,\"#482878\"],[0.2222222222222222,\"#3e4989\"],[0.3333333333333333,\"#31688e\"],[0.4444444444444444,\"#26828e\"],[0.5555555555555556,\"#1f9e89\"],[0.6666666666666666,\"#35b779\"],[0.7777777777777778,\"#6ece58\"],[0.8888888888888888,\"#b5de2b\"],[1.0,\"#fde725\"]],\"type\":\"surface\"}],\"table\":[{\"cells\":{\"fill\":{\"color\":\"rgb(237,237,237)\"},\"line\":{\"color\":\"white\"}},\"header\":{\"fill\":{\"color\":\"rgb(217,217,217)\"},\"line\":{\"color\":\"white\"}},\"type\":\"table\"}]},\"layout\":{\"annotationdefaults\":{\"arrowhead\":0,\"arrowwidth\":1},\"autotypenumbers\":\"strict\",\"coloraxis\":{\"colorbar\":{\"outlinewidth\":1,\"tickcolor\":\"rgb(36,36,36)\",\"ticks\":\"outside\"}},\"colorscale\":{\"diverging\":[[0.0,\"rgb(103,0,31)\"],[0.1,\"rgb(178,24,43)\"],[0.2,\"rgb(214,96,77)\"],[0.3,\"rgb(244,165,130)\"],[0.4,\"rgb(253,219,199)\"],[0.5,\"rgb(247,247,247)\"],[0.6,\"rgb(209,229,240)\"],[0.7,\"rgb(146,197,222)\"],[0.8,\"rgb(67,147,195)\"],[0.9,\"rgb(33,102,172)\"],[1.0,\"rgb(5,48,97)\"]],\"sequential\":[[0.0,\"#440154\"],[0.1111111111111111,\"#482878\"],[0.2222222222222222,\"#3e4989\"],[0.3333333333333333,\"#31688e\"],[0.4444444444444444,\"#26828e\"],[0.5555555555555556,\"#1f9e89\"],[0.6666666666666666,\"#35b779\"],[0.7777777777777778,\"#6ece58\"],[0.8888888888888888,\"#b5de2b\"],[1.0,\"#fde725\"]],\"sequentialminus\":[[0.0,\"#440154\"],[0.1111111111111111,\"#482878\"],[0.2222222222222222,\"#3e4989\"],[0.3333333333333333,\"#31688e\"],[0.4444444444444444,\"#26828e\"],[0.5555555555555556,\"#1f9e89\"],[0.6666666666666666,\"#35b779\"],[0.7777777777777778,\"#6ece58\"],[0.8888888888888888,\"#b5de2b\"],[1.0,\"#fde725\"]]},\"colorway\":[\"#1F77B4\",\"#FF7F0E\",\"#2CA02C\",\"#D62728\",\"#9467BD\",\"#8C564B\",\"#E377C2\",\"#7F7F7F\",\"#BCBD22\",\"#17BECF\"],\"font\":{\"color\":\"rgb(36,36,36)\"},\"geo\":{\"bgcolor\":\"white\",\"lakecolor\":\"white\",\"landcolor\":\"white\",\"showlakes\":true,\"showland\":true,\"subunitcolor\":\"white\"},\"hoverlabel\":{\"align\":\"left\"},\"hovermode\":\"closest\",\"mapbox\":{\"style\":\"light\"},\"paper_bgcolor\":\"white\",\"plot_bgcolor\":\"white\",\"polar\":{\"angularaxis\":{\"gridcolor\":\"rgb(232,232,232)\",\"linecolor\":\"rgb(36,36,36)\",\"showgrid\":false,\"showline\":true,\"ticks\":\"outside\"},\"bgcolor\":\"white\",\"radialaxis\":{\"gridcolor\":\"rgb(232,232,232)\",\"linecolor\":\"rgb(36,36,36)\",\"showgrid\":false,\"showline\":true,\"ticks\":\"outside\"}},\"scene\":{\"xaxis\":{\"backgroundcolor\":\"white\",\"gridcolor\":\"rgb(232,232,232)\",\"gridwidth\":2,\"linecolor\":\"rgb(36,36,36)\",\"showbackground\":true,\"showgrid\":false,\"showline\":true,\"ticks\":\"outside\",\"zeroline\":false,\"zerolinecolor\":\"rgb(36,36,36)\"},\"yaxis\":{\"backgroundcolor\":\"white\",\"gridcolor\":\"rgb(232,232,232)\",\"gridwidth\":2,\"linecolor\":\"rgb(36,36,36)\",\"showbackground\":true,\"showgrid\":false,\"showline\":true,\"ticks\":\"outside\",\"zeroline\":false,\"zerolinecolor\":\"rgb(36,36,36)\"},\"zaxis\":{\"backgroundcolor\":\"white\",\"gridcolor\":\"rgb(232,232,232)\",\"gridwidth\":2,\"linecolor\":\"rgb(36,36,36)\",\"showbackground\":true,\"showgrid\":false,\"showline\":true,\"ticks\":\"outside\",\"zeroline\":false,\"zerolinecolor\":\"rgb(36,36,36)\"}},\"shapedefaults\":{\"fillcolor\":\"black\",\"line\":{\"width\":0},\"opacity\":0.3},\"ternary\":{\"aaxis\":{\"gridcolor\":\"rgb(232,232,232)\",\"linecolor\":\"rgb(36,36,36)\",\"showgrid\":false,\"showline\":true,\"ticks\":\"outside\"},\"baxis\":{\"gridcolor\":\"rgb(232,232,232)\",\"linecolor\":\"rgb(36,36,36)\",\"showgrid\":false,\"showline\":true,\"ticks\":\"outside\"},\"bgcolor\":\"white\",\"caxis\":{\"gridcolor\":\"rgb(232,232,232)\",\"linecolor\":\"rgb(36,36,36)\",\"showgrid\":false,\"showline\":true,\"ticks\":\"outside\"}},\"title\":{\"x\":0.05},\"xaxis\":{\"automargin\":true,\"gridcolor\":\"rgb(232,232,232)\",\"linecolor\":\"rgb(36,36,36)\",\"showgrid\":false,\"showline\":true,\"ticks\":\"outside\",\"title\":{\"standoff\":15},\"zeroline\":false,\"zerolinecolor\":\"rgb(36,36,36)\"},\"yaxis\":{\"automargin\":true,\"gridcolor\":\"rgb(232,232,232)\",\"linecolor\":\"rgb(36,36,36)\",\"showgrid\":false,\"showline\":true,\"ticks\":\"outside\",\"title\":{\"standoff\":15},\"zeroline\":false,\"zerolinecolor\":\"rgb(36,36,36)\"}}},\"xaxis\":{\"anchor\":\"y\",\"domain\":[0.0,1.0],\"title\":{\"text\":\"REGION\"}},\"yaxis\":{\"anchor\":\"x\",\"domain\":[0.0,1.0],\"title\":{\"text\":\"PRE_YTD_SALES\"}},\"legend\":{\"title\":{\"text\":\"COUNTRY\"},\"tracegroupgap\":0},\"title\":{\"text\":\"2022 Sales in Canada and United States\"},\"barmode\":\"relative\",\"width\":800},                        {\"responsive\": true}                    ).then(function(){\n",
       "                            \n",
       "var gd = document.getElementById('a8e9b7c6-7e2a-4f40-b8a8-2d0d4177ee85');\n",
       "var x = new MutationObserver(function (mutations, observer) {{\n",
       "        var display = window.getComputedStyle(gd).display;\n",
       "        if (!display || display === 'none') {{\n",
       "            console.log([gd, 'removed!']);\n",
       "            Plotly.purge(gd);\n",
       "            observer.disconnect();\n",
       "        }}\n",
       "}});\n",
       "\n",
       "// Listen for the removal of the full notebook cells\n",
       "var notebookContainer = gd.closest('#notebook-container');\n",
       "if (notebookContainer) {{\n",
       "    x.observe(notebookContainer, {childList: true});\n",
       "}}\n",
       "\n",
       "// Listen for the clearing of the current output cell\n",
       "var outputEl = gd.closest('.output');\n",
       "if (outputEl) {{\n",
       "    x.observe(outputEl, {childList: true});\n",
       "}}\n",
       "\n",
       "                        })                };                });            </script>        </div>"
      ]
     },
     "metadata": {},
     "output_type": "display_data"
    }
   ],
   "source": [
    "x = px.bar(data_frame=table2,x=\"REGION\",y=\"PRE_YTD_SALES\",color=\"COUNTRY\",template=\"simple_white\",title=\"2022 Sales in Canada and United States\",width= 800)\n",
    "x[\"data\"][0][\"marker\"][\"color\"] = \"#EF3340\"\n",
    "x[\"data\"][1][\"marker\"][\"color\"] = \"#002868\"\n",
    "x"
   ]
  },
  {
   "cell_type": "markdown",
   "id": "8f3eca20",
   "metadata": {},
   "source": [
    "The Same trend of Sales pattern is observed in the 2022 year sales. Sales in Canada is less than United States. "
   ]
  },
  {
   "cell_type": "code",
   "execution_count": 68,
   "id": "c6fefaad",
   "metadata": {},
   "outputs": [
    {
     "data": {
      "text/html": [
       "<div>\n",
       "<style scoped>\n",
       "    .dataframe tbody tr th:only-of-type {\n",
       "        vertical-align: middle;\n",
       "    }\n",
       "\n",
       "    .dataframe tbody tr th {\n",
       "        vertical-align: top;\n",
       "    }\n",
       "\n",
       "    .dataframe thead th {\n",
       "        text-align: right;\n",
       "    }\n",
       "</style>\n",
       "<table border=\"1\" class=\"dataframe\">\n",
       "  <thead>\n",
       "    <tr style=\"text-align: right;\">\n",
       "      <th></th>\n",
       "      <th>COUNTRY</th>\n",
       "      <th>REGION</th>\n",
       "      <th>PRE_YTD_SALES</th>\n",
       "      <th>YTD_SALES</th>\n",
       "    </tr>\n",
       "  </thead>\n",
       "  <tbody>\n",
       "    <tr>\n",
       "      <th>0</th>\n",
       "      <td>CA</td>\n",
       "      <td>CA EAST</td>\n",
       "      <td>454.42657</td>\n",
       "      <td>648.107092</td>\n",
       "    </tr>\n",
       "    <tr>\n",
       "      <th>1</th>\n",
       "      <td>CA</td>\n",
       "      <td>CA WEST</td>\n",
       "      <td>289.21116</td>\n",
       "      <td>335.999420</td>\n",
       "    </tr>\n",
       "    <tr>\n",
       "      <th>2</th>\n",
       "      <td>US</td>\n",
       "      <td>US EAST</td>\n",
       "      <td>809.42146</td>\n",
       "      <td>1019.058150</td>\n",
       "    </tr>\n",
       "    <tr>\n",
       "      <th>3</th>\n",
       "      <td>US</td>\n",
       "      <td>US WEST</td>\n",
       "      <td>740.66082</td>\n",
       "      <td>892.765430</td>\n",
       "    </tr>\n",
       "  </tbody>\n",
       "</table>\n",
       "</div>"
      ],
      "text/plain": [
       "  COUNTRY   REGION  PRE_YTD_SALES    YTD_SALES\n",
       "0      CA  CA EAST      454.42657   648.107092\n",
       "1      CA  CA WEST      289.21116   335.999420\n",
       "2      US  US EAST      809.42146  1019.058150\n",
       "3      US  US WEST      740.66082   892.765430"
      ]
     },
     "execution_count": 68,
     "metadata": {},
     "output_type": "execute_result"
    }
   ],
   "source": [
    "table3 = pd.pivot_table(data,index=[\"COUNTRY\",\"REGION\"],values=[\"PRE_YTD_SALES\",\"YTD_SALES\"],aggfunc=\"sum\")\n",
    "table3.reset_index(inplace=True)\n",
    "table3"
   ]
  },
  {
   "cell_type": "code",
   "execution_count": 69,
   "id": "ec04c903",
   "metadata": {},
   "outputs": [
    {
     "data": {
      "text/html": [
       "<div>                            <div id=\"a353cfa3-e659-4592-88b1-21cbef3f998d\" class=\"plotly-graph-div\" style=\"height:525px; width:800px;\"></div>            <script type=\"text/javascript\">                require([\"plotly\"], function(Plotly) {                    window.PLOTLYENV=window.PLOTLYENV || {};                                    if (document.getElementById(\"a353cfa3-e659-4592-88b1-21cbef3f998d\")) {                    Plotly.newPlot(                        \"a353cfa3-e659-4592-88b1-21cbef3f998d\",                        [{\"alignmentgroup\":\"True\",\"hovertemplate\":\"Sales Type=PRE_YTD_SALES<br>REGION=%{x}<br>Sales in 1000 units $=%{y}<extra></extra>\",\"legendgroup\":\"PRE_YTD_SALES\",\"marker\":{\"color\":\"#ecd400\",\"pattern\":{\"shape\":\"\"}},\"name\":\"PRE_YTD_SALES\",\"offsetgroup\":\"PRE_YTD_SALES\",\"orientation\":\"v\",\"showlegend\":true,\"textposition\":\"auto\",\"x\":[\"CA EAST\",\"CA WEST\",\"US EAST\",\"US WEST\"],\"xaxis\":\"x\",\"y\":[454.42657,289.21115999999995,809.4214601010101,740.66082],\"yaxis\":\"y\",\"type\":\"bar\"},{\"alignmentgroup\":\"True\",\"hovertemplate\":\"Sales Type=YTD_SALES<br>REGION=%{x}<br>Sales in 1000 units $=%{y}<extra></extra>\",\"legendgroup\":\"YTD_SALES\",\"marker\":{\"color\":\"#101820\",\"pattern\":{\"shape\":\"\"}},\"name\":\"YTD_SALES\",\"offsetgroup\":\"YTD_SALES\",\"orientation\":\"v\",\"showlegend\":true,\"textposition\":\"auto\",\"x\":[\"CA EAST\",\"CA WEST\",\"US EAST\",\"US WEST\"],\"xaxis\":\"x\",\"y\":[648.1070918367348,335.99942,1019.05815,892.76543],\"yaxis\":\"y\",\"type\":\"bar\"}],                        {\"template\":{\"data\":{\"barpolar\":[{\"marker\":{\"line\":{\"color\":\"white\",\"width\":0.5},\"pattern\":{\"fillmode\":\"overlay\",\"size\":10,\"solidity\":0.2}},\"type\":\"barpolar\"}],\"bar\":[{\"error_x\":{\"color\":\"rgb(36,36,36)\"},\"error_y\":{\"color\":\"rgb(36,36,36)\"},\"marker\":{\"line\":{\"color\":\"white\",\"width\":0.5},\"pattern\":{\"fillmode\":\"overlay\",\"size\":10,\"solidity\":0.2}},\"type\":\"bar\"}],\"carpet\":[{\"aaxis\":{\"endlinecolor\":\"rgb(36,36,36)\",\"gridcolor\":\"white\",\"linecolor\":\"white\",\"minorgridcolor\":\"white\",\"startlinecolor\":\"rgb(36,36,36)\"},\"baxis\":{\"endlinecolor\":\"rgb(36,36,36)\",\"gridcolor\":\"white\",\"linecolor\":\"white\",\"minorgridcolor\":\"white\",\"startlinecolor\":\"rgb(36,36,36)\"},\"type\":\"carpet\"}],\"choropleth\":[{\"colorbar\":{\"outlinewidth\":1,\"tickcolor\":\"rgb(36,36,36)\",\"ticks\":\"outside\"},\"type\":\"choropleth\"}],\"contourcarpet\":[{\"colorbar\":{\"outlinewidth\":1,\"tickcolor\":\"rgb(36,36,36)\",\"ticks\":\"outside\"},\"type\":\"contourcarpet\"}],\"contour\":[{\"colorbar\":{\"outlinewidth\":1,\"tickcolor\":\"rgb(36,36,36)\",\"ticks\":\"outside\"},\"colorscale\":[[0.0,\"#440154\"],[0.1111111111111111,\"#482878\"],[0.2222222222222222,\"#3e4989\"],[0.3333333333333333,\"#31688e\"],[0.4444444444444444,\"#26828e\"],[0.5555555555555556,\"#1f9e89\"],[0.6666666666666666,\"#35b779\"],[0.7777777777777778,\"#6ece58\"],[0.8888888888888888,\"#b5de2b\"],[1.0,\"#fde725\"]],\"type\":\"contour\"}],\"heatmapgl\":[{\"colorbar\":{\"outlinewidth\":1,\"tickcolor\":\"rgb(36,36,36)\",\"ticks\":\"outside\"},\"colorscale\":[[0.0,\"#440154\"],[0.1111111111111111,\"#482878\"],[0.2222222222222222,\"#3e4989\"],[0.3333333333333333,\"#31688e\"],[0.4444444444444444,\"#26828e\"],[0.5555555555555556,\"#1f9e89\"],[0.6666666666666666,\"#35b779\"],[0.7777777777777778,\"#6ece58\"],[0.8888888888888888,\"#b5de2b\"],[1.0,\"#fde725\"]],\"type\":\"heatmapgl\"}],\"heatmap\":[{\"colorbar\":{\"outlinewidth\":1,\"tickcolor\":\"rgb(36,36,36)\",\"ticks\":\"outside\"},\"colorscale\":[[0.0,\"#440154\"],[0.1111111111111111,\"#482878\"],[0.2222222222222222,\"#3e4989\"],[0.3333333333333333,\"#31688e\"],[0.4444444444444444,\"#26828e\"],[0.5555555555555556,\"#1f9e89\"],[0.6666666666666666,\"#35b779\"],[0.7777777777777778,\"#6ece58\"],[0.8888888888888888,\"#b5de2b\"],[1.0,\"#fde725\"]],\"type\":\"heatmap\"}],\"histogram2dcontour\":[{\"colorbar\":{\"outlinewidth\":1,\"tickcolor\":\"rgb(36,36,36)\",\"ticks\":\"outside\"},\"colorscale\":[[0.0,\"#440154\"],[0.1111111111111111,\"#482878\"],[0.2222222222222222,\"#3e4989\"],[0.3333333333333333,\"#31688e\"],[0.4444444444444444,\"#26828e\"],[0.5555555555555556,\"#1f9e89\"],[0.6666666666666666,\"#35b779\"],[0.7777777777777778,\"#6ece58\"],[0.8888888888888888,\"#b5de2b\"],[1.0,\"#fde725\"]],\"type\":\"histogram2dcontour\"}],\"histogram2d\":[{\"colorbar\":{\"outlinewidth\":1,\"tickcolor\":\"rgb(36,36,36)\",\"ticks\":\"outside\"},\"colorscale\":[[0.0,\"#440154\"],[0.1111111111111111,\"#482878\"],[0.2222222222222222,\"#3e4989\"],[0.3333333333333333,\"#31688e\"],[0.4444444444444444,\"#26828e\"],[0.5555555555555556,\"#1f9e89\"],[0.6666666666666666,\"#35b779\"],[0.7777777777777778,\"#6ece58\"],[0.8888888888888888,\"#b5de2b\"],[1.0,\"#fde725\"]],\"type\":\"histogram2d\"}],\"histogram\":[{\"marker\":{\"line\":{\"color\":\"white\",\"width\":0.6}},\"type\":\"histogram\"}],\"mesh3d\":[{\"colorbar\":{\"outlinewidth\":1,\"tickcolor\":\"rgb(36,36,36)\",\"ticks\":\"outside\"},\"type\":\"mesh3d\"}],\"parcoords\":[{\"line\":{\"colorbar\":{\"outlinewidth\":1,\"tickcolor\":\"rgb(36,36,36)\",\"ticks\":\"outside\"}},\"type\":\"parcoords\"}],\"pie\":[{\"automargin\":true,\"type\":\"pie\"}],\"scatter3d\":[{\"line\":{\"colorbar\":{\"outlinewidth\":1,\"tickcolor\":\"rgb(36,36,36)\",\"ticks\":\"outside\"}},\"marker\":{\"colorbar\":{\"outlinewidth\":1,\"tickcolor\":\"rgb(36,36,36)\",\"ticks\":\"outside\"}},\"type\":\"scatter3d\"}],\"scattercarpet\":[{\"marker\":{\"colorbar\":{\"outlinewidth\":1,\"tickcolor\":\"rgb(36,36,36)\",\"ticks\":\"outside\"}},\"type\":\"scattercarpet\"}],\"scattergeo\":[{\"marker\":{\"colorbar\":{\"outlinewidth\":1,\"tickcolor\":\"rgb(36,36,36)\",\"ticks\":\"outside\"}},\"type\":\"scattergeo\"}],\"scattergl\":[{\"marker\":{\"colorbar\":{\"outlinewidth\":1,\"tickcolor\":\"rgb(36,36,36)\",\"ticks\":\"outside\"}},\"type\":\"scattergl\"}],\"scattermapbox\":[{\"marker\":{\"colorbar\":{\"outlinewidth\":1,\"tickcolor\":\"rgb(36,36,36)\",\"ticks\":\"outside\"}},\"type\":\"scattermapbox\"}],\"scatterpolargl\":[{\"marker\":{\"colorbar\":{\"outlinewidth\":1,\"tickcolor\":\"rgb(36,36,36)\",\"ticks\":\"outside\"}},\"type\":\"scatterpolargl\"}],\"scatterpolar\":[{\"marker\":{\"colorbar\":{\"outlinewidth\":1,\"tickcolor\":\"rgb(36,36,36)\",\"ticks\":\"outside\"}},\"type\":\"scatterpolar\"}],\"scatter\":[{\"fillpattern\":{\"fillmode\":\"overlay\",\"size\":10,\"solidity\":0.2},\"type\":\"scatter\"}],\"scatterternary\":[{\"marker\":{\"colorbar\":{\"outlinewidth\":1,\"tickcolor\":\"rgb(36,36,36)\",\"ticks\":\"outside\"}},\"type\":\"scatterternary\"}],\"surface\":[{\"colorbar\":{\"outlinewidth\":1,\"tickcolor\":\"rgb(36,36,36)\",\"ticks\":\"outside\"},\"colorscale\":[[0.0,\"#440154\"],[0.1111111111111111,\"#482878\"],[0.2222222222222222,\"#3e4989\"],[0.3333333333333333,\"#31688e\"],[0.4444444444444444,\"#26828e\"],[0.5555555555555556,\"#1f9e89\"],[0.6666666666666666,\"#35b779\"],[0.7777777777777778,\"#6ece58\"],[0.8888888888888888,\"#b5de2b\"],[1.0,\"#fde725\"]],\"type\":\"surface\"}],\"table\":[{\"cells\":{\"fill\":{\"color\":\"rgb(237,237,237)\"},\"line\":{\"color\":\"white\"}},\"header\":{\"fill\":{\"color\":\"rgb(217,217,217)\"},\"line\":{\"color\":\"white\"}},\"type\":\"table\"}]},\"layout\":{\"annotationdefaults\":{\"arrowhead\":0,\"arrowwidth\":1},\"autotypenumbers\":\"strict\",\"coloraxis\":{\"colorbar\":{\"outlinewidth\":1,\"tickcolor\":\"rgb(36,36,36)\",\"ticks\":\"outside\"}},\"colorscale\":{\"diverging\":[[0.0,\"rgb(103,0,31)\"],[0.1,\"rgb(178,24,43)\"],[0.2,\"rgb(214,96,77)\"],[0.3,\"rgb(244,165,130)\"],[0.4,\"rgb(253,219,199)\"],[0.5,\"rgb(247,247,247)\"],[0.6,\"rgb(209,229,240)\"],[0.7,\"rgb(146,197,222)\"],[0.8,\"rgb(67,147,195)\"],[0.9,\"rgb(33,102,172)\"],[1.0,\"rgb(5,48,97)\"]],\"sequential\":[[0.0,\"#440154\"],[0.1111111111111111,\"#482878\"],[0.2222222222222222,\"#3e4989\"],[0.3333333333333333,\"#31688e\"],[0.4444444444444444,\"#26828e\"],[0.5555555555555556,\"#1f9e89\"],[0.6666666666666666,\"#35b779\"],[0.7777777777777778,\"#6ece58\"],[0.8888888888888888,\"#b5de2b\"],[1.0,\"#fde725\"]],\"sequentialminus\":[[0.0,\"#440154\"],[0.1111111111111111,\"#482878\"],[0.2222222222222222,\"#3e4989\"],[0.3333333333333333,\"#31688e\"],[0.4444444444444444,\"#26828e\"],[0.5555555555555556,\"#1f9e89\"],[0.6666666666666666,\"#35b779\"],[0.7777777777777778,\"#6ece58\"],[0.8888888888888888,\"#b5de2b\"],[1.0,\"#fde725\"]]},\"colorway\":[\"#1F77B4\",\"#FF7F0E\",\"#2CA02C\",\"#D62728\",\"#9467BD\",\"#8C564B\",\"#E377C2\",\"#7F7F7F\",\"#BCBD22\",\"#17BECF\"],\"font\":{\"color\":\"rgb(36,36,36)\"},\"geo\":{\"bgcolor\":\"white\",\"lakecolor\":\"white\",\"landcolor\":\"white\",\"showlakes\":true,\"showland\":true,\"subunitcolor\":\"white\"},\"hoverlabel\":{\"align\":\"left\"},\"hovermode\":\"closest\",\"mapbox\":{\"style\":\"light\"},\"paper_bgcolor\":\"white\",\"plot_bgcolor\":\"white\",\"polar\":{\"angularaxis\":{\"gridcolor\":\"rgb(232,232,232)\",\"linecolor\":\"rgb(36,36,36)\",\"showgrid\":false,\"showline\":true,\"ticks\":\"outside\"},\"bgcolor\":\"white\",\"radialaxis\":{\"gridcolor\":\"rgb(232,232,232)\",\"linecolor\":\"rgb(36,36,36)\",\"showgrid\":false,\"showline\":true,\"ticks\":\"outside\"}},\"scene\":{\"xaxis\":{\"backgroundcolor\":\"white\",\"gridcolor\":\"rgb(232,232,232)\",\"gridwidth\":2,\"linecolor\":\"rgb(36,36,36)\",\"showbackground\":true,\"showgrid\":false,\"showline\":true,\"ticks\":\"outside\",\"zeroline\":false,\"zerolinecolor\":\"rgb(36,36,36)\"},\"yaxis\":{\"backgroundcolor\":\"white\",\"gridcolor\":\"rgb(232,232,232)\",\"gridwidth\":2,\"linecolor\":\"rgb(36,36,36)\",\"showbackground\":true,\"showgrid\":false,\"showline\":true,\"ticks\":\"outside\",\"zeroline\":false,\"zerolinecolor\":\"rgb(36,36,36)\"},\"zaxis\":{\"backgroundcolor\":\"white\",\"gridcolor\":\"rgb(232,232,232)\",\"gridwidth\":2,\"linecolor\":\"rgb(36,36,36)\",\"showbackground\":true,\"showgrid\":false,\"showline\":true,\"ticks\":\"outside\",\"zeroline\":false,\"zerolinecolor\":\"rgb(36,36,36)\"}},\"shapedefaults\":{\"fillcolor\":\"black\",\"line\":{\"width\":0},\"opacity\":0.3},\"ternary\":{\"aaxis\":{\"gridcolor\":\"rgb(232,232,232)\",\"linecolor\":\"rgb(36,36,36)\",\"showgrid\":false,\"showline\":true,\"ticks\":\"outside\"},\"baxis\":{\"gridcolor\":\"rgb(232,232,232)\",\"linecolor\":\"rgb(36,36,36)\",\"showgrid\":false,\"showline\":true,\"ticks\":\"outside\"},\"bgcolor\":\"white\",\"caxis\":{\"gridcolor\":\"rgb(232,232,232)\",\"linecolor\":\"rgb(36,36,36)\",\"showgrid\":false,\"showline\":true,\"ticks\":\"outside\"}},\"title\":{\"x\":0.05},\"xaxis\":{\"automargin\":true,\"gridcolor\":\"rgb(232,232,232)\",\"linecolor\":\"rgb(36,36,36)\",\"showgrid\":false,\"showline\":true,\"ticks\":\"outside\",\"title\":{\"standoff\":15},\"zeroline\":false,\"zerolinecolor\":\"rgb(36,36,36)\"},\"yaxis\":{\"automargin\":true,\"gridcolor\":\"rgb(232,232,232)\",\"linecolor\":\"rgb(36,36,36)\",\"showgrid\":false,\"showline\":true,\"ticks\":\"outside\",\"title\":{\"standoff\":15},\"zeroline\":false,\"zerolinecolor\":\"rgb(36,36,36)\"}}},\"xaxis\":{\"anchor\":\"y\",\"domain\":[0.0,1.0],\"title\":{\"text\":\"REGION\"}},\"yaxis\":{\"anchor\":\"x\",\"domain\":[0.0,1.0],\"title\":{\"text\":\"Sales in 1000 units $\"}},\"legend\":{\"title\":{\"text\":\"Sales Type\"},\"tracegroupgap\":0},\"title\":{\"text\":\"Current (2023) and Previous (2022) Year Sales in Canada and United States\"},\"barmode\":\"group\",\"width\":800},                        {\"responsive\": true}                    ).then(function(){\n",
       "                            \n",
       "var gd = document.getElementById('a353cfa3-e659-4592-88b1-21cbef3f998d');\n",
       "var x = new MutationObserver(function (mutations, observer) {{\n",
       "        var display = window.getComputedStyle(gd).display;\n",
       "        if (!display || display === 'none') {{\n",
       "            console.log([gd, 'removed!']);\n",
       "            Plotly.purge(gd);\n",
       "            observer.disconnect();\n",
       "        }}\n",
       "}});\n",
       "\n",
       "// Listen for the removal of the full notebook cells\n",
       "var notebookContainer = gd.closest('#notebook-container');\n",
       "if (notebookContainer) {{\n",
       "    x.observe(notebookContainer, {childList: true});\n",
       "}}\n",
       "\n",
       "// Listen for the clearing of the current output cell\n",
       "var outputEl = gd.closest('.output');\n",
       "if (outputEl) {{\n",
       "    x.observe(outputEl, {childList: true});\n",
       "}}\n",
       "\n",
       "                        })                };                });            </script>        </div>"
      ]
     },
     "metadata": {},
     "output_type": "display_data"
    }
   ],
   "source": [
    "x = px.bar(data_frame=table3,x=\"REGION\",y=[\"PRE_YTD_SALES\",\"YTD_SALES\"],barmode=\"group\",template=\"simple_white\",title=\"Current (2023) and Previous (2022) Year Sales in Canada and United States\",width= 800,\n",
    "          labels=dict(value=\"Sales in 1000 units $\",variable=\"Sales Type\"))\n",
    "x[\"data\"][0][\"marker\"][\"color\"] = \"#ecd400\"\n",
    "x[\"data\"][1][\"marker\"][\"color\"] = \"#101820\"\n",
    "x"
   ]
  },
  {
   "cell_type": "markdown",
   "id": "0abfb7be",
   "metadata": {},
   "source": [
    "It is quite evident that there is a **growth in YoY sales** in all regions of Canada and United States. However, there is a **relatively higher jump** in YoY Sales in **CA EAST** and **US EAST**"
   ]
  },
  {
   "cell_type": "markdown",
   "id": "95035302",
   "metadata": {},
   "source": [
    "### Lets now evaluate the same sales through the lens of Customer Category"
   ]
  },
  {
   "cell_type": "code",
   "execution_count": 70,
   "id": "1ce361ab",
   "metadata": {},
   "outputs": [
    {
     "data": {
      "text/html": [
       "<div>\n",
       "<style scoped>\n",
       "    .dataframe tbody tr th:only-of-type {\n",
       "        vertical-align: middle;\n",
       "    }\n",
       "\n",
       "    .dataframe tbody tr th {\n",
       "        vertical-align: top;\n",
       "    }\n",
       "\n",
       "    .dataframe thead th {\n",
       "        text-align: right;\n",
       "    }\n",
       "</style>\n",
       "<table border=\"1\" class=\"dataframe\">\n",
       "  <thead>\n",
       "    <tr style=\"text-align: right;\">\n",
       "      <th></th>\n",
       "      <th>COUNTRY</th>\n",
       "      <th>REGION</th>\n",
       "      <th>CUSTOMER_CATEGORY</th>\n",
       "      <th>PRE_YTD_SALES</th>\n",
       "      <th>YTD_SALES</th>\n",
       "    </tr>\n",
       "  </thead>\n",
       "  <tbody>\n",
       "    <tr>\n",
       "      <th>0</th>\n",
       "      <td>CA</td>\n",
       "      <td>CA EAST</td>\n",
       "      <td>Corporate</td>\n",
       "      <td>152.78491</td>\n",
       "      <td>232.472820</td>\n",
       "    </tr>\n",
       "    <tr>\n",
       "      <th>1</th>\n",
       "      <td>CA</td>\n",
       "      <td>CA EAST</td>\n",
       "      <td>End Customer</td>\n",
       "      <td>45.68353</td>\n",
       "      <td>115.651722</td>\n",
       "    </tr>\n",
       "    <tr>\n",
       "      <th>2</th>\n",
       "      <td>CA</td>\n",
       "      <td>CA EAST</td>\n",
       "      <td>Reseller</td>\n",
       "      <td>255.95813</td>\n",
       "      <td>299.982550</td>\n",
       "    </tr>\n",
       "    <tr>\n",
       "      <th>3</th>\n",
       "      <td>CA</td>\n",
       "      <td>CA WEST</td>\n",
       "      <td>Corporate</td>\n",
       "      <td>80.06572</td>\n",
       "      <td>100.409440</td>\n",
       "    </tr>\n",
       "    <tr>\n",
       "      <th>4</th>\n",
       "      <td>CA</td>\n",
       "      <td>CA WEST</td>\n",
       "      <td>End Customer</td>\n",
       "      <td>13.64991</td>\n",
       "      <td>17.340350</td>\n",
       "    </tr>\n",
       "    <tr>\n",
       "      <th>5</th>\n",
       "      <td>CA</td>\n",
       "      <td>CA WEST</td>\n",
       "      <td>Reseller</td>\n",
       "      <td>195.49553</td>\n",
       "      <td>218.249630</td>\n",
       "    </tr>\n",
       "    <tr>\n",
       "      <th>6</th>\n",
       "      <td>US</td>\n",
       "      <td>US EAST</td>\n",
       "      <td>Corporate</td>\n",
       "      <td>217.23747</td>\n",
       "      <td>370.432550</td>\n",
       "    </tr>\n",
       "    <tr>\n",
       "      <th>7</th>\n",
       "      <td>US</td>\n",
       "      <td>US EAST</td>\n",
       "      <td>End Customer</td>\n",
       "      <td>52.88671</td>\n",
       "      <td>41.312240</td>\n",
       "    </tr>\n",
       "    <tr>\n",
       "      <th>8</th>\n",
       "      <td>US</td>\n",
       "      <td>US EAST</td>\n",
       "      <td>Reseller</td>\n",
       "      <td>539.29728</td>\n",
       "      <td>607.313360</td>\n",
       "    </tr>\n",
       "    <tr>\n",
       "      <th>9</th>\n",
       "      <td>US</td>\n",
       "      <td>US WEST</td>\n",
       "      <td>Corporate</td>\n",
       "      <td>153.77069</td>\n",
       "      <td>282.641630</td>\n",
       "    </tr>\n",
       "    <tr>\n",
       "      <th>10</th>\n",
       "      <td>US</td>\n",
       "      <td>US WEST</td>\n",
       "      <td>End Customer</td>\n",
       "      <td>6.33372</td>\n",
       "      <td>14.165910</td>\n",
       "    </tr>\n",
       "    <tr>\n",
       "      <th>11</th>\n",
       "      <td>US</td>\n",
       "      <td>US WEST</td>\n",
       "      <td>Reseller</td>\n",
       "      <td>580.55641</td>\n",
       "      <td>595.957890</td>\n",
       "    </tr>\n",
       "  </tbody>\n",
       "</table>\n",
       "</div>"
      ],
      "text/plain": [
       "   COUNTRY   REGION CUSTOMER_CATEGORY  PRE_YTD_SALES   YTD_SALES\n",
       "0       CA  CA EAST        Corporate       152.78491  232.472820\n",
       "1       CA  CA EAST      End Customer       45.68353  115.651722\n",
       "2       CA  CA EAST          Reseller      255.95813  299.982550\n",
       "3       CA  CA WEST        Corporate        80.06572  100.409440\n",
       "4       CA  CA WEST      End Customer       13.64991   17.340350\n",
       "5       CA  CA WEST          Reseller      195.49553  218.249630\n",
       "6       US  US EAST        Corporate       217.23747  370.432550\n",
       "7       US  US EAST      End Customer       52.88671   41.312240\n",
       "8       US  US EAST          Reseller      539.29728  607.313360\n",
       "9       US  US WEST        Corporate       153.77069  282.641630\n",
       "10      US  US WEST      End Customer        6.33372   14.165910\n",
       "11      US  US WEST          Reseller      580.55641  595.957890"
      ]
     },
     "execution_count": 70,
     "metadata": {},
     "output_type": "execute_result"
    }
   ],
   "source": [
    "table4 = pd.pivot_table(data,index=[\"COUNTRY\",\"REGION\",\"CUSTOMER_CATEGORY\"],values=[\"PRE_YTD_SALES\",\"YTD_SALES\"],aggfunc=\"sum\")\n",
    "table4.reset_index(inplace=True)\n",
    "table4"
   ]
  },
  {
   "cell_type": "code",
   "execution_count": 71,
   "id": "ed9e22f4",
   "metadata": {},
   "outputs": [
    {
     "data": {
      "text/html": [
       "<div>                            <div id=\"191eff68-2284-4b4d-94ba-22e3037a5eb3\" class=\"plotly-graph-div\" style=\"height:525px; width:800px;\"></div>            <script type=\"text/javascript\">                require([\"plotly\"], function(Plotly) {                    window.PLOTLYENV=window.PLOTLYENV || {};                                    if (document.getElementById(\"191eff68-2284-4b4d-94ba-22e3037a5eb3\")) {                    Plotly.newPlot(                        \"191eff68-2284-4b4d-94ba-22e3037a5eb3\",                        [{\"alignmentgroup\":\"True\",\"hovertemplate\":\"CUSTOMER_CATEGORY=%{x}<br>REGION=CA EAST<br>YTD_SALES=%{y}<extra></extra>\",\"legendgroup\":\"Corporate \",\"marker\":{\"color\":\"#408EC6\",\"pattern\":{\"shape\":\"\"}},\"name\":\"Corporate \",\"offsetgroup\":\"Corporate \",\"orientation\":\"v\",\"showlegend\":true,\"textposition\":\"auto\",\"x\":[\"Corporate \"],\"xaxis\":\"x3\",\"y\":[232.47282],\"yaxis\":\"y3\",\"type\":\"bar\"},{\"alignmentgroup\":\"True\",\"hovertemplate\":\"CUSTOMER_CATEGORY=%{x}<br>REGION=CA WEST<br>YTD_SALES=%{y}<extra></extra>\",\"legendgroup\":\"Corporate \",\"marker\":{\"color\":\"#408EC6\",\"pattern\":{\"shape\":\"\"}},\"name\":\"Corporate \",\"offsetgroup\":\"Corporate \",\"orientation\":\"v\",\"showlegend\":false,\"textposition\":\"auto\",\"x\":[\"Corporate \"],\"xaxis\":\"x4\",\"y\":[100.40943999999999],\"yaxis\":\"y4\",\"type\":\"bar\"},{\"alignmentgroup\":\"True\",\"hovertemplate\":\"CUSTOMER_CATEGORY=%{x}<br>REGION=US EAST<br>YTD_SALES=%{y}<extra></extra>\",\"legendgroup\":\"Corporate \",\"marker\":{\"color\":\"#408EC6\",\"pattern\":{\"shape\":\"\"}},\"name\":\"Corporate \",\"offsetgroup\":\"Corporate \",\"orientation\":\"v\",\"showlegend\":false,\"textposition\":\"auto\",\"x\":[\"Corporate \"],\"xaxis\":\"x\",\"y\":[370.43255],\"yaxis\":\"y\",\"type\":\"bar\"},{\"alignmentgroup\":\"True\",\"hovertemplate\":\"CUSTOMER_CATEGORY=%{x}<br>REGION=US WEST<br>YTD_SALES=%{y}<extra></extra>\",\"legendgroup\":\"Corporate \",\"marker\":{\"color\":\"#408EC6\",\"pattern\":{\"shape\":\"\"}},\"name\":\"Corporate \",\"offsetgroup\":\"Corporate \",\"orientation\":\"v\",\"showlegend\":false,\"textposition\":\"auto\",\"x\":[\"Corporate \"],\"xaxis\":\"x2\",\"y\":[282.64163],\"yaxis\":\"y2\",\"type\":\"bar\"},{\"alignmentgroup\":\"True\",\"hovertemplate\":\"CUSTOMER_CATEGORY=%{x}<br>REGION=CA EAST<br>YTD_SALES=%{y}<extra></extra>\",\"legendgroup\":\"End Customer\",\"marker\":{\"color\":\"#7A2048\",\"pattern\":{\"shape\":\"\"}},\"name\":\"End Customer\",\"offsetgroup\":\"End Customer\",\"orientation\":\"v\",\"showlegend\":true,\"textposition\":\"auto\",\"x\":[\"End Customer\"],\"xaxis\":\"x3\",\"y\":[115.6517218367347],\"yaxis\":\"y3\",\"type\":\"bar\"},{\"alignmentgroup\":\"True\",\"hovertemplate\":\"CUSTOMER_CATEGORY=%{x}<br>REGION=CA WEST<br>YTD_SALES=%{y}<extra></extra>\",\"legendgroup\":\"End Customer\",\"marker\":{\"color\":\"#7A2048\",\"pattern\":{\"shape\":\"\"}},\"name\":\"End Customer\",\"offsetgroup\":\"End Customer\",\"orientation\":\"v\",\"showlegend\":false,\"textposition\":\"auto\",\"x\":[\"End Customer\"],\"xaxis\":\"x4\",\"y\":[17.34035],\"yaxis\":\"y4\",\"type\":\"bar\"},{\"alignmentgroup\":\"True\",\"hovertemplate\":\"CUSTOMER_CATEGORY=%{x}<br>REGION=US EAST<br>YTD_SALES=%{y}<extra></extra>\",\"legendgroup\":\"End Customer\",\"marker\":{\"color\":\"#7A2048\",\"pattern\":{\"shape\":\"\"}},\"name\":\"End Customer\",\"offsetgroup\":\"End Customer\",\"orientation\":\"v\",\"showlegend\":false,\"textposition\":\"auto\",\"x\":[\"End Customer\"],\"xaxis\":\"x\",\"y\":[41.31224],\"yaxis\":\"y\",\"type\":\"bar\"},{\"alignmentgroup\":\"True\",\"hovertemplate\":\"CUSTOMER_CATEGORY=%{x}<br>REGION=US WEST<br>YTD_SALES=%{y}<extra></extra>\",\"legendgroup\":\"End Customer\",\"marker\":{\"color\":\"#7A2048\",\"pattern\":{\"shape\":\"\"}},\"name\":\"End Customer\",\"offsetgroup\":\"End Customer\",\"orientation\":\"v\",\"showlegend\":false,\"textposition\":\"auto\",\"x\":[\"End Customer\"],\"xaxis\":\"x2\",\"y\":[14.16591],\"yaxis\":\"y2\",\"type\":\"bar\"},{\"alignmentgroup\":\"True\",\"hovertemplate\":\"CUSTOMER_CATEGORY=%{x}<br>REGION=CA EAST<br>YTD_SALES=%{y}<extra></extra>\",\"legendgroup\":\"Reseller\",\"marker\":{\"color\":\"#1E2761\",\"pattern\":{\"shape\":\"\"}},\"name\":\"Reseller\",\"offsetgroup\":\"Reseller\",\"orientation\":\"v\",\"showlegend\":true,\"textposition\":\"auto\",\"x\":[\"Reseller\"],\"xaxis\":\"x3\",\"y\":[299.98255],\"yaxis\":\"y3\",\"type\":\"bar\"},{\"alignmentgroup\":\"True\",\"hovertemplate\":\"CUSTOMER_CATEGORY=%{x}<br>REGION=CA WEST<br>YTD_SALES=%{y}<extra></extra>\",\"legendgroup\":\"Reseller\",\"marker\":{\"color\":\"#1E2761\",\"pattern\":{\"shape\":\"\"}},\"name\":\"Reseller\",\"offsetgroup\":\"Reseller\",\"orientation\":\"v\",\"showlegend\":false,\"textposition\":\"auto\",\"x\":[\"Reseller\"],\"xaxis\":\"x4\",\"y\":[218.24963],\"yaxis\":\"y4\",\"type\":\"bar\"},{\"alignmentgroup\":\"True\",\"hovertemplate\":\"CUSTOMER_CATEGORY=%{x}<br>REGION=US EAST<br>YTD_SALES=%{y}<extra></extra>\",\"legendgroup\":\"Reseller\",\"marker\":{\"color\":\"#1E2761\",\"pattern\":{\"shape\":\"\"}},\"name\":\"Reseller\",\"offsetgroup\":\"Reseller\",\"orientation\":\"v\",\"showlegend\":false,\"textposition\":\"auto\",\"x\":[\"Reseller\"],\"xaxis\":\"x\",\"y\":[607.31336],\"yaxis\":\"y\",\"type\":\"bar\"},{\"alignmentgroup\":\"True\",\"hovertemplate\":\"CUSTOMER_CATEGORY=%{x}<br>REGION=US WEST<br>YTD_SALES=%{y}<extra></extra>\",\"legendgroup\":\"Reseller\",\"marker\":{\"color\":\"#1E2761\",\"pattern\":{\"shape\":\"\"}},\"name\":\"Reseller\",\"offsetgroup\":\"Reseller\",\"orientation\":\"v\",\"showlegend\":false,\"textposition\":\"auto\",\"x\":[\"Reseller\"],\"xaxis\":\"x2\",\"y\":[595.95789],\"yaxis\":\"y2\",\"type\":\"bar\"}],                        {\"template\":{\"data\":{\"barpolar\":[{\"marker\":{\"line\":{\"color\":\"white\",\"width\":0.5},\"pattern\":{\"fillmode\":\"overlay\",\"size\":10,\"solidity\":0.2}},\"type\":\"barpolar\"}],\"bar\":[{\"error_x\":{\"color\":\"rgb(36,36,36)\"},\"error_y\":{\"color\":\"rgb(36,36,36)\"},\"marker\":{\"line\":{\"color\":\"white\",\"width\":0.5},\"pattern\":{\"fillmode\":\"overlay\",\"size\":10,\"solidity\":0.2}},\"type\":\"bar\"}],\"carpet\":[{\"aaxis\":{\"endlinecolor\":\"rgb(36,36,36)\",\"gridcolor\":\"white\",\"linecolor\":\"white\",\"minorgridcolor\":\"white\",\"startlinecolor\":\"rgb(36,36,36)\"},\"baxis\":{\"endlinecolor\":\"rgb(36,36,36)\",\"gridcolor\":\"white\",\"linecolor\":\"white\",\"minorgridcolor\":\"white\",\"startlinecolor\":\"rgb(36,36,36)\"},\"type\":\"carpet\"}],\"choropleth\":[{\"colorbar\":{\"outlinewidth\":1,\"tickcolor\":\"rgb(36,36,36)\",\"ticks\":\"outside\"},\"type\":\"choropleth\"}],\"contourcarpet\":[{\"colorbar\":{\"outlinewidth\":1,\"tickcolor\":\"rgb(36,36,36)\",\"ticks\":\"outside\"},\"type\":\"contourcarpet\"}],\"contour\":[{\"colorbar\":{\"outlinewidth\":1,\"tickcolor\":\"rgb(36,36,36)\",\"ticks\":\"outside\"},\"colorscale\":[[0.0,\"#440154\"],[0.1111111111111111,\"#482878\"],[0.2222222222222222,\"#3e4989\"],[0.3333333333333333,\"#31688e\"],[0.4444444444444444,\"#26828e\"],[0.5555555555555556,\"#1f9e89\"],[0.6666666666666666,\"#35b779\"],[0.7777777777777778,\"#6ece58\"],[0.8888888888888888,\"#b5de2b\"],[1.0,\"#fde725\"]],\"type\":\"contour\"}],\"heatmapgl\":[{\"colorbar\":{\"outlinewidth\":1,\"tickcolor\":\"rgb(36,36,36)\",\"ticks\":\"outside\"},\"colorscale\":[[0.0,\"#440154\"],[0.1111111111111111,\"#482878\"],[0.2222222222222222,\"#3e4989\"],[0.3333333333333333,\"#31688e\"],[0.4444444444444444,\"#26828e\"],[0.5555555555555556,\"#1f9e89\"],[0.6666666666666666,\"#35b779\"],[0.7777777777777778,\"#6ece58\"],[0.8888888888888888,\"#b5de2b\"],[1.0,\"#fde725\"]],\"type\":\"heatmapgl\"}],\"heatmap\":[{\"colorbar\":{\"outlinewidth\":1,\"tickcolor\":\"rgb(36,36,36)\",\"ticks\":\"outside\"},\"colorscale\":[[0.0,\"#440154\"],[0.1111111111111111,\"#482878\"],[0.2222222222222222,\"#3e4989\"],[0.3333333333333333,\"#31688e\"],[0.4444444444444444,\"#26828e\"],[0.5555555555555556,\"#1f9e89\"],[0.6666666666666666,\"#35b779\"],[0.7777777777777778,\"#6ece58\"],[0.8888888888888888,\"#b5de2b\"],[1.0,\"#fde725\"]],\"type\":\"heatmap\"}],\"histogram2dcontour\":[{\"colorbar\":{\"outlinewidth\":1,\"tickcolor\":\"rgb(36,36,36)\",\"ticks\":\"outside\"},\"colorscale\":[[0.0,\"#440154\"],[0.1111111111111111,\"#482878\"],[0.2222222222222222,\"#3e4989\"],[0.3333333333333333,\"#31688e\"],[0.4444444444444444,\"#26828e\"],[0.5555555555555556,\"#1f9e89\"],[0.6666666666666666,\"#35b779\"],[0.7777777777777778,\"#6ece58\"],[0.8888888888888888,\"#b5de2b\"],[1.0,\"#fde725\"]],\"type\":\"histogram2dcontour\"}],\"histogram2d\":[{\"colorbar\":{\"outlinewidth\":1,\"tickcolor\":\"rgb(36,36,36)\",\"ticks\":\"outside\"},\"colorscale\":[[0.0,\"#440154\"],[0.1111111111111111,\"#482878\"],[0.2222222222222222,\"#3e4989\"],[0.3333333333333333,\"#31688e\"],[0.4444444444444444,\"#26828e\"],[0.5555555555555556,\"#1f9e89\"],[0.6666666666666666,\"#35b779\"],[0.7777777777777778,\"#6ece58\"],[0.8888888888888888,\"#b5de2b\"],[1.0,\"#fde725\"]],\"type\":\"histogram2d\"}],\"histogram\":[{\"marker\":{\"line\":{\"color\":\"white\",\"width\":0.6}},\"type\":\"histogram\"}],\"mesh3d\":[{\"colorbar\":{\"outlinewidth\":1,\"tickcolor\":\"rgb(36,36,36)\",\"ticks\":\"outside\"},\"type\":\"mesh3d\"}],\"parcoords\":[{\"line\":{\"colorbar\":{\"outlinewidth\":1,\"tickcolor\":\"rgb(36,36,36)\",\"ticks\":\"outside\"}},\"type\":\"parcoords\"}],\"pie\":[{\"automargin\":true,\"type\":\"pie\"}],\"scatter3d\":[{\"line\":{\"colorbar\":{\"outlinewidth\":1,\"tickcolor\":\"rgb(36,36,36)\",\"ticks\":\"outside\"}},\"marker\":{\"colorbar\":{\"outlinewidth\":1,\"tickcolor\":\"rgb(36,36,36)\",\"ticks\":\"outside\"}},\"type\":\"scatter3d\"}],\"scattercarpet\":[{\"marker\":{\"colorbar\":{\"outlinewidth\":1,\"tickcolor\":\"rgb(36,36,36)\",\"ticks\":\"outside\"}},\"type\":\"scattercarpet\"}],\"scattergeo\":[{\"marker\":{\"colorbar\":{\"outlinewidth\":1,\"tickcolor\":\"rgb(36,36,36)\",\"ticks\":\"outside\"}},\"type\":\"scattergeo\"}],\"scattergl\":[{\"marker\":{\"colorbar\":{\"outlinewidth\":1,\"tickcolor\":\"rgb(36,36,36)\",\"ticks\":\"outside\"}},\"type\":\"scattergl\"}],\"scattermapbox\":[{\"marker\":{\"colorbar\":{\"outlinewidth\":1,\"tickcolor\":\"rgb(36,36,36)\",\"ticks\":\"outside\"}},\"type\":\"scattermapbox\"}],\"scatterpolargl\":[{\"marker\":{\"colorbar\":{\"outlinewidth\":1,\"tickcolor\":\"rgb(36,36,36)\",\"ticks\":\"outside\"}},\"type\":\"scatterpolargl\"}],\"scatterpolar\":[{\"marker\":{\"colorbar\":{\"outlinewidth\":1,\"tickcolor\":\"rgb(36,36,36)\",\"ticks\":\"outside\"}},\"type\":\"scatterpolar\"}],\"scatter\":[{\"fillpattern\":{\"fillmode\":\"overlay\",\"size\":10,\"solidity\":0.2},\"type\":\"scatter\"}],\"scatterternary\":[{\"marker\":{\"colorbar\":{\"outlinewidth\":1,\"tickcolor\":\"rgb(36,36,36)\",\"ticks\":\"outside\"}},\"type\":\"scatterternary\"}],\"surface\":[{\"colorbar\":{\"outlinewidth\":1,\"tickcolor\":\"rgb(36,36,36)\",\"ticks\":\"outside\"},\"colorscale\":[[0.0,\"#440154\"],[0.1111111111111111,\"#482878\"],[0.2222222222222222,\"#3e4989\"],[0.3333333333333333,\"#31688e\"],[0.4444444444444444,\"#26828e\"],[0.5555555555555556,\"#1f9e89\"],[0.6666666666666666,\"#35b779\"],[0.7777777777777778,\"#6ece58\"],[0.8888888888888888,\"#b5de2b\"],[1.0,\"#fde725\"]],\"type\":\"surface\"}],\"table\":[{\"cells\":{\"fill\":{\"color\":\"rgb(237,237,237)\"},\"line\":{\"color\":\"white\"}},\"header\":{\"fill\":{\"color\":\"rgb(217,217,217)\"},\"line\":{\"color\":\"white\"}},\"type\":\"table\"}]},\"layout\":{\"annotationdefaults\":{\"arrowhead\":0,\"arrowwidth\":1},\"autotypenumbers\":\"strict\",\"coloraxis\":{\"colorbar\":{\"outlinewidth\":1,\"tickcolor\":\"rgb(36,36,36)\",\"ticks\":\"outside\"}},\"colorscale\":{\"diverging\":[[0.0,\"rgb(103,0,31)\"],[0.1,\"rgb(178,24,43)\"],[0.2,\"rgb(214,96,77)\"],[0.3,\"rgb(244,165,130)\"],[0.4,\"rgb(253,219,199)\"],[0.5,\"rgb(247,247,247)\"],[0.6,\"rgb(209,229,240)\"],[0.7,\"rgb(146,197,222)\"],[0.8,\"rgb(67,147,195)\"],[0.9,\"rgb(33,102,172)\"],[1.0,\"rgb(5,48,97)\"]],\"sequential\":[[0.0,\"#440154\"],[0.1111111111111111,\"#482878\"],[0.2222222222222222,\"#3e4989\"],[0.3333333333333333,\"#31688e\"],[0.4444444444444444,\"#26828e\"],[0.5555555555555556,\"#1f9e89\"],[0.6666666666666666,\"#35b779\"],[0.7777777777777778,\"#6ece58\"],[0.8888888888888888,\"#b5de2b\"],[1.0,\"#fde725\"]],\"sequentialminus\":[[0.0,\"#440154\"],[0.1111111111111111,\"#482878\"],[0.2222222222222222,\"#3e4989\"],[0.3333333333333333,\"#31688e\"],[0.4444444444444444,\"#26828e\"],[0.5555555555555556,\"#1f9e89\"],[0.6666666666666666,\"#35b779\"],[0.7777777777777778,\"#6ece58\"],[0.8888888888888888,\"#b5de2b\"],[1.0,\"#fde725\"]]},\"colorway\":[\"#1F77B4\",\"#FF7F0E\",\"#2CA02C\",\"#D62728\",\"#9467BD\",\"#8C564B\",\"#E377C2\",\"#7F7F7F\",\"#BCBD22\",\"#17BECF\"],\"font\":{\"color\":\"rgb(36,36,36)\"},\"geo\":{\"bgcolor\":\"white\",\"lakecolor\":\"white\",\"landcolor\":\"white\",\"showlakes\":true,\"showland\":true,\"subunitcolor\":\"white\"},\"hoverlabel\":{\"align\":\"left\"},\"hovermode\":\"closest\",\"mapbox\":{\"style\":\"light\"},\"paper_bgcolor\":\"white\",\"plot_bgcolor\":\"white\",\"polar\":{\"angularaxis\":{\"gridcolor\":\"rgb(232,232,232)\",\"linecolor\":\"rgb(36,36,36)\",\"showgrid\":false,\"showline\":true,\"ticks\":\"outside\"},\"bgcolor\":\"white\",\"radialaxis\":{\"gridcolor\":\"rgb(232,232,232)\",\"linecolor\":\"rgb(36,36,36)\",\"showgrid\":false,\"showline\":true,\"ticks\":\"outside\"}},\"scene\":{\"xaxis\":{\"backgroundcolor\":\"white\",\"gridcolor\":\"rgb(232,232,232)\",\"gridwidth\":2,\"linecolor\":\"rgb(36,36,36)\",\"showbackground\":true,\"showgrid\":false,\"showline\":true,\"ticks\":\"outside\",\"zeroline\":false,\"zerolinecolor\":\"rgb(36,36,36)\"},\"yaxis\":{\"backgroundcolor\":\"white\",\"gridcolor\":\"rgb(232,232,232)\",\"gridwidth\":2,\"linecolor\":\"rgb(36,36,36)\",\"showbackground\":true,\"showgrid\":false,\"showline\":true,\"ticks\":\"outside\",\"zeroline\":false,\"zerolinecolor\":\"rgb(36,36,36)\"},\"zaxis\":{\"backgroundcolor\":\"white\",\"gridcolor\":\"rgb(232,232,232)\",\"gridwidth\":2,\"linecolor\":\"rgb(36,36,36)\",\"showbackground\":true,\"showgrid\":false,\"showline\":true,\"ticks\":\"outside\",\"zeroline\":false,\"zerolinecolor\":\"rgb(36,36,36)\"}},\"shapedefaults\":{\"fillcolor\":\"black\",\"line\":{\"width\":0},\"opacity\":0.3},\"ternary\":{\"aaxis\":{\"gridcolor\":\"rgb(232,232,232)\",\"linecolor\":\"rgb(36,36,36)\",\"showgrid\":false,\"showline\":true,\"ticks\":\"outside\"},\"baxis\":{\"gridcolor\":\"rgb(232,232,232)\",\"linecolor\":\"rgb(36,36,36)\",\"showgrid\":false,\"showline\":true,\"ticks\":\"outside\"},\"bgcolor\":\"white\",\"caxis\":{\"gridcolor\":\"rgb(232,232,232)\",\"linecolor\":\"rgb(36,36,36)\",\"showgrid\":false,\"showline\":true,\"ticks\":\"outside\"}},\"title\":{\"x\":0.05},\"xaxis\":{\"automargin\":true,\"gridcolor\":\"rgb(232,232,232)\",\"linecolor\":\"rgb(36,36,36)\",\"showgrid\":false,\"showline\":true,\"ticks\":\"outside\",\"title\":{\"standoff\":15},\"zeroline\":false,\"zerolinecolor\":\"rgb(36,36,36)\"},\"yaxis\":{\"automargin\":true,\"gridcolor\":\"rgb(232,232,232)\",\"linecolor\":\"rgb(36,36,36)\",\"showgrid\":false,\"showline\":true,\"ticks\":\"outside\",\"title\":{\"standoff\":15},\"zeroline\":false,\"zerolinecolor\":\"rgb(36,36,36)\"}}},\"xaxis\":{\"anchor\":\"y\",\"domain\":[0.0,0.49],\"title\":{\"text\":\"CUSTOMER_CATEGORY\"},\"categoryorder\":\"array\",\"categoryarray\":[\"Corporate \",\"End Customer\",\"Reseller\"]},\"yaxis\":{\"anchor\":\"x\",\"domain\":[0.0,0.46499999999999997],\"title\":{\"text\":\"YTD_SALES\"}},\"xaxis2\":{\"anchor\":\"y2\",\"domain\":[0.51,1.0],\"matches\":\"x\",\"title\":{\"text\":\"CUSTOMER_CATEGORY\"},\"categoryorder\":\"array\",\"categoryarray\":[\"Corporate \",\"End Customer\",\"Reseller\"]},\"yaxis2\":{\"anchor\":\"x2\",\"domain\":[0.0,0.46499999999999997],\"matches\":\"y\",\"showticklabels\":false},\"xaxis3\":{\"anchor\":\"y3\",\"domain\":[0.0,0.49],\"matches\":\"x\",\"showticklabels\":false},\"yaxis3\":{\"anchor\":\"x3\",\"domain\":[0.5349999999999999,0.9999999999999999],\"matches\":\"y\",\"title\":{\"text\":\"YTD_SALES\"}},\"xaxis4\":{\"anchor\":\"y4\",\"domain\":[0.51,1.0],\"matches\":\"x\",\"showticklabels\":false},\"yaxis4\":{\"anchor\":\"x4\",\"domain\":[0.5349999999999999,0.9999999999999999],\"matches\":\"y\",\"showticklabels\":false},\"annotations\":[{\"font\":{},\"showarrow\":false,\"text\":\"REGION=US EAST\",\"x\":0.245,\"xanchor\":\"center\",\"xref\":\"paper\",\"y\":0.46499999999999997,\"yanchor\":\"bottom\",\"yref\":\"paper\"},{\"font\":{},\"showarrow\":false,\"text\":\"REGION=US WEST\",\"x\":0.755,\"xanchor\":\"center\",\"xref\":\"paper\",\"y\":0.46499999999999997,\"yanchor\":\"bottom\",\"yref\":\"paper\"},{\"font\":{},\"showarrow\":false,\"text\":\"REGION=CA EAST\",\"x\":0.245,\"xanchor\":\"center\",\"xref\":\"paper\",\"y\":0.9999999999999999,\"yanchor\":\"bottom\",\"yref\":\"paper\"},{\"font\":{},\"showarrow\":false,\"text\":\"REGION=CA WEST\",\"x\":0.755,\"xanchor\":\"center\",\"xref\":\"paper\",\"y\":0.9999999999999999,\"yanchor\":\"bottom\",\"yref\":\"paper\"}],\"legend\":{\"title\":{\"text\":\"CUSTOMER_CATEGORY\"},\"tracegroupgap\":0},\"title\":{\"text\":\"2023 Sales By Region and Customer Segment\"},\"barmode\":\"relative\",\"width\":800},                        {\"responsive\": true}                    ).then(function(){\n",
       "                            \n",
       "var gd = document.getElementById('191eff68-2284-4b4d-94ba-22e3037a5eb3');\n",
       "var x = new MutationObserver(function (mutations, observer) {{\n",
       "        var display = window.getComputedStyle(gd).display;\n",
       "        if (!display || display === 'none') {{\n",
       "            console.log([gd, 'removed!']);\n",
       "            Plotly.purge(gd);\n",
       "            observer.disconnect();\n",
       "        }}\n",
       "}});\n",
       "\n",
       "// Listen for the removal of the full notebook cells\n",
       "var notebookContainer = gd.closest('#notebook-container');\n",
       "if (notebookContainer) {{\n",
       "    x.observe(notebookContainer, {childList: true});\n",
       "}}\n",
       "\n",
       "// Listen for the clearing of the current output cell\n",
       "var outputEl = gd.closest('.output');\n",
       "if (outputEl) {{\n",
       "    x.observe(outputEl, {childList: true});\n",
       "}}\n",
       "\n",
       "                        })                };                });            </script>        </div>"
      ]
     },
     "metadata": {},
     "output_type": "display_data"
    }
   ],
   "source": [
    "x = px.bar(data_frame=table4,x=\"CUSTOMER_CATEGORY\",y=\"YTD_SALES\",color=\"CUSTOMER_CATEGORY\",template=\"simple_white\",title=\"2023 Sales By Region and Customer Segment\",width= 800,facet_col=\"REGION\",facet_col_wrap=2)\n",
    "x[\"data\"][0][\"marker\"][\"color\"] = \"#408EC6\"\n",
    "x[\"data\"][1][\"marker\"][\"color\"] = \"#408EC6\"\n",
    "x[\"data\"][2][\"marker\"][\"color\"] = \"#408EC6\"\n",
    "x[\"data\"][3][\"marker\"][\"color\"] = \"#408EC6\"\n",
    "\n",
    "x[\"data\"][4][\"marker\"][\"color\"] = \"#7A2048\"\n",
    "x[\"data\"][5][\"marker\"][\"color\"] = \"#7A2048\"\n",
    "x[\"data\"][6][\"marker\"][\"color\"] = \"#7A2048\"\n",
    "x[\"data\"][7][\"marker\"][\"color\"] = \"#7A2048\"\n",
    "\n",
    "x[\"data\"][8][\"marker\"][\"color\"] = \"#1E2761\"\n",
    "x[\"data\"][9][\"marker\"][\"color\"] = \"#1E2761\"\n",
    "x[\"data\"][10][\"marker\"][\"color\"] = \"#1E2761\"\n",
    "x[\"data\"][11][\"marker\"][\"color\"] = \"#1E2761\"\n",
    "x"
   ]
  },
  {
   "cell_type": "markdown",
   "id": "f8761963",
   "metadata": {},
   "source": [
    "We could see from the distribution of sales by customer type and Region that <br>\n",
    "Except for the **US WEST Region** - End Customer had a **minimal share** in the current year sales. <br><br>\n",
    "<b> It is worth noting that Reseller had a considerable share in the US East and US WEST Region which might be the answer how come due to less customer base concludes to higher sales units  </b>\n",
    "<br>\n",
    "<br>\n",
    "<b> It is also worth taking into consideration that it might be the case due to lesser participation of the \"Resellers\" in CA EAST Region has relatively lesser sales despite of having high customer base. </b>"
   ]
  },
  {
   "cell_type": "code",
   "execution_count": 72,
   "id": "06336a06",
   "metadata": {},
   "outputs": [
    {
     "data": {
      "text/html": [
       "<div>\n",
       "<style scoped>\n",
       "    .dataframe tbody tr th:only-of-type {\n",
       "        vertical-align: middle;\n",
       "    }\n",
       "\n",
       "    .dataframe tbody tr th {\n",
       "        vertical-align: top;\n",
       "    }\n",
       "\n",
       "    .dataframe thead th {\n",
       "        text-align: right;\n",
       "    }\n",
       "</style>\n",
       "<table border=\"1\" class=\"dataframe\">\n",
       "  <thead>\n",
       "    <tr style=\"text-align: right;\">\n",
       "      <th></th>\n",
       "      <th>COUNTRY</th>\n",
       "      <th>REGION</th>\n",
       "      <th>CUSTOMER_CATEGORY</th>\n",
       "      <th>ACCOUNT_ID</th>\n",
       "      <th>PRE_YTD_SALES</th>\n",
       "      <th>YTD_SALES</th>\n",
       "    </tr>\n",
       "  </thead>\n",
       "  <tbody>\n",
       "    <tr>\n",
       "      <th>0</th>\n",
       "      <td>CA</td>\n",
       "      <td>CA EAST</td>\n",
       "      <td>Corporate</td>\n",
       "      <td>5</td>\n",
       "      <td>152.78491</td>\n",
       "      <td>232.472820</td>\n",
       "    </tr>\n",
       "    <tr>\n",
       "      <th>1</th>\n",
       "      <td>CA</td>\n",
       "      <td>CA EAST</td>\n",
       "      <td>End Customer</td>\n",
       "      <td>31</td>\n",
       "      <td>45.68353</td>\n",
       "      <td>115.651722</td>\n",
       "    </tr>\n",
       "    <tr>\n",
       "      <th>2</th>\n",
       "      <td>CA</td>\n",
       "      <td>CA EAST</td>\n",
       "      <td>Reseller</td>\n",
       "      <td>2</td>\n",
       "      <td>255.95813</td>\n",
       "      <td>299.982550</td>\n",
       "    </tr>\n",
       "    <tr>\n",
       "      <th>3</th>\n",
       "      <td>CA</td>\n",
       "      <td>CA WEST</td>\n",
       "      <td>Corporate</td>\n",
       "      <td>2</td>\n",
       "      <td>80.06572</td>\n",
       "      <td>100.409440</td>\n",
       "    </tr>\n",
       "    <tr>\n",
       "      <th>4</th>\n",
       "      <td>CA</td>\n",
       "      <td>CA WEST</td>\n",
       "      <td>End Customer</td>\n",
       "      <td>9</td>\n",
       "      <td>13.64991</td>\n",
       "      <td>17.340350</td>\n",
       "    </tr>\n",
       "    <tr>\n",
       "      <th>5</th>\n",
       "      <td>CA</td>\n",
       "      <td>CA WEST</td>\n",
       "      <td>Reseller</td>\n",
       "      <td>2</td>\n",
       "      <td>195.49553</td>\n",
       "      <td>218.249630</td>\n",
       "    </tr>\n",
       "    <tr>\n",
       "      <th>6</th>\n",
       "      <td>US</td>\n",
       "      <td>US EAST</td>\n",
       "      <td>Corporate</td>\n",
       "      <td>9</td>\n",
       "      <td>217.23747</td>\n",
       "      <td>370.432550</td>\n",
       "    </tr>\n",
       "    <tr>\n",
       "      <th>7</th>\n",
       "      <td>US</td>\n",
       "      <td>US EAST</td>\n",
       "      <td>End Customer</td>\n",
       "      <td>21</td>\n",
       "      <td>52.88671</td>\n",
       "      <td>41.312240</td>\n",
       "    </tr>\n",
       "    <tr>\n",
       "      <th>8</th>\n",
       "      <td>US</td>\n",
       "      <td>US EAST</td>\n",
       "      <td>Reseller</td>\n",
       "      <td>4</td>\n",
       "      <td>539.29728</td>\n",
       "      <td>607.313360</td>\n",
       "    </tr>\n",
       "    <tr>\n",
       "      <th>9</th>\n",
       "      <td>US</td>\n",
       "      <td>US WEST</td>\n",
       "      <td>Corporate</td>\n",
       "      <td>5</td>\n",
       "      <td>153.77069</td>\n",
       "      <td>282.641630</td>\n",
       "    </tr>\n",
       "    <tr>\n",
       "      <th>10</th>\n",
       "      <td>US</td>\n",
       "      <td>US WEST</td>\n",
       "      <td>End Customer</td>\n",
       "      <td>6</td>\n",
       "      <td>6.33372</td>\n",
       "      <td>14.165910</td>\n",
       "    </tr>\n",
       "    <tr>\n",
       "      <th>11</th>\n",
       "      <td>US</td>\n",
       "      <td>US WEST</td>\n",
       "      <td>Reseller</td>\n",
       "      <td>4</td>\n",
       "      <td>580.55641</td>\n",
       "      <td>595.957890</td>\n",
       "    </tr>\n",
       "  </tbody>\n",
       "</table>\n",
       "</div>"
      ],
      "text/plain": [
       "   COUNTRY   REGION CUSTOMER_CATEGORY  ACCOUNT_ID  PRE_YTD_SALES   YTD_SALES\n",
       "0       CA  CA EAST        Corporate            5      152.78491  232.472820\n",
       "1       CA  CA EAST      End Customer          31       45.68353  115.651722\n",
       "2       CA  CA EAST          Reseller           2      255.95813  299.982550\n",
       "3       CA  CA WEST        Corporate            2       80.06572  100.409440\n",
       "4       CA  CA WEST      End Customer           9       13.64991   17.340350\n",
       "5       CA  CA WEST          Reseller           2      195.49553  218.249630\n",
       "6       US  US EAST        Corporate            9      217.23747  370.432550\n",
       "7       US  US EAST      End Customer          21       52.88671   41.312240\n",
       "8       US  US EAST          Reseller           4      539.29728  607.313360\n",
       "9       US  US WEST        Corporate            5      153.77069  282.641630\n",
       "10      US  US WEST      End Customer           6        6.33372   14.165910\n",
       "11      US  US WEST          Reseller           4      580.55641  595.957890"
      ]
     },
     "execution_count": 72,
     "metadata": {},
     "output_type": "execute_result"
    }
   ],
   "source": [
    "table5 = pd.pivot_table(data,index=[\"COUNTRY\",\"REGION\",\"CUSTOMER_CATEGORY\"],values=[\"PRE_YTD_SALES\",\"YTD_SALES\",\"ACCOUNT_ID\"],aggfunc={'ACCOUNT_ID': \"count\", 'PRE_YTD_SALES': \"sum\",'YTD_SALES': \"sum\"})\n",
    "table5.reset_index(inplace=True)\n",
    "table5"
   ]
  },
  {
   "cell_type": "markdown",
   "id": "94d641e6",
   "metadata": {},
   "source": [
    "### Distribution of Customer base by region and Customer Segment"
   ]
  },
  {
   "cell_type": "code",
   "execution_count": 73,
   "id": "c3a3eebf",
   "metadata": {},
   "outputs": [
    {
     "data": {
      "text/html": [
       "<div>                            <div id=\"e0533db8-cf87-40a7-aafa-d07a778e1c4a\" class=\"plotly-graph-div\" style=\"height:525px; width:800px;\"></div>            <script type=\"text/javascript\">                require([\"plotly\"], function(Plotly) {                    window.PLOTLYENV=window.PLOTLYENV || {};                                    if (document.getElementById(\"e0533db8-cf87-40a7-aafa-d07a778e1c4a\")) {                    Plotly.newPlot(                        \"e0533db8-cf87-40a7-aafa-d07a778e1c4a\",                        [{\"alignmentgroup\":\"True\",\"hovertemplate\":\"Customer Type=%{x}<br>REGION=CA EAST<br>Number of Customers=%{y}<extra></extra>\",\"legendgroup\":\"Corporate \",\"marker\":{\"color\":\"#E3B448\",\"pattern\":{\"shape\":\"\"}},\"name\":\"Corporate \",\"offsetgroup\":\"Corporate \",\"orientation\":\"v\",\"showlegend\":true,\"textposition\":\"auto\",\"x\":[\"Corporate \"],\"xaxis\":\"x3\",\"y\":[5],\"yaxis\":\"y3\",\"type\":\"bar\"},{\"alignmentgroup\":\"True\",\"hovertemplate\":\"Customer Type=%{x}<br>REGION=CA WEST<br>Number of Customers=%{y}<extra></extra>\",\"legendgroup\":\"Corporate \",\"marker\":{\"color\":\"#E3B448\",\"pattern\":{\"shape\":\"\"}},\"name\":\"Corporate \",\"offsetgroup\":\"Corporate \",\"orientation\":\"v\",\"showlegend\":false,\"textposition\":\"auto\",\"x\":[\"Corporate \"],\"xaxis\":\"x4\",\"y\":[2],\"yaxis\":\"y4\",\"type\":\"bar\"},{\"alignmentgroup\":\"True\",\"hovertemplate\":\"Customer Type=%{x}<br>REGION=US EAST<br>Number of Customers=%{y}<extra></extra>\",\"legendgroup\":\"Corporate \",\"marker\":{\"color\":\"#E3B448\",\"pattern\":{\"shape\":\"\"}},\"name\":\"Corporate \",\"offsetgroup\":\"Corporate \",\"orientation\":\"v\",\"showlegend\":false,\"textposition\":\"auto\",\"x\":[\"Corporate \"],\"xaxis\":\"x\",\"y\":[9],\"yaxis\":\"y\",\"type\":\"bar\"},{\"alignmentgroup\":\"True\",\"hovertemplate\":\"Customer Type=%{x}<br>REGION=US WEST<br>Number of Customers=%{y}<extra></extra>\",\"legendgroup\":\"Corporate \",\"marker\":{\"color\":\"#E3B448\",\"pattern\":{\"shape\":\"\"}},\"name\":\"Corporate \",\"offsetgroup\":\"Corporate \",\"orientation\":\"v\",\"showlegend\":false,\"textposition\":\"auto\",\"x\":[\"Corporate \"],\"xaxis\":\"x2\",\"y\":[5],\"yaxis\":\"y2\",\"type\":\"bar\"},{\"alignmentgroup\":\"True\",\"hovertemplate\":\"Customer Type=%{x}<br>REGION=CA EAST<br>Number of Customers=%{y}<extra></extra>\",\"legendgroup\":\"End Customer\",\"marker\":{\"color\":\"#3A6B35\",\"pattern\":{\"shape\":\"\"}},\"name\":\"End Customer\",\"offsetgroup\":\"End Customer\",\"orientation\":\"v\",\"showlegend\":true,\"textposition\":\"auto\",\"x\":[\"End Customer\"],\"xaxis\":\"x3\",\"y\":[31],\"yaxis\":\"y3\",\"type\":\"bar\"},{\"alignmentgroup\":\"True\",\"hovertemplate\":\"Customer Type=%{x}<br>REGION=CA WEST<br>Number of Customers=%{y}<extra></extra>\",\"legendgroup\":\"End Customer\",\"marker\":{\"color\":\"#3A6B35\",\"pattern\":{\"shape\":\"\"}},\"name\":\"End Customer\",\"offsetgroup\":\"End Customer\",\"orientation\":\"v\",\"showlegend\":false,\"textposition\":\"auto\",\"x\":[\"End Customer\"],\"xaxis\":\"x4\",\"y\":[9],\"yaxis\":\"y4\",\"type\":\"bar\"},{\"alignmentgroup\":\"True\",\"hovertemplate\":\"Customer Type=%{x}<br>REGION=US EAST<br>Number of Customers=%{y}<extra></extra>\",\"legendgroup\":\"End Customer\",\"marker\":{\"color\":\"#3A6B35\",\"pattern\":{\"shape\":\"\"}},\"name\":\"End Customer\",\"offsetgroup\":\"End Customer\",\"orientation\":\"v\",\"showlegend\":false,\"textposition\":\"auto\",\"x\":[\"End Customer\"],\"xaxis\":\"x\",\"y\":[21],\"yaxis\":\"y\",\"type\":\"bar\"},{\"alignmentgroup\":\"True\",\"hovertemplate\":\"Customer Type=%{x}<br>REGION=US WEST<br>Number of Customers=%{y}<extra></extra>\",\"legendgroup\":\"End Customer\",\"marker\":{\"color\":\"#3A6B35\",\"pattern\":{\"shape\":\"\"}},\"name\":\"End Customer\",\"offsetgroup\":\"End Customer\",\"orientation\":\"v\",\"showlegend\":false,\"textposition\":\"auto\",\"x\":[\"End Customer\"],\"xaxis\":\"x2\",\"y\":[6],\"yaxis\":\"y2\",\"type\":\"bar\"},{\"alignmentgroup\":\"True\",\"hovertemplate\":\"Customer Type=%{x}<br>REGION=CA EAST<br>Number of Customers=%{y}<extra></extra>\",\"legendgroup\":\"Reseller\",\"marker\":{\"color\":\"#fd00c9\",\"pattern\":{\"shape\":\"\"}},\"name\":\"Reseller\",\"offsetgroup\":\"Reseller\",\"orientation\":\"v\",\"showlegend\":true,\"textposition\":\"auto\",\"x\":[\"Reseller\"],\"xaxis\":\"x3\",\"y\":[2],\"yaxis\":\"y3\",\"type\":\"bar\"},{\"alignmentgroup\":\"True\",\"hovertemplate\":\"Customer Type=%{x}<br>REGION=CA WEST<br>Number of Customers=%{y}<extra></extra>\",\"legendgroup\":\"Reseller\",\"marker\":{\"color\":\"#fd00c9\",\"pattern\":{\"shape\":\"\"}},\"name\":\"Reseller\",\"offsetgroup\":\"Reseller\",\"orientation\":\"v\",\"showlegend\":false,\"textposition\":\"auto\",\"x\":[\"Reseller\"],\"xaxis\":\"x4\",\"y\":[2],\"yaxis\":\"y4\",\"type\":\"bar\"},{\"alignmentgroup\":\"True\",\"hovertemplate\":\"Customer Type=%{x}<br>REGION=US EAST<br>Number of Customers=%{y}<extra></extra>\",\"legendgroup\":\"Reseller\",\"marker\":{\"color\":\"#fd00c9\",\"pattern\":{\"shape\":\"\"}},\"name\":\"Reseller\",\"offsetgroup\":\"Reseller\",\"orientation\":\"v\",\"showlegend\":false,\"textposition\":\"auto\",\"x\":[\"Reseller\"],\"xaxis\":\"x\",\"y\":[4],\"yaxis\":\"y\",\"type\":\"bar\"},{\"alignmentgroup\":\"True\",\"hovertemplate\":\"Customer Type=%{x}<br>REGION=US WEST<br>Number of Customers=%{y}<extra></extra>\",\"legendgroup\":\"Reseller\",\"marker\":{\"color\":\"#fd00c9\",\"pattern\":{\"shape\":\"\"}},\"name\":\"Reseller\",\"offsetgroup\":\"Reseller\",\"orientation\":\"v\",\"showlegend\":false,\"textposition\":\"auto\",\"x\":[\"Reseller\"],\"xaxis\":\"x2\",\"y\":[4],\"yaxis\":\"y2\",\"type\":\"bar\"}],                        {\"template\":{\"data\":{\"barpolar\":[{\"marker\":{\"line\":{\"color\":\"white\",\"width\":0.5},\"pattern\":{\"fillmode\":\"overlay\",\"size\":10,\"solidity\":0.2}},\"type\":\"barpolar\"}],\"bar\":[{\"error_x\":{\"color\":\"rgb(36,36,36)\"},\"error_y\":{\"color\":\"rgb(36,36,36)\"},\"marker\":{\"line\":{\"color\":\"white\",\"width\":0.5},\"pattern\":{\"fillmode\":\"overlay\",\"size\":10,\"solidity\":0.2}},\"type\":\"bar\"}],\"carpet\":[{\"aaxis\":{\"endlinecolor\":\"rgb(36,36,36)\",\"gridcolor\":\"white\",\"linecolor\":\"white\",\"minorgridcolor\":\"white\",\"startlinecolor\":\"rgb(36,36,36)\"},\"baxis\":{\"endlinecolor\":\"rgb(36,36,36)\",\"gridcolor\":\"white\",\"linecolor\":\"white\",\"minorgridcolor\":\"white\",\"startlinecolor\":\"rgb(36,36,36)\"},\"type\":\"carpet\"}],\"choropleth\":[{\"colorbar\":{\"outlinewidth\":1,\"tickcolor\":\"rgb(36,36,36)\",\"ticks\":\"outside\"},\"type\":\"choropleth\"}],\"contourcarpet\":[{\"colorbar\":{\"outlinewidth\":1,\"tickcolor\":\"rgb(36,36,36)\",\"ticks\":\"outside\"},\"type\":\"contourcarpet\"}],\"contour\":[{\"colorbar\":{\"outlinewidth\":1,\"tickcolor\":\"rgb(36,36,36)\",\"ticks\":\"outside\"},\"colorscale\":[[0.0,\"#440154\"],[0.1111111111111111,\"#482878\"],[0.2222222222222222,\"#3e4989\"],[0.3333333333333333,\"#31688e\"],[0.4444444444444444,\"#26828e\"],[0.5555555555555556,\"#1f9e89\"],[0.6666666666666666,\"#35b779\"],[0.7777777777777778,\"#6ece58\"],[0.8888888888888888,\"#b5de2b\"],[1.0,\"#fde725\"]],\"type\":\"contour\"}],\"heatmapgl\":[{\"colorbar\":{\"outlinewidth\":1,\"tickcolor\":\"rgb(36,36,36)\",\"ticks\":\"outside\"},\"colorscale\":[[0.0,\"#440154\"],[0.1111111111111111,\"#482878\"],[0.2222222222222222,\"#3e4989\"],[0.3333333333333333,\"#31688e\"],[0.4444444444444444,\"#26828e\"],[0.5555555555555556,\"#1f9e89\"],[0.6666666666666666,\"#35b779\"],[0.7777777777777778,\"#6ece58\"],[0.8888888888888888,\"#b5de2b\"],[1.0,\"#fde725\"]],\"type\":\"heatmapgl\"}],\"heatmap\":[{\"colorbar\":{\"outlinewidth\":1,\"tickcolor\":\"rgb(36,36,36)\",\"ticks\":\"outside\"},\"colorscale\":[[0.0,\"#440154\"],[0.1111111111111111,\"#482878\"],[0.2222222222222222,\"#3e4989\"],[0.3333333333333333,\"#31688e\"],[0.4444444444444444,\"#26828e\"],[0.5555555555555556,\"#1f9e89\"],[0.6666666666666666,\"#35b779\"],[0.7777777777777778,\"#6ece58\"],[0.8888888888888888,\"#b5de2b\"],[1.0,\"#fde725\"]],\"type\":\"heatmap\"}],\"histogram2dcontour\":[{\"colorbar\":{\"outlinewidth\":1,\"tickcolor\":\"rgb(36,36,36)\",\"ticks\":\"outside\"},\"colorscale\":[[0.0,\"#440154\"],[0.1111111111111111,\"#482878\"],[0.2222222222222222,\"#3e4989\"],[0.3333333333333333,\"#31688e\"],[0.4444444444444444,\"#26828e\"],[0.5555555555555556,\"#1f9e89\"],[0.6666666666666666,\"#35b779\"],[0.7777777777777778,\"#6ece58\"],[0.8888888888888888,\"#b5de2b\"],[1.0,\"#fde725\"]],\"type\":\"histogram2dcontour\"}],\"histogram2d\":[{\"colorbar\":{\"outlinewidth\":1,\"tickcolor\":\"rgb(36,36,36)\",\"ticks\":\"outside\"},\"colorscale\":[[0.0,\"#440154\"],[0.1111111111111111,\"#482878\"],[0.2222222222222222,\"#3e4989\"],[0.3333333333333333,\"#31688e\"],[0.4444444444444444,\"#26828e\"],[0.5555555555555556,\"#1f9e89\"],[0.6666666666666666,\"#35b779\"],[0.7777777777777778,\"#6ece58\"],[0.8888888888888888,\"#b5de2b\"],[1.0,\"#fde725\"]],\"type\":\"histogram2d\"}],\"histogram\":[{\"marker\":{\"line\":{\"color\":\"white\",\"width\":0.6}},\"type\":\"histogram\"}],\"mesh3d\":[{\"colorbar\":{\"outlinewidth\":1,\"tickcolor\":\"rgb(36,36,36)\",\"ticks\":\"outside\"},\"type\":\"mesh3d\"}],\"parcoords\":[{\"line\":{\"colorbar\":{\"outlinewidth\":1,\"tickcolor\":\"rgb(36,36,36)\",\"ticks\":\"outside\"}},\"type\":\"parcoords\"}],\"pie\":[{\"automargin\":true,\"type\":\"pie\"}],\"scatter3d\":[{\"line\":{\"colorbar\":{\"outlinewidth\":1,\"tickcolor\":\"rgb(36,36,36)\",\"ticks\":\"outside\"}},\"marker\":{\"colorbar\":{\"outlinewidth\":1,\"tickcolor\":\"rgb(36,36,36)\",\"ticks\":\"outside\"}},\"type\":\"scatter3d\"}],\"scattercarpet\":[{\"marker\":{\"colorbar\":{\"outlinewidth\":1,\"tickcolor\":\"rgb(36,36,36)\",\"ticks\":\"outside\"}},\"type\":\"scattercarpet\"}],\"scattergeo\":[{\"marker\":{\"colorbar\":{\"outlinewidth\":1,\"tickcolor\":\"rgb(36,36,36)\",\"ticks\":\"outside\"}},\"type\":\"scattergeo\"}],\"scattergl\":[{\"marker\":{\"colorbar\":{\"outlinewidth\":1,\"tickcolor\":\"rgb(36,36,36)\",\"ticks\":\"outside\"}},\"type\":\"scattergl\"}],\"scattermapbox\":[{\"marker\":{\"colorbar\":{\"outlinewidth\":1,\"tickcolor\":\"rgb(36,36,36)\",\"ticks\":\"outside\"}},\"type\":\"scattermapbox\"}],\"scatterpolargl\":[{\"marker\":{\"colorbar\":{\"outlinewidth\":1,\"tickcolor\":\"rgb(36,36,36)\",\"ticks\":\"outside\"}},\"type\":\"scatterpolargl\"}],\"scatterpolar\":[{\"marker\":{\"colorbar\":{\"outlinewidth\":1,\"tickcolor\":\"rgb(36,36,36)\",\"ticks\":\"outside\"}},\"type\":\"scatterpolar\"}],\"scatter\":[{\"fillpattern\":{\"fillmode\":\"overlay\",\"size\":10,\"solidity\":0.2},\"type\":\"scatter\"}],\"scatterternary\":[{\"marker\":{\"colorbar\":{\"outlinewidth\":1,\"tickcolor\":\"rgb(36,36,36)\",\"ticks\":\"outside\"}},\"type\":\"scatterternary\"}],\"surface\":[{\"colorbar\":{\"outlinewidth\":1,\"tickcolor\":\"rgb(36,36,36)\",\"ticks\":\"outside\"},\"colorscale\":[[0.0,\"#440154\"],[0.1111111111111111,\"#482878\"],[0.2222222222222222,\"#3e4989\"],[0.3333333333333333,\"#31688e\"],[0.4444444444444444,\"#26828e\"],[0.5555555555555556,\"#1f9e89\"],[0.6666666666666666,\"#35b779\"],[0.7777777777777778,\"#6ece58\"],[0.8888888888888888,\"#b5de2b\"],[1.0,\"#fde725\"]],\"type\":\"surface\"}],\"table\":[{\"cells\":{\"fill\":{\"color\":\"rgb(237,237,237)\"},\"line\":{\"color\":\"white\"}},\"header\":{\"fill\":{\"color\":\"rgb(217,217,217)\"},\"line\":{\"color\":\"white\"}},\"type\":\"table\"}]},\"layout\":{\"annotationdefaults\":{\"arrowhead\":0,\"arrowwidth\":1},\"autotypenumbers\":\"strict\",\"coloraxis\":{\"colorbar\":{\"outlinewidth\":1,\"tickcolor\":\"rgb(36,36,36)\",\"ticks\":\"outside\"}},\"colorscale\":{\"diverging\":[[0.0,\"rgb(103,0,31)\"],[0.1,\"rgb(178,24,43)\"],[0.2,\"rgb(214,96,77)\"],[0.3,\"rgb(244,165,130)\"],[0.4,\"rgb(253,219,199)\"],[0.5,\"rgb(247,247,247)\"],[0.6,\"rgb(209,229,240)\"],[0.7,\"rgb(146,197,222)\"],[0.8,\"rgb(67,147,195)\"],[0.9,\"rgb(33,102,172)\"],[1.0,\"rgb(5,48,97)\"]],\"sequential\":[[0.0,\"#440154\"],[0.1111111111111111,\"#482878\"],[0.2222222222222222,\"#3e4989\"],[0.3333333333333333,\"#31688e\"],[0.4444444444444444,\"#26828e\"],[0.5555555555555556,\"#1f9e89\"],[0.6666666666666666,\"#35b779\"],[0.7777777777777778,\"#6ece58\"],[0.8888888888888888,\"#b5de2b\"],[1.0,\"#fde725\"]],\"sequentialminus\":[[0.0,\"#440154\"],[0.1111111111111111,\"#482878\"],[0.2222222222222222,\"#3e4989\"],[0.3333333333333333,\"#31688e\"],[0.4444444444444444,\"#26828e\"],[0.5555555555555556,\"#1f9e89\"],[0.6666666666666666,\"#35b779\"],[0.7777777777777778,\"#6ece58\"],[0.8888888888888888,\"#b5de2b\"],[1.0,\"#fde725\"]]},\"colorway\":[\"#1F77B4\",\"#FF7F0E\",\"#2CA02C\",\"#D62728\",\"#9467BD\",\"#8C564B\",\"#E377C2\",\"#7F7F7F\",\"#BCBD22\",\"#17BECF\"],\"font\":{\"color\":\"rgb(36,36,36)\"},\"geo\":{\"bgcolor\":\"white\",\"lakecolor\":\"white\",\"landcolor\":\"white\",\"showlakes\":true,\"showland\":true,\"subunitcolor\":\"white\"},\"hoverlabel\":{\"align\":\"left\"},\"hovermode\":\"closest\",\"mapbox\":{\"style\":\"light\"},\"paper_bgcolor\":\"white\",\"plot_bgcolor\":\"white\",\"polar\":{\"angularaxis\":{\"gridcolor\":\"rgb(232,232,232)\",\"linecolor\":\"rgb(36,36,36)\",\"showgrid\":false,\"showline\":true,\"ticks\":\"outside\"},\"bgcolor\":\"white\",\"radialaxis\":{\"gridcolor\":\"rgb(232,232,232)\",\"linecolor\":\"rgb(36,36,36)\",\"showgrid\":false,\"showline\":true,\"ticks\":\"outside\"}},\"scene\":{\"xaxis\":{\"backgroundcolor\":\"white\",\"gridcolor\":\"rgb(232,232,232)\",\"gridwidth\":2,\"linecolor\":\"rgb(36,36,36)\",\"showbackground\":true,\"showgrid\":false,\"showline\":true,\"ticks\":\"outside\",\"zeroline\":false,\"zerolinecolor\":\"rgb(36,36,36)\"},\"yaxis\":{\"backgroundcolor\":\"white\",\"gridcolor\":\"rgb(232,232,232)\",\"gridwidth\":2,\"linecolor\":\"rgb(36,36,36)\",\"showbackground\":true,\"showgrid\":false,\"showline\":true,\"ticks\":\"outside\",\"zeroline\":false,\"zerolinecolor\":\"rgb(36,36,36)\"},\"zaxis\":{\"backgroundcolor\":\"white\",\"gridcolor\":\"rgb(232,232,232)\",\"gridwidth\":2,\"linecolor\":\"rgb(36,36,36)\",\"showbackground\":true,\"showgrid\":false,\"showline\":true,\"ticks\":\"outside\",\"zeroline\":false,\"zerolinecolor\":\"rgb(36,36,36)\"}},\"shapedefaults\":{\"fillcolor\":\"black\",\"line\":{\"width\":0},\"opacity\":0.3},\"ternary\":{\"aaxis\":{\"gridcolor\":\"rgb(232,232,232)\",\"linecolor\":\"rgb(36,36,36)\",\"showgrid\":false,\"showline\":true,\"ticks\":\"outside\"},\"baxis\":{\"gridcolor\":\"rgb(232,232,232)\",\"linecolor\":\"rgb(36,36,36)\",\"showgrid\":false,\"showline\":true,\"ticks\":\"outside\"},\"bgcolor\":\"white\",\"caxis\":{\"gridcolor\":\"rgb(232,232,232)\",\"linecolor\":\"rgb(36,36,36)\",\"showgrid\":false,\"showline\":true,\"ticks\":\"outside\"}},\"title\":{\"x\":0.05},\"xaxis\":{\"automargin\":true,\"gridcolor\":\"rgb(232,232,232)\",\"linecolor\":\"rgb(36,36,36)\",\"showgrid\":false,\"showline\":true,\"ticks\":\"outside\",\"title\":{\"standoff\":15},\"zeroline\":false,\"zerolinecolor\":\"rgb(36,36,36)\"},\"yaxis\":{\"automargin\":true,\"gridcolor\":\"rgb(232,232,232)\",\"linecolor\":\"rgb(36,36,36)\",\"showgrid\":false,\"showline\":true,\"ticks\":\"outside\",\"title\":{\"standoff\":15},\"zeroline\":false,\"zerolinecolor\":\"rgb(36,36,36)\"}}},\"xaxis\":{\"anchor\":\"y\",\"domain\":[0.0,0.49],\"title\":{\"text\":\"Customer Type\"},\"categoryorder\":\"array\",\"categoryarray\":[\"Corporate \",\"End Customer\",\"Reseller\"]},\"yaxis\":{\"anchor\":\"x\",\"domain\":[0.0,0.46499999999999997],\"title\":{\"text\":\"Number of Customers\"}},\"xaxis2\":{\"anchor\":\"y2\",\"domain\":[0.51,1.0],\"matches\":\"x\",\"title\":{\"text\":\"Customer Type\"},\"categoryorder\":\"array\",\"categoryarray\":[\"Corporate \",\"End Customer\",\"Reseller\"]},\"yaxis2\":{\"anchor\":\"x2\",\"domain\":[0.0,0.46499999999999997],\"matches\":\"y\",\"showticklabels\":false},\"xaxis3\":{\"anchor\":\"y3\",\"domain\":[0.0,0.49],\"matches\":\"x\",\"showticklabels\":false},\"yaxis3\":{\"anchor\":\"x3\",\"domain\":[0.5349999999999999,0.9999999999999999],\"matches\":\"y\",\"title\":{\"text\":\"Number of Customers\"}},\"xaxis4\":{\"anchor\":\"y4\",\"domain\":[0.51,1.0],\"matches\":\"x\",\"showticklabels\":false},\"yaxis4\":{\"anchor\":\"x4\",\"domain\":[0.5349999999999999,0.9999999999999999],\"matches\":\"y\",\"showticklabels\":false},\"annotations\":[{\"font\":{},\"showarrow\":false,\"text\":\"REGION=US EAST\",\"x\":0.245,\"xanchor\":\"center\",\"xref\":\"paper\",\"y\":0.46499999999999997,\"yanchor\":\"bottom\",\"yref\":\"paper\"},{\"font\":{},\"showarrow\":false,\"text\":\"REGION=US WEST\",\"x\":0.755,\"xanchor\":\"center\",\"xref\":\"paper\",\"y\":0.46499999999999997,\"yanchor\":\"bottom\",\"yref\":\"paper\"},{\"font\":{},\"showarrow\":false,\"text\":\"REGION=CA EAST\",\"x\":0.245,\"xanchor\":\"center\",\"xref\":\"paper\",\"y\":0.9999999999999999,\"yanchor\":\"bottom\",\"yref\":\"paper\"},{\"font\":{},\"showarrow\":false,\"text\":\"REGION=CA WEST\",\"x\":0.755,\"xanchor\":\"center\",\"xref\":\"paper\",\"y\":0.9999999999999999,\"yanchor\":\"bottom\",\"yref\":\"paper\"}],\"legend\":{\"title\":{\"text\":\"Customer Type\"},\"tracegroupgap\":0},\"title\":{\"text\":\"Distribution of Customer base by Region and Customer Segment\"},\"barmode\":\"relative\",\"width\":800},                        {\"responsive\": true}                    ).then(function(){\n",
       "                            \n",
       "var gd = document.getElementById('e0533db8-cf87-40a7-aafa-d07a778e1c4a');\n",
       "var x = new MutationObserver(function (mutations, observer) {{\n",
       "        var display = window.getComputedStyle(gd).display;\n",
       "        if (!display || display === 'none') {{\n",
       "            console.log([gd, 'removed!']);\n",
       "            Plotly.purge(gd);\n",
       "            observer.disconnect();\n",
       "        }}\n",
       "}});\n",
       "\n",
       "// Listen for the removal of the full notebook cells\n",
       "var notebookContainer = gd.closest('#notebook-container');\n",
       "if (notebookContainer) {{\n",
       "    x.observe(notebookContainer, {childList: true});\n",
       "}}\n",
       "\n",
       "// Listen for the clearing of the current output cell\n",
       "var outputEl = gd.closest('.output');\n",
       "if (outputEl) {{\n",
       "    x.observe(outputEl, {childList: true});\n",
       "}}\n",
       "\n",
       "                        })                };                });            </script>        </div>"
      ]
     },
     "metadata": {},
     "output_type": "display_data"
    }
   ],
   "source": [
    "x = px.bar(data_frame=table5,x=\"CUSTOMER_CATEGORY\",y=\"ACCOUNT_ID\",color=\"CUSTOMER_CATEGORY\",template=\"simple_white\",title=\"Distribution of Customer base by Region and Customer Segment\",\n",
    "           width= 800,facet_col=\"REGION\",facet_col_wrap=2,labels=dict(ACCOUNT_ID = \"Number of Customers\",CUSTOMER_CATEGORY = \"Customer Type\"))\n",
    "x[\"data\"][0][\"marker\"][\"color\"] = \"#E3B448\"\n",
    "x[\"data\"][1][\"marker\"][\"color\"] = \"#E3B448\"\n",
    "x[\"data\"][2][\"marker\"][\"color\"] = \"#E3B448\"\n",
    "x[\"data\"][3][\"marker\"][\"color\"] = \"#E3B448\"\n",
    "\n",
    "x[\"data\"][4][\"marker\"][\"color\"] = \"#3A6B35\"\n",
    "x[\"data\"][5][\"marker\"][\"color\"] = \"#3A6B35\"\n",
    "x[\"data\"][6][\"marker\"][\"color\"] = \"#3A6B35\"\n",
    "x[\"data\"][7][\"marker\"][\"color\"] = \"#3A6B35\"\n",
    "\n",
    "x[\"data\"][8][\"marker\"][\"color\"] = \"#fd00c9\"\n",
    "x[\"data\"][9][\"marker\"][\"color\"] = \"#fd00c9\"\n",
    "x[\"data\"][10][\"marker\"][\"color\"] = \"#fd00c9\"\n",
    "x[\"data\"][11][\"marker\"][\"color\"] = \"#fd00c9\"\n",
    "x"
   ]
  },
  {
   "cell_type": "markdown",
   "id": "f4d168bb",
   "metadata": {},
   "source": [
    "It is important to note that **CA EAST** and **US EAST** have a **high number of End Customers** to handle. It also clarifies that due to **less number of resellers in CA EAST** it demonstrates **dip in Sales units** for 2023."
   ]
  },
  {
   "cell_type": "markdown",
   "id": "f9d2db4c",
   "metadata": {},
   "source": [
    "##### Also a similar trend is depicted across Number of Customer Distribution in East Regions and West Regions\n",
    "Where East Regions have relatively more End Customers than other customer segments."
   ]
  },
  {
   "cell_type": "markdown",
   "id": "a17344bc",
   "metadata": {},
   "source": [
    "Lets move on from Region & Customer Segment to Sales leader and Sales VP"
   ]
  },
  {
   "cell_type": "markdown",
   "id": "6076f184",
   "metadata": {},
   "source": [
    "### Overall Performance of Sales Leaders"
   ]
  },
  {
   "cell_type": "code",
   "execution_count": 74,
   "id": "1fe68891",
   "metadata": {},
   "outputs": [
    {
     "data": {
      "text/html": [
       "<div>\n",
       "<style scoped>\n",
       "    .dataframe tbody tr th:only-of-type {\n",
       "        vertical-align: middle;\n",
       "    }\n",
       "\n",
       "    .dataframe tbody tr th {\n",
       "        vertical-align: top;\n",
       "    }\n",
       "\n",
       "    .dataframe thead th {\n",
       "        text-align: right;\n",
       "    }\n",
       "</style>\n",
       "<table border=\"1\" class=\"dataframe\">\n",
       "  <thead>\n",
       "    <tr style=\"text-align: right;\">\n",
       "      <th></th>\n",
       "      <th>SALES_VICE_PRESIDENT</th>\n",
       "      <th>SALES_LEADER</th>\n",
       "      <th>COUNTRY</th>\n",
       "      <th>REGION</th>\n",
       "      <th>ACCOUNT_ID</th>\n",
       "      <th>PRE_YTD_SALES</th>\n",
       "      <th>YTD_SALES</th>\n",
       "    </tr>\n",
       "  </thead>\n",
       "  <tbody>\n",
       "    <tr>\n",
       "      <th>0</th>\n",
       "      <td>Adem Osborne</td>\n",
       "      <td>Iram Luna</td>\n",
       "      <td>CA</td>\n",
       "      <td>CA EAST</td>\n",
       "      <td>25</td>\n",
       "      <td>313.36623</td>\n",
       "      <td>438.091032</td>\n",
       "    </tr>\n",
       "    <tr>\n",
       "      <th>1</th>\n",
       "      <td>Adem Osborne</td>\n",
       "      <td>Shahzaib Mahoney</td>\n",
       "      <td>CA</td>\n",
       "      <td>CA EAST</td>\n",
       "      <td>13</td>\n",
       "      <td>141.06034</td>\n",
       "      <td>210.016060</td>\n",
       "    </tr>\n",
       "    <tr>\n",
       "      <th>2</th>\n",
       "      <td>Esa Walton</td>\n",
       "      <td>Zaid Nunez</td>\n",
       "      <td>CA</td>\n",
       "      <td>CA WEST</td>\n",
       "      <td>13</td>\n",
       "      <td>289.21116</td>\n",
       "      <td>335.999420</td>\n",
       "    </tr>\n",
       "    <tr>\n",
       "      <th>3</th>\n",
       "      <td>Hattie Beattie</td>\n",
       "      <td>Nicole Stamp</td>\n",
       "      <td>US</td>\n",
       "      <td>US EAST</td>\n",
       "      <td>34</td>\n",
       "      <td>809.42146</td>\n",
       "      <td>1019.058150</td>\n",
       "    </tr>\n",
       "    <tr>\n",
       "      <th>4</th>\n",
       "      <td>Matas Walmsley</td>\n",
       "      <td>Atlanta Avila</td>\n",
       "      <td>US</td>\n",
       "      <td>US WEST</td>\n",
       "      <td>3</td>\n",
       "      <td>38.70184</td>\n",
       "      <td>60.601290</td>\n",
       "    </tr>\n",
       "    <tr>\n",
       "      <th>5</th>\n",
       "      <td>Matas Walmsley</td>\n",
       "      <td>Taliah Pope</td>\n",
       "      <td>US</td>\n",
       "      <td>US WEST</td>\n",
       "      <td>12</td>\n",
       "      <td>701.95898</td>\n",
       "      <td>832.164140</td>\n",
       "    </tr>\n",
       "  </tbody>\n",
       "</table>\n",
       "</div>"
      ],
      "text/plain": [
       "  SALES_VICE_PRESIDENT      SALES_LEADER COUNTRY   REGION  ACCOUNT_ID  \\\n",
       "0         Adem Osborne         Iram Luna      CA  CA EAST          25   \n",
       "1         Adem Osborne  Shahzaib Mahoney      CA  CA EAST          13   \n",
       "2           Esa Walton        Zaid Nunez      CA  CA WEST          13   \n",
       "3       Hattie Beattie      Nicole Stamp      US  US EAST          34   \n",
       "4       Matas Walmsley     Atlanta Avila      US  US WEST           3   \n",
       "5       Matas Walmsley       Taliah Pope      US  US WEST          12   \n",
       "\n",
       "   PRE_YTD_SALES    YTD_SALES  \n",
       "0      313.36623   438.091032  \n",
       "1      141.06034   210.016060  \n",
       "2      289.21116   335.999420  \n",
       "3      809.42146  1019.058150  \n",
       "4       38.70184    60.601290  \n",
       "5      701.95898   832.164140  "
      ]
     },
     "execution_count": 74,
     "metadata": {},
     "output_type": "execute_result"
    }
   ],
   "source": [
    "table6 = pd.pivot_table(data,index=[\"SALES_VICE_PRESIDENT\",\"SALES_LEADER\",\"COUNTRY\",\"REGION\"],values=[\"PRE_YTD_SALES\",\"YTD_SALES\",\"ACCOUNT_ID\"],aggfunc={'ACCOUNT_ID': \"count\", 'PRE_YTD_SALES': \"sum\",'YTD_SALES': \"sum\"})\n",
    "table6.reset_index(inplace=True)\n",
    "table6"
   ]
  },
  {
   "cell_type": "markdown",
   "id": "891bc9ba",
   "metadata": {},
   "source": [
    "#### Performance of Sales Leader for 2023"
   ]
  },
  {
   "cell_type": "code",
   "execution_count": 75,
   "id": "d98f30cf",
   "metadata": {},
   "outputs": [
    {
     "data": {
      "text/html": [
       "<div>                            <div id=\"5d9fa8f3-0db5-4684-907b-50c88f16cb47\" class=\"plotly-graph-div\" style=\"height:525px; width:800px;\"></div>            <script type=\"text/javascript\">                require([\"plotly\"], function(Plotly) {                    window.PLOTLYENV=window.PLOTLYENV || {};                                    if (document.getElementById(\"5d9fa8f3-0db5-4684-907b-50c88f16cb47\")) {                    Plotly.newPlot(                        \"5d9fa8f3-0db5-4684-907b-50c88f16cb47\",                        [{\"alignmentgroup\":\"True\",\"hovertemplate\":\"COUNTRY=CA<br>SALES_LEADER=%{x}<br>YTD_SALES=%{y}<extra></extra>\",\"legendgroup\":\"CA\",\"marker\":{\"color\":\"#EF3340\",\"pattern\":{\"shape\":\"\"}},\"name\":\"CA\",\"offsetgroup\":\"CA\",\"orientation\":\"v\",\"showlegend\":true,\"textposition\":\"auto\",\"x\":[\"Iram Luna\",\"Shahzaib Mahoney\",\"Zaid Nunez\"],\"xaxis\":\"x\",\"y\":[438.0910318367347,210.01606,335.99942],\"yaxis\":\"y\",\"type\":\"bar\"},{\"alignmentgroup\":\"True\",\"hovertemplate\":\"COUNTRY=US<br>SALES_LEADER=%{x}<br>YTD_SALES=%{y}<extra></extra>\",\"legendgroup\":\"US\",\"marker\":{\"color\":\"#002868\",\"pattern\":{\"shape\":\"\"}},\"name\":\"US\",\"offsetgroup\":\"US\",\"orientation\":\"v\",\"showlegend\":true,\"textposition\":\"auto\",\"x\":[\"Nicole Stamp\",\"Atlanta Avila\",\"Taliah Pope\"],\"xaxis\":\"x\",\"y\":[1019.05815,60.60129,832.16414],\"yaxis\":\"y\",\"type\":\"bar\"}],                        {\"template\":{\"data\":{\"barpolar\":[{\"marker\":{\"line\":{\"color\":\"white\",\"width\":0.5},\"pattern\":{\"fillmode\":\"overlay\",\"size\":10,\"solidity\":0.2}},\"type\":\"barpolar\"}],\"bar\":[{\"error_x\":{\"color\":\"rgb(36,36,36)\"},\"error_y\":{\"color\":\"rgb(36,36,36)\"},\"marker\":{\"line\":{\"color\":\"white\",\"width\":0.5},\"pattern\":{\"fillmode\":\"overlay\",\"size\":10,\"solidity\":0.2}},\"type\":\"bar\"}],\"carpet\":[{\"aaxis\":{\"endlinecolor\":\"rgb(36,36,36)\",\"gridcolor\":\"white\",\"linecolor\":\"white\",\"minorgridcolor\":\"white\",\"startlinecolor\":\"rgb(36,36,36)\"},\"baxis\":{\"endlinecolor\":\"rgb(36,36,36)\",\"gridcolor\":\"white\",\"linecolor\":\"white\",\"minorgridcolor\":\"white\",\"startlinecolor\":\"rgb(36,36,36)\"},\"type\":\"carpet\"}],\"choropleth\":[{\"colorbar\":{\"outlinewidth\":1,\"tickcolor\":\"rgb(36,36,36)\",\"ticks\":\"outside\"},\"type\":\"choropleth\"}],\"contourcarpet\":[{\"colorbar\":{\"outlinewidth\":1,\"tickcolor\":\"rgb(36,36,36)\",\"ticks\":\"outside\"},\"type\":\"contourcarpet\"}],\"contour\":[{\"colorbar\":{\"outlinewidth\":1,\"tickcolor\":\"rgb(36,36,36)\",\"ticks\":\"outside\"},\"colorscale\":[[0.0,\"#440154\"],[0.1111111111111111,\"#482878\"],[0.2222222222222222,\"#3e4989\"],[0.3333333333333333,\"#31688e\"],[0.4444444444444444,\"#26828e\"],[0.5555555555555556,\"#1f9e89\"],[0.6666666666666666,\"#35b779\"],[0.7777777777777778,\"#6ece58\"],[0.8888888888888888,\"#b5de2b\"],[1.0,\"#fde725\"]],\"type\":\"contour\"}],\"heatmapgl\":[{\"colorbar\":{\"outlinewidth\":1,\"tickcolor\":\"rgb(36,36,36)\",\"ticks\":\"outside\"},\"colorscale\":[[0.0,\"#440154\"],[0.1111111111111111,\"#482878\"],[0.2222222222222222,\"#3e4989\"],[0.3333333333333333,\"#31688e\"],[0.4444444444444444,\"#26828e\"],[0.5555555555555556,\"#1f9e89\"],[0.6666666666666666,\"#35b779\"],[0.7777777777777778,\"#6ece58\"],[0.8888888888888888,\"#b5de2b\"],[1.0,\"#fde725\"]],\"type\":\"heatmapgl\"}],\"heatmap\":[{\"colorbar\":{\"outlinewidth\":1,\"tickcolor\":\"rgb(36,36,36)\",\"ticks\":\"outside\"},\"colorscale\":[[0.0,\"#440154\"],[0.1111111111111111,\"#482878\"],[0.2222222222222222,\"#3e4989\"],[0.3333333333333333,\"#31688e\"],[0.4444444444444444,\"#26828e\"],[0.5555555555555556,\"#1f9e89\"],[0.6666666666666666,\"#35b779\"],[0.7777777777777778,\"#6ece58\"],[0.8888888888888888,\"#b5de2b\"],[1.0,\"#fde725\"]],\"type\":\"heatmap\"}],\"histogram2dcontour\":[{\"colorbar\":{\"outlinewidth\":1,\"tickcolor\":\"rgb(36,36,36)\",\"ticks\":\"outside\"},\"colorscale\":[[0.0,\"#440154\"],[0.1111111111111111,\"#482878\"],[0.2222222222222222,\"#3e4989\"],[0.3333333333333333,\"#31688e\"],[0.4444444444444444,\"#26828e\"],[0.5555555555555556,\"#1f9e89\"],[0.6666666666666666,\"#35b779\"],[0.7777777777777778,\"#6ece58\"],[0.8888888888888888,\"#b5de2b\"],[1.0,\"#fde725\"]],\"type\":\"histogram2dcontour\"}],\"histogram2d\":[{\"colorbar\":{\"outlinewidth\":1,\"tickcolor\":\"rgb(36,36,36)\",\"ticks\":\"outside\"},\"colorscale\":[[0.0,\"#440154\"],[0.1111111111111111,\"#482878\"],[0.2222222222222222,\"#3e4989\"],[0.3333333333333333,\"#31688e\"],[0.4444444444444444,\"#26828e\"],[0.5555555555555556,\"#1f9e89\"],[0.6666666666666666,\"#35b779\"],[0.7777777777777778,\"#6ece58\"],[0.8888888888888888,\"#b5de2b\"],[1.0,\"#fde725\"]],\"type\":\"histogram2d\"}],\"histogram\":[{\"marker\":{\"line\":{\"color\":\"white\",\"width\":0.6}},\"type\":\"histogram\"}],\"mesh3d\":[{\"colorbar\":{\"outlinewidth\":1,\"tickcolor\":\"rgb(36,36,36)\",\"ticks\":\"outside\"},\"type\":\"mesh3d\"}],\"parcoords\":[{\"line\":{\"colorbar\":{\"outlinewidth\":1,\"tickcolor\":\"rgb(36,36,36)\",\"ticks\":\"outside\"}},\"type\":\"parcoords\"}],\"pie\":[{\"automargin\":true,\"type\":\"pie\"}],\"scatter3d\":[{\"line\":{\"colorbar\":{\"outlinewidth\":1,\"tickcolor\":\"rgb(36,36,36)\",\"ticks\":\"outside\"}},\"marker\":{\"colorbar\":{\"outlinewidth\":1,\"tickcolor\":\"rgb(36,36,36)\",\"ticks\":\"outside\"}},\"type\":\"scatter3d\"}],\"scattercarpet\":[{\"marker\":{\"colorbar\":{\"outlinewidth\":1,\"tickcolor\":\"rgb(36,36,36)\",\"ticks\":\"outside\"}},\"type\":\"scattercarpet\"}],\"scattergeo\":[{\"marker\":{\"colorbar\":{\"outlinewidth\":1,\"tickcolor\":\"rgb(36,36,36)\",\"ticks\":\"outside\"}},\"type\":\"scattergeo\"}],\"scattergl\":[{\"marker\":{\"colorbar\":{\"outlinewidth\":1,\"tickcolor\":\"rgb(36,36,36)\",\"ticks\":\"outside\"}},\"type\":\"scattergl\"}],\"scattermapbox\":[{\"marker\":{\"colorbar\":{\"outlinewidth\":1,\"tickcolor\":\"rgb(36,36,36)\",\"ticks\":\"outside\"}},\"type\":\"scattermapbox\"}],\"scatterpolargl\":[{\"marker\":{\"colorbar\":{\"outlinewidth\":1,\"tickcolor\":\"rgb(36,36,36)\",\"ticks\":\"outside\"}},\"type\":\"scatterpolargl\"}],\"scatterpolar\":[{\"marker\":{\"colorbar\":{\"outlinewidth\":1,\"tickcolor\":\"rgb(36,36,36)\",\"ticks\":\"outside\"}},\"type\":\"scatterpolar\"}],\"scatter\":[{\"fillpattern\":{\"fillmode\":\"overlay\",\"size\":10,\"solidity\":0.2},\"type\":\"scatter\"}],\"scatterternary\":[{\"marker\":{\"colorbar\":{\"outlinewidth\":1,\"tickcolor\":\"rgb(36,36,36)\",\"ticks\":\"outside\"}},\"type\":\"scatterternary\"}],\"surface\":[{\"colorbar\":{\"outlinewidth\":1,\"tickcolor\":\"rgb(36,36,36)\",\"ticks\":\"outside\"},\"colorscale\":[[0.0,\"#440154\"],[0.1111111111111111,\"#482878\"],[0.2222222222222222,\"#3e4989\"],[0.3333333333333333,\"#31688e\"],[0.4444444444444444,\"#26828e\"],[0.5555555555555556,\"#1f9e89\"],[0.6666666666666666,\"#35b779\"],[0.7777777777777778,\"#6ece58\"],[0.8888888888888888,\"#b5de2b\"],[1.0,\"#fde725\"]],\"type\":\"surface\"}],\"table\":[{\"cells\":{\"fill\":{\"color\":\"rgb(237,237,237)\"},\"line\":{\"color\":\"white\"}},\"header\":{\"fill\":{\"color\":\"rgb(217,217,217)\"},\"line\":{\"color\":\"white\"}},\"type\":\"table\"}]},\"layout\":{\"annotationdefaults\":{\"arrowhead\":0,\"arrowwidth\":1},\"autotypenumbers\":\"strict\",\"coloraxis\":{\"colorbar\":{\"outlinewidth\":1,\"tickcolor\":\"rgb(36,36,36)\",\"ticks\":\"outside\"}},\"colorscale\":{\"diverging\":[[0.0,\"rgb(103,0,31)\"],[0.1,\"rgb(178,24,43)\"],[0.2,\"rgb(214,96,77)\"],[0.3,\"rgb(244,165,130)\"],[0.4,\"rgb(253,219,199)\"],[0.5,\"rgb(247,247,247)\"],[0.6,\"rgb(209,229,240)\"],[0.7,\"rgb(146,197,222)\"],[0.8,\"rgb(67,147,195)\"],[0.9,\"rgb(33,102,172)\"],[1.0,\"rgb(5,48,97)\"]],\"sequential\":[[0.0,\"#440154\"],[0.1111111111111111,\"#482878\"],[0.2222222222222222,\"#3e4989\"],[0.3333333333333333,\"#31688e\"],[0.4444444444444444,\"#26828e\"],[0.5555555555555556,\"#1f9e89\"],[0.6666666666666666,\"#35b779\"],[0.7777777777777778,\"#6ece58\"],[0.8888888888888888,\"#b5de2b\"],[1.0,\"#fde725\"]],\"sequentialminus\":[[0.0,\"#440154\"],[0.1111111111111111,\"#482878\"],[0.2222222222222222,\"#3e4989\"],[0.3333333333333333,\"#31688e\"],[0.4444444444444444,\"#26828e\"],[0.5555555555555556,\"#1f9e89\"],[0.6666666666666666,\"#35b779\"],[0.7777777777777778,\"#6ece58\"],[0.8888888888888888,\"#b5de2b\"],[1.0,\"#fde725\"]]},\"colorway\":[\"#1F77B4\",\"#FF7F0E\",\"#2CA02C\",\"#D62728\",\"#9467BD\",\"#8C564B\",\"#E377C2\",\"#7F7F7F\",\"#BCBD22\",\"#17BECF\"],\"font\":{\"color\":\"rgb(36,36,36)\"},\"geo\":{\"bgcolor\":\"white\",\"lakecolor\":\"white\",\"landcolor\":\"white\",\"showlakes\":true,\"showland\":true,\"subunitcolor\":\"white\"},\"hoverlabel\":{\"align\":\"left\"},\"hovermode\":\"closest\",\"mapbox\":{\"style\":\"light\"},\"paper_bgcolor\":\"white\",\"plot_bgcolor\":\"white\",\"polar\":{\"angularaxis\":{\"gridcolor\":\"rgb(232,232,232)\",\"linecolor\":\"rgb(36,36,36)\",\"showgrid\":false,\"showline\":true,\"ticks\":\"outside\"},\"bgcolor\":\"white\",\"radialaxis\":{\"gridcolor\":\"rgb(232,232,232)\",\"linecolor\":\"rgb(36,36,36)\",\"showgrid\":false,\"showline\":true,\"ticks\":\"outside\"}},\"scene\":{\"xaxis\":{\"backgroundcolor\":\"white\",\"gridcolor\":\"rgb(232,232,232)\",\"gridwidth\":2,\"linecolor\":\"rgb(36,36,36)\",\"showbackground\":true,\"showgrid\":false,\"showline\":true,\"ticks\":\"outside\",\"zeroline\":false,\"zerolinecolor\":\"rgb(36,36,36)\"},\"yaxis\":{\"backgroundcolor\":\"white\",\"gridcolor\":\"rgb(232,232,232)\",\"gridwidth\":2,\"linecolor\":\"rgb(36,36,36)\",\"showbackground\":true,\"showgrid\":false,\"showline\":true,\"ticks\":\"outside\",\"zeroline\":false,\"zerolinecolor\":\"rgb(36,36,36)\"},\"zaxis\":{\"backgroundcolor\":\"white\",\"gridcolor\":\"rgb(232,232,232)\",\"gridwidth\":2,\"linecolor\":\"rgb(36,36,36)\",\"showbackground\":true,\"showgrid\":false,\"showline\":true,\"ticks\":\"outside\",\"zeroline\":false,\"zerolinecolor\":\"rgb(36,36,36)\"}},\"shapedefaults\":{\"fillcolor\":\"black\",\"line\":{\"width\":0},\"opacity\":0.3},\"ternary\":{\"aaxis\":{\"gridcolor\":\"rgb(232,232,232)\",\"linecolor\":\"rgb(36,36,36)\",\"showgrid\":false,\"showline\":true,\"ticks\":\"outside\"},\"baxis\":{\"gridcolor\":\"rgb(232,232,232)\",\"linecolor\":\"rgb(36,36,36)\",\"showgrid\":false,\"showline\":true,\"ticks\":\"outside\"},\"bgcolor\":\"white\",\"caxis\":{\"gridcolor\":\"rgb(232,232,232)\",\"linecolor\":\"rgb(36,36,36)\",\"showgrid\":false,\"showline\":true,\"ticks\":\"outside\"}},\"title\":{\"x\":0.05},\"xaxis\":{\"automargin\":true,\"gridcolor\":\"rgb(232,232,232)\",\"linecolor\":\"rgb(36,36,36)\",\"showgrid\":false,\"showline\":true,\"ticks\":\"outside\",\"title\":{\"standoff\":15},\"zeroline\":false,\"zerolinecolor\":\"rgb(36,36,36)\"},\"yaxis\":{\"automargin\":true,\"gridcolor\":\"rgb(232,232,232)\",\"linecolor\":\"rgb(36,36,36)\",\"showgrid\":false,\"showline\":true,\"ticks\":\"outside\",\"title\":{\"standoff\":15},\"zeroline\":false,\"zerolinecolor\":\"rgb(36,36,36)\"}}},\"xaxis\":{\"anchor\":\"y\",\"domain\":[0.0,1.0],\"title\":{\"text\":\"SALES_LEADER\"}},\"yaxis\":{\"anchor\":\"x\",\"domain\":[0.0,1.0],\"title\":{\"text\":\"YTD_SALES\"}},\"legend\":{\"title\":{\"text\":\"COUNTRY\"},\"tracegroupgap\":0},\"title\":{\"text\":\"Sales Leader Performance in 2023\"},\"barmode\":\"relative\",\"width\":800},                        {\"responsive\": true}                    ).then(function(){\n",
       "                            \n",
       "var gd = document.getElementById('5d9fa8f3-0db5-4684-907b-50c88f16cb47');\n",
       "var x = new MutationObserver(function (mutations, observer) {{\n",
       "        var display = window.getComputedStyle(gd).display;\n",
       "        if (!display || display === 'none') {{\n",
       "            console.log([gd, 'removed!']);\n",
       "            Plotly.purge(gd);\n",
       "            observer.disconnect();\n",
       "        }}\n",
       "}});\n",
       "\n",
       "// Listen for the removal of the full notebook cells\n",
       "var notebookContainer = gd.closest('#notebook-container');\n",
       "if (notebookContainer) {{\n",
       "    x.observe(notebookContainer, {childList: true});\n",
       "}}\n",
       "\n",
       "// Listen for the clearing of the current output cell\n",
       "var outputEl = gd.closest('.output');\n",
       "if (outputEl) {{\n",
       "    x.observe(outputEl, {childList: true});\n",
       "}}\n",
       "\n",
       "                        })                };                });            </script>        </div>"
      ]
     },
     "metadata": {},
     "output_type": "display_data"
    }
   ],
   "source": [
    "x = px.bar(data_frame=table6,x=\"SALES_LEADER\",y=\"YTD_SALES\",color=\"COUNTRY\",template=\"simple_white\",title=\"Sales Leader Performance in 2023\",width= 800)\n",
    "x[\"data\"][0][\"marker\"][\"color\"] = \"#EF3340\"\n",
    "x[\"data\"][1][\"marker\"][\"color\"] = \"#002868\"\n",
    "x"
   ]
  },
  {
   "cell_type": "markdown",
   "id": "31ae67ea",
   "metadata": {},
   "source": [
    "We can deduce that **Iram Luna** brought the highest Sales for **Canada** with 438K Sales <br> \n",
    "Whereas in the US,  **Nicole Stamp** brought the highest Sales for **US** with 1000K+ Sales "
   ]
  },
  {
   "cell_type": "code",
   "execution_count": 76,
   "id": "21bf7733",
   "metadata": {},
   "outputs": [
    {
     "data": {
      "text/html": [
       "<div>                            <div id=\"168fd758-324f-44d9-9d56-e2294fe008f0\" class=\"plotly-graph-div\" style=\"height:525px; width:800px;\"></div>            <script type=\"text/javascript\">                require([\"plotly\"], function(Plotly) {                    window.PLOTLYENV=window.PLOTLYENV || {};                                    if (document.getElementById(\"168fd758-324f-44d9-9d56-e2294fe008f0\")) {                    Plotly.newPlot(                        \"168fd758-324f-44d9-9d56-e2294fe008f0\",                        [{\"alignmentgroup\":\"True\",\"hovertemplate\":\"REGION=CA EAST<br>SALES_LEADER=%{x}<br>ACCOUNT_ID=%{y}<extra></extra>\",\"legendgroup\":\"CA EAST\",\"marker\":{\"color\":\"#721817\",\"pattern\":{\"shape\":\"\"}},\"name\":\"CA EAST\",\"offsetgroup\":\"CA EAST\",\"orientation\":\"v\",\"showlegend\":true,\"textposition\":\"auto\",\"x\":[\"Iram Luna\",\"Shahzaib Mahoney\"],\"xaxis\":\"x\",\"y\":[25,13],\"yaxis\":\"y\",\"type\":\"bar\"},{\"alignmentgroup\":\"True\",\"hovertemplate\":\"REGION=CA WEST<br>SALES_LEADER=%{x}<br>ACCOUNT_ID=%{y}<extra></extra>\",\"legendgroup\":\"CA WEST\",\"marker\":{\"color\":\"#fa9f42\",\"pattern\":{\"shape\":\"\"}},\"name\":\"CA WEST\",\"offsetgroup\":\"CA WEST\",\"orientation\":\"v\",\"showlegend\":true,\"textposition\":\"auto\",\"x\":[\"Zaid Nunez\"],\"xaxis\":\"x\",\"y\":[13],\"yaxis\":\"y\",\"type\":\"bar\"},{\"alignmentgroup\":\"True\",\"hovertemplate\":\"REGION=US EAST<br>SALES_LEADER=%{x}<br>ACCOUNT_ID=%{y}<extra></extra>\",\"legendgroup\":\"US EAST\",\"marker\":{\"color\":\"#2b4162\",\"pattern\":{\"shape\":\"\"}},\"name\":\"US EAST\",\"offsetgroup\":\"US EAST\",\"orientation\":\"v\",\"showlegend\":true,\"textposition\":\"auto\",\"x\":[\"Nicole Stamp\"],\"xaxis\":\"x\",\"y\":[34],\"yaxis\":\"y\",\"type\":\"bar\"},{\"alignmentgroup\":\"True\",\"hovertemplate\":\"REGION=US WEST<br>SALES_LEADER=%{x}<br>ACCOUNT_ID=%{y}<extra></extra>\",\"legendgroup\":\"US WEST\",\"marker\":{\"color\":\"#0b6e4f\",\"pattern\":{\"shape\":\"\"}},\"name\":\"US WEST\",\"offsetgroup\":\"US WEST\",\"orientation\":\"v\",\"showlegend\":true,\"textposition\":\"auto\",\"x\":[\"Atlanta Avila\",\"Taliah Pope\"],\"xaxis\":\"x\",\"y\":[3,12],\"yaxis\":\"y\",\"type\":\"bar\"}],                        {\"template\":{\"data\":{\"barpolar\":[{\"marker\":{\"line\":{\"color\":\"white\",\"width\":0.5},\"pattern\":{\"fillmode\":\"overlay\",\"size\":10,\"solidity\":0.2}},\"type\":\"barpolar\"}],\"bar\":[{\"error_x\":{\"color\":\"rgb(36,36,36)\"},\"error_y\":{\"color\":\"rgb(36,36,36)\"},\"marker\":{\"line\":{\"color\":\"white\",\"width\":0.5},\"pattern\":{\"fillmode\":\"overlay\",\"size\":10,\"solidity\":0.2}},\"type\":\"bar\"}],\"carpet\":[{\"aaxis\":{\"endlinecolor\":\"rgb(36,36,36)\",\"gridcolor\":\"white\",\"linecolor\":\"white\",\"minorgridcolor\":\"white\",\"startlinecolor\":\"rgb(36,36,36)\"},\"baxis\":{\"endlinecolor\":\"rgb(36,36,36)\",\"gridcolor\":\"white\",\"linecolor\":\"white\",\"minorgridcolor\":\"white\",\"startlinecolor\":\"rgb(36,36,36)\"},\"type\":\"carpet\"}],\"choropleth\":[{\"colorbar\":{\"outlinewidth\":1,\"tickcolor\":\"rgb(36,36,36)\",\"ticks\":\"outside\"},\"type\":\"choropleth\"}],\"contourcarpet\":[{\"colorbar\":{\"outlinewidth\":1,\"tickcolor\":\"rgb(36,36,36)\",\"ticks\":\"outside\"},\"type\":\"contourcarpet\"}],\"contour\":[{\"colorbar\":{\"outlinewidth\":1,\"tickcolor\":\"rgb(36,36,36)\",\"ticks\":\"outside\"},\"colorscale\":[[0.0,\"#440154\"],[0.1111111111111111,\"#482878\"],[0.2222222222222222,\"#3e4989\"],[0.3333333333333333,\"#31688e\"],[0.4444444444444444,\"#26828e\"],[0.5555555555555556,\"#1f9e89\"],[0.6666666666666666,\"#35b779\"],[0.7777777777777778,\"#6ece58\"],[0.8888888888888888,\"#b5de2b\"],[1.0,\"#fde725\"]],\"type\":\"contour\"}],\"heatmapgl\":[{\"colorbar\":{\"outlinewidth\":1,\"tickcolor\":\"rgb(36,36,36)\",\"ticks\":\"outside\"},\"colorscale\":[[0.0,\"#440154\"],[0.1111111111111111,\"#482878\"],[0.2222222222222222,\"#3e4989\"],[0.3333333333333333,\"#31688e\"],[0.4444444444444444,\"#26828e\"],[0.5555555555555556,\"#1f9e89\"],[0.6666666666666666,\"#35b779\"],[0.7777777777777778,\"#6ece58\"],[0.8888888888888888,\"#b5de2b\"],[1.0,\"#fde725\"]],\"type\":\"heatmapgl\"}],\"heatmap\":[{\"colorbar\":{\"outlinewidth\":1,\"tickcolor\":\"rgb(36,36,36)\",\"ticks\":\"outside\"},\"colorscale\":[[0.0,\"#440154\"],[0.1111111111111111,\"#482878\"],[0.2222222222222222,\"#3e4989\"],[0.3333333333333333,\"#31688e\"],[0.4444444444444444,\"#26828e\"],[0.5555555555555556,\"#1f9e89\"],[0.6666666666666666,\"#35b779\"],[0.7777777777777778,\"#6ece58\"],[0.8888888888888888,\"#b5de2b\"],[1.0,\"#fde725\"]],\"type\":\"heatmap\"}],\"histogram2dcontour\":[{\"colorbar\":{\"outlinewidth\":1,\"tickcolor\":\"rgb(36,36,36)\",\"ticks\":\"outside\"},\"colorscale\":[[0.0,\"#440154\"],[0.1111111111111111,\"#482878\"],[0.2222222222222222,\"#3e4989\"],[0.3333333333333333,\"#31688e\"],[0.4444444444444444,\"#26828e\"],[0.5555555555555556,\"#1f9e89\"],[0.6666666666666666,\"#35b779\"],[0.7777777777777778,\"#6ece58\"],[0.8888888888888888,\"#b5de2b\"],[1.0,\"#fde725\"]],\"type\":\"histogram2dcontour\"}],\"histogram2d\":[{\"colorbar\":{\"outlinewidth\":1,\"tickcolor\":\"rgb(36,36,36)\",\"ticks\":\"outside\"},\"colorscale\":[[0.0,\"#440154\"],[0.1111111111111111,\"#482878\"],[0.2222222222222222,\"#3e4989\"],[0.3333333333333333,\"#31688e\"],[0.4444444444444444,\"#26828e\"],[0.5555555555555556,\"#1f9e89\"],[0.6666666666666666,\"#35b779\"],[0.7777777777777778,\"#6ece58\"],[0.8888888888888888,\"#b5de2b\"],[1.0,\"#fde725\"]],\"type\":\"histogram2d\"}],\"histogram\":[{\"marker\":{\"line\":{\"color\":\"white\",\"width\":0.6}},\"type\":\"histogram\"}],\"mesh3d\":[{\"colorbar\":{\"outlinewidth\":1,\"tickcolor\":\"rgb(36,36,36)\",\"ticks\":\"outside\"},\"type\":\"mesh3d\"}],\"parcoords\":[{\"line\":{\"colorbar\":{\"outlinewidth\":1,\"tickcolor\":\"rgb(36,36,36)\",\"ticks\":\"outside\"}},\"type\":\"parcoords\"}],\"pie\":[{\"automargin\":true,\"type\":\"pie\"}],\"scatter3d\":[{\"line\":{\"colorbar\":{\"outlinewidth\":1,\"tickcolor\":\"rgb(36,36,36)\",\"ticks\":\"outside\"}},\"marker\":{\"colorbar\":{\"outlinewidth\":1,\"tickcolor\":\"rgb(36,36,36)\",\"ticks\":\"outside\"}},\"type\":\"scatter3d\"}],\"scattercarpet\":[{\"marker\":{\"colorbar\":{\"outlinewidth\":1,\"tickcolor\":\"rgb(36,36,36)\",\"ticks\":\"outside\"}},\"type\":\"scattercarpet\"}],\"scattergeo\":[{\"marker\":{\"colorbar\":{\"outlinewidth\":1,\"tickcolor\":\"rgb(36,36,36)\",\"ticks\":\"outside\"}},\"type\":\"scattergeo\"}],\"scattergl\":[{\"marker\":{\"colorbar\":{\"outlinewidth\":1,\"tickcolor\":\"rgb(36,36,36)\",\"ticks\":\"outside\"}},\"type\":\"scattergl\"}],\"scattermapbox\":[{\"marker\":{\"colorbar\":{\"outlinewidth\":1,\"tickcolor\":\"rgb(36,36,36)\",\"ticks\":\"outside\"}},\"type\":\"scattermapbox\"}],\"scatterpolargl\":[{\"marker\":{\"colorbar\":{\"outlinewidth\":1,\"tickcolor\":\"rgb(36,36,36)\",\"ticks\":\"outside\"}},\"type\":\"scatterpolargl\"}],\"scatterpolar\":[{\"marker\":{\"colorbar\":{\"outlinewidth\":1,\"tickcolor\":\"rgb(36,36,36)\",\"ticks\":\"outside\"}},\"type\":\"scatterpolar\"}],\"scatter\":[{\"fillpattern\":{\"fillmode\":\"overlay\",\"size\":10,\"solidity\":0.2},\"type\":\"scatter\"}],\"scatterternary\":[{\"marker\":{\"colorbar\":{\"outlinewidth\":1,\"tickcolor\":\"rgb(36,36,36)\",\"ticks\":\"outside\"}},\"type\":\"scatterternary\"}],\"surface\":[{\"colorbar\":{\"outlinewidth\":1,\"tickcolor\":\"rgb(36,36,36)\",\"ticks\":\"outside\"},\"colorscale\":[[0.0,\"#440154\"],[0.1111111111111111,\"#482878\"],[0.2222222222222222,\"#3e4989\"],[0.3333333333333333,\"#31688e\"],[0.4444444444444444,\"#26828e\"],[0.5555555555555556,\"#1f9e89\"],[0.6666666666666666,\"#35b779\"],[0.7777777777777778,\"#6ece58\"],[0.8888888888888888,\"#b5de2b\"],[1.0,\"#fde725\"]],\"type\":\"surface\"}],\"table\":[{\"cells\":{\"fill\":{\"color\":\"rgb(237,237,237)\"},\"line\":{\"color\":\"white\"}},\"header\":{\"fill\":{\"color\":\"rgb(217,217,217)\"},\"line\":{\"color\":\"white\"}},\"type\":\"table\"}]},\"layout\":{\"annotationdefaults\":{\"arrowhead\":0,\"arrowwidth\":1},\"autotypenumbers\":\"strict\",\"coloraxis\":{\"colorbar\":{\"outlinewidth\":1,\"tickcolor\":\"rgb(36,36,36)\",\"ticks\":\"outside\"}},\"colorscale\":{\"diverging\":[[0.0,\"rgb(103,0,31)\"],[0.1,\"rgb(178,24,43)\"],[0.2,\"rgb(214,96,77)\"],[0.3,\"rgb(244,165,130)\"],[0.4,\"rgb(253,219,199)\"],[0.5,\"rgb(247,247,247)\"],[0.6,\"rgb(209,229,240)\"],[0.7,\"rgb(146,197,222)\"],[0.8,\"rgb(67,147,195)\"],[0.9,\"rgb(33,102,172)\"],[1.0,\"rgb(5,48,97)\"]],\"sequential\":[[0.0,\"#440154\"],[0.1111111111111111,\"#482878\"],[0.2222222222222222,\"#3e4989\"],[0.3333333333333333,\"#31688e\"],[0.4444444444444444,\"#26828e\"],[0.5555555555555556,\"#1f9e89\"],[0.6666666666666666,\"#35b779\"],[0.7777777777777778,\"#6ece58\"],[0.8888888888888888,\"#b5de2b\"],[1.0,\"#fde725\"]],\"sequentialminus\":[[0.0,\"#440154\"],[0.1111111111111111,\"#482878\"],[0.2222222222222222,\"#3e4989\"],[0.3333333333333333,\"#31688e\"],[0.4444444444444444,\"#26828e\"],[0.5555555555555556,\"#1f9e89\"],[0.6666666666666666,\"#35b779\"],[0.7777777777777778,\"#6ece58\"],[0.8888888888888888,\"#b5de2b\"],[1.0,\"#fde725\"]]},\"colorway\":[\"#1F77B4\",\"#FF7F0E\",\"#2CA02C\",\"#D62728\",\"#9467BD\",\"#8C564B\",\"#E377C2\",\"#7F7F7F\",\"#BCBD22\",\"#17BECF\"],\"font\":{\"color\":\"rgb(36,36,36)\"},\"geo\":{\"bgcolor\":\"white\",\"lakecolor\":\"white\",\"landcolor\":\"white\",\"showlakes\":true,\"showland\":true,\"subunitcolor\":\"white\"},\"hoverlabel\":{\"align\":\"left\"},\"hovermode\":\"closest\",\"mapbox\":{\"style\":\"light\"},\"paper_bgcolor\":\"white\",\"plot_bgcolor\":\"white\",\"polar\":{\"angularaxis\":{\"gridcolor\":\"rgb(232,232,232)\",\"linecolor\":\"rgb(36,36,36)\",\"showgrid\":false,\"showline\":true,\"ticks\":\"outside\"},\"bgcolor\":\"white\",\"radialaxis\":{\"gridcolor\":\"rgb(232,232,232)\",\"linecolor\":\"rgb(36,36,36)\",\"showgrid\":false,\"showline\":true,\"ticks\":\"outside\"}},\"scene\":{\"xaxis\":{\"backgroundcolor\":\"white\",\"gridcolor\":\"rgb(232,232,232)\",\"gridwidth\":2,\"linecolor\":\"rgb(36,36,36)\",\"showbackground\":true,\"showgrid\":false,\"showline\":true,\"ticks\":\"outside\",\"zeroline\":false,\"zerolinecolor\":\"rgb(36,36,36)\"},\"yaxis\":{\"backgroundcolor\":\"white\",\"gridcolor\":\"rgb(232,232,232)\",\"gridwidth\":2,\"linecolor\":\"rgb(36,36,36)\",\"showbackground\":true,\"showgrid\":false,\"showline\":true,\"ticks\":\"outside\",\"zeroline\":false,\"zerolinecolor\":\"rgb(36,36,36)\"},\"zaxis\":{\"backgroundcolor\":\"white\",\"gridcolor\":\"rgb(232,232,232)\",\"gridwidth\":2,\"linecolor\":\"rgb(36,36,36)\",\"showbackground\":true,\"showgrid\":false,\"showline\":true,\"ticks\":\"outside\",\"zeroline\":false,\"zerolinecolor\":\"rgb(36,36,36)\"}},\"shapedefaults\":{\"fillcolor\":\"black\",\"line\":{\"width\":0},\"opacity\":0.3},\"ternary\":{\"aaxis\":{\"gridcolor\":\"rgb(232,232,232)\",\"linecolor\":\"rgb(36,36,36)\",\"showgrid\":false,\"showline\":true,\"ticks\":\"outside\"},\"baxis\":{\"gridcolor\":\"rgb(232,232,232)\",\"linecolor\":\"rgb(36,36,36)\",\"showgrid\":false,\"showline\":true,\"ticks\":\"outside\"},\"bgcolor\":\"white\",\"caxis\":{\"gridcolor\":\"rgb(232,232,232)\",\"linecolor\":\"rgb(36,36,36)\",\"showgrid\":false,\"showline\":true,\"ticks\":\"outside\"}},\"title\":{\"x\":0.05},\"xaxis\":{\"automargin\":true,\"gridcolor\":\"rgb(232,232,232)\",\"linecolor\":\"rgb(36,36,36)\",\"showgrid\":false,\"showline\":true,\"ticks\":\"outside\",\"title\":{\"standoff\":15},\"zeroline\":false,\"zerolinecolor\":\"rgb(36,36,36)\"},\"yaxis\":{\"automargin\":true,\"gridcolor\":\"rgb(232,232,232)\",\"linecolor\":\"rgb(36,36,36)\",\"showgrid\":false,\"showline\":true,\"ticks\":\"outside\",\"title\":{\"standoff\":15},\"zeroline\":false,\"zerolinecolor\":\"rgb(36,36,36)\"}}},\"xaxis\":{\"anchor\":\"y\",\"domain\":[0.0,1.0],\"title\":{\"text\":\"SALES_LEADER\"}},\"yaxis\":{\"anchor\":\"x\",\"domain\":[0.0,1.0],\"title\":{\"text\":\"ACCOUNT_ID\"}},\"legend\":{\"title\":{\"text\":\"REGION\"},\"tracegroupgap\":0},\"title\":{\"text\":\"Sales Leader - Client Engagement in 2023\"},\"barmode\":\"relative\",\"width\":800},                        {\"responsive\": true}                    ).then(function(){\n",
       "                            \n",
       "var gd = document.getElementById('168fd758-324f-44d9-9d56-e2294fe008f0');\n",
       "var x = new MutationObserver(function (mutations, observer) {{\n",
       "        var display = window.getComputedStyle(gd).display;\n",
       "        if (!display || display === 'none') {{\n",
       "            console.log([gd, 'removed!']);\n",
       "            Plotly.purge(gd);\n",
       "            observer.disconnect();\n",
       "        }}\n",
       "}});\n",
       "\n",
       "// Listen for the removal of the full notebook cells\n",
       "var notebookContainer = gd.closest('#notebook-container');\n",
       "if (notebookContainer) {{\n",
       "    x.observe(notebookContainer, {childList: true});\n",
       "}}\n",
       "\n",
       "// Listen for the clearing of the current output cell\n",
       "var outputEl = gd.closest('.output');\n",
       "if (outputEl) {{\n",
       "    x.observe(outputEl, {childList: true});\n",
       "}}\n",
       "\n",
       "                        })                };                });            </script>        </div>"
      ]
     },
     "metadata": {},
     "output_type": "display_data"
    }
   ],
   "source": [
    "x = px.bar(data_frame=table6,x=\"SALES_LEADER\",y=\"ACCOUNT_ID\",color=\"REGION\",template=\"simple_white\",title=\"Sales Leader - Client Engagement in 2023\",width= 800)\n",
    "x[\"data\"][0][\"marker\"][\"color\"] = \"#721817\"\n",
    "x[\"data\"][1][\"marker\"][\"color\"] = \"#fa9f42\"\n",
    "x[\"data\"][2][\"marker\"][\"color\"] = \"#2b4162\"\n",
    "x[\"data\"][3][\"marker\"][\"color\"] = \"#0b6e4f\"\n",
    "x"
   ]
  },
  {
   "cell_type": "code",
   "execution_count": 77,
   "id": "96796de4",
   "metadata": {},
   "outputs": [
    {
     "data": {
      "text/html": [
       "<div>                            <div id=\"977d23bd-270c-4b5c-b6c8-35d49756d2a9\" class=\"plotly-graph-div\" style=\"height:525px; width:800px;\"></div>            <script type=\"text/javascript\">                require([\"plotly\"], function(Plotly) {                    window.PLOTLYENV=window.PLOTLYENV || {};                                    if (document.getElementById(\"977d23bd-270c-4b5c-b6c8-35d49756d2a9\")) {                    Plotly.newPlot(                        \"977d23bd-270c-4b5c-b6c8-35d49756d2a9\",                        [{\"alignmentgroup\":\"True\",\"hovertemplate\":\"REGION=CA EAST<br>SALES_LEADER=%{x}<br>YTD_SALES=%{y}<extra></extra>\",\"legendgroup\":\"CA EAST\",\"marker\":{\"color\":\"#a63446\",\"pattern\":{\"shape\":\"\"}},\"name\":\"CA EAST\",\"offsetgroup\":\"CA EAST\",\"orientation\":\"v\",\"showlegend\":true,\"textposition\":\"auto\",\"x\":[\"Iram Luna\",\"Shahzaib Mahoney\"],\"xaxis\":\"x\",\"y\":[438.0910318367347,210.01606],\"yaxis\":\"y\",\"type\":\"bar\"},{\"alignmentgroup\":\"True\",\"hovertemplate\":\"REGION=CA WEST<br>SALES_LEADER=%{x}<br>YTD_SALES=%{y}<extra></extra>\",\"legendgroup\":\"CA WEST\",\"marker\":{\"color\":\"#fbfef9\",\"pattern\":{\"shape\":\"\"}},\"name\":\"CA WEST\",\"offsetgroup\":\"CA WEST\",\"orientation\":\"v\",\"showlegend\":true,\"textposition\":\"auto\",\"x\":[\"Zaid Nunez\"],\"xaxis\":\"x\",\"y\":[335.99942],\"yaxis\":\"y\",\"type\":\"bar\"},{\"alignmentgroup\":\"True\",\"hovertemplate\":\"REGION=US EAST<br>SALES_LEADER=%{x}<br>YTD_SALES=%{y}<extra></extra>\",\"legendgroup\":\"US EAST\",\"marker\":{\"color\":\"#0c6291\",\"pattern\":{\"shape\":\"\"}},\"name\":\"US EAST\",\"offsetgroup\":\"US EAST\",\"orientation\":\"v\",\"showlegend\":true,\"textposition\":\"auto\",\"x\":[\"Nicole Stamp\"],\"xaxis\":\"x\",\"y\":[1019.05815],\"yaxis\":\"y\",\"type\":\"bar\"},{\"alignmentgroup\":\"True\",\"hovertemplate\":\"REGION=US WEST<br>SALES_LEADER=%{x}<br>YTD_SALES=%{y}<extra></extra>\",\"legendgroup\":\"US WEST\",\"marker\":{\"color\":\"#8eedf7\",\"pattern\":{\"shape\":\"\"}},\"name\":\"US WEST\",\"offsetgroup\":\"US WEST\",\"orientation\":\"v\",\"showlegend\":true,\"textposition\":\"auto\",\"x\":[\"Atlanta Avila\",\"Taliah Pope\"],\"xaxis\":\"x\",\"y\":[60.60129,832.16414],\"yaxis\":\"y\",\"type\":\"bar\"}],                        {\"template\":{\"data\":{\"barpolar\":[{\"marker\":{\"line\":{\"color\":\"rgb(17,17,17)\",\"width\":0.5},\"pattern\":{\"fillmode\":\"overlay\",\"size\":10,\"solidity\":0.2}},\"type\":\"barpolar\"}],\"bar\":[{\"error_x\":{\"color\":\"#f2f5fa\"},\"error_y\":{\"color\":\"#f2f5fa\"},\"marker\":{\"line\":{\"color\":\"rgb(17,17,17)\",\"width\":0.5},\"pattern\":{\"fillmode\":\"overlay\",\"size\":10,\"solidity\":0.2}},\"type\":\"bar\"}],\"carpet\":[{\"aaxis\":{\"endlinecolor\":\"#A2B1C6\",\"gridcolor\":\"#506784\",\"linecolor\":\"#506784\",\"minorgridcolor\":\"#506784\",\"startlinecolor\":\"#A2B1C6\"},\"baxis\":{\"endlinecolor\":\"#A2B1C6\",\"gridcolor\":\"#506784\",\"linecolor\":\"#506784\",\"minorgridcolor\":\"#506784\",\"startlinecolor\":\"#A2B1C6\"},\"type\":\"carpet\"}],\"choropleth\":[{\"colorbar\":{\"outlinewidth\":0,\"ticks\":\"\"},\"type\":\"choropleth\"}],\"contourcarpet\":[{\"colorbar\":{\"outlinewidth\":0,\"ticks\":\"\"},\"type\":\"contourcarpet\"}],\"contour\":[{\"colorbar\":{\"outlinewidth\":0,\"ticks\":\"\"},\"colorscale\":[[0.0,\"#0d0887\"],[0.1111111111111111,\"#46039f\"],[0.2222222222222222,\"#7201a8\"],[0.3333333333333333,\"#9c179e\"],[0.4444444444444444,\"#bd3786\"],[0.5555555555555556,\"#d8576b\"],[0.6666666666666666,\"#ed7953\"],[0.7777777777777778,\"#fb9f3a\"],[0.8888888888888888,\"#fdca26\"],[1.0,\"#f0f921\"]],\"type\":\"contour\"}],\"heatmapgl\":[{\"colorbar\":{\"outlinewidth\":0,\"ticks\":\"\"},\"colorscale\":[[0.0,\"#0d0887\"],[0.1111111111111111,\"#46039f\"],[0.2222222222222222,\"#7201a8\"],[0.3333333333333333,\"#9c179e\"],[0.4444444444444444,\"#bd3786\"],[0.5555555555555556,\"#d8576b\"],[0.6666666666666666,\"#ed7953\"],[0.7777777777777778,\"#fb9f3a\"],[0.8888888888888888,\"#fdca26\"],[1.0,\"#f0f921\"]],\"type\":\"heatmapgl\"}],\"heatmap\":[{\"colorbar\":{\"outlinewidth\":0,\"ticks\":\"\"},\"colorscale\":[[0.0,\"#0d0887\"],[0.1111111111111111,\"#46039f\"],[0.2222222222222222,\"#7201a8\"],[0.3333333333333333,\"#9c179e\"],[0.4444444444444444,\"#bd3786\"],[0.5555555555555556,\"#d8576b\"],[0.6666666666666666,\"#ed7953\"],[0.7777777777777778,\"#fb9f3a\"],[0.8888888888888888,\"#fdca26\"],[1.0,\"#f0f921\"]],\"type\":\"heatmap\"}],\"histogram2dcontour\":[{\"colorbar\":{\"outlinewidth\":0,\"ticks\":\"\"},\"colorscale\":[[0.0,\"#0d0887\"],[0.1111111111111111,\"#46039f\"],[0.2222222222222222,\"#7201a8\"],[0.3333333333333333,\"#9c179e\"],[0.4444444444444444,\"#bd3786\"],[0.5555555555555556,\"#d8576b\"],[0.6666666666666666,\"#ed7953\"],[0.7777777777777778,\"#fb9f3a\"],[0.8888888888888888,\"#fdca26\"],[1.0,\"#f0f921\"]],\"type\":\"histogram2dcontour\"}],\"histogram2d\":[{\"colorbar\":{\"outlinewidth\":0,\"ticks\":\"\"},\"colorscale\":[[0.0,\"#0d0887\"],[0.1111111111111111,\"#46039f\"],[0.2222222222222222,\"#7201a8\"],[0.3333333333333333,\"#9c179e\"],[0.4444444444444444,\"#bd3786\"],[0.5555555555555556,\"#d8576b\"],[0.6666666666666666,\"#ed7953\"],[0.7777777777777778,\"#fb9f3a\"],[0.8888888888888888,\"#fdca26\"],[1.0,\"#f0f921\"]],\"type\":\"histogram2d\"}],\"histogram\":[{\"marker\":{\"pattern\":{\"fillmode\":\"overlay\",\"size\":10,\"solidity\":0.2}},\"type\":\"histogram\"}],\"mesh3d\":[{\"colorbar\":{\"outlinewidth\":0,\"ticks\":\"\"},\"type\":\"mesh3d\"}],\"parcoords\":[{\"line\":{\"colorbar\":{\"outlinewidth\":0,\"ticks\":\"\"}},\"type\":\"parcoords\"}],\"pie\":[{\"automargin\":true,\"type\":\"pie\"}],\"scatter3d\":[{\"line\":{\"colorbar\":{\"outlinewidth\":0,\"ticks\":\"\"}},\"marker\":{\"colorbar\":{\"outlinewidth\":0,\"ticks\":\"\"}},\"type\":\"scatter3d\"}],\"scattercarpet\":[{\"marker\":{\"colorbar\":{\"outlinewidth\":0,\"ticks\":\"\"}},\"type\":\"scattercarpet\"}],\"scattergeo\":[{\"marker\":{\"colorbar\":{\"outlinewidth\":0,\"ticks\":\"\"}},\"type\":\"scattergeo\"}],\"scattergl\":[{\"marker\":{\"line\":{\"color\":\"#283442\"}},\"type\":\"scattergl\"}],\"scattermapbox\":[{\"marker\":{\"colorbar\":{\"outlinewidth\":0,\"ticks\":\"\"}},\"type\":\"scattermapbox\"}],\"scatterpolargl\":[{\"marker\":{\"colorbar\":{\"outlinewidth\":0,\"ticks\":\"\"}},\"type\":\"scatterpolargl\"}],\"scatterpolar\":[{\"marker\":{\"colorbar\":{\"outlinewidth\":0,\"ticks\":\"\"}},\"type\":\"scatterpolar\"}],\"scatter\":[{\"marker\":{\"line\":{\"color\":\"#283442\"}},\"type\":\"scatter\"}],\"scatterternary\":[{\"marker\":{\"colorbar\":{\"outlinewidth\":0,\"ticks\":\"\"}},\"type\":\"scatterternary\"}],\"surface\":[{\"colorbar\":{\"outlinewidth\":0,\"ticks\":\"\"},\"colorscale\":[[0.0,\"#0d0887\"],[0.1111111111111111,\"#46039f\"],[0.2222222222222222,\"#7201a8\"],[0.3333333333333333,\"#9c179e\"],[0.4444444444444444,\"#bd3786\"],[0.5555555555555556,\"#d8576b\"],[0.6666666666666666,\"#ed7953\"],[0.7777777777777778,\"#fb9f3a\"],[0.8888888888888888,\"#fdca26\"],[1.0,\"#f0f921\"]],\"type\":\"surface\"}],\"table\":[{\"cells\":{\"fill\":{\"color\":\"#506784\"},\"line\":{\"color\":\"rgb(17,17,17)\"}},\"header\":{\"fill\":{\"color\":\"#2a3f5f\"},\"line\":{\"color\":\"rgb(17,17,17)\"}},\"type\":\"table\"}]},\"layout\":{\"annotationdefaults\":{\"arrowcolor\":\"#f2f5fa\",\"arrowhead\":0,\"arrowwidth\":1},\"autotypenumbers\":\"strict\",\"coloraxis\":{\"colorbar\":{\"outlinewidth\":0,\"ticks\":\"\"}},\"colorscale\":{\"diverging\":[[0,\"#8e0152\"],[0.1,\"#c51b7d\"],[0.2,\"#de77ae\"],[0.3,\"#f1b6da\"],[0.4,\"#fde0ef\"],[0.5,\"#f7f7f7\"],[0.6,\"#e6f5d0\"],[0.7,\"#b8e186\"],[0.8,\"#7fbc41\"],[0.9,\"#4d9221\"],[1,\"#276419\"]],\"sequential\":[[0.0,\"#0d0887\"],[0.1111111111111111,\"#46039f\"],[0.2222222222222222,\"#7201a8\"],[0.3333333333333333,\"#9c179e\"],[0.4444444444444444,\"#bd3786\"],[0.5555555555555556,\"#d8576b\"],[0.6666666666666666,\"#ed7953\"],[0.7777777777777778,\"#fb9f3a\"],[0.8888888888888888,\"#fdca26\"],[1.0,\"#f0f921\"]],\"sequentialminus\":[[0.0,\"#0d0887\"],[0.1111111111111111,\"#46039f\"],[0.2222222222222222,\"#7201a8\"],[0.3333333333333333,\"#9c179e\"],[0.4444444444444444,\"#bd3786\"],[0.5555555555555556,\"#d8576b\"],[0.6666666666666666,\"#ed7953\"],[0.7777777777777778,\"#fb9f3a\"],[0.8888888888888888,\"#fdca26\"],[1.0,\"#f0f921\"]]},\"colorway\":[\"#636efa\",\"#EF553B\",\"#00cc96\",\"#ab63fa\",\"#FFA15A\",\"#19d3f3\",\"#FF6692\",\"#B6E880\",\"#FF97FF\",\"#FECB52\"],\"font\":{\"color\":\"#f2f5fa\"},\"geo\":{\"bgcolor\":\"rgb(17,17,17)\",\"lakecolor\":\"rgb(17,17,17)\",\"landcolor\":\"rgb(17,17,17)\",\"showlakes\":true,\"showland\":true,\"subunitcolor\":\"#506784\"},\"hoverlabel\":{\"align\":\"left\"},\"hovermode\":\"closest\",\"mapbox\":{\"style\":\"dark\"},\"paper_bgcolor\":\"rgb(17,17,17)\",\"plot_bgcolor\":\"rgb(17,17,17)\",\"polar\":{\"angularaxis\":{\"gridcolor\":\"#506784\",\"linecolor\":\"#506784\",\"ticks\":\"\"},\"bgcolor\":\"rgb(17,17,17)\",\"radialaxis\":{\"gridcolor\":\"#506784\",\"linecolor\":\"#506784\",\"ticks\":\"\"}},\"scene\":{\"xaxis\":{\"backgroundcolor\":\"rgb(17,17,17)\",\"gridcolor\":\"#506784\",\"gridwidth\":2,\"linecolor\":\"#506784\",\"showbackground\":true,\"ticks\":\"\",\"zerolinecolor\":\"#C8D4E3\"},\"yaxis\":{\"backgroundcolor\":\"rgb(17,17,17)\",\"gridcolor\":\"#506784\",\"gridwidth\":2,\"linecolor\":\"#506784\",\"showbackground\":true,\"ticks\":\"\",\"zerolinecolor\":\"#C8D4E3\"},\"zaxis\":{\"backgroundcolor\":\"rgb(17,17,17)\",\"gridcolor\":\"#506784\",\"gridwidth\":2,\"linecolor\":\"#506784\",\"showbackground\":true,\"ticks\":\"\",\"zerolinecolor\":\"#C8D4E3\"}},\"shapedefaults\":{\"line\":{\"color\":\"#f2f5fa\"}},\"sliderdefaults\":{\"bgcolor\":\"#C8D4E3\",\"bordercolor\":\"rgb(17,17,17)\",\"borderwidth\":1,\"tickwidth\":0},\"ternary\":{\"aaxis\":{\"gridcolor\":\"#506784\",\"linecolor\":\"#506784\",\"ticks\":\"\"},\"baxis\":{\"gridcolor\":\"#506784\",\"linecolor\":\"#506784\",\"ticks\":\"\"},\"bgcolor\":\"rgb(17,17,17)\",\"caxis\":{\"gridcolor\":\"#506784\",\"linecolor\":\"#506784\",\"ticks\":\"\"}},\"title\":{\"x\":0.05},\"updatemenudefaults\":{\"bgcolor\":\"#506784\",\"borderwidth\":0},\"xaxis\":{\"automargin\":true,\"gridcolor\":\"#283442\",\"linecolor\":\"#506784\",\"ticks\":\"\",\"title\":{\"standoff\":15},\"zerolinecolor\":\"#283442\",\"zerolinewidth\":2},\"yaxis\":{\"automargin\":true,\"gridcolor\":\"#283442\",\"linecolor\":\"#506784\",\"ticks\":\"\",\"title\":{\"standoff\":15},\"zerolinecolor\":\"#283442\",\"zerolinewidth\":2}}},\"xaxis\":{\"anchor\":\"y\",\"domain\":[0.0,1.0],\"title\":{\"text\":\"SALES_LEADER\"}},\"yaxis\":{\"anchor\":\"x\",\"domain\":[0.0,1.0],\"title\":{\"text\":\"YTD_SALES\"}},\"legend\":{\"title\":{\"text\":\"REGION\"},\"tracegroupgap\":0},\"title\":{\"text\":\"Sales Leader Performance by Region in 2023\"},\"barmode\":\"relative\",\"width\":800},                        {\"responsive\": true}                    ).then(function(){\n",
       "                            \n",
       "var gd = document.getElementById('977d23bd-270c-4b5c-b6c8-35d49756d2a9');\n",
       "var x = new MutationObserver(function (mutations, observer) {{\n",
       "        var display = window.getComputedStyle(gd).display;\n",
       "        if (!display || display === 'none') {{\n",
       "            console.log([gd, 'removed!']);\n",
       "            Plotly.purge(gd);\n",
       "            observer.disconnect();\n",
       "        }}\n",
       "}});\n",
       "\n",
       "// Listen for the removal of the full notebook cells\n",
       "var notebookContainer = gd.closest('#notebook-container');\n",
       "if (notebookContainer) {{\n",
       "    x.observe(notebookContainer, {childList: true});\n",
       "}}\n",
       "\n",
       "// Listen for the clearing of the current output cell\n",
       "var outputEl = gd.closest('.output');\n",
       "if (outputEl) {{\n",
       "    x.observe(outputEl, {childList: true});\n",
       "}}\n",
       "\n",
       "                        })                };                });            </script>        </div>"
      ]
     },
     "metadata": {},
     "output_type": "display_data"
    }
   ],
   "source": [
    "x = px.bar(data_frame=table6,x=\"SALES_LEADER\",y=\"YTD_SALES\",color=\"REGION\",template=\"plotly_dark\",title=\"Sales Leader Performance by Region in 2023\",width= 800)\n",
    "x[\"data\"][0][\"marker\"][\"color\"] = \"#a63446\"\n",
    "x[\"data\"][1][\"marker\"][\"color\"] = \"#fbfef9\"\n",
    "x[\"data\"][2][\"marker\"][\"color\"] = \"#0c6291\"\n",
    "x[\"data\"][3][\"marker\"][\"color\"] = \"#8eedf7\"\n",
    "x"
   ]
  },
  {
   "cell_type": "markdown",
   "id": "18a5fba1",
   "metadata": {},
   "source": [
    "We could visualize that **Nicole Stamp** was the best Performer for the Sarah Brand as She generated a little over 1000K Sales despite being the only **Sales Leader for the US East Region**\n",
    "\n",
    "It is quite evident that **Nicole Stamp** handled the *highest number of clients* and was successfull to **solely** drive highest Sales in her Region.\n",
    "\n",
    "On the other hand, despite of having **2 Sales Leader** in **CA EAST**, Sarah brand was unable to drive substantial sales in the region."
   ]
  },
  {
   "cell_type": "markdown",
   "id": "dbf709bb",
   "metadata": {},
   "source": [
    "### Let's further investigate which customer segment is pumping sales for each Sales Leader "
   ]
  },
  {
   "cell_type": "code",
   "execution_count": 78,
   "id": "3e067eb5",
   "metadata": {},
   "outputs": [
    {
     "data": {
      "text/html": [
       "<div>\n",
       "<style scoped>\n",
       "    .dataframe tbody tr th:only-of-type {\n",
       "        vertical-align: middle;\n",
       "    }\n",
       "\n",
       "    .dataframe tbody tr th {\n",
       "        vertical-align: top;\n",
       "    }\n",
       "\n",
       "    .dataframe thead th {\n",
       "        text-align: right;\n",
       "    }\n",
       "</style>\n",
       "<table border=\"1\" class=\"dataframe\">\n",
       "  <thead>\n",
       "    <tr style=\"text-align: right;\">\n",
       "      <th></th>\n",
       "      <th>SALES_VICE_PRESIDENT</th>\n",
       "      <th>SALES_LEADER</th>\n",
       "      <th>COUNTRY</th>\n",
       "      <th>REGION</th>\n",
       "      <th>CUSTOMER_CATEGORY</th>\n",
       "      <th>ACCOUNT_ID</th>\n",
       "      <th>PRE_YTD_SALES</th>\n",
       "      <th>YTD_SALES</th>\n",
       "    </tr>\n",
       "  </thead>\n",
       "  <tbody>\n",
       "    <tr>\n",
       "      <th>0</th>\n",
       "      <td>Adem Osborne</td>\n",
       "      <td>Iram Luna</td>\n",
       "      <td>CA</td>\n",
       "      <td>CA EAST</td>\n",
       "      <td>Corporate</td>\n",
       "      <td>4</td>\n",
       "      <td>131.52915</td>\n",
       "      <td>192.025080</td>\n",
       "    </tr>\n",
       "    <tr>\n",
       "      <th>1</th>\n",
       "      <td>Adem Osborne</td>\n",
       "      <td>Iram Luna</td>\n",
       "      <td>CA</td>\n",
       "      <td>CA EAST</td>\n",
       "      <td>End Customer</td>\n",
       "      <td>20</td>\n",
       "      <td>30.08893</td>\n",
       "      <td>94.372902</td>\n",
       "    </tr>\n",
       "    <tr>\n",
       "      <th>2</th>\n",
       "      <td>Adem Osborne</td>\n",
       "      <td>Iram Luna</td>\n",
       "      <td>CA</td>\n",
       "      <td>CA EAST</td>\n",
       "      <td>Reseller</td>\n",
       "      <td>1</td>\n",
       "      <td>151.74815</td>\n",
       "      <td>151.693050</td>\n",
       "    </tr>\n",
       "    <tr>\n",
       "      <th>3</th>\n",
       "      <td>Adem Osborne</td>\n",
       "      <td>Shahzaib Mahoney</td>\n",
       "      <td>CA</td>\n",
       "      <td>CA EAST</td>\n",
       "      <td>Corporate</td>\n",
       "      <td>1</td>\n",
       "      <td>21.25576</td>\n",
       "      <td>40.447740</td>\n",
       "    </tr>\n",
       "    <tr>\n",
       "      <th>4</th>\n",
       "      <td>Adem Osborne</td>\n",
       "      <td>Shahzaib Mahoney</td>\n",
       "      <td>CA</td>\n",
       "      <td>CA EAST</td>\n",
       "      <td>End Customer</td>\n",
       "      <td>11</td>\n",
       "      <td>15.59460</td>\n",
       "      <td>21.278820</td>\n",
       "    </tr>\n",
       "    <tr>\n",
       "      <th>5</th>\n",
       "      <td>Adem Osborne</td>\n",
       "      <td>Shahzaib Mahoney</td>\n",
       "      <td>CA</td>\n",
       "      <td>CA EAST</td>\n",
       "      <td>Reseller</td>\n",
       "      <td>1</td>\n",
       "      <td>104.20998</td>\n",
       "      <td>148.289500</td>\n",
       "    </tr>\n",
       "    <tr>\n",
       "      <th>6</th>\n",
       "      <td>Esa Walton</td>\n",
       "      <td>Zaid Nunez</td>\n",
       "      <td>CA</td>\n",
       "      <td>CA WEST</td>\n",
       "      <td>Corporate</td>\n",
       "      <td>2</td>\n",
       "      <td>80.06572</td>\n",
       "      <td>100.409440</td>\n",
       "    </tr>\n",
       "    <tr>\n",
       "      <th>7</th>\n",
       "      <td>Esa Walton</td>\n",
       "      <td>Zaid Nunez</td>\n",
       "      <td>CA</td>\n",
       "      <td>CA WEST</td>\n",
       "      <td>End Customer</td>\n",
       "      <td>9</td>\n",
       "      <td>13.64991</td>\n",
       "      <td>17.340350</td>\n",
       "    </tr>\n",
       "    <tr>\n",
       "      <th>8</th>\n",
       "      <td>Esa Walton</td>\n",
       "      <td>Zaid Nunez</td>\n",
       "      <td>CA</td>\n",
       "      <td>CA WEST</td>\n",
       "      <td>Reseller</td>\n",
       "      <td>2</td>\n",
       "      <td>195.49553</td>\n",
       "      <td>218.249630</td>\n",
       "    </tr>\n",
       "    <tr>\n",
       "      <th>9</th>\n",
       "      <td>Hattie Beattie</td>\n",
       "      <td>Nicole Stamp</td>\n",
       "      <td>US</td>\n",
       "      <td>US EAST</td>\n",
       "      <td>Corporate</td>\n",
       "      <td>9</td>\n",
       "      <td>217.23747</td>\n",
       "      <td>370.432550</td>\n",
       "    </tr>\n",
       "    <tr>\n",
       "      <th>10</th>\n",
       "      <td>Hattie Beattie</td>\n",
       "      <td>Nicole Stamp</td>\n",
       "      <td>US</td>\n",
       "      <td>US EAST</td>\n",
       "      <td>End Customer</td>\n",
       "      <td>21</td>\n",
       "      <td>52.88671</td>\n",
       "      <td>41.312240</td>\n",
       "    </tr>\n",
       "    <tr>\n",
       "      <th>11</th>\n",
       "      <td>Hattie Beattie</td>\n",
       "      <td>Nicole Stamp</td>\n",
       "      <td>US</td>\n",
       "      <td>US EAST</td>\n",
       "      <td>Reseller</td>\n",
       "      <td>4</td>\n",
       "      <td>539.29728</td>\n",
       "      <td>607.313360</td>\n",
       "    </tr>\n",
       "    <tr>\n",
       "      <th>12</th>\n",
       "      <td>Matas Walmsley</td>\n",
       "      <td>Atlanta Avila</td>\n",
       "      <td>US</td>\n",
       "      <td>US WEST</td>\n",
       "      <td>Corporate</td>\n",
       "      <td>1</td>\n",
       "      <td>36.64361</td>\n",
       "      <td>55.899930</td>\n",
       "    </tr>\n",
       "    <tr>\n",
       "      <th>13</th>\n",
       "      <td>Matas Walmsley</td>\n",
       "      <td>Atlanta Avila</td>\n",
       "      <td>US</td>\n",
       "      <td>US WEST</td>\n",
       "      <td>End Customer</td>\n",
       "      <td>2</td>\n",
       "      <td>2.05823</td>\n",
       "      <td>4.701360</td>\n",
       "    </tr>\n",
       "    <tr>\n",
       "      <th>14</th>\n",
       "      <td>Matas Walmsley</td>\n",
       "      <td>Taliah Pope</td>\n",
       "      <td>US</td>\n",
       "      <td>US WEST</td>\n",
       "      <td>Corporate</td>\n",
       "      <td>4</td>\n",
       "      <td>117.12708</td>\n",
       "      <td>226.741700</td>\n",
       "    </tr>\n",
       "    <tr>\n",
       "      <th>15</th>\n",
       "      <td>Matas Walmsley</td>\n",
       "      <td>Taliah Pope</td>\n",
       "      <td>US</td>\n",
       "      <td>US WEST</td>\n",
       "      <td>End Customer</td>\n",
       "      <td>4</td>\n",
       "      <td>4.27549</td>\n",
       "      <td>9.464550</td>\n",
       "    </tr>\n",
       "    <tr>\n",
       "      <th>16</th>\n",
       "      <td>Matas Walmsley</td>\n",
       "      <td>Taliah Pope</td>\n",
       "      <td>US</td>\n",
       "      <td>US WEST</td>\n",
       "      <td>Reseller</td>\n",
       "      <td>4</td>\n",
       "      <td>580.55641</td>\n",
       "      <td>595.957890</td>\n",
       "    </tr>\n",
       "  </tbody>\n",
       "</table>\n",
       "</div>"
      ],
      "text/plain": [
       "   SALES_VICE_PRESIDENT      SALES_LEADER COUNTRY   REGION CUSTOMER_CATEGORY  \\\n",
       "0          Adem Osborne         Iram Luna      CA  CA EAST        Corporate    \n",
       "1          Adem Osborne         Iram Luna      CA  CA EAST      End Customer   \n",
       "2          Adem Osborne         Iram Luna      CA  CA EAST          Reseller   \n",
       "3          Adem Osborne  Shahzaib Mahoney      CA  CA EAST        Corporate    \n",
       "4          Adem Osborne  Shahzaib Mahoney      CA  CA EAST      End Customer   \n",
       "5          Adem Osborne  Shahzaib Mahoney      CA  CA EAST          Reseller   \n",
       "6            Esa Walton        Zaid Nunez      CA  CA WEST        Corporate    \n",
       "7            Esa Walton        Zaid Nunez      CA  CA WEST      End Customer   \n",
       "8            Esa Walton        Zaid Nunez      CA  CA WEST          Reseller   \n",
       "9        Hattie Beattie      Nicole Stamp      US  US EAST        Corporate    \n",
       "10       Hattie Beattie      Nicole Stamp      US  US EAST      End Customer   \n",
       "11       Hattie Beattie      Nicole Stamp      US  US EAST          Reseller   \n",
       "12       Matas Walmsley     Atlanta Avila      US  US WEST        Corporate    \n",
       "13       Matas Walmsley     Atlanta Avila      US  US WEST      End Customer   \n",
       "14       Matas Walmsley       Taliah Pope      US  US WEST        Corporate    \n",
       "15       Matas Walmsley       Taliah Pope      US  US WEST      End Customer   \n",
       "16       Matas Walmsley       Taliah Pope      US  US WEST          Reseller   \n",
       "\n",
       "    ACCOUNT_ID  PRE_YTD_SALES   YTD_SALES  \n",
       "0            4      131.52915  192.025080  \n",
       "1           20       30.08893   94.372902  \n",
       "2            1      151.74815  151.693050  \n",
       "3            1       21.25576   40.447740  \n",
       "4           11       15.59460   21.278820  \n",
       "5            1      104.20998  148.289500  \n",
       "6            2       80.06572  100.409440  \n",
       "7            9       13.64991   17.340350  \n",
       "8            2      195.49553  218.249630  \n",
       "9            9      217.23747  370.432550  \n",
       "10          21       52.88671   41.312240  \n",
       "11           4      539.29728  607.313360  \n",
       "12           1       36.64361   55.899930  \n",
       "13           2        2.05823    4.701360  \n",
       "14           4      117.12708  226.741700  \n",
       "15           4        4.27549    9.464550  \n",
       "16           4      580.55641  595.957890  "
      ]
     },
     "execution_count": 78,
     "metadata": {},
     "output_type": "execute_result"
    }
   ],
   "source": [
    "table7 = pd.pivot_table(data,index=[\"SALES_VICE_PRESIDENT\",\"SALES_LEADER\",\"COUNTRY\",\"REGION\",\"CUSTOMER_CATEGORY\"],values=[\"PRE_YTD_SALES\",\"YTD_SALES\",\"ACCOUNT_ID\"],aggfunc={'ACCOUNT_ID': \"count\", 'PRE_YTD_SALES': \"sum\",'YTD_SALES': \"sum\"})\n",
    "table7.reset_index(inplace=True)\n",
    "table7"
   ]
  },
  {
   "cell_type": "code",
   "execution_count": 79,
   "id": "e8d9082b",
   "metadata": {},
   "outputs": [
    {
     "data": {
      "text/html": [
       "<div>                            <div id=\"d321c4f7-b5fe-48be-8862-b855e453ee0b\" class=\"plotly-graph-div\" style=\"height:525px; width:800px;\"></div>            <script type=\"text/javascript\">                require([\"plotly\"], function(Plotly) {                    window.PLOTLYENV=window.PLOTLYENV || {};                                    if (document.getElementById(\"d321c4f7-b5fe-48be-8862-b855e453ee0b\")) {                    Plotly.newPlot(                        \"d321c4f7-b5fe-48be-8862-b855e453ee0b\",                        [{\"alignmentgroup\":\"True\",\"hovertemplate\":\"CUSTOMER_CATEGORY=Corporate <br>SALES_LEADER=%{x}<br>YTD_SALES=%{y}<extra></extra>\",\"legendgroup\":\"Corporate \",\"marker\":{\"color\":\"#002626\",\"pattern\":{\"shape\":\"\"}},\"name\":\"Corporate \",\"offsetgroup\":\"Corporate \",\"orientation\":\"v\",\"showlegend\":true,\"textposition\":\"auto\",\"x\":[\"Iram Luna\",\"Shahzaib Mahoney\",\"Zaid Nunez\",\"Nicole Stamp\",\"Atlanta Avila\",\"Taliah Pope\"],\"xaxis\":\"x\",\"y\":[192.02508,40.44774,100.40943999999999,370.43255,55.89993,226.7417],\"yaxis\":\"y\",\"type\":\"bar\"},{\"alignmentgroup\":\"True\",\"hovertemplate\":\"CUSTOMER_CATEGORY=End Customer<br>SALES_LEADER=%{x}<br>YTD_SALES=%{y}<extra></extra>\",\"legendgroup\":\"End Customer\",\"marker\":{\"color\":\"#0e4749\",\"pattern\":{\"shape\":\"\"}},\"name\":\"End Customer\",\"offsetgroup\":\"End Customer\",\"orientation\":\"v\",\"showlegend\":true,\"textposition\":\"auto\",\"x\":[\"Iram Luna\",\"Shahzaib Mahoney\",\"Zaid Nunez\",\"Nicole Stamp\",\"Atlanta Avila\",\"Taliah Pope\"],\"xaxis\":\"x\",\"y\":[94.3729018367347,21.27882,17.34035,41.31224,4.70136,9.46455],\"yaxis\":\"y\",\"type\":\"bar\"},{\"alignmentgroup\":\"True\",\"hovertemplate\":\"CUSTOMER_CATEGORY=Reseller<br>SALES_LEADER=%{x}<br>YTD_SALES=%{y}<extra></extra>\",\"legendgroup\":\"Reseller\",\"marker\":{\"color\":\"#95c623\",\"pattern\":{\"shape\":\"\"}},\"name\":\"Reseller\",\"offsetgroup\":\"Reseller\",\"orientation\":\"v\",\"showlegend\":true,\"textposition\":\"auto\",\"x\":[\"Iram Luna\",\"Shahzaib Mahoney\",\"Zaid Nunez\",\"Nicole Stamp\",\"Taliah Pope\"],\"xaxis\":\"x\",\"y\":[151.69305,148.2895,218.24963,607.31336,595.95789],\"yaxis\":\"y\",\"type\":\"bar\"}],                        {\"template\":{\"data\":{\"barpolar\":[{\"marker\":{\"line\":{\"color\":\"white\",\"width\":0.5},\"pattern\":{\"fillmode\":\"overlay\",\"size\":10,\"solidity\":0.2}},\"type\":\"barpolar\"}],\"bar\":[{\"error_x\":{\"color\":\"rgb(36,36,36)\"},\"error_y\":{\"color\":\"rgb(36,36,36)\"},\"marker\":{\"line\":{\"color\":\"white\",\"width\":0.5},\"pattern\":{\"fillmode\":\"overlay\",\"size\":10,\"solidity\":0.2}},\"type\":\"bar\"}],\"carpet\":[{\"aaxis\":{\"endlinecolor\":\"rgb(36,36,36)\",\"gridcolor\":\"white\",\"linecolor\":\"white\",\"minorgridcolor\":\"white\",\"startlinecolor\":\"rgb(36,36,36)\"},\"baxis\":{\"endlinecolor\":\"rgb(36,36,36)\",\"gridcolor\":\"white\",\"linecolor\":\"white\",\"minorgridcolor\":\"white\",\"startlinecolor\":\"rgb(36,36,36)\"},\"type\":\"carpet\"}],\"choropleth\":[{\"colorbar\":{\"outlinewidth\":1,\"tickcolor\":\"rgb(36,36,36)\",\"ticks\":\"outside\"},\"type\":\"choropleth\"}],\"contourcarpet\":[{\"colorbar\":{\"outlinewidth\":1,\"tickcolor\":\"rgb(36,36,36)\",\"ticks\":\"outside\"},\"type\":\"contourcarpet\"}],\"contour\":[{\"colorbar\":{\"outlinewidth\":1,\"tickcolor\":\"rgb(36,36,36)\",\"ticks\":\"outside\"},\"colorscale\":[[0.0,\"#440154\"],[0.1111111111111111,\"#482878\"],[0.2222222222222222,\"#3e4989\"],[0.3333333333333333,\"#31688e\"],[0.4444444444444444,\"#26828e\"],[0.5555555555555556,\"#1f9e89\"],[0.6666666666666666,\"#35b779\"],[0.7777777777777778,\"#6ece58\"],[0.8888888888888888,\"#b5de2b\"],[1.0,\"#fde725\"]],\"type\":\"contour\"}],\"heatmapgl\":[{\"colorbar\":{\"outlinewidth\":1,\"tickcolor\":\"rgb(36,36,36)\",\"ticks\":\"outside\"},\"colorscale\":[[0.0,\"#440154\"],[0.1111111111111111,\"#482878\"],[0.2222222222222222,\"#3e4989\"],[0.3333333333333333,\"#31688e\"],[0.4444444444444444,\"#26828e\"],[0.5555555555555556,\"#1f9e89\"],[0.6666666666666666,\"#35b779\"],[0.7777777777777778,\"#6ece58\"],[0.8888888888888888,\"#b5de2b\"],[1.0,\"#fde725\"]],\"type\":\"heatmapgl\"}],\"heatmap\":[{\"colorbar\":{\"outlinewidth\":1,\"tickcolor\":\"rgb(36,36,36)\",\"ticks\":\"outside\"},\"colorscale\":[[0.0,\"#440154\"],[0.1111111111111111,\"#482878\"],[0.2222222222222222,\"#3e4989\"],[0.3333333333333333,\"#31688e\"],[0.4444444444444444,\"#26828e\"],[0.5555555555555556,\"#1f9e89\"],[0.6666666666666666,\"#35b779\"],[0.7777777777777778,\"#6ece58\"],[0.8888888888888888,\"#b5de2b\"],[1.0,\"#fde725\"]],\"type\":\"heatmap\"}],\"histogram2dcontour\":[{\"colorbar\":{\"outlinewidth\":1,\"tickcolor\":\"rgb(36,36,36)\",\"ticks\":\"outside\"},\"colorscale\":[[0.0,\"#440154\"],[0.1111111111111111,\"#482878\"],[0.2222222222222222,\"#3e4989\"],[0.3333333333333333,\"#31688e\"],[0.4444444444444444,\"#26828e\"],[0.5555555555555556,\"#1f9e89\"],[0.6666666666666666,\"#35b779\"],[0.7777777777777778,\"#6ece58\"],[0.8888888888888888,\"#b5de2b\"],[1.0,\"#fde725\"]],\"type\":\"histogram2dcontour\"}],\"histogram2d\":[{\"colorbar\":{\"outlinewidth\":1,\"tickcolor\":\"rgb(36,36,36)\",\"ticks\":\"outside\"},\"colorscale\":[[0.0,\"#440154\"],[0.1111111111111111,\"#482878\"],[0.2222222222222222,\"#3e4989\"],[0.3333333333333333,\"#31688e\"],[0.4444444444444444,\"#26828e\"],[0.5555555555555556,\"#1f9e89\"],[0.6666666666666666,\"#35b779\"],[0.7777777777777778,\"#6ece58\"],[0.8888888888888888,\"#b5de2b\"],[1.0,\"#fde725\"]],\"type\":\"histogram2d\"}],\"histogram\":[{\"marker\":{\"line\":{\"color\":\"white\",\"width\":0.6}},\"type\":\"histogram\"}],\"mesh3d\":[{\"colorbar\":{\"outlinewidth\":1,\"tickcolor\":\"rgb(36,36,36)\",\"ticks\":\"outside\"},\"type\":\"mesh3d\"}],\"parcoords\":[{\"line\":{\"colorbar\":{\"outlinewidth\":1,\"tickcolor\":\"rgb(36,36,36)\",\"ticks\":\"outside\"}},\"type\":\"parcoords\"}],\"pie\":[{\"automargin\":true,\"type\":\"pie\"}],\"scatter3d\":[{\"line\":{\"colorbar\":{\"outlinewidth\":1,\"tickcolor\":\"rgb(36,36,36)\",\"ticks\":\"outside\"}},\"marker\":{\"colorbar\":{\"outlinewidth\":1,\"tickcolor\":\"rgb(36,36,36)\",\"ticks\":\"outside\"}},\"type\":\"scatter3d\"}],\"scattercarpet\":[{\"marker\":{\"colorbar\":{\"outlinewidth\":1,\"tickcolor\":\"rgb(36,36,36)\",\"ticks\":\"outside\"}},\"type\":\"scattercarpet\"}],\"scattergeo\":[{\"marker\":{\"colorbar\":{\"outlinewidth\":1,\"tickcolor\":\"rgb(36,36,36)\",\"ticks\":\"outside\"}},\"type\":\"scattergeo\"}],\"scattergl\":[{\"marker\":{\"colorbar\":{\"outlinewidth\":1,\"tickcolor\":\"rgb(36,36,36)\",\"ticks\":\"outside\"}},\"type\":\"scattergl\"}],\"scattermapbox\":[{\"marker\":{\"colorbar\":{\"outlinewidth\":1,\"tickcolor\":\"rgb(36,36,36)\",\"ticks\":\"outside\"}},\"type\":\"scattermapbox\"}],\"scatterpolargl\":[{\"marker\":{\"colorbar\":{\"outlinewidth\":1,\"tickcolor\":\"rgb(36,36,36)\",\"ticks\":\"outside\"}},\"type\":\"scatterpolargl\"}],\"scatterpolar\":[{\"marker\":{\"colorbar\":{\"outlinewidth\":1,\"tickcolor\":\"rgb(36,36,36)\",\"ticks\":\"outside\"}},\"type\":\"scatterpolar\"}],\"scatter\":[{\"fillpattern\":{\"fillmode\":\"overlay\",\"size\":10,\"solidity\":0.2},\"type\":\"scatter\"}],\"scatterternary\":[{\"marker\":{\"colorbar\":{\"outlinewidth\":1,\"tickcolor\":\"rgb(36,36,36)\",\"ticks\":\"outside\"}},\"type\":\"scatterternary\"}],\"surface\":[{\"colorbar\":{\"outlinewidth\":1,\"tickcolor\":\"rgb(36,36,36)\",\"ticks\":\"outside\"},\"colorscale\":[[0.0,\"#440154\"],[0.1111111111111111,\"#482878\"],[0.2222222222222222,\"#3e4989\"],[0.3333333333333333,\"#31688e\"],[0.4444444444444444,\"#26828e\"],[0.5555555555555556,\"#1f9e89\"],[0.6666666666666666,\"#35b779\"],[0.7777777777777778,\"#6ece58\"],[0.8888888888888888,\"#b5de2b\"],[1.0,\"#fde725\"]],\"type\":\"surface\"}],\"table\":[{\"cells\":{\"fill\":{\"color\":\"rgb(237,237,237)\"},\"line\":{\"color\":\"white\"}},\"header\":{\"fill\":{\"color\":\"rgb(217,217,217)\"},\"line\":{\"color\":\"white\"}},\"type\":\"table\"}]},\"layout\":{\"annotationdefaults\":{\"arrowhead\":0,\"arrowwidth\":1},\"autotypenumbers\":\"strict\",\"coloraxis\":{\"colorbar\":{\"outlinewidth\":1,\"tickcolor\":\"rgb(36,36,36)\",\"ticks\":\"outside\"}},\"colorscale\":{\"diverging\":[[0.0,\"rgb(103,0,31)\"],[0.1,\"rgb(178,24,43)\"],[0.2,\"rgb(214,96,77)\"],[0.3,\"rgb(244,165,130)\"],[0.4,\"rgb(253,219,199)\"],[0.5,\"rgb(247,247,247)\"],[0.6,\"rgb(209,229,240)\"],[0.7,\"rgb(146,197,222)\"],[0.8,\"rgb(67,147,195)\"],[0.9,\"rgb(33,102,172)\"],[1.0,\"rgb(5,48,97)\"]],\"sequential\":[[0.0,\"#440154\"],[0.1111111111111111,\"#482878\"],[0.2222222222222222,\"#3e4989\"],[0.3333333333333333,\"#31688e\"],[0.4444444444444444,\"#26828e\"],[0.5555555555555556,\"#1f9e89\"],[0.6666666666666666,\"#35b779\"],[0.7777777777777778,\"#6ece58\"],[0.8888888888888888,\"#b5de2b\"],[1.0,\"#fde725\"]],\"sequentialminus\":[[0.0,\"#440154\"],[0.1111111111111111,\"#482878\"],[0.2222222222222222,\"#3e4989\"],[0.3333333333333333,\"#31688e\"],[0.4444444444444444,\"#26828e\"],[0.5555555555555556,\"#1f9e89\"],[0.6666666666666666,\"#35b779\"],[0.7777777777777778,\"#6ece58\"],[0.8888888888888888,\"#b5de2b\"],[1.0,\"#fde725\"]]},\"colorway\":[\"#1F77B4\",\"#FF7F0E\",\"#2CA02C\",\"#D62728\",\"#9467BD\",\"#8C564B\",\"#E377C2\",\"#7F7F7F\",\"#BCBD22\",\"#17BECF\"],\"font\":{\"color\":\"rgb(36,36,36)\"},\"geo\":{\"bgcolor\":\"white\",\"lakecolor\":\"white\",\"landcolor\":\"white\",\"showlakes\":true,\"showland\":true,\"subunitcolor\":\"white\"},\"hoverlabel\":{\"align\":\"left\"},\"hovermode\":\"closest\",\"mapbox\":{\"style\":\"light\"},\"paper_bgcolor\":\"white\",\"plot_bgcolor\":\"white\",\"polar\":{\"angularaxis\":{\"gridcolor\":\"rgb(232,232,232)\",\"linecolor\":\"rgb(36,36,36)\",\"showgrid\":false,\"showline\":true,\"ticks\":\"outside\"},\"bgcolor\":\"white\",\"radialaxis\":{\"gridcolor\":\"rgb(232,232,232)\",\"linecolor\":\"rgb(36,36,36)\",\"showgrid\":false,\"showline\":true,\"ticks\":\"outside\"}},\"scene\":{\"xaxis\":{\"backgroundcolor\":\"white\",\"gridcolor\":\"rgb(232,232,232)\",\"gridwidth\":2,\"linecolor\":\"rgb(36,36,36)\",\"showbackground\":true,\"showgrid\":false,\"showline\":true,\"ticks\":\"outside\",\"zeroline\":false,\"zerolinecolor\":\"rgb(36,36,36)\"},\"yaxis\":{\"backgroundcolor\":\"white\",\"gridcolor\":\"rgb(232,232,232)\",\"gridwidth\":2,\"linecolor\":\"rgb(36,36,36)\",\"showbackground\":true,\"showgrid\":false,\"showline\":true,\"ticks\":\"outside\",\"zeroline\":false,\"zerolinecolor\":\"rgb(36,36,36)\"},\"zaxis\":{\"backgroundcolor\":\"white\",\"gridcolor\":\"rgb(232,232,232)\",\"gridwidth\":2,\"linecolor\":\"rgb(36,36,36)\",\"showbackground\":true,\"showgrid\":false,\"showline\":true,\"ticks\":\"outside\",\"zeroline\":false,\"zerolinecolor\":\"rgb(36,36,36)\"}},\"shapedefaults\":{\"fillcolor\":\"black\",\"line\":{\"width\":0},\"opacity\":0.3},\"ternary\":{\"aaxis\":{\"gridcolor\":\"rgb(232,232,232)\",\"linecolor\":\"rgb(36,36,36)\",\"showgrid\":false,\"showline\":true,\"ticks\":\"outside\"},\"baxis\":{\"gridcolor\":\"rgb(232,232,232)\",\"linecolor\":\"rgb(36,36,36)\",\"showgrid\":false,\"showline\":true,\"ticks\":\"outside\"},\"bgcolor\":\"white\",\"caxis\":{\"gridcolor\":\"rgb(232,232,232)\",\"linecolor\":\"rgb(36,36,36)\",\"showgrid\":false,\"showline\":true,\"ticks\":\"outside\"}},\"title\":{\"x\":0.05},\"xaxis\":{\"automargin\":true,\"gridcolor\":\"rgb(232,232,232)\",\"linecolor\":\"rgb(36,36,36)\",\"showgrid\":false,\"showline\":true,\"ticks\":\"outside\",\"title\":{\"standoff\":15},\"zeroline\":false,\"zerolinecolor\":\"rgb(36,36,36)\"},\"yaxis\":{\"automargin\":true,\"gridcolor\":\"rgb(232,232,232)\",\"linecolor\":\"rgb(36,36,36)\",\"showgrid\":false,\"showline\":true,\"ticks\":\"outside\",\"title\":{\"standoff\":15},\"zeroline\":false,\"zerolinecolor\":\"rgb(36,36,36)\"}}},\"xaxis\":{\"anchor\":\"y\",\"domain\":[0.0,1.0],\"title\":{\"text\":\"SALES_LEADER\"}},\"yaxis\":{\"anchor\":\"x\",\"domain\":[0.0,1.0],\"title\":{\"text\":\"YTD_SALES\"}},\"legend\":{\"title\":{\"text\":\"CUSTOMER_CATEGORY\"},\"tracegroupgap\":0},\"title\":{\"text\":\"Sales Performance by Consumer Category and Sales Leader in 2023\"},\"barmode\":\"group\",\"width\":800},                        {\"responsive\": true}                    ).then(function(){\n",
       "                            \n",
       "var gd = document.getElementById('d321c4f7-b5fe-48be-8862-b855e453ee0b');\n",
       "var x = new MutationObserver(function (mutations, observer) {{\n",
       "        var display = window.getComputedStyle(gd).display;\n",
       "        if (!display || display === 'none') {{\n",
       "            console.log([gd, 'removed!']);\n",
       "            Plotly.purge(gd);\n",
       "            observer.disconnect();\n",
       "        }}\n",
       "}});\n",
       "\n",
       "// Listen for the removal of the full notebook cells\n",
       "var notebookContainer = gd.closest('#notebook-container');\n",
       "if (notebookContainer) {{\n",
       "    x.observe(notebookContainer, {childList: true});\n",
       "}}\n",
       "\n",
       "// Listen for the clearing of the current output cell\n",
       "var outputEl = gd.closest('.output');\n",
       "if (outputEl) {{\n",
       "    x.observe(outputEl, {childList: true});\n",
       "}}\n",
       "\n",
       "                        })                };                });            </script>        </div>"
      ]
     },
     "metadata": {},
     "output_type": "display_data"
    }
   ],
   "source": [
    "x = px.bar(data_frame=table7,x=\"SALES_LEADER\",y=\"YTD_SALES\",color=\"CUSTOMER_CATEGORY\",template=\"simple_white\",title=\"Sales Performance by Consumer Category and Sales Leader in 2023\",width= 800,barmode=\"group\")\n",
    "x[\"data\"][0][\"marker\"][\"color\"] = \"#002626\"\n",
    "x[\"data\"][1][\"marker\"][\"color\"] = \"#0e4749\"\n",
    "x[\"data\"][2][\"marker\"][\"color\"] = \"#95c623\"\n",
    "x"
   ]
  },
  {
   "cell_type": "markdown",
   "id": "537d6e6c",
   "metadata": {},
   "source": [
    "It is interesting to note here that **Atlanta Avila** was the **least performer** in the **US** as she was **unable to hold any \"reseller\"** from her region on the contrary *Taliah Pope was able to generate hefty sales from \"Reseller\" and \"Corporate\" Consumer Segments*"
   ]
  },
  {
   "cell_type": "code",
   "execution_count": 80,
   "id": "16562632",
   "metadata": {},
   "outputs": [
    {
     "data": {
      "text/html": [
       "<div>                            <div id=\"e880a98c-dfad-4d5a-b4f8-22172f15ee82\" class=\"plotly-graph-div\" style=\"height:525px; width:800px;\"></div>            <script type=\"text/javascript\">                require([\"plotly\"], function(Plotly) {                    window.PLOTLYENV=window.PLOTLYENV || {};                                    if (document.getElementById(\"e880a98c-dfad-4d5a-b4f8-22172f15ee82\")) {                    Plotly.newPlot(                        \"e880a98c-dfad-4d5a-b4f8-22172f15ee82\",                        [{\"alignmentgroup\":\"True\",\"hovertemplate\":\"Sale Period=PRE_YTD_SALES<br>SALES_LEADER=%{x}<br>Sales in 1000 Units=%{y}<extra></extra>\",\"legendgroup\":\"PRE_YTD_SALES\",\"marker\":{\"color\":\"#642ca9\",\"pattern\":{\"shape\":\"\"}},\"name\":\"PRE_YTD_SALES\",\"offsetgroup\":\"PRE_YTD_SALES\",\"orientation\":\"v\",\"showlegend\":true,\"textposition\":\"auto\",\"x\":[\"Iram Luna\",\"Shahzaib Mahoney\",\"Zaid Nunez\",\"Nicole Stamp\",\"Atlanta Avila\",\"Taliah Pope\"],\"xaxis\":\"x\",\"y\":[313.36623000000003,141.06034,289.21115999999995,809.4214601010101,38.701840000000004,701.95898],\"yaxis\":\"y\",\"type\":\"bar\"},{\"alignmentgroup\":\"True\",\"hovertemplate\":\"Sale Period=YTD_SALES<br>SALES_LEADER=%{x}<br>Sales in 1000 Units=%{y}<extra></extra>\",\"legendgroup\":\"YTD_SALES\",\"marker\":{\"color\":\"#ff36ab\",\"pattern\":{\"shape\":\"\"}},\"name\":\"YTD_SALES\",\"offsetgroup\":\"YTD_SALES\",\"orientation\":\"v\",\"showlegend\":true,\"textposition\":\"auto\",\"x\":[\"Iram Luna\",\"Shahzaib Mahoney\",\"Zaid Nunez\",\"Nicole Stamp\",\"Atlanta Avila\",\"Taliah Pope\"],\"xaxis\":\"x\",\"y\":[438.0910318367347,210.01606,335.99942,1019.05815,60.60129,832.16414],\"yaxis\":\"y\",\"type\":\"bar\"}],                        {\"template\":{\"data\":{\"barpolar\":[{\"marker\":{\"line\":{\"color\":\"white\",\"width\":0.5},\"pattern\":{\"fillmode\":\"overlay\",\"size\":10,\"solidity\":0.2}},\"type\":\"barpolar\"}],\"bar\":[{\"error_x\":{\"color\":\"rgb(36,36,36)\"},\"error_y\":{\"color\":\"rgb(36,36,36)\"},\"marker\":{\"line\":{\"color\":\"white\",\"width\":0.5},\"pattern\":{\"fillmode\":\"overlay\",\"size\":10,\"solidity\":0.2}},\"type\":\"bar\"}],\"carpet\":[{\"aaxis\":{\"endlinecolor\":\"rgb(36,36,36)\",\"gridcolor\":\"white\",\"linecolor\":\"white\",\"minorgridcolor\":\"white\",\"startlinecolor\":\"rgb(36,36,36)\"},\"baxis\":{\"endlinecolor\":\"rgb(36,36,36)\",\"gridcolor\":\"white\",\"linecolor\":\"white\",\"minorgridcolor\":\"white\",\"startlinecolor\":\"rgb(36,36,36)\"},\"type\":\"carpet\"}],\"choropleth\":[{\"colorbar\":{\"outlinewidth\":1,\"tickcolor\":\"rgb(36,36,36)\",\"ticks\":\"outside\"},\"type\":\"choropleth\"}],\"contourcarpet\":[{\"colorbar\":{\"outlinewidth\":1,\"tickcolor\":\"rgb(36,36,36)\",\"ticks\":\"outside\"},\"type\":\"contourcarpet\"}],\"contour\":[{\"colorbar\":{\"outlinewidth\":1,\"tickcolor\":\"rgb(36,36,36)\",\"ticks\":\"outside\"},\"colorscale\":[[0.0,\"#440154\"],[0.1111111111111111,\"#482878\"],[0.2222222222222222,\"#3e4989\"],[0.3333333333333333,\"#31688e\"],[0.4444444444444444,\"#26828e\"],[0.5555555555555556,\"#1f9e89\"],[0.6666666666666666,\"#35b779\"],[0.7777777777777778,\"#6ece58\"],[0.8888888888888888,\"#b5de2b\"],[1.0,\"#fde725\"]],\"type\":\"contour\"}],\"heatmapgl\":[{\"colorbar\":{\"outlinewidth\":1,\"tickcolor\":\"rgb(36,36,36)\",\"ticks\":\"outside\"},\"colorscale\":[[0.0,\"#440154\"],[0.1111111111111111,\"#482878\"],[0.2222222222222222,\"#3e4989\"],[0.3333333333333333,\"#31688e\"],[0.4444444444444444,\"#26828e\"],[0.5555555555555556,\"#1f9e89\"],[0.6666666666666666,\"#35b779\"],[0.7777777777777778,\"#6ece58\"],[0.8888888888888888,\"#b5de2b\"],[1.0,\"#fde725\"]],\"type\":\"heatmapgl\"}],\"heatmap\":[{\"colorbar\":{\"outlinewidth\":1,\"tickcolor\":\"rgb(36,36,36)\",\"ticks\":\"outside\"},\"colorscale\":[[0.0,\"#440154\"],[0.1111111111111111,\"#482878\"],[0.2222222222222222,\"#3e4989\"],[0.3333333333333333,\"#31688e\"],[0.4444444444444444,\"#26828e\"],[0.5555555555555556,\"#1f9e89\"],[0.6666666666666666,\"#35b779\"],[0.7777777777777778,\"#6ece58\"],[0.8888888888888888,\"#b5de2b\"],[1.0,\"#fde725\"]],\"type\":\"heatmap\"}],\"histogram2dcontour\":[{\"colorbar\":{\"outlinewidth\":1,\"tickcolor\":\"rgb(36,36,36)\",\"ticks\":\"outside\"},\"colorscale\":[[0.0,\"#440154\"],[0.1111111111111111,\"#482878\"],[0.2222222222222222,\"#3e4989\"],[0.3333333333333333,\"#31688e\"],[0.4444444444444444,\"#26828e\"],[0.5555555555555556,\"#1f9e89\"],[0.6666666666666666,\"#35b779\"],[0.7777777777777778,\"#6ece58\"],[0.8888888888888888,\"#b5de2b\"],[1.0,\"#fde725\"]],\"type\":\"histogram2dcontour\"}],\"histogram2d\":[{\"colorbar\":{\"outlinewidth\":1,\"tickcolor\":\"rgb(36,36,36)\",\"ticks\":\"outside\"},\"colorscale\":[[0.0,\"#440154\"],[0.1111111111111111,\"#482878\"],[0.2222222222222222,\"#3e4989\"],[0.3333333333333333,\"#31688e\"],[0.4444444444444444,\"#26828e\"],[0.5555555555555556,\"#1f9e89\"],[0.6666666666666666,\"#35b779\"],[0.7777777777777778,\"#6ece58\"],[0.8888888888888888,\"#b5de2b\"],[1.0,\"#fde725\"]],\"type\":\"histogram2d\"}],\"histogram\":[{\"marker\":{\"line\":{\"color\":\"white\",\"width\":0.6}},\"type\":\"histogram\"}],\"mesh3d\":[{\"colorbar\":{\"outlinewidth\":1,\"tickcolor\":\"rgb(36,36,36)\",\"ticks\":\"outside\"},\"type\":\"mesh3d\"}],\"parcoords\":[{\"line\":{\"colorbar\":{\"outlinewidth\":1,\"tickcolor\":\"rgb(36,36,36)\",\"ticks\":\"outside\"}},\"type\":\"parcoords\"}],\"pie\":[{\"automargin\":true,\"type\":\"pie\"}],\"scatter3d\":[{\"line\":{\"colorbar\":{\"outlinewidth\":1,\"tickcolor\":\"rgb(36,36,36)\",\"ticks\":\"outside\"}},\"marker\":{\"colorbar\":{\"outlinewidth\":1,\"tickcolor\":\"rgb(36,36,36)\",\"ticks\":\"outside\"}},\"type\":\"scatter3d\"}],\"scattercarpet\":[{\"marker\":{\"colorbar\":{\"outlinewidth\":1,\"tickcolor\":\"rgb(36,36,36)\",\"ticks\":\"outside\"}},\"type\":\"scattercarpet\"}],\"scattergeo\":[{\"marker\":{\"colorbar\":{\"outlinewidth\":1,\"tickcolor\":\"rgb(36,36,36)\",\"ticks\":\"outside\"}},\"type\":\"scattergeo\"}],\"scattergl\":[{\"marker\":{\"colorbar\":{\"outlinewidth\":1,\"tickcolor\":\"rgb(36,36,36)\",\"ticks\":\"outside\"}},\"type\":\"scattergl\"}],\"scattermapbox\":[{\"marker\":{\"colorbar\":{\"outlinewidth\":1,\"tickcolor\":\"rgb(36,36,36)\",\"ticks\":\"outside\"}},\"type\":\"scattermapbox\"}],\"scatterpolargl\":[{\"marker\":{\"colorbar\":{\"outlinewidth\":1,\"tickcolor\":\"rgb(36,36,36)\",\"ticks\":\"outside\"}},\"type\":\"scatterpolargl\"}],\"scatterpolar\":[{\"marker\":{\"colorbar\":{\"outlinewidth\":1,\"tickcolor\":\"rgb(36,36,36)\",\"ticks\":\"outside\"}},\"type\":\"scatterpolar\"}],\"scatter\":[{\"fillpattern\":{\"fillmode\":\"overlay\",\"size\":10,\"solidity\":0.2},\"type\":\"scatter\"}],\"scatterternary\":[{\"marker\":{\"colorbar\":{\"outlinewidth\":1,\"tickcolor\":\"rgb(36,36,36)\",\"ticks\":\"outside\"}},\"type\":\"scatterternary\"}],\"surface\":[{\"colorbar\":{\"outlinewidth\":1,\"tickcolor\":\"rgb(36,36,36)\",\"ticks\":\"outside\"},\"colorscale\":[[0.0,\"#440154\"],[0.1111111111111111,\"#482878\"],[0.2222222222222222,\"#3e4989\"],[0.3333333333333333,\"#31688e\"],[0.4444444444444444,\"#26828e\"],[0.5555555555555556,\"#1f9e89\"],[0.6666666666666666,\"#35b779\"],[0.7777777777777778,\"#6ece58\"],[0.8888888888888888,\"#b5de2b\"],[1.0,\"#fde725\"]],\"type\":\"surface\"}],\"table\":[{\"cells\":{\"fill\":{\"color\":\"rgb(237,237,237)\"},\"line\":{\"color\":\"white\"}},\"header\":{\"fill\":{\"color\":\"rgb(217,217,217)\"},\"line\":{\"color\":\"white\"}},\"type\":\"table\"}]},\"layout\":{\"annotationdefaults\":{\"arrowhead\":0,\"arrowwidth\":1},\"autotypenumbers\":\"strict\",\"coloraxis\":{\"colorbar\":{\"outlinewidth\":1,\"tickcolor\":\"rgb(36,36,36)\",\"ticks\":\"outside\"}},\"colorscale\":{\"diverging\":[[0.0,\"rgb(103,0,31)\"],[0.1,\"rgb(178,24,43)\"],[0.2,\"rgb(214,96,77)\"],[0.3,\"rgb(244,165,130)\"],[0.4,\"rgb(253,219,199)\"],[0.5,\"rgb(247,247,247)\"],[0.6,\"rgb(209,229,240)\"],[0.7,\"rgb(146,197,222)\"],[0.8,\"rgb(67,147,195)\"],[0.9,\"rgb(33,102,172)\"],[1.0,\"rgb(5,48,97)\"]],\"sequential\":[[0.0,\"#440154\"],[0.1111111111111111,\"#482878\"],[0.2222222222222222,\"#3e4989\"],[0.3333333333333333,\"#31688e\"],[0.4444444444444444,\"#26828e\"],[0.5555555555555556,\"#1f9e89\"],[0.6666666666666666,\"#35b779\"],[0.7777777777777778,\"#6ece58\"],[0.8888888888888888,\"#b5de2b\"],[1.0,\"#fde725\"]],\"sequentialminus\":[[0.0,\"#440154\"],[0.1111111111111111,\"#482878\"],[0.2222222222222222,\"#3e4989\"],[0.3333333333333333,\"#31688e\"],[0.4444444444444444,\"#26828e\"],[0.5555555555555556,\"#1f9e89\"],[0.6666666666666666,\"#35b779\"],[0.7777777777777778,\"#6ece58\"],[0.8888888888888888,\"#b5de2b\"],[1.0,\"#fde725\"]]},\"colorway\":[\"#1F77B4\",\"#FF7F0E\",\"#2CA02C\",\"#D62728\",\"#9467BD\",\"#8C564B\",\"#E377C2\",\"#7F7F7F\",\"#BCBD22\",\"#17BECF\"],\"font\":{\"color\":\"rgb(36,36,36)\"},\"geo\":{\"bgcolor\":\"white\",\"lakecolor\":\"white\",\"landcolor\":\"white\",\"showlakes\":true,\"showland\":true,\"subunitcolor\":\"white\"},\"hoverlabel\":{\"align\":\"left\"},\"hovermode\":\"closest\",\"mapbox\":{\"style\":\"light\"},\"paper_bgcolor\":\"white\",\"plot_bgcolor\":\"white\",\"polar\":{\"angularaxis\":{\"gridcolor\":\"rgb(232,232,232)\",\"linecolor\":\"rgb(36,36,36)\",\"showgrid\":false,\"showline\":true,\"ticks\":\"outside\"},\"bgcolor\":\"white\",\"radialaxis\":{\"gridcolor\":\"rgb(232,232,232)\",\"linecolor\":\"rgb(36,36,36)\",\"showgrid\":false,\"showline\":true,\"ticks\":\"outside\"}},\"scene\":{\"xaxis\":{\"backgroundcolor\":\"white\",\"gridcolor\":\"rgb(232,232,232)\",\"gridwidth\":2,\"linecolor\":\"rgb(36,36,36)\",\"showbackground\":true,\"showgrid\":false,\"showline\":true,\"ticks\":\"outside\",\"zeroline\":false,\"zerolinecolor\":\"rgb(36,36,36)\"},\"yaxis\":{\"backgroundcolor\":\"white\",\"gridcolor\":\"rgb(232,232,232)\",\"gridwidth\":2,\"linecolor\":\"rgb(36,36,36)\",\"showbackground\":true,\"showgrid\":false,\"showline\":true,\"ticks\":\"outside\",\"zeroline\":false,\"zerolinecolor\":\"rgb(36,36,36)\"},\"zaxis\":{\"backgroundcolor\":\"white\",\"gridcolor\":\"rgb(232,232,232)\",\"gridwidth\":2,\"linecolor\":\"rgb(36,36,36)\",\"showbackground\":true,\"showgrid\":false,\"showline\":true,\"ticks\":\"outside\",\"zeroline\":false,\"zerolinecolor\":\"rgb(36,36,36)\"}},\"shapedefaults\":{\"fillcolor\":\"black\",\"line\":{\"width\":0},\"opacity\":0.3},\"ternary\":{\"aaxis\":{\"gridcolor\":\"rgb(232,232,232)\",\"linecolor\":\"rgb(36,36,36)\",\"showgrid\":false,\"showline\":true,\"ticks\":\"outside\"},\"baxis\":{\"gridcolor\":\"rgb(232,232,232)\",\"linecolor\":\"rgb(36,36,36)\",\"showgrid\":false,\"showline\":true,\"ticks\":\"outside\"},\"bgcolor\":\"white\",\"caxis\":{\"gridcolor\":\"rgb(232,232,232)\",\"linecolor\":\"rgb(36,36,36)\",\"showgrid\":false,\"showline\":true,\"ticks\":\"outside\"}},\"title\":{\"x\":0.05},\"xaxis\":{\"automargin\":true,\"gridcolor\":\"rgb(232,232,232)\",\"linecolor\":\"rgb(36,36,36)\",\"showgrid\":false,\"showline\":true,\"ticks\":\"outside\",\"title\":{\"standoff\":15},\"zeroline\":false,\"zerolinecolor\":\"rgb(36,36,36)\"},\"yaxis\":{\"automargin\":true,\"gridcolor\":\"rgb(232,232,232)\",\"linecolor\":\"rgb(36,36,36)\",\"showgrid\":false,\"showline\":true,\"ticks\":\"outside\",\"title\":{\"standoff\":15},\"zeroline\":false,\"zerolinecolor\":\"rgb(36,36,36)\"}}},\"xaxis\":{\"anchor\":\"y\",\"domain\":[0.0,1.0],\"title\":{\"text\":\"SALES_LEADER\"}},\"yaxis\":{\"anchor\":\"x\",\"domain\":[0.0,1.0],\"title\":{\"text\":\"Sales in 1000 Units\"}},\"legend\":{\"title\":{\"text\":\"Sale Period\"},\"tracegroupgap\":0},\"title\":{\"text\":\"Sales Leader Performance Comparision in 2023\"},\"barmode\":\"group\",\"width\":800},                        {\"responsive\": true}                    ).then(function(){\n",
       "                            \n",
       "var gd = document.getElementById('e880a98c-dfad-4d5a-b4f8-22172f15ee82');\n",
       "var x = new MutationObserver(function (mutations, observer) {{\n",
       "        var display = window.getComputedStyle(gd).display;\n",
       "        if (!display || display === 'none') {{\n",
       "            console.log([gd, 'removed!']);\n",
       "            Plotly.purge(gd);\n",
       "            observer.disconnect();\n",
       "        }}\n",
       "}});\n",
       "\n",
       "// Listen for the removal of the full notebook cells\n",
       "var notebookContainer = gd.closest('#notebook-container');\n",
       "if (notebookContainer) {{\n",
       "    x.observe(notebookContainer, {childList: true});\n",
       "}}\n",
       "\n",
       "// Listen for the clearing of the current output cell\n",
       "var outputEl = gd.closest('.output');\n",
       "if (outputEl) {{\n",
       "    x.observe(outputEl, {childList: true});\n",
       "}}\n",
       "\n",
       "                        })                };                });            </script>        </div>"
      ]
     },
     "metadata": {},
     "output_type": "display_data"
    }
   ],
   "source": [
    "x = px.bar(data_frame=table6,x=\"SALES_LEADER\",y=[\"PRE_YTD_SALES\",\"YTD_SALES\"],template=\"simple_white\",title=\"Sales Leader Performance Comparision in 2023\",width= 800,barmode=\"group\"\n",
    "           ,labels=dict(value=\"Sales in 1000 Units\",variable=\"Sale Period\"))\n",
    "x[\"data\"][0][\"marker\"][\"color\"] = \"#642ca9\"\n",
    "x[\"data\"][1][\"marker\"][\"color\"] = \"#ff36ab\"\n",
    "x"
   ]
  },
  {
   "cell_type": "markdown",
   "id": "e3491a09",
   "metadata": {},
   "source": [
    "It is noted that every sales leader have improved on a YoY basis leading to overall increment in sales by region which was seen earlier"
   ]
  },
  {
   "cell_type": "markdown",
   "id": "2b95959c",
   "metadata": {},
   "source": [
    "### Other Aspect to Investigate here is - \n",
    "How old the customer has been with Sarah"
   ]
  },
  {
   "cell_type": "code",
   "execution_count": 81,
   "id": "d6742782",
   "metadata": {},
   "outputs": [
    {
     "data": {
      "text/html": [
       "<div>\n",
       "<style scoped>\n",
       "    .dataframe tbody tr th:only-of-type {\n",
       "        vertical-align: middle;\n",
       "    }\n",
       "\n",
       "    .dataframe tbody tr th {\n",
       "        vertical-align: top;\n",
       "    }\n",
       "\n",
       "    .dataframe thead th {\n",
       "        text-align: right;\n",
       "    }\n",
       "</style>\n",
       "<table border=\"1\" class=\"dataframe\">\n",
       "  <thead>\n",
       "    <tr style=\"text-align: right;\">\n",
       "      <th></th>\n",
       "      <th>COUNTRY</th>\n",
       "      <th>REGION</th>\n",
       "      <th>CUSTOMER_CATEGORY</th>\n",
       "      <th>ACCOUNT_AGE_YEARS</th>\n",
       "      <th>ACCOUNT_ID</th>\n",
       "    </tr>\n",
       "  </thead>\n",
       "  <tbody>\n",
       "    <tr>\n",
       "      <th>0</th>\n",
       "      <td>CA</td>\n",
       "      <td>CA EAST</td>\n",
       "      <td>Corporate</td>\n",
       "      <td>5.200000</td>\n",
       "      <td>5</td>\n",
       "    </tr>\n",
       "    <tr>\n",
       "      <th>1</th>\n",
       "      <td>CA</td>\n",
       "      <td>CA EAST</td>\n",
       "      <td>End Customer</td>\n",
       "      <td>4.774194</td>\n",
       "      <td>31</td>\n",
       "    </tr>\n",
       "    <tr>\n",
       "      <th>2</th>\n",
       "      <td>CA</td>\n",
       "      <td>CA EAST</td>\n",
       "      <td>Reseller</td>\n",
       "      <td>5.000000</td>\n",
       "      <td>2</td>\n",
       "    </tr>\n",
       "    <tr>\n",
       "      <th>3</th>\n",
       "      <td>CA</td>\n",
       "      <td>CA WEST</td>\n",
       "      <td>Corporate</td>\n",
       "      <td>3.500000</td>\n",
       "      <td>2</td>\n",
       "    </tr>\n",
       "    <tr>\n",
       "      <th>4</th>\n",
       "      <td>CA</td>\n",
       "      <td>CA WEST</td>\n",
       "      <td>End Customer</td>\n",
       "      <td>5.000000</td>\n",
       "      <td>9</td>\n",
       "    </tr>\n",
       "    <tr>\n",
       "      <th>5</th>\n",
       "      <td>CA</td>\n",
       "      <td>CA WEST</td>\n",
       "      <td>Reseller</td>\n",
       "      <td>3.500000</td>\n",
       "      <td>2</td>\n",
       "    </tr>\n",
       "    <tr>\n",
       "      <th>6</th>\n",
       "      <td>US</td>\n",
       "      <td>US EAST</td>\n",
       "      <td>Corporate</td>\n",
       "      <td>4.888889</td>\n",
       "      <td>9</td>\n",
       "    </tr>\n",
       "    <tr>\n",
       "      <th>7</th>\n",
       "      <td>US</td>\n",
       "      <td>US EAST</td>\n",
       "      <td>End Customer</td>\n",
       "      <td>5.238095</td>\n",
       "      <td>21</td>\n",
       "    </tr>\n",
       "    <tr>\n",
       "      <th>8</th>\n",
       "      <td>US</td>\n",
       "      <td>US EAST</td>\n",
       "      <td>Reseller</td>\n",
       "      <td>5.250000</td>\n",
       "      <td>4</td>\n",
       "    </tr>\n",
       "    <tr>\n",
       "      <th>9</th>\n",
       "      <td>US</td>\n",
       "      <td>US WEST</td>\n",
       "      <td>Corporate</td>\n",
       "      <td>5.800000</td>\n",
       "      <td>5</td>\n",
       "    </tr>\n",
       "    <tr>\n",
       "      <th>10</th>\n",
       "      <td>US</td>\n",
       "      <td>US WEST</td>\n",
       "      <td>End Customer</td>\n",
       "      <td>7.000000</td>\n",
       "      <td>6</td>\n",
       "    </tr>\n",
       "    <tr>\n",
       "      <th>11</th>\n",
       "      <td>US</td>\n",
       "      <td>US WEST</td>\n",
       "      <td>Reseller</td>\n",
       "      <td>5.750000</td>\n",
       "      <td>4</td>\n",
       "    </tr>\n",
       "  </tbody>\n",
       "</table>\n",
       "</div>"
      ],
      "text/plain": [
       "   COUNTRY   REGION CUSTOMER_CATEGORY  ACCOUNT_AGE_YEARS  ACCOUNT_ID\n",
       "0       CA  CA EAST        Corporate            5.200000           5\n",
       "1       CA  CA EAST      End Customer           4.774194          31\n",
       "2       CA  CA EAST          Reseller           5.000000           2\n",
       "3       CA  CA WEST        Corporate            3.500000           2\n",
       "4       CA  CA WEST      End Customer           5.000000           9\n",
       "5       CA  CA WEST          Reseller           3.500000           2\n",
       "6       US  US EAST        Corporate            4.888889           9\n",
       "7       US  US EAST      End Customer           5.238095          21\n",
       "8       US  US EAST          Reseller           5.250000           4\n",
       "9       US  US WEST        Corporate            5.800000           5\n",
       "10      US  US WEST      End Customer           7.000000           6\n",
       "11      US  US WEST          Reseller           5.750000           4"
      ]
     },
     "execution_count": 81,
     "metadata": {},
     "output_type": "execute_result"
    }
   ],
   "source": [
    "table8 = pd.pivot_table(data,index=[\"COUNTRY\",\"REGION\",\"CUSTOMER_CATEGORY\"],values=[\"ACCOUNT_ID\",\"ACCOUNT_AGE_YEARS\"],aggfunc={'ACCOUNT_ID': \"count\",\"ACCOUNT_AGE_YEARS\":\"mean\" })\n",
    "table8.reset_index(inplace=True)\n",
    "table8"
   ]
  },
  {
   "cell_type": "code",
   "execution_count": 82,
   "id": "d8085b6e",
   "metadata": {},
   "outputs": [
    {
     "data": {
      "text/html": [
       "<div>                            <div id=\"bcd7b2f2-2a2a-4383-99ab-a32c6cc2e954\" class=\"plotly-graph-div\" style=\"height:525px; width:100%;\"></div>            <script type=\"text/javascript\">                require([\"plotly\"], function(Plotly) {                    window.PLOTLYENV=window.PLOTLYENV || {};                                    if (document.getElementById(\"bcd7b2f2-2a2a-4383-99ab-a32c6cc2e954\")) {                    Plotly.newPlot(                        \"bcd7b2f2-2a2a-4383-99ab-a32c6cc2e954\",                        [{\"alignmentgroup\":\"True\",\"hovertemplate\":\"REGION=CA EAST<br>CUSTOMER_CATEGORY=%{x}<br>ACCOUNT_AGE_YEARS=%{y}<extra></extra>\",\"legendgroup\":\"\",\"marker\":{\"color\":\"#2a2d34\",\"pattern\":{\"shape\":\"\"}},\"name\":\"\",\"offsetgroup\":\"\",\"orientation\":\"v\",\"showlegend\":false,\"textposition\":\"auto\",\"x\":[\"Corporate \",\"End Customer\",\"Reseller\"],\"xaxis\":\"x\",\"y\":[5.2,4.774193548387097,5.0],\"yaxis\":\"y\",\"type\":\"bar\"},{\"alignmentgroup\":\"True\",\"hovertemplate\":\"REGION=CA WEST<br>CUSTOMER_CATEGORY=%{x}<br>ACCOUNT_AGE_YEARS=%{y}<extra></extra>\",\"legendgroup\":\"\",\"marker\":{\"color\":\"#009ddc\",\"pattern\":{\"shape\":\"\"}},\"name\":\"\",\"offsetgroup\":\"\",\"orientation\":\"v\",\"showlegend\":false,\"textposition\":\"auto\",\"x\":[\"Corporate \",\"End Customer\",\"Reseller\"],\"xaxis\":\"x2\",\"y\":[3.5,5.0,3.5],\"yaxis\":\"y2\",\"type\":\"bar\"},{\"alignmentgroup\":\"True\",\"hovertemplate\":\"REGION=US EAST<br>CUSTOMER_CATEGORY=%{x}<br>ACCOUNT_AGE_YEARS=%{y}<extra></extra>\",\"legendgroup\":\"\",\"marker\":{\"color\":\"#f26430\",\"pattern\":{\"shape\":\"\"}},\"name\":\"\",\"offsetgroup\":\"\",\"orientation\":\"v\",\"showlegend\":false,\"textposition\":\"auto\",\"x\":[\"Corporate \",\"End Customer\",\"Reseller\"],\"xaxis\":\"x3\",\"y\":[4.888888888888889,5.238095238095238,5.25],\"yaxis\":\"y3\",\"type\":\"bar\"},{\"alignmentgroup\":\"True\",\"hovertemplate\":\"REGION=US WEST<br>CUSTOMER_CATEGORY=%{x}<br>ACCOUNT_AGE_YEARS=%{y}<extra></extra>\",\"legendgroup\":\"\",\"marker\":{\"color\":\"#6761a8\",\"pattern\":{\"shape\":\"\"}},\"name\":\"\",\"offsetgroup\":\"\",\"orientation\":\"v\",\"showlegend\":false,\"textposition\":\"auto\",\"x\":[\"Corporate \",\"End Customer\",\"Reseller\"],\"xaxis\":\"x4\",\"y\":[5.8,7.0,5.75],\"yaxis\":\"y4\",\"type\":\"bar\"}],                        {\"template\":{\"data\":{\"barpolar\":[{\"marker\":{\"line\":{\"color\":\"white\",\"width\":0.5},\"pattern\":{\"fillmode\":\"overlay\",\"size\":10,\"solidity\":0.2}},\"type\":\"barpolar\"}],\"bar\":[{\"error_x\":{\"color\":\"rgb(36,36,36)\"},\"error_y\":{\"color\":\"rgb(36,36,36)\"},\"marker\":{\"line\":{\"color\":\"white\",\"width\":0.5},\"pattern\":{\"fillmode\":\"overlay\",\"size\":10,\"solidity\":0.2}},\"type\":\"bar\"}],\"carpet\":[{\"aaxis\":{\"endlinecolor\":\"rgb(36,36,36)\",\"gridcolor\":\"white\",\"linecolor\":\"white\",\"minorgridcolor\":\"white\",\"startlinecolor\":\"rgb(36,36,36)\"},\"baxis\":{\"endlinecolor\":\"rgb(36,36,36)\",\"gridcolor\":\"white\",\"linecolor\":\"white\",\"minorgridcolor\":\"white\",\"startlinecolor\":\"rgb(36,36,36)\"},\"type\":\"carpet\"}],\"choropleth\":[{\"colorbar\":{\"outlinewidth\":1,\"tickcolor\":\"rgb(36,36,36)\",\"ticks\":\"outside\"},\"type\":\"choropleth\"}],\"contourcarpet\":[{\"colorbar\":{\"outlinewidth\":1,\"tickcolor\":\"rgb(36,36,36)\",\"ticks\":\"outside\"},\"type\":\"contourcarpet\"}],\"contour\":[{\"colorbar\":{\"outlinewidth\":1,\"tickcolor\":\"rgb(36,36,36)\",\"ticks\":\"outside\"},\"colorscale\":[[0.0,\"#440154\"],[0.1111111111111111,\"#482878\"],[0.2222222222222222,\"#3e4989\"],[0.3333333333333333,\"#31688e\"],[0.4444444444444444,\"#26828e\"],[0.5555555555555556,\"#1f9e89\"],[0.6666666666666666,\"#35b779\"],[0.7777777777777778,\"#6ece58\"],[0.8888888888888888,\"#b5de2b\"],[1.0,\"#fde725\"]],\"type\":\"contour\"}],\"heatmapgl\":[{\"colorbar\":{\"outlinewidth\":1,\"tickcolor\":\"rgb(36,36,36)\",\"ticks\":\"outside\"},\"colorscale\":[[0.0,\"#440154\"],[0.1111111111111111,\"#482878\"],[0.2222222222222222,\"#3e4989\"],[0.3333333333333333,\"#31688e\"],[0.4444444444444444,\"#26828e\"],[0.5555555555555556,\"#1f9e89\"],[0.6666666666666666,\"#35b779\"],[0.7777777777777778,\"#6ece58\"],[0.8888888888888888,\"#b5de2b\"],[1.0,\"#fde725\"]],\"type\":\"heatmapgl\"}],\"heatmap\":[{\"colorbar\":{\"outlinewidth\":1,\"tickcolor\":\"rgb(36,36,36)\",\"ticks\":\"outside\"},\"colorscale\":[[0.0,\"#440154\"],[0.1111111111111111,\"#482878\"],[0.2222222222222222,\"#3e4989\"],[0.3333333333333333,\"#31688e\"],[0.4444444444444444,\"#26828e\"],[0.5555555555555556,\"#1f9e89\"],[0.6666666666666666,\"#35b779\"],[0.7777777777777778,\"#6ece58\"],[0.8888888888888888,\"#b5de2b\"],[1.0,\"#fde725\"]],\"type\":\"heatmap\"}],\"histogram2dcontour\":[{\"colorbar\":{\"outlinewidth\":1,\"tickcolor\":\"rgb(36,36,36)\",\"ticks\":\"outside\"},\"colorscale\":[[0.0,\"#440154\"],[0.1111111111111111,\"#482878\"],[0.2222222222222222,\"#3e4989\"],[0.3333333333333333,\"#31688e\"],[0.4444444444444444,\"#26828e\"],[0.5555555555555556,\"#1f9e89\"],[0.6666666666666666,\"#35b779\"],[0.7777777777777778,\"#6ece58\"],[0.8888888888888888,\"#b5de2b\"],[1.0,\"#fde725\"]],\"type\":\"histogram2dcontour\"}],\"histogram2d\":[{\"colorbar\":{\"outlinewidth\":1,\"tickcolor\":\"rgb(36,36,36)\",\"ticks\":\"outside\"},\"colorscale\":[[0.0,\"#440154\"],[0.1111111111111111,\"#482878\"],[0.2222222222222222,\"#3e4989\"],[0.3333333333333333,\"#31688e\"],[0.4444444444444444,\"#26828e\"],[0.5555555555555556,\"#1f9e89\"],[0.6666666666666666,\"#35b779\"],[0.7777777777777778,\"#6ece58\"],[0.8888888888888888,\"#b5de2b\"],[1.0,\"#fde725\"]],\"type\":\"histogram2d\"}],\"histogram\":[{\"marker\":{\"line\":{\"color\":\"white\",\"width\":0.6}},\"type\":\"histogram\"}],\"mesh3d\":[{\"colorbar\":{\"outlinewidth\":1,\"tickcolor\":\"rgb(36,36,36)\",\"ticks\":\"outside\"},\"type\":\"mesh3d\"}],\"parcoords\":[{\"line\":{\"colorbar\":{\"outlinewidth\":1,\"tickcolor\":\"rgb(36,36,36)\",\"ticks\":\"outside\"}},\"type\":\"parcoords\"}],\"pie\":[{\"automargin\":true,\"type\":\"pie\"}],\"scatter3d\":[{\"line\":{\"colorbar\":{\"outlinewidth\":1,\"tickcolor\":\"rgb(36,36,36)\",\"ticks\":\"outside\"}},\"marker\":{\"colorbar\":{\"outlinewidth\":1,\"tickcolor\":\"rgb(36,36,36)\",\"ticks\":\"outside\"}},\"type\":\"scatter3d\"}],\"scattercarpet\":[{\"marker\":{\"colorbar\":{\"outlinewidth\":1,\"tickcolor\":\"rgb(36,36,36)\",\"ticks\":\"outside\"}},\"type\":\"scattercarpet\"}],\"scattergeo\":[{\"marker\":{\"colorbar\":{\"outlinewidth\":1,\"tickcolor\":\"rgb(36,36,36)\",\"ticks\":\"outside\"}},\"type\":\"scattergeo\"}],\"scattergl\":[{\"marker\":{\"colorbar\":{\"outlinewidth\":1,\"tickcolor\":\"rgb(36,36,36)\",\"ticks\":\"outside\"}},\"type\":\"scattergl\"}],\"scattermapbox\":[{\"marker\":{\"colorbar\":{\"outlinewidth\":1,\"tickcolor\":\"rgb(36,36,36)\",\"ticks\":\"outside\"}},\"type\":\"scattermapbox\"}],\"scatterpolargl\":[{\"marker\":{\"colorbar\":{\"outlinewidth\":1,\"tickcolor\":\"rgb(36,36,36)\",\"ticks\":\"outside\"}},\"type\":\"scatterpolargl\"}],\"scatterpolar\":[{\"marker\":{\"colorbar\":{\"outlinewidth\":1,\"tickcolor\":\"rgb(36,36,36)\",\"ticks\":\"outside\"}},\"type\":\"scatterpolar\"}],\"scatter\":[{\"fillpattern\":{\"fillmode\":\"overlay\",\"size\":10,\"solidity\":0.2},\"type\":\"scatter\"}],\"scatterternary\":[{\"marker\":{\"colorbar\":{\"outlinewidth\":1,\"tickcolor\":\"rgb(36,36,36)\",\"ticks\":\"outside\"}},\"type\":\"scatterternary\"}],\"surface\":[{\"colorbar\":{\"outlinewidth\":1,\"tickcolor\":\"rgb(36,36,36)\",\"ticks\":\"outside\"},\"colorscale\":[[0.0,\"#440154\"],[0.1111111111111111,\"#482878\"],[0.2222222222222222,\"#3e4989\"],[0.3333333333333333,\"#31688e\"],[0.4444444444444444,\"#26828e\"],[0.5555555555555556,\"#1f9e89\"],[0.6666666666666666,\"#35b779\"],[0.7777777777777778,\"#6ece58\"],[0.8888888888888888,\"#b5de2b\"],[1.0,\"#fde725\"]],\"type\":\"surface\"}],\"table\":[{\"cells\":{\"fill\":{\"color\":\"rgb(237,237,237)\"},\"line\":{\"color\":\"white\"}},\"header\":{\"fill\":{\"color\":\"rgb(217,217,217)\"},\"line\":{\"color\":\"white\"}},\"type\":\"table\"}]},\"layout\":{\"annotationdefaults\":{\"arrowhead\":0,\"arrowwidth\":1},\"autotypenumbers\":\"strict\",\"coloraxis\":{\"colorbar\":{\"outlinewidth\":1,\"tickcolor\":\"rgb(36,36,36)\",\"ticks\":\"outside\"}},\"colorscale\":{\"diverging\":[[0.0,\"rgb(103,0,31)\"],[0.1,\"rgb(178,24,43)\"],[0.2,\"rgb(214,96,77)\"],[0.3,\"rgb(244,165,130)\"],[0.4,\"rgb(253,219,199)\"],[0.5,\"rgb(247,247,247)\"],[0.6,\"rgb(209,229,240)\"],[0.7,\"rgb(146,197,222)\"],[0.8,\"rgb(67,147,195)\"],[0.9,\"rgb(33,102,172)\"],[1.0,\"rgb(5,48,97)\"]],\"sequential\":[[0.0,\"#440154\"],[0.1111111111111111,\"#482878\"],[0.2222222222222222,\"#3e4989\"],[0.3333333333333333,\"#31688e\"],[0.4444444444444444,\"#26828e\"],[0.5555555555555556,\"#1f9e89\"],[0.6666666666666666,\"#35b779\"],[0.7777777777777778,\"#6ece58\"],[0.8888888888888888,\"#b5de2b\"],[1.0,\"#fde725\"]],\"sequentialminus\":[[0.0,\"#440154\"],[0.1111111111111111,\"#482878\"],[0.2222222222222222,\"#3e4989\"],[0.3333333333333333,\"#31688e\"],[0.4444444444444444,\"#26828e\"],[0.5555555555555556,\"#1f9e89\"],[0.6666666666666666,\"#35b779\"],[0.7777777777777778,\"#6ece58\"],[0.8888888888888888,\"#b5de2b\"],[1.0,\"#fde725\"]]},\"colorway\":[\"#1F77B4\",\"#FF7F0E\",\"#2CA02C\",\"#D62728\",\"#9467BD\",\"#8C564B\",\"#E377C2\",\"#7F7F7F\",\"#BCBD22\",\"#17BECF\"],\"font\":{\"color\":\"rgb(36,36,36)\"},\"geo\":{\"bgcolor\":\"white\",\"lakecolor\":\"white\",\"landcolor\":\"white\",\"showlakes\":true,\"showland\":true,\"subunitcolor\":\"white\"},\"hoverlabel\":{\"align\":\"left\"},\"hovermode\":\"closest\",\"mapbox\":{\"style\":\"light\"},\"paper_bgcolor\":\"white\",\"plot_bgcolor\":\"white\",\"polar\":{\"angularaxis\":{\"gridcolor\":\"rgb(232,232,232)\",\"linecolor\":\"rgb(36,36,36)\",\"showgrid\":false,\"showline\":true,\"ticks\":\"outside\"},\"bgcolor\":\"white\",\"radialaxis\":{\"gridcolor\":\"rgb(232,232,232)\",\"linecolor\":\"rgb(36,36,36)\",\"showgrid\":false,\"showline\":true,\"ticks\":\"outside\"}},\"scene\":{\"xaxis\":{\"backgroundcolor\":\"white\",\"gridcolor\":\"rgb(232,232,232)\",\"gridwidth\":2,\"linecolor\":\"rgb(36,36,36)\",\"showbackground\":true,\"showgrid\":false,\"showline\":true,\"ticks\":\"outside\",\"zeroline\":false,\"zerolinecolor\":\"rgb(36,36,36)\"},\"yaxis\":{\"backgroundcolor\":\"white\",\"gridcolor\":\"rgb(232,232,232)\",\"gridwidth\":2,\"linecolor\":\"rgb(36,36,36)\",\"showbackground\":true,\"showgrid\":false,\"showline\":true,\"ticks\":\"outside\",\"zeroline\":false,\"zerolinecolor\":\"rgb(36,36,36)\"},\"zaxis\":{\"backgroundcolor\":\"white\",\"gridcolor\":\"rgb(232,232,232)\",\"gridwidth\":2,\"linecolor\":\"rgb(36,36,36)\",\"showbackground\":true,\"showgrid\":false,\"showline\":true,\"ticks\":\"outside\",\"zeroline\":false,\"zerolinecolor\":\"rgb(36,36,36)\"}},\"shapedefaults\":{\"fillcolor\":\"black\",\"line\":{\"width\":0},\"opacity\":0.3},\"ternary\":{\"aaxis\":{\"gridcolor\":\"rgb(232,232,232)\",\"linecolor\":\"rgb(36,36,36)\",\"showgrid\":false,\"showline\":true,\"ticks\":\"outside\"},\"baxis\":{\"gridcolor\":\"rgb(232,232,232)\",\"linecolor\":\"rgb(36,36,36)\",\"showgrid\":false,\"showline\":true,\"ticks\":\"outside\"},\"bgcolor\":\"white\",\"caxis\":{\"gridcolor\":\"rgb(232,232,232)\",\"linecolor\":\"rgb(36,36,36)\",\"showgrid\":false,\"showline\":true,\"ticks\":\"outside\"}},\"title\":{\"x\":0.05},\"xaxis\":{\"automargin\":true,\"gridcolor\":\"rgb(232,232,232)\",\"linecolor\":\"rgb(36,36,36)\",\"showgrid\":false,\"showline\":true,\"ticks\":\"outside\",\"title\":{\"standoff\":15},\"zeroline\":false,\"zerolinecolor\":\"rgb(36,36,36)\"},\"yaxis\":{\"automargin\":true,\"gridcolor\":\"rgb(232,232,232)\",\"linecolor\":\"rgb(36,36,36)\",\"showgrid\":false,\"showline\":true,\"ticks\":\"outside\",\"title\":{\"standoff\":15},\"zeroline\":false,\"zerolinecolor\":\"rgb(36,36,36)\"}}},\"xaxis\":{\"anchor\":\"y\",\"domain\":[0.0,0.235],\"title\":{\"text\":\"CUSTOMER_CATEGORY\"}},\"yaxis\":{\"anchor\":\"x\",\"domain\":[0.0,1.0],\"title\":{\"text\":\"ACCOUNT_AGE_YEARS\"}},\"xaxis2\":{\"anchor\":\"y2\",\"domain\":[0.255,0.49],\"matches\":\"x\",\"title\":{\"text\":\"CUSTOMER_CATEGORY\"}},\"yaxis2\":{\"anchor\":\"x2\",\"domain\":[0.0,1.0],\"matches\":\"y\",\"showticklabels\":false},\"xaxis3\":{\"anchor\":\"y3\",\"domain\":[0.51,0.745],\"matches\":\"x\",\"title\":{\"text\":\"CUSTOMER_CATEGORY\"}},\"yaxis3\":{\"anchor\":\"x3\",\"domain\":[0.0,1.0],\"matches\":\"y\",\"showticklabels\":false},\"xaxis4\":{\"anchor\":\"y4\",\"domain\":[0.7649999999999999,0.9999999999999999],\"matches\":\"x\",\"title\":{\"text\":\"CUSTOMER_CATEGORY\"}},\"yaxis4\":{\"anchor\":\"x4\",\"domain\":[0.0,1.0],\"matches\":\"y\",\"showticklabels\":false},\"annotations\":[{\"font\":{},\"showarrow\":false,\"text\":\"REGION=CA EAST\",\"x\":0.1175,\"xanchor\":\"center\",\"xref\":\"paper\",\"y\":1.0,\"yanchor\":\"bottom\",\"yref\":\"paper\"},{\"font\":{},\"showarrow\":false,\"text\":\"REGION=CA WEST\",\"x\":0.3725,\"xanchor\":\"center\",\"xref\":\"paper\",\"y\":1.0,\"yanchor\":\"bottom\",\"yref\":\"paper\"},{\"font\":{},\"showarrow\":false,\"text\":\"REGION=US EAST\",\"x\":0.6275,\"xanchor\":\"center\",\"xref\":\"paper\",\"y\":1.0,\"yanchor\":\"bottom\",\"yref\":\"paper\"},{\"font\":{},\"showarrow\":false,\"text\":\"REGION=US WEST\",\"x\":0.8824999999999998,\"xanchor\":\"center\",\"xref\":\"paper\",\"y\":1.0,\"yanchor\":\"bottom\",\"yref\":\"paper\"}],\"legend\":{\"tracegroupgap\":0},\"title\":{\"text\":\"Sales Leader Performance Comparision in 2023\"},\"barmode\":\"group\"},                        {\"responsive\": true}                    ).then(function(){\n",
       "                            \n",
       "var gd = document.getElementById('bcd7b2f2-2a2a-4383-99ab-a32c6cc2e954');\n",
       "var x = new MutationObserver(function (mutations, observer) {{\n",
       "        var display = window.getComputedStyle(gd).display;\n",
       "        if (!display || display === 'none') {{\n",
       "            console.log([gd, 'removed!']);\n",
       "            Plotly.purge(gd);\n",
       "            observer.disconnect();\n",
       "        }}\n",
       "}});\n",
       "\n",
       "// Listen for the removal of the full notebook cells\n",
       "var notebookContainer = gd.closest('#notebook-container');\n",
       "if (notebookContainer) {{\n",
       "    x.observe(notebookContainer, {childList: true});\n",
       "}}\n",
       "\n",
       "// Listen for the clearing of the current output cell\n",
       "var outputEl = gd.closest('.output');\n",
       "if (outputEl) {{\n",
       "    x.observe(outputEl, {childList: true});\n",
       "}}\n",
       "\n",
       "                        })                };                });            </script>        </div>"
      ]
     },
     "metadata": {},
     "output_type": "display_data"
    }
   ],
   "source": [
    "x = px.bar(data_frame=table8,x=\"CUSTOMER_CATEGORY\",y=\"ACCOUNT_AGE_YEARS\",template=\"simple_white\",title=\"Sales Leader Performance Comparision in 2023\",facet_col=\"REGION\",barmode=\"group\")\n",
    "x[\"data\"][0][\"marker\"][\"color\"] = \"#2a2d34\"\n",
    "x[\"data\"][1][\"marker\"][\"color\"] = \"#009ddc\"\n",
    "x[\"data\"][2][\"marker\"][\"color\"] = \"#f26430\"\n",
    "x[\"data\"][3][\"marker\"][\"color\"] = \"#6761a8\"\n",
    "x"
   ]
  },
  {
   "cell_type": "markdown",
   "id": "fe2f41e8",
   "metadata": {},
   "source": [
    "It noteworthy that Sarah's brand has been operating in the **US WEST Region** from a longer time duration more than **5+** years which helps understand the high sales units due to longer period in the market.<br>\n",
    "\n",
    "It should also be considered that **Corporate and Reseller Segment** in **CA WEST Region** seems to be a **newer region** being operated however, it has shown **tremendous potential** in the Current and Previous Year Sales."
   ]
  },
  {
   "cell_type": "markdown",
   "id": "4ab46655",
   "metadata": {},
   "source": [
    "### Section 6 : Lets Now Analyze Account Level Information"
   ]
  },
  {
   "cell_type": "code",
   "execution_count": 83,
   "id": "4537aa32",
   "metadata": {},
   "outputs": [
    {
     "data": {
      "text/html": [
       "<div>                            <div id=\"b7ef5e94-3fe4-4a75-98ca-1eec9650032b\" class=\"plotly-graph-div\" style=\"height:525px; width:100%;\"></div>            <script type=\"text/javascript\">                require([\"plotly\"], function(Plotly) {                    window.PLOTLYENV=window.PLOTLYENV || {};                                    if (document.getElementById(\"b7ef5e94-3fe4-4a75-98ca-1eec9650032b\")) {                    Plotly.newPlot(                        \"b7ef5e94-3fe4-4a75-98ca-1eec9650032b\",                        [{\"alignmentgroup\":\"True\",\"hovertemplate\":\"CUSTOMER_CATEGORY=%{x}<br>YTD_SALES=%{y}<extra></extra>\",\"legendgroup\":\"\",\"marker\":{\"color\":\"#636efa\"},\"name\":\"\",\"notched\":false,\"offsetgroup\":\"\",\"orientation\":\"v\",\"showlegend\":false,\"x\":[\"End Customer\",\"End Customer\",\"Corporate \",\"End Customer\",\"End Customer\",\"Reseller\",\"End Customer\",\"End Customer\",\"Corporate \",\"Reseller\",\"End Customer\",\"Corporate \",\"End Customer\",\"End Customer\",\"Reseller\",\"End Customer\",\"End Customer\",\"End Customer\",\"Corporate \",\"Corporate \",\"End Customer\",\"End Customer\",\"Corporate \",\"Corporate \",\"End Customer\",\"Reseller\",\"End Customer\",\"Reseller\",\"End Customer\",\"End Customer\",\"End Customer\",\"End Customer\",\"End Customer\",\"End Customer\",\"End Customer\",\"End Customer\",\"End Customer\",\"End Customer\",\"Corporate \",\"Corporate \",\"End Customer\",\"End Customer\",\"Reseller\",\"End Customer\",\"End Customer\",\"Corporate \",\"End Customer\",\"Corporate \",\"End Customer\",\"End Customer\",\"Corporate \",\"End Customer\",\"Corporate \",\"Reseller\",\"Reseller\",\"End Customer\",\"Corporate \",\"Corporate \",\"End Customer\",\"Corporate \",\"Corporate \",\"End Customer\",\"End Customer\",\"End Customer\",\"End Customer\",\"End Customer\",\"End Customer\",\"End Customer\",\"Corporate \",\"End Customer\",\"End Customer\",\"End Customer\",\"End Customer\",\"End Customer\",\"End Customer\",\"End Customer\",\"End Customer\",\"Reseller\",\"End Customer\",\"End Customer\",\"End Customer\",\"End Customer\",\"End Customer\",\"End Customer\",\"End Customer\",\"Corporate \",\"End Customer\",\"Reseller\",\"Corporate \",\"Reseller\",\"End Customer\",\"End Customer\",\"End Customer\",\"End Customer\",\"Corporate \",\"End Customer\",\"End Customer\",\"End Customer\",\"Reseller\",\"End Customer\"],\"x0\":\" \",\"xaxis\":\"x\",\"y\":[1.85868,1.91772,41.98922,1.66511,2.20341,40.95618,2.04947,2.7077,40.44774,151.69305,1.88907,32.59451,2.26071,1.77584,172.84737,1.9818,2.13323,2.15543,20.72854,44.13583,2.52132,1.60126,43.1804,45.06856,3.00126,102.3649,2.55215,158.56185,1.93622,2.39893,2.12987,1.29571,1.75792,1.90913,2.67587,2.13926,2.276,1.27467,45.41947,28.73279,2.31665,2.4836,223.59249,2.47285,2.10908,57.58452,1.78129,47.84119,1.24358,1.90148,55.34088,1.28627,55.07979,127.6334,157.00867,2.4027,43.41897,25.54657,1.96765,55.89993,30.03861,1.78356,2.05475,1.64738,1.96958,2.07494,2.25673,1.39293,80.38048,2.11521,28.959300918367347,1.54248,1.66743,2.4514,1.99366,1.52602,2.51756,157.98118,1.45599,2.5015,1.18479,2.63508,2.37175,1.87265,2.2769,58.95253,2.73706,61.24096,86.20737,219.33388,2.43048,1.78905,2.10056,1.10363,47.36854,0.92872,2.18845,28.959300918367347,148.2895,1.94849],\"y0\":\" \",\"yaxis\":\"y\",\"type\":\"box\"}],                        {\"template\":{\"data\":{\"histogram2dcontour\":[{\"type\":\"histogram2dcontour\",\"colorbar\":{\"outlinewidth\":0,\"ticks\":\"\"},\"colorscale\":[[0.0,\"#0d0887\"],[0.1111111111111111,\"#46039f\"],[0.2222222222222222,\"#7201a8\"],[0.3333333333333333,\"#9c179e\"],[0.4444444444444444,\"#bd3786\"],[0.5555555555555556,\"#d8576b\"],[0.6666666666666666,\"#ed7953\"],[0.7777777777777778,\"#fb9f3a\"],[0.8888888888888888,\"#fdca26\"],[1.0,\"#f0f921\"]]}],\"choropleth\":[{\"type\":\"choropleth\",\"colorbar\":{\"outlinewidth\":0,\"ticks\":\"\"}}],\"histogram2d\":[{\"type\":\"histogram2d\",\"colorbar\":{\"outlinewidth\":0,\"ticks\":\"\"},\"colorscale\":[[0.0,\"#0d0887\"],[0.1111111111111111,\"#46039f\"],[0.2222222222222222,\"#7201a8\"],[0.3333333333333333,\"#9c179e\"],[0.4444444444444444,\"#bd3786\"],[0.5555555555555556,\"#d8576b\"],[0.6666666666666666,\"#ed7953\"],[0.7777777777777778,\"#fb9f3a\"],[0.8888888888888888,\"#fdca26\"],[1.0,\"#f0f921\"]]}],\"heatmap\":[{\"type\":\"heatmap\",\"colorbar\":{\"outlinewidth\":0,\"ticks\":\"\"},\"colorscale\":[[0.0,\"#0d0887\"],[0.1111111111111111,\"#46039f\"],[0.2222222222222222,\"#7201a8\"],[0.3333333333333333,\"#9c179e\"],[0.4444444444444444,\"#bd3786\"],[0.5555555555555556,\"#d8576b\"],[0.6666666666666666,\"#ed7953\"],[0.7777777777777778,\"#fb9f3a\"],[0.8888888888888888,\"#fdca26\"],[1.0,\"#f0f921\"]]}],\"heatmapgl\":[{\"type\":\"heatmapgl\",\"colorbar\":{\"outlinewidth\":0,\"ticks\":\"\"},\"colorscale\":[[0.0,\"#0d0887\"],[0.1111111111111111,\"#46039f\"],[0.2222222222222222,\"#7201a8\"],[0.3333333333333333,\"#9c179e\"],[0.4444444444444444,\"#bd3786\"],[0.5555555555555556,\"#d8576b\"],[0.6666666666666666,\"#ed7953\"],[0.7777777777777778,\"#fb9f3a\"],[0.8888888888888888,\"#fdca26\"],[1.0,\"#f0f921\"]]}],\"contourcarpet\":[{\"type\":\"contourcarpet\",\"colorbar\":{\"outlinewidth\":0,\"ticks\":\"\"}}],\"contour\":[{\"type\":\"contour\",\"colorbar\":{\"outlinewidth\":0,\"ticks\":\"\"},\"colorscale\":[[0.0,\"#0d0887\"],[0.1111111111111111,\"#46039f\"],[0.2222222222222222,\"#7201a8\"],[0.3333333333333333,\"#9c179e\"],[0.4444444444444444,\"#bd3786\"],[0.5555555555555556,\"#d8576b\"],[0.6666666666666666,\"#ed7953\"],[0.7777777777777778,\"#fb9f3a\"],[0.8888888888888888,\"#fdca26\"],[1.0,\"#f0f921\"]]}],\"surface\":[{\"type\":\"surface\",\"colorbar\":{\"outlinewidth\":0,\"ticks\":\"\"},\"colorscale\":[[0.0,\"#0d0887\"],[0.1111111111111111,\"#46039f\"],[0.2222222222222222,\"#7201a8\"],[0.3333333333333333,\"#9c179e\"],[0.4444444444444444,\"#bd3786\"],[0.5555555555555556,\"#d8576b\"],[0.6666666666666666,\"#ed7953\"],[0.7777777777777778,\"#fb9f3a\"],[0.8888888888888888,\"#fdca26\"],[1.0,\"#f0f921\"]]}],\"mesh3d\":[{\"type\":\"mesh3d\",\"colorbar\":{\"outlinewidth\":0,\"ticks\":\"\"}}],\"scatter\":[{\"fillpattern\":{\"fillmode\":\"overlay\",\"size\":10,\"solidity\":0.2},\"type\":\"scatter\"}],\"parcoords\":[{\"type\":\"parcoords\",\"line\":{\"colorbar\":{\"outlinewidth\":0,\"ticks\":\"\"}}}],\"scatterpolargl\":[{\"type\":\"scatterpolargl\",\"marker\":{\"colorbar\":{\"outlinewidth\":0,\"ticks\":\"\"}}}],\"bar\":[{\"error_x\":{\"color\":\"#2a3f5f\"},\"error_y\":{\"color\":\"#2a3f5f\"},\"marker\":{\"line\":{\"color\":\"#E5ECF6\",\"width\":0.5},\"pattern\":{\"fillmode\":\"overlay\",\"size\":10,\"solidity\":0.2}},\"type\":\"bar\"}],\"scattergeo\":[{\"type\":\"scattergeo\",\"marker\":{\"colorbar\":{\"outlinewidth\":0,\"ticks\":\"\"}}}],\"scatterpolar\":[{\"type\":\"scatterpolar\",\"marker\":{\"colorbar\":{\"outlinewidth\":0,\"ticks\":\"\"}}}],\"histogram\":[{\"marker\":{\"pattern\":{\"fillmode\":\"overlay\",\"size\":10,\"solidity\":0.2}},\"type\":\"histogram\"}],\"scattergl\":[{\"type\":\"scattergl\",\"marker\":{\"colorbar\":{\"outlinewidth\":0,\"ticks\":\"\"}}}],\"scatter3d\":[{\"type\":\"scatter3d\",\"line\":{\"colorbar\":{\"outlinewidth\":0,\"ticks\":\"\"}},\"marker\":{\"colorbar\":{\"outlinewidth\":0,\"ticks\":\"\"}}}],\"scattermapbox\":[{\"type\":\"scattermapbox\",\"marker\":{\"colorbar\":{\"outlinewidth\":0,\"ticks\":\"\"}}}],\"scatterternary\":[{\"type\":\"scatterternary\",\"marker\":{\"colorbar\":{\"outlinewidth\":0,\"ticks\":\"\"}}}],\"scattercarpet\":[{\"type\":\"scattercarpet\",\"marker\":{\"colorbar\":{\"outlinewidth\":0,\"ticks\":\"\"}}}],\"carpet\":[{\"aaxis\":{\"endlinecolor\":\"#2a3f5f\",\"gridcolor\":\"white\",\"linecolor\":\"white\",\"minorgridcolor\":\"white\",\"startlinecolor\":\"#2a3f5f\"},\"baxis\":{\"endlinecolor\":\"#2a3f5f\",\"gridcolor\":\"white\",\"linecolor\":\"white\",\"minorgridcolor\":\"white\",\"startlinecolor\":\"#2a3f5f\"},\"type\":\"carpet\"}],\"table\":[{\"cells\":{\"fill\":{\"color\":\"#EBF0F8\"},\"line\":{\"color\":\"white\"}},\"header\":{\"fill\":{\"color\":\"#C8D4E3\"},\"line\":{\"color\":\"white\"}},\"type\":\"table\"}],\"barpolar\":[{\"marker\":{\"line\":{\"color\":\"#E5ECF6\",\"width\":0.5},\"pattern\":{\"fillmode\":\"overlay\",\"size\":10,\"solidity\":0.2}},\"type\":\"barpolar\"}],\"pie\":[{\"automargin\":true,\"type\":\"pie\"}]},\"layout\":{\"autotypenumbers\":\"strict\",\"colorway\":[\"#636efa\",\"#EF553B\",\"#00cc96\",\"#ab63fa\",\"#FFA15A\",\"#19d3f3\",\"#FF6692\",\"#B6E880\",\"#FF97FF\",\"#FECB52\"],\"font\":{\"color\":\"#2a3f5f\"},\"hovermode\":\"closest\",\"hoverlabel\":{\"align\":\"left\"},\"paper_bgcolor\":\"white\",\"plot_bgcolor\":\"#E5ECF6\",\"polar\":{\"bgcolor\":\"#E5ECF6\",\"angularaxis\":{\"gridcolor\":\"white\",\"linecolor\":\"white\",\"ticks\":\"\"},\"radialaxis\":{\"gridcolor\":\"white\",\"linecolor\":\"white\",\"ticks\":\"\"}},\"ternary\":{\"bgcolor\":\"#E5ECF6\",\"aaxis\":{\"gridcolor\":\"white\",\"linecolor\":\"white\",\"ticks\":\"\"},\"baxis\":{\"gridcolor\":\"white\",\"linecolor\":\"white\",\"ticks\":\"\"},\"caxis\":{\"gridcolor\":\"white\",\"linecolor\":\"white\",\"ticks\":\"\"}},\"coloraxis\":{\"colorbar\":{\"outlinewidth\":0,\"ticks\":\"\"}},\"colorscale\":{\"sequential\":[[0.0,\"#0d0887\"],[0.1111111111111111,\"#46039f\"],[0.2222222222222222,\"#7201a8\"],[0.3333333333333333,\"#9c179e\"],[0.4444444444444444,\"#bd3786\"],[0.5555555555555556,\"#d8576b\"],[0.6666666666666666,\"#ed7953\"],[0.7777777777777778,\"#fb9f3a\"],[0.8888888888888888,\"#fdca26\"],[1.0,\"#f0f921\"]],\"sequentialminus\":[[0.0,\"#0d0887\"],[0.1111111111111111,\"#46039f\"],[0.2222222222222222,\"#7201a8\"],[0.3333333333333333,\"#9c179e\"],[0.4444444444444444,\"#bd3786\"],[0.5555555555555556,\"#d8576b\"],[0.6666666666666666,\"#ed7953\"],[0.7777777777777778,\"#fb9f3a\"],[0.8888888888888888,\"#fdca26\"],[1.0,\"#f0f921\"]],\"diverging\":[[0,\"#8e0152\"],[0.1,\"#c51b7d\"],[0.2,\"#de77ae\"],[0.3,\"#f1b6da\"],[0.4,\"#fde0ef\"],[0.5,\"#f7f7f7\"],[0.6,\"#e6f5d0\"],[0.7,\"#b8e186\"],[0.8,\"#7fbc41\"],[0.9,\"#4d9221\"],[1,\"#276419\"]]},\"xaxis\":{\"gridcolor\":\"white\",\"linecolor\":\"white\",\"ticks\":\"\",\"title\":{\"standoff\":15},\"zerolinecolor\":\"white\",\"automargin\":true,\"zerolinewidth\":2},\"yaxis\":{\"gridcolor\":\"white\",\"linecolor\":\"white\",\"ticks\":\"\",\"title\":{\"standoff\":15},\"zerolinecolor\":\"white\",\"automargin\":true,\"zerolinewidth\":2},\"scene\":{\"xaxis\":{\"backgroundcolor\":\"#E5ECF6\",\"gridcolor\":\"white\",\"linecolor\":\"white\",\"showbackground\":true,\"ticks\":\"\",\"zerolinecolor\":\"white\",\"gridwidth\":2},\"yaxis\":{\"backgroundcolor\":\"#E5ECF6\",\"gridcolor\":\"white\",\"linecolor\":\"white\",\"showbackground\":true,\"ticks\":\"\",\"zerolinecolor\":\"white\",\"gridwidth\":2},\"zaxis\":{\"backgroundcolor\":\"#E5ECF6\",\"gridcolor\":\"white\",\"linecolor\":\"white\",\"showbackground\":true,\"ticks\":\"\",\"zerolinecolor\":\"white\",\"gridwidth\":2}},\"shapedefaults\":{\"line\":{\"color\":\"#2a3f5f\"}},\"annotationdefaults\":{\"arrowcolor\":\"#2a3f5f\",\"arrowhead\":0,\"arrowwidth\":1},\"geo\":{\"bgcolor\":\"white\",\"landcolor\":\"#E5ECF6\",\"subunitcolor\":\"white\",\"showland\":true,\"showlakes\":true,\"lakecolor\":\"white\"},\"title\":{\"x\":0.05},\"mapbox\":{\"style\":\"light\"}}},\"xaxis\":{\"anchor\":\"y\",\"domain\":[0.0,1.0],\"title\":{\"text\":\"CUSTOMER_CATEGORY\"}},\"yaxis\":{\"anchor\":\"x\",\"domain\":[0.0,1.0],\"title\":{\"text\":\"YTD_SALES\"}},\"legend\":{\"tracegroupgap\":0},\"margin\":{\"t\":60},\"boxmode\":\"group\"},                        {\"responsive\": true}                    ).then(function(){\n",
       "                            \n",
       "var gd = document.getElementById('b7ef5e94-3fe4-4a75-98ca-1eec9650032b');\n",
       "var x = new MutationObserver(function (mutations, observer) {{\n",
       "        var display = window.getComputedStyle(gd).display;\n",
       "        if (!display || display === 'none') {{\n",
       "            console.log([gd, 'removed!']);\n",
       "            Plotly.purge(gd);\n",
       "            observer.disconnect();\n",
       "        }}\n",
       "}});\n",
       "\n",
       "// Listen for the removal of the full notebook cells\n",
       "var notebookContainer = gd.closest('#notebook-container');\n",
       "if (notebookContainer) {{\n",
       "    x.observe(notebookContainer, {childList: true});\n",
       "}}\n",
       "\n",
       "// Listen for the clearing of the current output cell\n",
       "var outputEl = gd.closest('.output');\n",
       "if (outputEl) {{\n",
       "    x.observe(outputEl, {childList: true});\n",
       "}}\n",
       "\n",
       "                        })                };                });            </script>        </div>"
      ]
     },
     "metadata": {},
     "output_type": "display_data"
    }
   ],
   "source": [
    "fig = px.box(df, x=\"CUSTOMER_CATEGORY\", y=\"YTD_SALES\")\n",
    "fig.show()"
   ]
  },
  {
   "cell_type": "markdown",
   "id": "97a35c5e",
   "metadata": {},
   "source": [
    "It is prominent and obvious that Corporates have higher sales than End Customers and Resellers have higher sales than Corporate Segments"
   ]
  },
  {
   "cell_type": "markdown",
   "id": "c7496729",
   "metadata": {},
   "source": [
    "Some important transactions to note here is the **outlier of the \"End Customer\" and \"Corporate\"** which tends to give orders like Corporate and Reseller Segment Respectively."
   ]
  },
  {
   "cell_type": "markdown",
   "id": "53a30dae",
   "metadata": {},
   "source": [
    "#### Lets Investigate Accounts whose Current Sales were lower than Previous years"
   ]
  },
  {
   "cell_type": "code",
   "execution_count": 84,
   "id": "13c9e1ad",
   "metadata": {},
   "outputs": [
    {
     "data": {
      "text/html": [
       "<div>                            <div id=\"0716313b-94b2-489e-bb26-cfcb1f8e8fae\" class=\"plotly-graph-div\" style=\"height:525px; width:100%;\"></div>            <script type=\"text/javascript\">                require([\"plotly\"], function(Plotly) {                    window.PLOTLYENV=window.PLOTLYENV || {};                                    if (document.getElementById(\"0716313b-94b2-489e-bb26-cfcb1f8e8fae\")) {                    Plotly.newPlot(                        \"0716313b-94b2-489e-bb26-cfcb1f8e8fae\",                        [{\"hovertemplate\":\"REGION=US EAST<br>PRE_YTD_SALES=%{x}<br>YTD_SALES=%{y}<extra></extra>\",\"legendgroup\":\"\",\"marker\":{\"color\":\"#636efa\",\"symbol\":\"circle\"},\"mode\":\"markers\",\"name\":\"\",\"orientation\":\"v\",\"showlegend\":false,\"x\":[1.87726,1.33336,8.61102,1.88441,1.20415,10.4631,1.01927,0.68247,1.00107,1.87894,179.88331,1.36285,37.99983,1.4908,2.31854,37.6635,42.31807,1.2304,1.36627,38.84412,22.9372001010101,1.30083,1.93098,1.68688,210.40338,1.9696,1.51056,1.11165,1.25298,63.8458,106.69252,1.45599,17.56043,1.32992],\"xaxis\":\"x3\",\"y\":[1.85868,2.20341,32.59451,2.26071,2.13323,20.72854,44.13583,2.52132,1.60126,3.00126,102.3649,1.75792,28.73279,2.31665,1.24358,55.07979,127.6334,25.54657,1.96765,30.03861,1.96958,1.39293,1.54248,1.66743,157.98118,2.63508,2.37175,1.87265,2.2769,86.20737,219.33388,1.78905,47.36854,0.92872],\"yaxis\":\"y3\",\"type\":\"scatter\"},{\"hovertemplate\":\"REGION=CA EAST<br>PRE_YTD_SALES=%{x}<br>YTD_SALES=%{y}<extra></extra>\",\"legendgroup\":\"\",\"marker\":{\"color\":\"#636efa\",\"symbol\":\"circle\"},\"mode\":\"markers\",\"name\":\"\",\"orientation\":\"v\",\"showlegend\":false,\"x\":[1.85133,2.08948,21.25576,151.74815,1.60703,2.47676,1.72082,0.87961,1.14804,1.05972,1.92858,1.28225,1.3469,0.97165,2.25056,0.3933,59.65869,1.2499,27.38527,1.52244,1.76601,43.60558,1.8168,0.53892,1.15988,1.4377,1.65013,0.96091,2.33839,1.5512,1.86075,1.94958,1.17737,1.47894,1.07357,1.02099,104.20998,1.00363],\"xaxis\":\"x4\",\"y\":[1.91772,1.66511,40.44774,151.69305,1.88907,1.77584,1.9818,43.1804,2.55215,2.39893,1.90913,2.67587,2.13926,1.27467,2.47285,2.10908,57.58452,1.78129,47.84119,1.90148,1.28627,43.41897,2.05475,1.64738,2.07494,2.11521,28.959300918367347,2.4514,1.52602,2.51756,1.45599,1.18479,2.73706,2.10056,2.18845,28.959300918367347,148.2895,1.94849],\"yaxis\":\"y4\",\"type\":\"scatter\"},{\"hovertemplate\":\"REGION=US WEST<br>PRE_YTD_SALES=%{x}<br>YTD_SALES=%{y}<extra></extra>\",\"legendgroup\":\"\",\"marker\":{\"color\":\"#636efa\",\"symbol\":\"circle\"},\"mode\":\"markers\",\"name\":\"\",\"orientation\":\"v\",\"showlegend\":false,\"x\":[52.43973,83.85628,0.98516,227.74387,102.39043,0.4081,17.02417,166.56583,1.89887,36.64361,13.39465,1.07307,0.88029,34.26853,1.08823],\"xaxis\":\"x\",\"y\":[41.98922,40.95618,2.7077,172.84737,158.56185,2.12987,45.41947,223.59249,2.4027,55.89993,80.38048,1.99366,2.5015,58.95253,2.43048],\"yaxis\":\"y\",\"type\":\"scatter\"},{\"hovertemplate\":\"REGION=CA WEST<br>PRE_YTD_SALES=%{x}<br>YTD_SALES=%{y}<extra></extra>\",\"legendgroup\":\"\",\"marker\":{\"color\":\"#636efa\",\"symbol\":\"circle\"},\"mode\":\"markers\",\"name\":\"\",\"orientation\":\"v\",\"showlegend\":false,\"x\":[0.8433,1.92324,36.77707,1.57252,1.94854,1.54997,1.75333,43.28865,66.21719,0.88224,1.54707,129.27834,1.6297],\"xaxis\":\"x2\",\"y\":[2.04947,2.15543,45.06856,1.93622,1.29571,2.276,2.4836,55.34088,157.00867,1.78356,2.25673,61.24096,1.10363],\"yaxis\":\"y2\",\"type\":\"scatter\"}],                        {\"template\":{\"data\":{\"histogram2dcontour\":[{\"type\":\"histogram2dcontour\",\"colorbar\":{\"outlinewidth\":0,\"ticks\":\"\"},\"colorscale\":[[0.0,\"#0d0887\"],[0.1111111111111111,\"#46039f\"],[0.2222222222222222,\"#7201a8\"],[0.3333333333333333,\"#9c179e\"],[0.4444444444444444,\"#bd3786\"],[0.5555555555555556,\"#d8576b\"],[0.6666666666666666,\"#ed7953\"],[0.7777777777777778,\"#fb9f3a\"],[0.8888888888888888,\"#fdca26\"],[1.0,\"#f0f921\"]]}],\"choropleth\":[{\"type\":\"choropleth\",\"colorbar\":{\"outlinewidth\":0,\"ticks\":\"\"}}],\"histogram2d\":[{\"type\":\"histogram2d\",\"colorbar\":{\"outlinewidth\":0,\"ticks\":\"\"},\"colorscale\":[[0.0,\"#0d0887\"],[0.1111111111111111,\"#46039f\"],[0.2222222222222222,\"#7201a8\"],[0.3333333333333333,\"#9c179e\"],[0.4444444444444444,\"#bd3786\"],[0.5555555555555556,\"#d8576b\"],[0.6666666666666666,\"#ed7953\"],[0.7777777777777778,\"#fb9f3a\"],[0.8888888888888888,\"#fdca26\"],[1.0,\"#f0f921\"]]}],\"heatmap\":[{\"type\":\"heatmap\",\"colorbar\":{\"outlinewidth\":0,\"ticks\":\"\"},\"colorscale\":[[0.0,\"#0d0887\"],[0.1111111111111111,\"#46039f\"],[0.2222222222222222,\"#7201a8\"],[0.3333333333333333,\"#9c179e\"],[0.4444444444444444,\"#bd3786\"],[0.5555555555555556,\"#d8576b\"],[0.6666666666666666,\"#ed7953\"],[0.7777777777777778,\"#fb9f3a\"],[0.8888888888888888,\"#fdca26\"],[1.0,\"#f0f921\"]]}],\"heatmapgl\":[{\"type\":\"heatmapgl\",\"colorbar\":{\"outlinewidth\":0,\"ticks\":\"\"},\"colorscale\":[[0.0,\"#0d0887\"],[0.1111111111111111,\"#46039f\"],[0.2222222222222222,\"#7201a8\"],[0.3333333333333333,\"#9c179e\"],[0.4444444444444444,\"#bd3786\"],[0.5555555555555556,\"#d8576b\"],[0.6666666666666666,\"#ed7953\"],[0.7777777777777778,\"#fb9f3a\"],[0.8888888888888888,\"#fdca26\"],[1.0,\"#f0f921\"]]}],\"contourcarpet\":[{\"type\":\"contourcarpet\",\"colorbar\":{\"outlinewidth\":0,\"ticks\":\"\"}}],\"contour\":[{\"type\":\"contour\",\"colorbar\":{\"outlinewidth\":0,\"ticks\":\"\"},\"colorscale\":[[0.0,\"#0d0887\"],[0.1111111111111111,\"#46039f\"],[0.2222222222222222,\"#7201a8\"],[0.3333333333333333,\"#9c179e\"],[0.4444444444444444,\"#bd3786\"],[0.5555555555555556,\"#d8576b\"],[0.6666666666666666,\"#ed7953\"],[0.7777777777777778,\"#fb9f3a\"],[0.8888888888888888,\"#fdca26\"],[1.0,\"#f0f921\"]]}],\"surface\":[{\"type\":\"surface\",\"colorbar\":{\"outlinewidth\":0,\"ticks\":\"\"},\"colorscale\":[[0.0,\"#0d0887\"],[0.1111111111111111,\"#46039f\"],[0.2222222222222222,\"#7201a8\"],[0.3333333333333333,\"#9c179e\"],[0.4444444444444444,\"#bd3786\"],[0.5555555555555556,\"#d8576b\"],[0.6666666666666666,\"#ed7953\"],[0.7777777777777778,\"#fb9f3a\"],[0.8888888888888888,\"#fdca26\"],[1.0,\"#f0f921\"]]}],\"mesh3d\":[{\"type\":\"mesh3d\",\"colorbar\":{\"outlinewidth\":0,\"ticks\":\"\"}}],\"scatter\":[{\"fillpattern\":{\"fillmode\":\"overlay\",\"size\":10,\"solidity\":0.2},\"type\":\"scatter\"}],\"parcoords\":[{\"type\":\"parcoords\",\"line\":{\"colorbar\":{\"outlinewidth\":0,\"ticks\":\"\"}}}],\"scatterpolargl\":[{\"type\":\"scatterpolargl\",\"marker\":{\"colorbar\":{\"outlinewidth\":0,\"ticks\":\"\"}}}],\"bar\":[{\"error_x\":{\"color\":\"#2a3f5f\"},\"error_y\":{\"color\":\"#2a3f5f\"},\"marker\":{\"line\":{\"color\":\"#E5ECF6\",\"width\":0.5},\"pattern\":{\"fillmode\":\"overlay\",\"size\":10,\"solidity\":0.2}},\"type\":\"bar\"}],\"scattergeo\":[{\"type\":\"scattergeo\",\"marker\":{\"colorbar\":{\"outlinewidth\":0,\"ticks\":\"\"}}}],\"scatterpolar\":[{\"type\":\"scatterpolar\",\"marker\":{\"colorbar\":{\"outlinewidth\":0,\"ticks\":\"\"}}}],\"histogram\":[{\"marker\":{\"pattern\":{\"fillmode\":\"overlay\",\"size\":10,\"solidity\":0.2}},\"type\":\"histogram\"}],\"scattergl\":[{\"type\":\"scattergl\",\"marker\":{\"colorbar\":{\"outlinewidth\":0,\"ticks\":\"\"}}}],\"scatter3d\":[{\"type\":\"scatter3d\",\"line\":{\"colorbar\":{\"outlinewidth\":0,\"ticks\":\"\"}},\"marker\":{\"colorbar\":{\"outlinewidth\":0,\"ticks\":\"\"}}}],\"scattermapbox\":[{\"type\":\"scattermapbox\",\"marker\":{\"colorbar\":{\"outlinewidth\":0,\"ticks\":\"\"}}}],\"scatterternary\":[{\"type\":\"scatterternary\",\"marker\":{\"colorbar\":{\"outlinewidth\":0,\"ticks\":\"\"}}}],\"scattercarpet\":[{\"type\":\"scattercarpet\",\"marker\":{\"colorbar\":{\"outlinewidth\":0,\"ticks\":\"\"}}}],\"carpet\":[{\"aaxis\":{\"endlinecolor\":\"#2a3f5f\",\"gridcolor\":\"white\",\"linecolor\":\"white\",\"minorgridcolor\":\"white\",\"startlinecolor\":\"#2a3f5f\"},\"baxis\":{\"endlinecolor\":\"#2a3f5f\",\"gridcolor\":\"white\",\"linecolor\":\"white\",\"minorgridcolor\":\"white\",\"startlinecolor\":\"#2a3f5f\"},\"type\":\"carpet\"}],\"table\":[{\"cells\":{\"fill\":{\"color\":\"#EBF0F8\"},\"line\":{\"color\":\"white\"}},\"header\":{\"fill\":{\"color\":\"#C8D4E3\"},\"line\":{\"color\":\"white\"}},\"type\":\"table\"}],\"barpolar\":[{\"marker\":{\"line\":{\"color\":\"#E5ECF6\",\"width\":0.5},\"pattern\":{\"fillmode\":\"overlay\",\"size\":10,\"solidity\":0.2}},\"type\":\"barpolar\"}],\"pie\":[{\"automargin\":true,\"type\":\"pie\"}]},\"layout\":{\"autotypenumbers\":\"strict\",\"colorway\":[\"#636efa\",\"#EF553B\",\"#00cc96\",\"#ab63fa\",\"#FFA15A\",\"#19d3f3\",\"#FF6692\",\"#B6E880\",\"#FF97FF\",\"#FECB52\"],\"font\":{\"color\":\"#2a3f5f\"},\"hovermode\":\"closest\",\"hoverlabel\":{\"align\":\"left\"},\"paper_bgcolor\":\"white\",\"plot_bgcolor\":\"#E5ECF6\",\"polar\":{\"bgcolor\":\"#E5ECF6\",\"angularaxis\":{\"gridcolor\":\"white\",\"linecolor\":\"white\",\"ticks\":\"\"},\"radialaxis\":{\"gridcolor\":\"white\",\"linecolor\":\"white\",\"ticks\":\"\"}},\"ternary\":{\"bgcolor\":\"#E5ECF6\",\"aaxis\":{\"gridcolor\":\"white\",\"linecolor\":\"white\",\"ticks\":\"\"},\"baxis\":{\"gridcolor\":\"white\",\"linecolor\":\"white\",\"ticks\":\"\"},\"caxis\":{\"gridcolor\":\"white\",\"linecolor\":\"white\",\"ticks\":\"\"}},\"coloraxis\":{\"colorbar\":{\"outlinewidth\":0,\"ticks\":\"\"}},\"colorscale\":{\"sequential\":[[0.0,\"#0d0887\"],[0.1111111111111111,\"#46039f\"],[0.2222222222222222,\"#7201a8\"],[0.3333333333333333,\"#9c179e\"],[0.4444444444444444,\"#bd3786\"],[0.5555555555555556,\"#d8576b\"],[0.6666666666666666,\"#ed7953\"],[0.7777777777777778,\"#fb9f3a\"],[0.8888888888888888,\"#fdca26\"],[1.0,\"#f0f921\"]],\"sequentialminus\":[[0.0,\"#0d0887\"],[0.1111111111111111,\"#46039f\"],[0.2222222222222222,\"#7201a8\"],[0.3333333333333333,\"#9c179e\"],[0.4444444444444444,\"#bd3786\"],[0.5555555555555556,\"#d8576b\"],[0.6666666666666666,\"#ed7953\"],[0.7777777777777778,\"#fb9f3a\"],[0.8888888888888888,\"#fdca26\"],[1.0,\"#f0f921\"]],\"diverging\":[[0,\"#8e0152\"],[0.1,\"#c51b7d\"],[0.2,\"#de77ae\"],[0.3,\"#f1b6da\"],[0.4,\"#fde0ef\"],[0.5,\"#f7f7f7\"],[0.6,\"#e6f5d0\"],[0.7,\"#b8e186\"],[0.8,\"#7fbc41\"],[0.9,\"#4d9221\"],[1,\"#276419\"]]},\"xaxis\":{\"gridcolor\":\"white\",\"linecolor\":\"white\",\"ticks\":\"\",\"title\":{\"standoff\":15},\"zerolinecolor\":\"white\",\"automargin\":true,\"zerolinewidth\":2},\"yaxis\":{\"gridcolor\":\"white\",\"linecolor\":\"white\",\"ticks\":\"\",\"title\":{\"standoff\":15},\"zerolinecolor\":\"white\",\"automargin\":true,\"zerolinewidth\":2},\"scene\":{\"xaxis\":{\"backgroundcolor\":\"#E5ECF6\",\"gridcolor\":\"white\",\"linecolor\":\"white\",\"showbackground\":true,\"ticks\":\"\",\"zerolinecolor\":\"white\",\"gridwidth\":2},\"yaxis\":{\"backgroundcolor\":\"#E5ECF6\",\"gridcolor\":\"white\",\"linecolor\":\"white\",\"showbackground\":true,\"ticks\":\"\",\"zerolinecolor\":\"white\",\"gridwidth\":2},\"zaxis\":{\"backgroundcolor\":\"#E5ECF6\",\"gridcolor\":\"white\",\"linecolor\":\"white\",\"showbackground\":true,\"ticks\":\"\",\"zerolinecolor\":\"white\",\"gridwidth\":2}},\"shapedefaults\":{\"line\":{\"color\":\"#2a3f5f\"}},\"annotationdefaults\":{\"arrowcolor\":\"#2a3f5f\",\"arrowhead\":0,\"arrowwidth\":1},\"geo\":{\"bgcolor\":\"white\",\"landcolor\":\"#E5ECF6\",\"subunitcolor\":\"white\",\"showland\":true,\"showlakes\":true,\"lakecolor\":\"white\"},\"title\":{\"x\":0.05},\"mapbox\":{\"style\":\"light\"}}},\"xaxis\":{\"anchor\":\"y\",\"domain\":[0.0,0.49],\"title\":{\"text\":\"PRE_YTD_SALES\"}},\"yaxis\":{\"anchor\":\"x\",\"domain\":[0.0,0.46499999999999997],\"title\":{\"text\":\"YTD_SALES\"}},\"xaxis2\":{\"anchor\":\"y2\",\"domain\":[0.51,1.0],\"matches\":\"x\",\"title\":{\"text\":\"PRE_YTD_SALES\"}},\"yaxis2\":{\"anchor\":\"x2\",\"domain\":[0.0,0.46499999999999997],\"matches\":\"y\",\"showticklabels\":false},\"xaxis3\":{\"anchor\":\"y3\",\"domain\":[0.0,0.49],\"matches\":\"x\",\"showticklabels\":false},\"yaxis3\":{\"anchor\":\"x3\",\"domain\":[0.5349999999999999,0.9999999999999999],\"matches\":\"y\",\"title\":{\"text\":\"YTD_SALES\"}},\"xaxis4\":{\"anchor\":\"y4\",\"domain\":[0.51,1.0],\"matches\":\"x\",\"showticklabels\":false},\"yaxis4\":{\"anchor\":\"x4\",\"domain\":[0.5349999999999999,0.9999999999999999],\"matches\":\"y\",\"showticklabels\":false},\"annotations\":[{\"font\":{},\"showarrow\":false,\"text\":\"REGION=US WEST\",\"x\":0.245,\"xanchor\":\"center\",\"xref\":\"paper\",\"y\":0.46499999999999997,\"yanchor\":\"bottom\",\"yref\":\"paper\"},{\"font\":{},\"showarrow\":false,\"text\":\"REGION=CA WEST\",\"x\":0.755,\"xanchor\":\"center\",\"xref\":\"paper\",\"y\":0.46499999999999997,\"yanchor\":\"bottom\",\"yref\":\"paper\"},{\"font\":{},\"showarrow\":false,\"text\":\"REGION=US EAST\",\"x\":0.245,\"xanchor\":\"center\",\"xref\":\"paper\",\"y\":0.9999999999999999,\"yanchor\":\"bottom\",\"yref\":\"paper\"},{\"font\":{},\"showarrow\":false,\"text\":\"REGION=CA EAST\",\"x\":0.755,\"xanchor\":\"center\",\"xref\":\"paper\",\"y\":0.9999999999999999,\"yanchor\":\"bottom\",\"yref\":\"paper\"}],\"legend\":{\"tracegroupgap\":0},\"margin\":{\"t\":60}},                        {\"responsive\": true}                    ).then(function(){\n",
       "                            \n",
       "var gd = document.getElementById('0716313b-94b2-489e-bb26-cfcb1f8e8fae');\n",
       "var x = new MutationObserver(function (mutations, observer) {{\n",
       "        var display = window.getComputedStyle(gd).display;\n",
       "        if (!display || display === 'none') {{\n",
       "            console.log([gd, 'removed!']);\n",
       "            Plotly.purge(gd);\n",
       "            observer.disconnect();\n",
       "        }}\n",
       "}});\n",
       "\n",
       "// Listen for the removal of the full notebook cells\n",
       "var notebookContainer = gd.closest('#notebook-container');\n",
       "if (notebookContainer) {{\n",
       "    x.observe(notebookContainer, {childList: true});\n",
       "}}\n",
       "\n",
       "// Listen for the clearing of the current output cell\n",
       "var outputEl = gd.closest('.output');\n",
       "if (outputEl) {{\n",
       "    x.observe(outputEl, {childList: true});\n",
       "}}\n",
       "\n",
       "                        })                };                });            </script>        </div>"
      ]
     },
     "metadata": {},
     "output_type": "display_data"
    }
   ],
   "source": [
    "px.scatter(df,\"PRE_YTD_SALES\",\"YTD_SALES\",facet_col=\"REGION\",facet_col_wrap=2)"
   ]
  },
  {
   "cell_type": "markdown",
   "id": "acbeeb64",
   "metadata": {},
   "source": [
    "Resellers have **higher budgets** than anyone else, So for them drop of *40% or higher is concerning*<br>\n",
    "Corporates have **higher budgets than end customers** so,<br>\n",
    "if the dip in corporates is *greater than 20%* then it is *concerning*<br>\n",
    "For End Customers if the dip is *greater than 10%* the Previous year then it is *concerning*<br>\n",
    "**Lets calculate Percentage Change** "
   ]
  },
  {
   "cell_type": "code",
   "execution_count": 85,
   "id": "6ac52524",
   "metadata": {},
   "outputs": [
    {
     "data": {
      "text/plain": [
       "Normal        83\n",
       "Concerning    17\n",
       "Name: Percentage_Loss_Status, dtype: int64"
      ]
     },
     "execution_count": 85,
     "metadata": {},
     "output_type": "execute_result"
    }
   ],
   "source": [
    "df[\"Percentage_Loss_Status\"] =\"\"\n",
    "for i in df.index:\n",
    "    if df.loc[i,\"CUSTOMER_CATEGORY\"] == \"Corporate \":\n",
    "        if (df.loc[i,\"YTD_SALES\"] - df.loc[i,\"PRE_YTD_SALES\"])*100/df.loc[i,\"PRE_YTD_SALES\"] < -20:\n",
    "            df.loc[i,\"Percentage_Loss_Status\"] = \"Concerning\"\n",
    "        else:\n",
    "            df.loc[i,\"Percentage_Loss_Status\"] = \"Normal\"\n",
    "            \n",
    "    elif df.loc[i,\"CUSTOMER_CATEGORY\"] == \"End Customer\":\n",
    "        if (df.loc[i,\"YTD_SALES\"] - df.loc[i,\"PRE_YTD_SALES\"])*100/df.loc[i,\"PRE_YTD_SALES\"] < -10:\n",
    "            df.loc[i,\"Percentage_Loss_Status\"] = \"Concerning\"\n",
    "        else:\n",
    "            df.loc[i,\"Percentage_Loss_Status\"] = \"Normal\"\n",
    "            \n",
    "    else: \n",
    "        if (df.loc[i,\"YTD_SALES\"] - df.loc[i,\"PRE_YTD_SALES\"])*100/df.loc[i,\"PRE_YTD_SALES\"] < -40:\n",
    "            df.loc[i,\"Percentage_Loss_Status\"] = \"Concerning\"\n",
    "        else:\n",
    "            df.loc[i,\"Percentage_Loss_Status\"] = \"Normal\"\n",
    "df[\"Percentage_Loss_Status\"].value_counts()"
   ]
  },
  {
   "cell_type": "code",
   "execution_count": 86,
   "id": "ed06780f",
   "metadata": {},
   "outputs": [
    {
     "data": {
      "text/html": [
       "<div>\n",
       "<style scoped>\n",
       "    .dataframe tbody tr th:only-of-type {\n",
       "        vertical-align: middle;\n",
       "    }\n",
       "\n",
       "    .dataframe tbody tr th {\n",
       "        vertical-align: top;\n",
       "    }\n",
       "\n",
       "    .dataframe thead th {\n",
       "        text-align: right;\n",
       "    }\n",
       "</style>\n",
       "<table border=\"1\" class=\"dataframe\">\n",
       "  <thead>\n",
       "    <tr style=\"text-align: right;\">\n",
       "      <th></th>\n",
       "      <th>index</th>\n",
       "      <th>FirstName</th>\n",
       "      <th>LastName</th>\n",
       "      <th>Email</th>\n",
       "      <th>ACCOUNT_ID</th>\n",
       "      <th>LATEST_TRANSACTION_ID</th>\n",
       "      <th>COUNTRY</th>\n",
       "      <th>REGION</th>\n",
       "      <th>SALES_LEADER</th>\n",
       "      <th>SALES_VICE_PRESIDENT</th>\n",
       "      <th>ACCOUNT_AGE_YEARS</th>\n",
       "      <th>YTD_SALES</th>\n",
       "      <th>PRE_YTD_SALES</th>\n",
       "      <th>CUSTOMER_CATEGORY</th>\n",
       "      <th>Percentage_Loss_Status</th>\n",
       "    </tr>\n",
       "  </thead>\n",
       "  <tbody>\n",
       "    <tr>\n",
       "      <th>0</th>\n",
       "      <td>3</td>\n",
       "      <td>Cecily</td>\n",
       "      <td>Irvine</td>\n",
       "      <td>Cecily.Irvine@fakeemailaddress.com</td>\n",
       "      <td>CID401337AAQ</td>\n",
       "      <td>ID133818CDG</td>\n",
       "      <td>CA</td>\n",
       "      <td>CA EAST</td>\n",
       "      <td>Iram Luna</td>\n",
       "      <td>Adem Osborne</td>\n",
       "      <td>9</td>\n",
       "      <td>1.66511</td>\n",
       "      <td>2.08948</td>\n",
       "      <td>End Customer</td>\n",
       "      <td>Concerning</td>\n",
       "    </tr>\n",
       "    <tr>\n",
       "      <th>1</th>\n",
       "      <td>5</td>\n",
       "      <td>Tiernan</td>\n",
       "      <td>Salt</td>\n",
       "      <td>Tiernan.Salt@fakeemailaddress.com</td>\n",
       "      <td>CID335035AAQ</td>\n",
       "      <td>ID967560CDG</td>\n",
       "      <td>US</td>\n",
       "      <td>US WEST</td>\n",
       "      <td>Taliah Pope</td>\n",
       "      <td>Matas Walmsley</td>\n",
       "      <td>5</td>\n",
       "      <td>40.95618</td>\n",
       "      <td>83.85628</td>\n",
       "      <td>Reseller</td>\n",
       "      <td>Concerning</td>\n",
       "    </tr>\n",
       "    <tr>\n",
       "      <th>2</th>\n",
       "      <td>13</td>\n",
       "      <td>Baxter</td>\n",
       "      <td>Winters</td>\n",
       "      <td>Baxter.Winters@fakeemailaddress.com</td>\n",
       "      <td>CID757903AAQ</td>\n",
       "      <td>ID786495CDG</td>\n",
       "      <td>CA</td>\n",
       "      <td>CA EAST</td>\n",
       "      <td>Iram Luna</td>\n",
       "      <td>Adem Osborne</td>\n",
       "      <td>5</td>\n",
       "      <td>1.77584</td>\n",
       "      <td>2.47676</td>\n",
       "      <td>End Customer</td>\n",
       "      <td>Concerning</td>\n",
       "    </tr>\n",
       "    <tr>\n",
       "      <th>3</th>\n",
       "      <td>25</td>\n",
       "      <td>Daria</td>\n",
       "      <td>Parks</td>\n",
       "      <td>Daria.Parks@fakeemailaddress.com</td>\n",
       "      <td>CID677899AAQ</td>\n",
       "      <td>ID921438CDG</td>\n",
       "      <td>US</td>\n",
       "      <td>US EAST</td>\n",
       "      <td>Nicole Stamp</td>\n",
       "      <td>Hattie Beattie</td>\n",
       "      <td>3</td>\n",
       "      <td>102.36490</td>\n",
       "      <td>179.88331</td>\n",
       "      <td>Reseller</td>\n",
       "      <td>Concerning</td>\n",
       "    </tr>\n",
       "    <tr>\n",
       "      <th>4</th>\n",
       "      <td>31</td>\n",
       "      <td>Sebastien</td>\n",
       "      <td>Ridley</td>\n",
       "      <td>Sebastien.Ridley@fakeemailaddress.com</td>\n",
       "      <td>CID744545AAQ</td>\n",
       "      <td>ID573350CDG</td>\n",
       "      <td>CA</td>\n",
       "      <td>CA WEST</td>\n",
       "      <td>Zaid Nunez</td>\n",
       "      <td>Esa Walton</td>\n",
       "      <td>3</td>\n",
       "      <td>1.29571</td>\n",
       "      <td>1.94854</td>\n",
       "      <td>End Customer</td>\n",
       "      <td>Concerning</td>\n",
       "    </tr>\n",
       "    <tr>\n",
       "      <th>5</th>\n",
       "      <td>39</td>\n",
       "      <td>Leonard</td>\n",
       "      <td>Weir</td>\n",
       "      <td>Leonard.Weir@fakeemailaddress.com</td>\n",
       "      <td>CID382003AAQ</td>\n",
       "      <td>ID564180CDG</td>\n",
       "      <td>US</td>\n",
       "      <td>US EAST</td>\n",
       "      <td>Nicole Stamp</td>\n",
       "      <td>Hattie Beattie</td>\n",
       "      <td>4</td>\n",
       "      <td>28.73279</td>\n",
       "      <td>37.99983</td>\n",
       "      <td>Corporate</td>\n",
       "      <td>Concerning</td>\n",
       "    </tr>\n",
       "    <tr>\n",
       "      <th>6</th>\n",
       "      <td>48</td>\n",
       "      <td>Rida</td>\n",
       "      <td>Harrell</td>\n",
       "      <td>Rida.Harrell@fakeemailaddress.com</td>\n",
       "      <td>CID679811AAQ</td>\n",
       "      <td>ID433876CDG</td>\n",
       "      <td>US</td>\n",
       "      <td>US EAST</td>\n",
       "      <td>Nicole Stamp</td>\n",
       "      <td>Hattie Beattie</td>\n",
       "      <td>3</td>\n",
       "      <td>1.24358</td>\n",
       "      <td>2.31854</td>\n",
       "      <td>End Customer</td>\n",
       "      <td>Concerning</td>\n",
       "    </tr>\n",
       "    <tr>\n",
       "      <th>7</th>\n",
       "      <td>51</td>\n",
       "      <td>Tracey</td>\n",
       "      <td>Keller</td>\n",
       "      <td>Tracey.Keller@fakeemailaddress.com</td>\n",
       "      <td>CID688124AAQ</td>\n",
       "      <td>ID958186CDG</td>\n",
       "      <td>CA</td>\n",
       "      <td>CA EAST</td>\n",
       "      <td>Iram Luna</td>\n",
       "      <td>Adem Osborne</td>\n",
       "      <td>7</td>\n",
       "      <td>1.28627</td>\n",
       "      <td>1.76601</td>\n",
       "      <td>End Customer</td>\n",
       "      <td>Concerning</td>\n",
       "    </tr>\n",
       "    <tr>\n",
       "      <th>8</th>\n",
       "      <td>60</td>\n",
       "      <td>Ebonie</td>\n",
       "      <td>Dowling</td>\n",
       "      <td>Ebonie.Dowling@fakeemailaddress.com</td>\n",
       "      <td>CID283556AAQ</td>\n",
       "      <td>ID445861CDG</td>\n",
       "      <td>US</td>\n",
       "      <td>US EAST</td>\n",
       "      <td>Nicole Stamp</td>\n",
       "      <td>Hattie Beattie</td>\n",
       "      <td>5</td>\n",
       "      <td>30.03861</td>\n",
       "      <td>38.84412</td>\n",
       "      <td>Corporate</td>\n",
       "      <td>Concerning</td>\n",
       "    </tr>\n",
       "    <tr>\n",
       "      <th>9</th>\n",
       "      <td>64</td>\n",
       "      <td>Finbar</td>\n",
       "      <td>Evans</td>\n",
       "      <td>Finbar.Evans@fakeemailaddress.com</td>\n",
       "      <td>CID288926AAQ</td>\n",
       "      <td>ID907874CDG</td>\n",
       "      <td>US</td>\n",
       "      <td>US EAST</td>\n",
       "      <td>Nicole Stamp</td>\n",
       "      <td>Hattie Beattie</td>\n",
       "      <td>2</td>\n",
       "      <td>1.96958</td>\n",
       "      <td>22.93720</td>\n",
       "      <td>End Customer</td>\n",
       "      <td>Concerning</td>\n",
       "    </tr>\n",
       "    <tr>\n",
       "      <th>10</th>\n",
       "      <td>71</td>\n",
       "      <td>Mae</td>\n",
       "      <td>Ramirez</td>\n",
       "      <td>Mae.Ramirez@fakeemailaddress.com</td>\n",
       "      <td>CID425393AAQ</td>\n",
       "      <td>ID569982CDG</td>\n",
       "      <td>US</td>\n",
       "      <td>US EAST</td>\n",
       "      <td>Nicole Stamp</td>\n",
       "      <td>Hattie Beattie</td>\n",
       "      <td>6</td>\n",
       "      <td>1.54248</td>\n",
       "      <td>1.93098</td>\n",
       "      <td>End Customer</td>\n",
       "      <td>Concerning</td>\n",
       "    </tr>\n",
       "    <tr>\n",
       "      <th>11</th>\n",
       "      <td>75</td>\n",
       "      <td>Lexi-Mai</td>\n",
       "      <td>Albert</td>\n",
       "      <td>Lexi-Mai.Albert@fakeemailaddress.com</td>\n",
       "      <td>CID862541AAQ</td>\n",
       "      <td>ID737469CDG</td>\n",
       "      <td>CA</td>\n",
       "      <td>CA EAST</td>\n",
       "      <td>Iram Luna</td>\n",
       "      <td>Adem Osborne</td>\n",
       "      <td>4</td>\n",
       "      <td>1.52602</td>\n",
       "      <td>2.33839</td>\n",
       "      <td>End Customer</td>\n",
       "      <td>Concerning</td>\n",
       "    </tr>\n",
       "    <tr>\n",
       "      <th>12</th>\n",
       "      <td>78</td>\n",
       "      <td>Zi</td>\n",
       "      <td>Gentry</td>\n",
       "      <td>Zi.Gentry@fakeemailaddress.com</td>\n",
       "      <td>CID169516AAQ</td>\n",
       "      <td>ID749396CDG</td>\n",
       "      <td>CA</td>\n",
       "      <td>CA EAST</td>\n",
       "      <td>Shahzaib Mahoney</td>\n",
       "      <td>Adem Osborne</td>\n",
       "      <td>3</td>\n",
       "      <td>1.45599</td>\n",
       "      <td>1.86075</td>\n",
       "      <td>End Customer</td>\n",
       "      <td>Concerning</td>\n",
       "    </tr>\n",
       "    <tr>\n",
       "      <th>13</th>\n",
       "      <td>80</td>\n",
       "      <td>Naveed</td>\n",
       "      <td>Smart</td>\n",
       "      <td>Naveed.Smart@fakeemailaddress.com</td>\n",
       "      <td>CID499058AAQ</td>\n",
       "      <td>ID325825CDG</td>\n",
       "      <td>CA</td>\n",
       "      <td>CA EAST</td>\n",
       "      <td>Shahzaib Mahoney</td>\n",
       "      <td>Adem Osborne</td>\n",
       "      <td>5</td>\n",
       "      <td>1.18479</td>\n",
       "      <td>1.94958</td>\n",
       "      <td>End Customer</td>\n",
       "      <td>Concerning</td>\n",
       "    </tr>\n",
       "    <tr>\n",
       "      <th>14</th>\n",
       "      <td>87</td>\n",
       "      <td>Tahlia</td>\n",
       "      <td>Hyde</td>\n",
       "      <td>Tahlia.Hyde@fakeemailaddress.com</td>\n",
       "      <td>CID983538AAQ</td>\n",
       "      <td>ID994626CDG</td>\n",
       "      <td>CA</td>\n",
       "      <td>CA WEST</td>\n",
       "      <td>Zaid Nunez</td>\n",
       "      <td>Esa Walton</td>\n",
       "      <td>4</td>\n",
       "      <td>61.24096</td>\n",
       "      <td>129.27834</td>\n",
       "      <td>Reseller</td>\n",
       "      <td>Concerning</td>\n",
       "    </tr>\n",
       "    <tr>\n",
       "      <th>15</th>\n",
       "      <td>93</td>\n",
       "      <td>Sydney</td>\n",
       "      <td>Kramer</td>\n",
       "      <td>Sydney.Kramer@fakeemailaddress.com</td>\n",
       "      <td>CID160537AAQ</td>\n",
       "      <td>ID701007CDG</td>\n",
       "      <td>CA</td>\n",
       "      <td>CA WEST</td>\n",
       "      <td>Zaid Nunez</td>\n",
       "      <td>Esa Walton</td>\n",
       "      <td>5</td>\n",
       "      <td>1.10363</td>\n",
       "      <td>1.62970</td>\n",
       "      <td>End Customer</td>\n",
       "      <td>Concerning</td>\n",
       "    </tr>\n",
       "    <tr>\n",
       "      <th>16</th>\n",
       "      <td>95</td>\n",
       "      <td>Fleur</td>\n",
       "      <td>Ellis</td>\n",
       "      <td>Fleur.Ellis@fakeemailaddress.com</td>\n",
       "      <td>CID816592AAQ</td>\n",
       "      <td>ID910142CDG</td>\n",
       "      <td>US</td>\n",
       "      <td>US EAST</td>\n",
       "      <td>Nicole Stamp</td>\n",
       "      <td>Hattie Beattie</td>\n",
       "      <td>5</td>\n",
       "      <td>0.92872</td>\n",
       "      <td>1.32992</td>\n",
       "      <td>End Customer</td>\n",
       "      <td>Concerning</td>\n",
       "    </tr>\n",
       "  </tbody>\n",
       "</table>\n",
       "</div>"
      ],
      "text/plain": [
       "    index  FirstName LastName                                  Email  \\\n",
       "0       3     Cecily   Irvine     Cecily.Irvine@fakeemailaddress.com   \n",
       "1       5    Tiernan     Salt      Tiernan.Salt@fakeemailaddress.com   \n",
       "2      13     Baxter  Winters    Baxter.Winters@fakeemailaddress.com   \n",
       "3      25      Daria    Parks       Daria.Parks@fakeemailaddress.com   \n",
       "4      31  Sebastien   Ridley  Sebastien.Ridley@fakeemailaddress.com   \n",
       "5      39    Leonard     Weir      Leonard.Weir@fakeemailaddress.com   \n",
       "6      48       Rida  Harrell      Rida.Harrell@fakeemailaddress.com   \n",
       "7      51     Tracey   Keller     Tracey.Keller@fakeemailaddress.com   \n",
       "8      60     Ebonie  Dowling    Ebonie.Dowling@fakeemailaddress.com   \n",
       "9      64     Finbar    Evans      Finbar.Evans@fakeemailaddress.com   \n",
       "10     71        Mae  Ramirez       Mae.Ramirez@fakeemailaddress.com   \n",
       "11     75   Lexi-Mai   Albert   Lexi-Mai.Albert@fakeemailaddress.com   \n",
       "12     78         Zi   Gentry         Zi.Gentry@fakeemailaddress.com   \n",
       "13     80     Naveed    Smart      Naveed.Smart@fakeemailaddress.com   \n",
       "14     87     Tahlia     Hyde       Tahlia.Hyde@fakeemailaddress.com   \n",
       "15     93     Sydney   Kramer     Sydney.Kramer@fakeemailaddress.com   \n",
       "16     95      Fleur    Ellis       Fleur.Ellis@fakeemailaddress.com   \n",
       "\n",
       "      ACCOUNT_ID LATEST_TRANSACTION_ID COUNTRY   REGION      SALES_LEADER  \\\n",
       "0   CID401337AAQ           ID133818CDG      CA  CA EAST         Iram Luna   \n",
       "1   CID335035AAQ           ID967560CDG      US  US WEST       Taliah Pope   \n",
       "2   CID757903AAQ           ID786495CDG      CA  CA EAST         Iram Luna   \n",
       "3   CID677899AAQ           ID921438CDG      US  US EAST      Nicole Stamp   \n",
       "4   CID744545AAQ           ID573350CDG      CA  CA WEST        Zaid Nunez   \n",
       "5   CID382003AAQ           ID564180CDG      US  US EAST      Nicole Stamp   \n",
       "6   CID679811AAQ           ID433876CDG      US  US EAST      Nicole Stamp   \n",
       "7   CID688124AAQ           ID958186CDG      CA  CA EAST         Iram Luna   \n",
       "8   CID283556AAQ           ID445861CDG      US  US EAST      Nicole Stamp   \n",
       "9   CID288926AAQ           ID907874CDG      US  US EAST      Nicole Stamp   \n",
       "10  CID425393AAQ           ID569982CDG      US  US EAST      Nicole Stamp   \n",
       "11  CID862541AAQ           ID737469CDG      CA  CA EAST         Iram Luna   \n",
       "12  CID169516AAQ           ID749396CDG      CA  CA EAST  Shahzaib Mahoney   \n",
       "13  CID499058AAQ           ID325825CDG      CA  CA EAST  Shahzaib Mahoney   \n",
       "14  CID983538AAQ           ID994626CDG      CA  CA WEST        Zaid Nunez   \n",
       "15  CID160537AAQ           ID701007CDG      CA  CA WEST        Zaid Nunez   \n",
       "16  CID816592AAQ           ID910142CDG      US  US EAST      Nicole Stamp   \n",
       "\n",
       "   SALES_VICE_PRESIDENT  ACCOUNT_AGE_YEARS  YTD_SALES  PRE_YTD_SALES  \\\n",
       "0          Adem Osborne                  9    1.66511        2.08948   \n",
       "1        Matas Walmsley                  5   40.95618       83.85628   \n",
       "2          Adem Osborne                  5    1.77584        2.47676   \n",
       "3        Hattie Beattie                  3  102.36490      179.88331   \n",
       "4            Esa Walton                  3    1.29571        1.94854   \n",
       "5        Hattie Beattie                  4   28.73279       37.99983   \n",
       "6        Hattie Beattie                  3    1.24358        2.31854   \n",
       "7          Adem Osborne                  7    1.28627        1.76601   \n",
       "8        Hattie Beattie                  5   30.03861       38.84412   \n",
       "9        Hattie Beattie                  2    1.96958       22.93720   \n",
       "10       Hattie Beattie                  6    1.54248        1.93098   \n",
       "11         Adem Osborne                  4    1.52602        2.33839   \n",
       "12         Adem Osborne                  3    1.45599        1.86075   \n",
       "13         Adem Osborne                  5    1.18479        1.94958   \n",
       "14           Esa Walton                  4   61.24096      129.27834   \n",
       "15           Esa Walton                  5    1.10363        1.62970   \n",
       "16       Hattie Beattie                  5    0.92872        1.32992   \n",
       "\n",
       "   CUSTOMER_CATEGORY Percentage_Loss_Status  \n",
       "0       End Customer             Concerning  \n",
       "1           Reseller             Concerning  \n",
       "2       End Customer             Concerning  \n",
       "3           Reseller             Concerning  \n",
       "4       End Customer             Concerning  \n",
       "5         Corporate              Concerning  \n",
       "6       End Customer             Concerning  \n",
       "7       End Customer             Concerning  \n",
       "8         Corporate              Concerning  \n",
       "9       End Customer             Concerning  \n",
       "10      End Customer             Concerning  \n",
       "11      End Customer             Concerning  \n",
       "12      End Customer             Concerning  \n",
       "13      End Customer             Concerning  \n",
       "14          Reseller             Concerning  \n",
       "15      End Customer             Concerning  \n",
       "16      End Customer             Concerning  "
      ]
     },
     "execution_count": 86,
     "metadata": {},
     "output_type": "execute_result"
    }
   ],
   "source": [
    "conc_acc = df[df[\"Percentage_Loss_Status\"]==\"Concerning\"]\n",
    "conc_acc.reset_index(inplace=True)\n",
    "conc_acc"
   ]
  },
  {
   "cell_type": "markdown",
   "id": "cd13ed11",
   "metadata": {},
   "source": [
    "These are the list of accounts which require special attention. As their sales drop seems to be concerning. <br>\n",
    "<b>Note:</b> Most of the concerning accounts are \"End Customers\" which consitute a **relatively lesser share** in Sales. But the **Resellers** and **Corporate** accounts holds a **substantial share in sales** which should be given **more attention**\n",
    "\n",
    "Consistent Depletion of sales of these customers will be a major area of concern. Thus Sarah shall send surveys to gather feedback and encompass their feedback by devising strategies to regain the customers who are losing interest in their business."
   ]
  },
  {
   "cell_type": "markdown",
   "id": "fd1f36aa",
   "metadata": {},
   "source": [
    "## Section 7 : Gist of Insights Derived from Visualizations"
   ]
  },
  {
   "cell_type": "markdown",
   "id": "a2581bb2",
   "metadata": {},
   "source": [
    "### Overall View of Regions and their Sales Leader"
   ]
  },
  {
   "cell_type": "markdown",
   "id": "234e7432",
   "metadata": {},
   "source": [
    "### Below is the SWOT Analysis of Regions\n",
    "<img src = \"Slide2.png\">"
   ]
  },
  {
   "cell_type": "markdown",
   "id": "273ac0b8",
   "metadata": {},
   "source": [
    "### Below is the Performance Quadrant for the Sales Leader \n",
    "<img src = \"Slide1.png\">"
   ]
  },
  {
   "cell_type": "markdown",
   "id": "7a392f97",
   "metadata": {},
   "source": [
    "## Certainly, here's a summary of the key insights from the Visualization:\n",
    "\n",
    "1. **Regional Customer Base**:\n",
    "   - CA EAST has the majority of Sarah Tees' customer base in Canada.\n",
    "   - In the US, US East holds the majority of customers for Sarah Tees.\n",
    "   - Canada East and US East together constitute the majority of the customer base in North America.\n",
    "<br>\n",
    "\n",
    "2. **Sales Discrepancy in 2023**:\n",
    "   - Sales in the US for the current year (2023) significantly exceed those in Canada.\n",
    "   - Despite a large customer base in Canada, especially in Canada East, revenue generated from this base is relatively low compared to the United States.\n",
    "   - US East, despite having a relatively small customer base, contributes significantly to sales in 2023.\n",
    "   <br>\n",
    "\n",
    "3. **Sales Patterns**:\n",
    "   - A similar trend of higher sales in the United States compared to Canada is observed in 2022.\n",
    "   - Year-over-year (YoY) sales show growth in all regions, with a more significant increase in CA EAST and US EAST.\n",
    "   - End Customers play a minimal role in current-year sales, except in the US WEST region.\n",
    "<br>\n",
    "4. **Role of Resellers**:\n",
    "   - Resellers have a considerable share in the US East and US WEST regions, contributing to higher sales despite having a smaller customer base.\n",
    "   - The absence of resellers in CA EAST may explain lower sales in that region.\n",
    "<br>\n",
    "5. **Customer Segmentation**:\n",
    "   - East regions have more end customers compared to other segments.\n",
    "<br>\n",
    "6. **Sales Leaders**:\n",
    "   - Iram Luna leads in sales for Canada, while Nicole Stamp leads in the US, generating over 1000K in sales for the US East region.\n",
    "   - Despite having two sales leaders in CA EAST, the region struggles to drive substantial sales.\n",
    "   <br>\n",
    "\n",
    "7. **Improvement in YoY Sales**:\n",
    "   - All sales leaders have shown improvement in YoY sales, contributing to overall regional sales growth.\n",
    "8. **Market Presence**:\n",
    "   - The US WEST region's longer presence in the market explains its higher sales.\n",
    "<br>\n",
    "9. **Corporate and Reseller Segments**:\n",
    "   - Corporate and Reseller segments in CA WEST are newer but show strong potential in sales.\n",
    "<br>\n",
    "10. **Outlier Transactions**:\n",
    "    - Special attention is needed for outliers in \"End Customer\" and \"Corporate\" segments with significant sales drops.\n",
    "<br>\n",
    "11. **Action Plan**:\n",
    "    - The text suggests sending surveys to gather feedback from customers with concerning sales drops.\n",
    "    - Strategies should be devised to regain the interest of these customers, with a focus on Resellers and Corporate accounts due to their substantial share in sales.\n",
    "<br>\n"
   ]
  },
  {
   "cell_type": "markdown",
   "id": "e33a2dc3",
   "metadata": {},
   "source": [
    "### Author : Tirth Raval\n",
    "### Email : ravalt1@mcmaster.ca\n",
    "### Student ID : 400487318"
   ]
  }
 ],
 "metadata": {
  "kernelspec": {
   "display_name": "Python 3 (ipykernel)",
   "language": "python",
   "name": "python3"
  },
  "language_info": {
   "codemirror_mode": {
    "name": "ipython",
    "version": 3
   },
   "file_extension": ".py",
   "mimetype": "text/x-python",
   "name": "python",
   "nbconvert_exporter": "python",
   "pygments_lexer": "ipython3",
   "version": "3.9.13"
  }
 },
 "nbformat": 4,
 "nbformat_minor": 5
}
